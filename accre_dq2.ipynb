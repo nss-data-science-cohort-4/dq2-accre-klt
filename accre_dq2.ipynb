{
 "cells": [
  {
   "cell_type": "code",
   "execution_count": 1,
   "metadata": {},
   "outputs": [],
   "source": [
    "import pandas as pd\n",
    "import re\n",
    "import datetime"
   ]
  },
  {
   "cell_type": "code",
   "execution_count": 2,
   "metadata": {},
   "outputs": [
    {
     "data": {
      "text/plain": [
       "(1000, 13)"
      ]
     },
     "execution_count": 2,
     "metadata": {},
     "output_type": "execute_result"
    }
   ],
   "source": [
    "base1000_df = pd.read_csv('data/accre-jobs-2020.csv', nrows=1000)\n",
    "base1000_df.shape"
   ]
  },
  {
   "cell_type": "code",
   "execution_count": 3,
   "metadata": {
    "scrolled": false
   },
   "outputs": [
    {
     "name": "stdout",
     "output_type": "stream",
     "text": [
      "<class 'pandas.core.frame.DataFrame'>\n",
      "RangeIndex: 1000 entries, 0 to 999\n",
      "Data columns (total 13 columns):\n",
      " #   Column     Non-Null Count  Dtype \n",
      "---  ------     --------------  ----- \n",
      " 0   JOBID      1000 non-null   object\n",
      " 1   ACCOUNT    1000 non-null   object\n",
      " 2   USER       1000 non-null   object\n",
      " 3   REQMEM     1000 non-null   object\n",
      " 4   USEDMEM    1000 non-null   object\n",
      " 5   REQTIME    1000 non-null   object\n",
      " 6   USEDTIME   1000 non-null   object\n",
      " 7   NODES      1000 non-null   int64 \n",
      " 8   CPUS       1000 non-null   int64 \n",
      " 9   PARTITION  1000 non-null   object\n",
      " 10  EXITCODE   1000 non-null   object\n",
      " 11  STATE      1000 non-null   object\n",
      " 12  NODELIST   1000 non-null   object\n",
      "dtypes: int64(2), object(11)\n",
      "memory usage: 101.7+ KB\n"
     ]
    }
   ],
   "source": [
    "base1000_df.info()"
   ]
  },
  {
   "cell_type": "code",
   "execution_count": 4,
   "metadata": {},
   "outputs": [],
   "source": [
    "base1000_df = base1000_df[base1000_df['PARTITION']=='production']"
   ]
  },
  {
   "cell_type": "code",
   "execution_count": 5,
   "metadata": {},
   "outputs": [],
   "source": [
    "#base1000_df = base1000_df[base1000_df['EXITCODE']=='0:0']"
   ]
  },
  {
   "cell_type": "code",
   "execution_count": 6,
   "metadata": {},
   "outputs": [],
   "source": [
    "base1000_df['HHMMSS_USED'] = base1000_df['USEDTIME'].str.extract('(\\d{2}:\\d{2}:\\d{2})')"
   ]
  },
  {
   "cell_type": "code",
   "execution_count": 7,
   "metadata": {},
   "outputs": [],
   "source": [
    "base1000_df['DAYS_USED'] = base1000_df['USEDTIME'].str.extract('(\\d+)-')"
   ]
  },
  {
   "cell_type": "code",
   "execution_count": 8,
   "metadata": {},
   "outputs": [],
   "source": [
    "base1000_df['DAYS_USED'] = base1000_df['DAYS_USED'].fillna(0)"
   ]
  },
  {
   "cell_type": "code",
   "execution_count": 9,
   "metadata": {},
   "outputs": [],
   "source": [
    "base1000_df['DAYS_USED'] = base1000_df['DAYS_USED'].astype(int)"
   ]
  },
  {
   "cell_type": "code",
   "execution_count": 10,
   "metadata": {},
   "outputs": [],
   "source": [
    "base1000_df['HH_USED'] = base1000_df['HHMMSS_USED'].str.extract('(\\d+):')\n",
    "base1000_df['MM_USED'] = base1000_df['HHMMSS_USED'].str.extract(':(\\d+):')\n",
    "base1000_df['SS_USED'] = base1000_df['HHMMSS_USED'].str.extract(':\\d+:(\\d+)')"
   ]
  },
  {
   "cell_type": "code",
   "execution_count": 11,
   "metadata": {},
   "outputs": [],
   "source": [
    "base1000_df['HH_USED'] = base1000_df['HH_USED'].astype(int)\n",
    "base1000_df['MM_USED'] = base1000_df['MM_USED'].astype(int)\n",
    "base1000_df['SS_USED'] = base1000_df['SS_USED'].astype(int)"
   ]
  },
  {
   "cell_type": "code",
   "execution_count": 12,
   "metadata": {},
   "outputs": [],
   "source": [
    "day_sec = base1000_df['DAYS_USED'] * 24 * 60 * 60\n",
    "hour_sec = base1000_df['HH_USED']*3600\n",
    "minute_sec = base1000_df['MM_USED']*60"
   ]
  },
  {
   "cell_type": "code",
   "execution_count": 13,
   "metadata": {},
   "outputs": [],
   "source": [
    "base1000_df['TOTAL_SEC_USED'] = day_sec + hour_sec + minute_sec + base1000_df['SS_USED']"
   ]
  },
  {
   "cell_type": "code",
   "execution_count": 14,
   "metadata": {},
   "outputs": [],
   "source": [
    "base1000_df['HHMMSS_REQ'] = base1000_df['REQTIME'].str.extract('(\\d{2}:\\d{2}:\\d{2})')\n",
    "base1000_df['DAYS_REQ'] = base1000_df['REQTIME'].str.extract('(\\d+)-')"
   ]
  },
  {
   "cell_type": "code",
   "execution_count": 15,
   "metadata": {},
   "outputs": [],
   "source": [
    "base1000_df['HH_REQ'] = base1000_df['HHMMSS_REQ'].str.extract('(\\d+):')\n",
    "base1000_df['MM_REQ'] = base1000_df['HHMMSS_REQ'].str.extract(':(\\d+):')\n",
    "base1000_df['SS_REQ'] = base1000_df['HHMMSS_REQ'].str.extract(':\\d+:(\\d+)')"
   ]
  },
  {
   "cell_type": "code",
   "execution_count": 16,
   "metadata": {},
   "outputs": [],
   "source": [
    "base1000_df['HH_REQ'] = base1000_df['HH_REQ'].astype(int)\n",
    "base1000_df['MM_REQ'] = base1000_df['MM_REQ'].astype(int)\n",
    "base1000_df['SS_REQ'] = base1000_df['SS_REQ'].astype(int)\n",
    "base1000_df['DAYS_REQ'] = base1000_df['DAYS_REQ'].fillna(0).astype(int)"
   ]
  },
  {
   "cell_type": "code",
   "execution_count": 17,
   "metadata": {},
   "outputs": [],
   "source": [
    "day_secr = base1000_df['DAYS_REQ'] * 24 * 60 * 60\n",
    "hour_secr = base1000_df['HH_REQ']*3600\n",
    "minute_secr = base1000_df['MM_REQ']*60"
   ]
  },
  {
   "cell_type": "code",
   "execution_count": 18,
   "metadata": {},
   "outputs": [],
   "source": [
    "base1000_df['TOTAL_SEC_REQ'] = day_secr + hour_secr + minute_secr + base1000_df['SS_REQ']"
   ]
  },
  {
   "cell_type": "code",
   "execution_count": 19,
   "metadata": {},
   "outputs": [],
   "source": [
    "base1000_df = base1000_df.drop(columns=['HHMMSS_REQ', 'DAYS_REQ', 'HH_REQ', 'MM_REQ', 'SS_REQ', 'SS_USED','HHMMSS_USED', 'DAYS_USED', 'HH_USED', 'MM_USED' ,'SS_USED'])"
   ]
  },
  {
   "cell_type": "code",
   "execution_count": 20,
   "metadata": {},
   "outputs": [
    {
     "data": {
      "text/html": [
       "<div>\n",
       "<style scoped>\n",
       "    .dataframe tbody tr th:only-of-type {\n",
       "        vertical-align: middle;\n",
       "    }\n",
       "\n",
       "    .dataframe tbody tr th {\n",
       "        vertical-align: top;\n",
       "    }\n",
       "\n",
       "    .dataframe thead th {\n",
       "        text-align: right;\n",
       "    }\n",
       "</style>\n",
       "<table border=\"1\" class=\"dataframe\">\n",
       "  <thead>\n",
       "    <tr style=\"text-align: right;\">\n",
       "      <th></th>\n",
       "      <th>JOBID</th>\n",
       "      <th>ACCOUNT</th>\n",
       "      <th>USER</th>\n",
       "      <th>REQMEM</th>\n",
       "      <th>USEDMEM</th>\n",
       "      <th>REQTIME</th>\n",
       "      <th>USEDTIME</th>\n",
       "      <th>NODES</th>\n",
       "      <th>CPUS</th>\n",
       "      <th>PARTITION</th>\n",
       "      <th>EXITCODE</th>\n",
       "      <th>STATE</th>\n",
       "      <th>NODELIST</th>\n",
       "      <th>TOTAL_SEC_USED</th>\n",
       "      <th>TOTAL_SEC_REQ</th>\n",
       "    </tr>\n",
       "  </thead>\n",
       "  <tbody>\n",
       "    <tr>\n",
       "      <th>0</th>\n",
       "      <td>15925210</td>\n",
       "      <td>treviso</td>\n",
       "      <td>arabella</td>\n",
       "      <td>122880Mn</td>\n",
       "      <td>65973.49M</td>\n",
       "      <td>13-18:00:00</td>\n",
       "      <td>13-18:00:28</td>\n",
       "      <td>1</td>\n",
       "      <td>24</td>\n",
       "      <td>production</td>\n",
       "      <td>0:0</td>\n",
       "      <td>COMPLETED</td>\n",
       "      <td>cn1531</td>\n",
       "      <td>1188028</td>\n",
       "      <td>1188000</td>\n",
       "    </tr>\n",
       "    <tr>\n",
       "      <th>1</th>\n",
       "      <td>15861126</td>\n",
       "      <td>treviso</td>\n",
       "      <td>arabella</td>\n",
       "      <td>122880Mn</td>\n",
       "      <td>67181.12M</td>\n",
       "      <td>13-18:00:00</td>\n",
       "      <td>12-14:50:56</td>\n",
       "      <td>1</td>\n",
       "      <td>24</td>\n",
       "      <td>production</td>\n",
       "      <td>0:0</td>\n",
       "      <td>COMPLETED</td>\n",
       "      <td>cn1441</td>\n",
       "      <td>1090256</td>\n",
       "      <td>1188000</td>\n",
       "    </tr>\n",
       "    <tr>\n",
       "      <th>2</th>\n",
       "      <td>15861125</td>\n",
       "      <td>treviso</td>\n",
       "      <td>arabella</td>\n",
       "      <td>122880Mn</td>\n",
       "      <td>69111.86M</td>\n",
       "      <td>13-18:00:00</td>\n",
       "      <td>13-18:00:20</td>\n",
       "      <td>1</td>\n",
       "      <td>24</td>\n",
       "      <td>production</td>\n",
       "      <td>0:0</td>\n",
       "      <td>COMPLETED</td>\n",
       "      <td>cn1464</td>\n",
       "      <td>1188020</td>\n",
       "      <td>1188000</td>\n",
       "    </tr>\n",
       "    <tr>\n",
       "      <th>3</th>\n",
       "      <td>16251645</td>\n",
       "      <td>treviso</td>\n",
       "      <td>arabella</td>\n",
       "      <td>122880Mn</td>\n",
       "      <td>65317.33M</td>\n",
       "      <td>13-18:00:00</td>\n",
       "      <td>12-03:50:32</td>\n",
       "      <td>1</td>\n",
       "      <td>24</td>\n",
       "      <td>production</td>\n",
       "      <td>0:0</td>\n",
       "      <td>COMPLETED</td>\n",
       "      <td>cn1473</td>\n",
       "      <td>1050632</td>\n",
       "      <td>1188000</td>\n",
       "    </tr>\n",
       "    <tr>\n",
       "      <th>4</th>\n",
       "      <td>16251646</td>\n",
       "      <td>treviso</td>\n",
       "      <td>arabella</td>\n",
       "      <td>122880Mn</td>\n",
       "      <td>65876.11M</td>\n",
       "      <td>13-18:00:00</td>\n",
       "      <td>13-18:00:03</td>\n",
       "      <td>1</td>\n",
       "      <td>24</td>\n",
       "      <td>production</td>\n",
       "      <td>0:0</td>\n",
       "      <td>COMPLETED</td>\n",
       "      <td>cn1440</td>\n",
       "      <td>1188003</td>\n",
       "      <td>1188000</td>\n",
       "    </tr>\n",
       "    <tr>\n",
       "      <th>...</th>\n",
       "      <td>...</td>\n",
       "      <td>...</td>\n",
       "      <td>...</td>\n",
       "      <td>...</td>\n",
       "      <td>...</td>\n",
       "      <td>...</td>\n",
       "      <td>...</td>\n",
       "      <td>...</td>\n",
       "      <td>...</td>\n",
       "      <td>...</td>\n",
       "      <td>...</td>\n",
       "      <td>...</td>\n",
       "      <td>...</td>\n",
       "      <td>...</td>\n",
       "      <td>...</td>\n",
       "    </tr>\n",
       "    <tr>\n",
       "      <th>995</th>\n",
       "      <td>17016721_16</td>\n",
       "      <td>sunburst</td>\n",
       "      <td>darlyne</td>\n",
       "      <td>8192Mn</td>\n",
       "      <td>2547.97M</td>\n",
       "      <td>14-00:00:00</td>\n",
       "      <td>7-17:16:46</td>\n",
       "      <td>1</td>\n",
       "      <td>1</td>\n",
       "      <td>production</td>\n",
       "      <td>0:0</td>\n",
       "      <td>COMPLETED</td>\n",
       "      <td>cn322</td>\n",
       "      <td>667006</td>\n",
       "      <td>1209600</td>\n",
       "    </tr>\n",
       "    <tr>\n",
       "      <th>996</th>\n",
       "      <td>17016721_17</td>\n",
       "      <td>sunburst</td>\n",
       "      <td>darlyne</td>\n",
       "      <td>8192Mn</td>\n",
       "      <td>1950.11M</td>\n",
       "      <td>14-00:00:00</td>\n",
       "      <td>7-03:03:50</td>\n",
       "      <td>1</td>\n",
       "      <td>1</td>\n",
       "      <td>production</td>\n",
       "      <td>0:0</td>\n",
       "      <td>COMPLETED</td>\n",
       "      <td>cn322</td>\n",
       "      <td>615830</td>\n",
       "      <td>1209600</td>\n",
       "    </tr>\n",
       "    <tr>\n",
       "      <th>997</th>\n",
       "      <td>17016721_18</td>\n",
       "      <td>sunburst</td>\n",
       "      <td>darlyne</td>\n",
       "      <td>8192Mn</td>\n",
       "      <td>2450.23M</td>\n",
       "      <td>14-00:00:00</td>\n",
       "      <td>7-09:59:09</td>\n",
       "      <td>1</td>\n",
       "      <td>1</td>\n",
       "      <td>production</td>\n",
       "      <td>0:0</td>\n",
       "      <td>COMPLETED</td>\n",
       "      <td>cn322</td>\n",
       "      <td>640749</td>\n",
       "      <td>1209600</td>\n",
       "    </tr>\n",
       "    <tr>\n",
       "      <th>998</th>\n",
       "      <td>17016721_19</td>\n",
       "      <td>sunburst</td>\n",
       "      <td>darlyne</td>\n",
       "      <td>8192Mn</td>\n",
       "      <td>2743.43M</td>\n",
       "      <td>14-00:00:00</td>\n",
       "      <td>7-12:40:23</td>\n",
       "      <td>1</td>\n",
       "      <td>1</td>\n",
       "      <td>production</td>\n",
       "      <td>0:0</td>\n",
       "      <td>COMPLETED</td>\n",
       "      <td>cn322</td>\n",
       "      <td>650423</td>\n",
       "      <td>1209600</td>\n",
       "    </tr>\n",
       "    <tr>\n",
       "      <th>999</th>\n",
       "      <td>17016721_20</td>\n",
       "      <td>sunburst</td>\n",
       "      <td>darlyne</td>\n",
       "      <td>8192Mn</td>\n",
       "      <td>1972.13M</td>\n",
       "      <td>14-00:00:00</td>\n",
       "      <td>7-06:27:41</td>\n",
       "      <td>1</td>\n",
       "      <td>1</td>\n",
       "      <td>production</td>\n",
       "      <td>0:0</td>\n",
       "      <td>COMPLETED</td>\n",
       "      <td>cn322</td>\n",
       "      <td>628061</td>\n",
       "      <td>1209600</td>\n",
       "    </tr>\n",
       "  </tbody>\n",
       "</table>\n",
       "<p>991 rows × 15 columns</p>\n",
       "</div>"
      ],
      "text/plain": [
       "           JOBID   ACCOUNT      USER    REQMEM    USEDMEM      REQTIME  \\\n",
       "0       15925210   treviso  arabella  122880Mn  65973.49M  13-18:00:00   \n",
       "1       15861126   treviso  arabella  122880Mn  67181.12M  13-18:00:00   \n",
       "2       15861125   treviso  arabella  122880Mn  69111.86M  13-18:00:00   \n",
       "3       16251645   treviso  arabella  122880Mn  65317.33M  13-18:00:00   \n",
       "4       16251646   treviso  arabella  122880Mn  65876.11M  13-18:00:00   \n",
       "..           ...       ...       ...       ...        ...          ...   \n",
       "995  17016721_16  sunburst   darlyne    8192Mn   2547.97M  14-00:00:00   \n",
       "996  17016721_17  sunburst   darlyne    8192Mn   1950.11M  14-00:00:00   \n",
       "997  17016721_18  sunburst   darlyne    8192Mn   2450.23M  14-00:00:00   \n",
       "998  17016721_19  sunburst   darlyne    8192Mn   2743.43M  14-00:00:00   \n",
       "999  17016721_20  sunburst   darlyne    8192Mn   1972.13M  14-00:00:00   \n",
       "\n",
       "        USEDTIME  NODES  CPUS   PARTITION EXITCODE      STATE NODELIST  \\\n",
       "0    13-18:00:28      1    24  production      0:0  COMPLETED   cn1531   \n",
       "1    12-14:50:56      1    24  production      0:0  COMPLETED   cn1441   \n",
       "2    13-18:00:20      1    24  production      0:0  COMPLETED   cn1464   \n",
       "3    12-03:50:32      1    24  production      0:0  COMPLETED   cn1473   \n",
       "4    13-18:00:03      1    24  production      0:0  COMPLETED   cn1440   \n",
       "..           ...    ...   ...         ...      ...        ...      ...   \n",
       "995   7-17:16:46      1     1  production      0:0  COMPLETED    cn322   \n",
       "996   7-03:03:50      1     1  production      0:0  COMPLETED    cn322   \n",
       "997   7-09:59:09      1     1  production      0:0  COMPLETED    cn322   \n",
       "998   7-12:40:23      1     1  production      0:0  COMPLETED    cn322   \n",
       "999   7-06:27:41      1     1  production      0:0  COMPLETED    cn322   \n",
       "\n",
       "     TOTAL_SEC_USED  TOTAL_SEC_REQ  \n",
       "0           1188028        1188000  \n",
       "1           1090256        1188000  \n",
       "2           1188020        1188000  \n",
       "3           1050632        1188000  \n",
       "4           1188003        1188000  \n",
       "..              ...            ...  \n",
       "995          667006        1209600  \n",
       "996          615830        1209600  \n",
       "997          640749        1209600  \n",
       "998          650423        1209600  \n",
       "999          628061        1209600  \n",
       "\n",
       "[991 rows x 15 columns]"
      ]
     },
     "execution_count": 20,
     "metadata": {},
     "output_type": "execute_result"
    }
   ],
   "source": [
    "base1000_df"
   ]
  },
  {
   "cell_type": "code",
   "execution_count": 21,
   "metadata": {},
   "outputs": [
    {
     "data": {
      "text/plain": [
       "1     942\n",
       "24     24\n",
       "16     16\n",
       "12      6\n",
       "7       1\n",
       "5       1\n",
       "4       1\n",
       "Name: CPUS, dtype: int64"
      ]
     },
     "execution_count": 21,
     "metadata": {},
     "output_type": "execute_result"
    }
   ],
   "source": [
    "base1000_df['CPUS'].value_counts()"
   ]
  },
  {
   "cell_type": "markdown",
   "metadata": {},
   "source": [
    "\n",
    "\n",
    "While we have systematic checks in place to ensure the general system health of each compute node, we would like to use long-term data to see if there are any clusters of job failures on specific nodes. Do any of the production partition nodes show an unusual number of failed jobs relative to the others? Ignore the debug partition for this question.\n"
   ]
  },
  {
   "cell_type": "code",
   "execution_count": 22,
   "metadata": {
    "scrolled": true
   },
   "outputs": [
    {
     "name": "stderr",
     "output_type": "stream",
     "text": [
      "b'Skipping line 3461: expected 13 fields, saw 15\\nSkipping line 3462: expected 13 fields, saw 16\\nSkipping line 3465: expected 13 fields, saw 15\\nSkipping line 3468: expected 13 fields, saw 16\\nSkipping line 3472: expected 13 fields, saw 15\\nSkipping line 3476: expected 13 fields, saw 16\\nSkipping line 3479: expected 13 fields, saw 14\\nSkipping line 3482: expected 13 fields, saw 14\\nSkipping line 3486: expected 13 fields, saw 14\\nSkipping line 3490: expected 13 fields, saw 14\\nSkipping line 3494: expected 13 fields, saw 14\\nSkipping line 3495: expected 13 fields, saw 16\\nSkipping line 3497: expected 13 fields, saw 14\\nSkipping line 3498: expected 13 fields, saw 14\\nSkipping line 3499: expected 13 fields, saw 14\\nSkipping line 3505: expected 13 fields, saw 14\\nSkipping line 3517: expected 13 fields, saw 16\\nSkipping line 3526: expected 13 fields, saw 15\\nSkipping line 3528: expected 13 fields, saw 15\\nSkipping line 3529: expected 13 fields, saw 15\\nSkipping line 3530: expected 13 fields, saw 15\\nSkipping line 3531: expected 13 fields, saw 15\\nSkipping line 3532: expected 13 fields, saw 15\\nSkipping line 3535: expected 13 fields, saw 15\\nSkipping line 3539: expected 13 fields, saw 14\\nSkipping line 3541: expected 13 fields, saw 16\\nSkipping line 3542: expected 13 fields, saw 16\\nSkipping line 3543: expected 13 fields, saw 14\\nSkipping line 3545: expected 13 fields, saw 16\\nSkipping line 3547: expected 13 fields, saw 16\\nSkipping line 3550: expected 13 fields, saw 16\\nSkipping line 3551: expected 13 fields, saw 16\\nSkipping line 3554: expected 13 fields, saw 16\\nSkipping line 3578: expected 13 fields, saw 14\\nSkipping line 3579: expected 13 fields, saw 14\\nSkipping line 3580: expected 13 fields, saw 14\\nSkipping line 3581: expected 13 fields, saw 14\\nSkipping line 3582: expected 13 fields, saw 14\\nSkipping line 3594: expected 13 fields, saw 14\\nSkipping line 3603: expected 13 fields, saw 14\\nSkipping line 3604: expected 13 fields, saw 14\\nSkipping line 3605: expected 13 fields, saw 15\\nSkipping line 3610: expected 13 fields, saw 14\\nSkipping line 3619: expected 13 fields, saw 14\\nSkipping line 3620: expected 13 fields, saw 16\\nSkipping line 3631: expected 13 fields, saw 14\\nSkipping line 3632: expected 13 fields, saw 14\\nSkipping line 3633: expected 13 fields, saw 14\\nSkipping line 3634: expected 13 fields, saw 15\\nSkipping line 3644: expected 13 fields, saw 14\\nSkipping line 3645: expected 13 fields, saw 14\\nSkipping line 3655: expected 13 fields, saw 14\\nSkipping line 3662: expected 13 fields, saw 14\\nSkipping line 3663: expected 13 fields, saw 14\\nSkipping line 3675: expected 13 fields, saw 15\\nSkipping line 7349: expected 13 fields, saw 15\\nSkipping line 7350: expected 13 fields, saw 16\\nSkipping line 7351: expected 13 fields, saw 14\\nSkipping line 7352: expected 13 fields, saw 16\\nSkipping line 7353: expected 13 fields, saw 14\\nSkipping line 13299: expected 13 fields, saw 14\\nSkipping line 13317: expected 13 fields, saw 14\\nSkipping line 13319: expected 13 fields, saw 14\\nSkipping line 57785: expected 13 fields, saw 26\\nSkipping line 57810: expected 13 fields, saw 21\\nSkipping line 57812: expected 13 fields, saw 21\\nSkipping line 57906: expected 13 fields, saw 16\\nSkipping line 57954: expected 13 fields, saw 16\\nSkipping line 60084: expected 13 fields, saw 14\\nSkipping line 61607: expected 13 fields, saw 22\\nSkipping line 61642: expected 13 fields, saw 22\\nSkipping line 61700: expected 13 fields, saw 14\\nSkipping line 62415: expected 13 fields, saw 17\\nSkipping line 62509: expected 13 fields, saw 21\\nSkipping line 65355: expected 13 fields, saw 19\\nSkipping line 65391: expected 13 fields, saw 25\\n'\n",
      "b'Skipping line 66196: expected 13 fields, saw 14\\nSkipping line 72395: expected 13 fields, saw 14\\nSkipping line 72397: expected 13 fields, saw 14\\nSkipping line 72398: expected 13 fields, saw 15\\nSkipping line 72399: expected 13 fields, saw 15\\nSkipping line 78751: expected 13 fields, saw 14\\nSkipping line 83709: expected 13 fields, saw 16\\nSkipping line 83710: expected 13 fields, saw 14\\nSkipping line 83712: expected 13 fields, saw 16\\nSkipping line 83713: expected 13 fields, saw 16\\nSkipping line 87638: expected 13 fields, saw 14\\nSkipping line 87641: expected 13 fields, saw 14\\nSkipping line 87649: expected 13 fields, saw 14\\nSkipping line 87651: expected 13 fields, saw 14\\nSkipping line 87652: expected 13 fields, saw 14\\nSkipping line 87733: expected 13 fields, saw 14\\nSkipping line 87734: expected 13 fields, saw 14\\nSkipping line 87735: expected 13 fields, saw 14\\nSkipping line 87738: expected 13 fields, saw 14\\nSkipping line 87739: expected 13 fields, saw 14\\nSkipping line 87741: expected 13 fields, saw 14\\nSkipping line 87745: expected 13 fields, saw 14\\nSkipping line 87748: expected 13 fields, saw 14\\nSkipping line 87750: expected 13 fields, saw 14\\nSkipping line 88289: expected 13 fields, saw 21\\nSkipping line 93723: expected 13 fields, saw 14\\nSkipping line 93724: expected 13 fields, saw 14\\nSkipping line 93733: expected 13 fields, saw 14\\nSkipping line 93743: expected 13 fields, saw 14\\nSkipping line 95812: expected 13 fields, saw 14\\nSkipping line 95817: expected 13 fields, saw 14\\nSkipping line 95818: expected 13 fields, saw 14\\nSkipping line 95819: expected 13 fields, saw 14\\nSkipping line 96214: expected 13 fields, saw 14\\nSkipping line 96215: expected 13 fields, saw 14\\nSkipping line 96257: expected 13 fields, saw 14\\nSkipping line 96258: expected 13 fields, saw 14\\nSkipping line 96259: expected 13 fields, saw 14\\nSkipping line 96260: expected 13 fields, saw 14\\nSkipping line 96261: expected 13 fields, saw 14\\nSkipping line 96262: expected 13 fields, saw 14\\nSkipping line 96263: expected 13 fields, saw 14\\nSkipping line 96264: expected 13 fields, saw 14\\nSkipping line 96265: expected 13 fields, saw 14\\nSkipping line 96266: expected 13 fields, saw 14\\nSkipping line 96267: expected 13 fields, saw 14\\nSkipping line 96268: expected 13 fields, saw 14\\nSkipping line 96271: expected 13 fields, saw 14\\nSkipping line 96272: expected 13 fields, saw 14\\nSkipping line 96273: expected 13 fields, saw 14\\nSkipping line 96274: expected 13 fields, saw 14\\nSkipping line 101500: expected 13 fields, saw 21\\nSkipping line 104033: expected 13 fields, saw 23\\nSkipping line 104306: expected 13 fields, saw 14\\nSkipping line 120495: expected 13 fields, saw 15\\nSkipping line 120530: expected 13 fields, saw 14\\nSkipping line 123353: expected 13 fields, saw 14\\nSkipping line 123494: expected 13 fields, saw 14\\nSkipping line 124380: expected 13 fields, saw 15\\n'\n",
      "b'Skipping line 133598: expected 13 fields, saw 15\\nSkipping line 151303: expected 13 fields, saw 14\\nSkipping line 160834: expected 13 fields, saw 15\\nSkipping line 162417: expected 13 fields, saw 16\\nSkipping line 162418: expected 13 fields, saw 16\\nSkipping line 162419: expected 13 fields, saw 16\\nSkipping line 162420: expected 13 fields, saw 14\\nSkipping line 163774: expected 13 fields, saw 38\\nSkipping line 167792: expected 13 fields, saw 14\\n'\n",
      "b'Skipping line 199505: expected 13 fields, saw 25\\nSkipping line 201542: expected 13 fields, saw 86\\nSkipping line 211928: expected 13 fields, saw 14\\nSkipping line 211948: expected 13 fields, saw 14\\nSkipping line 211949: expected 13 fields, saw 14\\nSkipping line 211950: expected 13 fields, saw 14\\nSkipping line 211951: expected 13 fields, saw 14\\nSkipping line 211952: expected 13 fields, saw 14\\nSkipping line 211953: expected 13 fields, saw 14\\nSkipping line 211954: expected 13 fields, saw 14\\nSkipping line 211955: expected 13 fields, saw 16\\nSkipping line 211958: expected 13 fields, saw 14\\nSkipping line 211959: expected 13 fields, saw 14\\nSkipping line 212012: expected 13 fields, saw 14\\nSkipping line 212020: expected 13 fields, saw 14\\nSkipping line 212021: expected 13 fields, saw 15\\nSkipping line 212095: expected 13 fields, saw 14\\nSkipping line 212112: expected 13 fields, saw 14\\nSkipping line 212113: expected 13 fields, saw 14\\nSkipping line 212114: expected 13 fields, saw 14\\nSkipping line 212115: expected 13 fields, saw 14\\nSkipping line 212124: expected 13 fields, saw 15\\nSkipping line 212143: expected 13 fields, saw 14\\nSkipping line 212144: expected 13 fields, saw 14\\nSkipping line 212145: expected 13 fields, saw 14\\nSkipping line 212198: expected 13 fields, saw 14\\nSkipping line 212199: expected 13 fields, saw 14\\nSkipping line 212200: expected 13 fields, saw 14\\nSkipping line 212201: expected 13 fields, saw 14\\nSkipping line 212208: expected 13 fields, saw 14\\nSkipping line 212221: expected 13 fields, saw 14\\nSkipping line 212222: expected 13 fields, saw 14\\nSkipping line 212223: expected 13 fields, saw 14\\nSkipping line 212234: expected 13 fields, saw 14\\nSkipping line 212235: expected 13 fields, saw 14\\nSkipping line 212236: expected 13 fields, saw 14\\nSkipping line 212237: expected 13 fields, saw 14\\nSkipping line 212251: expected 13 fields, saw 14\\nSkipping line 212253: expected 13 fields, saw 14\\nSkipping line 212254: expected 13 fields, saw 16\\nSkipping line 212255: expected 13 fields, saw 16\\nSkipping line 212260: expected 13 fields, saw 14\\nSkipping line 212261: expected 13 fields, saw 14\\nSkipping line 212280: expected 13 fields, saw 14\\nSkipping line 212281: expected 13 fields, saw 14\\nSkipping line 212282: expected 13 fields, saw 14\\nSkipping line 212283: expected 13 fields, saw 14\\nSkipping line 212284: expected 13 fields, saw 14\\nSkipping line 212315: expected 13 fields, saw 14\\nSkipping line 212319: expected 13 fields, saw 14\\nSkipping line 212320: expected 13 fields, saw 14\\nSkipping line 212321: expected 13 fields, saw 14\\nSkipping line 212322: expected 13 fields, saw 14\\nSkipping line 212323: expected 13 fields, saw 14\\nSkipping line 212324: expected 13 fields, saw 14\\nSkipping line 212348: expected 13 fields, saw 14\\nSkipping line 212349: expected 13 fields, saw 14\\nSkipping line 212350: expected 13 fields, saw 14\\nSkipping line 212351: expected 13 fields, saw 14\\nSkipping line 212352: expected 13 fields, saw 14\\nSkipping line 212380: expected 13 fields, saw 14\\nSkipping line 212381: expected 13 fields, saw 14\\nSkipping line 212382: expected 13 fields, saw 14\\nSkipping line 212383: expected 13 fields, saw 14\\nSkipping line 212443: expected 13 fields, saw 14\\nSkipping line 212457: expected 13 fields, saw 14\\nSkipping line 212458: expected 13 fields, saw 14\\nSkipping line 212480: expected 13 fields, saw 15\\nSkipping line 212497: expected 13 fields, saw 14\\nSkipping line 212498: expected 13 fields, saw 14\\nSkipping line 212506: expected 13 fields, saw 14\\nSkipping line 212535: expected 13 fields, saw 15\\nSkipping line 212557: expected 13 fields, saw 14\\nSkipping line 212558: expected 13 fields, saw 14\\nSkipping line 212559: expected 13 fields, saw 14\\nSkipping line 212575: expected 13 fields, saw 15\\nSkipping line 212582: expected 13 fields, saw 14\\nSkipping line 212583: expected 13 fields, saw 15\\nSkipping line 212596: expected 13 fields, saw 14\\nSkipping line 212597: expected 13 fields, saw 14\\nSkipping line 212598: expected 13 fields, saw 14\\nSkipping line 212626: expected 13 fields, saw 14\\nSkipping line 212646: expected 13 fields, saw 14\\nSkipping line 212647: expected 13 fields, saw 14\\nSkipping line 212648: expected 13 fields, saw 14\\nSkipping line 212649: expected 13 fields, saw 14\\nSkipping line 212676: expected 13 fields, saw 14\\nSkipping line 212677: expected 13 fields, saw 14\\nSkipping line 212684: expected 13 fields, saw 14\\nSkipping line 212685: expected 13 fields, saw 14\\nSkipping line 212686: expected 13 fields, saw 14\\nSkipping line 212702: expected 13 fields, saw 14\\nSkipping line 212709: expected 13 fields, saw 14\\nSkipping line 212725: expected 13 fields, saw 14\\nSkipping line 212726: expected 13 fields, saw 14\\nSkipping line 212727: expected 13 fields, saw 14\\nSkipping line 212731: expected 13 fields, saw 14\\nSkipping line 212742: expected 13 fields, saw 14\\nSkipping line 212749: expected 13 fields, saw 14\\nSkipping line 212750: expected 13 fields, saw 14\\nSkipping line 212773: expected 13 fields, saw 14\\nSkipping line 212778: expected 13 fields, saw 14\\nSkipping line 212779: expected 13 fields, saw 14\\nSkipping line 212780: expected 13 fields, saw 15\\nSkipping line 212793: expected 13 fields, saw 15\\nSkipping line 212814: expected 13 fields, saw 14\\nSkipping line 212815: expected 13 fields, saw 14\\nSkipping line 212831: expected 13 fields, saw 14\\nSkipping line 212832: expected 13 fields, saw 14\\nSkipping line 212846: expected 13 fields, saw 14\\nSkipping line 212848: expected 13 fields, saw 15\\nSkipping line 212853: expected 13 fields, saw 14\\nSkipping line 212875: expected 13 fields, saw 14\\nSkipping line 212876: expected 13 fields, saw 16\\nSkipping line 212891: expected 13 fields, saw 14\\nSkipping line 212952: expected 13 fields, saw 14\\nSkipping line 212953: expected 13 fields, saw 14\\nSkipping line 212954: expected 13 fields, saw 14\\nSkipping line 212955: expected 13 fields, saw 14\\nSkipping line 212956: expected 13 fields, saw 14\\nSkipping line 212957: expected 13 fields, saw 15\\nSkipping line 212963: expected 13 fields, saw 14\\nSkipping line 212973: expected 13 fields, saw 14\\nSkipping line 212994: expected 13 fields, saw 14\\nSkipping line 212995: expected 13 fields, saw 14\\nSkipping line 213004: expected 13 fields, saw 14\\nSkipping line 213011: expected 13 fields, saw 14\\nSkipping line 213047: expected 13 fields, saw 14\\nSkipping line 213048: expected 13 fields, saw 14\\nSkipping line 213049: expected 13 fields, saw 14\\nSkipping line 213062: expected 13 fields, saw 14\\nSkipping line 213063: expected 13 fields, saw 14\\nSkipping line 213065: expected 13 fields, saw 15\\nSkipping line 213066: expected 13 fields, saw 15\\nSkipping line 213077: expected 13 fields, saw 14\\nSkipping line 213078: expected 13 fields, saw 14\\nSkipping line 213091: expected 13 fields, saw 14\\nSkipping line 213098: expected 13 fields, saw 15\\nSkipping line 213113: expected 13 fields, saw 14\\nSkipping line 213114: expected 13 fields, saw 14\\nSkipping line 213136: expected 13 fields, saw 14\\nSkipping line 213137: expected 13 fields, saw 14\\nSkipping line 213138: expected 13 fields, saw 14\\nSkipping line 213139: expected 13 fields, saw 14\\nSkipping line 213140: expected 13 fields, saw 14\\nSkipping line 213141: expected 13 fields, saw 14\\nSkipping line 213142: expected 13 fields, saw 14\\nSkipping line 213148: expected 13 fields, saw 14\\nSkipping line 213149: expected 13 fields, saw 14\\nSkipping line 213150: expected 13 fields, saw 14\\nSkipping line 213151: expected 13 fields, saw 14\\nSkipping line 213159: expected 13 fields, saw 14\\nSkipping line 213160: expected 13 fields, saw 14\\nSkipping line 213161: expected 13 fields, saw 14\\nSkipping line 213162: expected 13 fields, saw 14\\nSkipping line 213163: expected 13 fields, saw 15\\nSkipping line 213164: expected 13 fields, saw 16\\nSkipping line 213168: expected 13 fields, saw 14\\nSkipping line 213169: expected 13 fields, saw 16\\nSkipping line 213177: expected 13 fields, saw 14\\nSkipping line 213189: expected 13 fields, saw 14\\nSkipping line 213192: expected 13 fields, saw 14\\nSkipping line 213195: expected 13 fields, saw 14\\nSkipping line 213206: expected 13 fields, saw 14\\nSkipping line 213207: expected 13 fields, saw 14\\nSkipping line 213211: expected 13 fields, saw 14\\nSkipping line 213212: expected 13 fields, saw 14\\nSkipping line 213213: expected 13 fields, saw 14\\nSkipping line 213227: expected 13 fields, saw 14\\nSkipping line 213235: expected 13 fields, saw 14\\nSkipping line 213236: expected 13 fields, saw 14\\nSkipping line 213237: expected 13 fields, saw 14\\nSkipping line 213238: expected 13 fields, saw 14\\nSkipping line 213239: expected 13 fields, saw 14\\nSkipping line 213240: expected 13 fields, saw 14\\nSkipping line 213241: expected 13 fields, saw 15\\nSkipping line 213243: expected 13 fields, saw 15\\nSkipping line 213244: expected 13 fields, saw 15\\nSkipping line 213245: expected 13 fields, saw 16\\nSkipping line 213251: expected 13 fields, saw 14\\nSkipping line 213252: expected 13 fields, saw 14\\nSkipping line 213267: expected 13 fields, saw 14\\nSkipping line 213268: expected 13 fields, saw 14\\nSkipping line 213269: expected 13 fields, saw 14\\nSkipping line 213270: expected 13 fields, saw 15\\nSkipping line 213271: expected 13 fields, saw 14\\nSkipping line 213272: expected 13 fields, saw 14\\nSkipping line 213273: expected 13 fields, saw 14\\nSkipping line 213274: expected 13 fields, saw 14\\nSkipping line 213275: expected 13 fields, saw 14\\nSkipping line 213279: expected 13 fields, saw 14\\nSkipping line 213282: expected 13 fields, saw 14\\nSkipping line 213298: expected 13 fields, saw 14\\nSkipping line 213299: expected 13 fields, saw 14\\nSkipping line 213300: expected 13 fields, saw 14\\nSkipping line 213301: expected 13 fields, saw 14\\nSkipping line 213302: expected 13 fields, saw 14\\nSkipping line 213305: expected 13 fields, saw 14\\nSkipping line 213306: expected 13 fields, saw 14\\nSkipping line 213307: expected 13 fields, saw 15\\nSkipping line 213310: expected 13 fields, saw 14\\nSkipping line 213327: expected 13 fields, saw 14\\nSkipping line 213328: expected 13 fields, saw 15\\nSkipping line 213329: expected 13 fields, saw 14\\nSkipping line 213351: expected 13 fields, saw 15\\nSkipping line 213357: expected 13 fields, saw 14\\nSkipping line 213358: expected 13 fields, saw 14\\nSkipping line 213359: expected 13 fields, saw 15\\nSkipping line 213362: expected 13 fields, saw 14\\nSkipping line 213381: expected 13 fields, saw 14\\nSkipping line 213382: expected 13 fields, saw 14\\nSkipping line 213383: expected 13 fields, saw 14\\nSkipping line 213385: expected 13 fields, saw 14\\nSkipping line 213386: expected 13 fields, saw 14\\nSkipping line 213387: expected 13 fields, saw 14\\nSkipping line 213388: expected 13 fields, saw 14\\nSkipping line 213389: expected 13 fields, saw 14\\nSkipping line 213390: expected 13 fields, saw 14\\nSkipping line 213393: expected 13 fields, saw 14\\nSkipping line 213404: expected 13 fields, saw 14\\nSkipping line 213406: expected 13 fields, saw 14\\nSkipping line 213407: expected 13 fields, saw 14\\nSkipping line 213422: expected 13 fields, saw 15\\nSkipping line 213424: expected 13 fields, saw 14\\nSkipping line 213425: expected 13 fields, saw 16\\nSkipping line 213427: expected 13 fields, saw 14\\nSkipping line 213463: expected 13 fields, saw 14\\nSkipping line 213464: expected 13 fields, saw 14\\nSkipping line 213467: expected 13 fields, saw 14\\nSkipping line 213468: expected 13 fields, saw 14\\nSkipping line 213469: expected 13 fields, saw 14\\nSkipping line 213470: expected 13 fields, saw 14\\nSkipping line 213471: expected 13 fields, saw 14\\nSkipping line 213474: expected 13 fields, saw 14\\nSkipping line 213482: expected 13 fields, saw 14\\nSkipping line 213483: expected 13 fields, saw 14\\nSkipping line 213484: expected 13 fields, saw 15\\nSkipping line 213489: expected 13 fields, saw 14\\nSkipping line 213492: expected 13 fields, saw 14\\nSkipping line 213494: expected 13 fields, saw 16\\nSkipping line 213495: expected 13 fields, saw 15\\nSkipping line 213501: expected 13 fields, saw 14\\nSkipping line 213510: expected 13 fields, saw 14\\nSkipping line 213511: expected 13 fields, saw 14\\nSkipping line 213521: expected 13 fields, saw 15\\nSkipping line 213522: expected 13 fields, saw 16\\nSkipping line 213578: expected 13 fields, saw 14\\nSkipping line 213579: expected 13 fields, saw 14\\nSkipping line 213585: expected 13 fields, saw 14\\nSkipping line 213587: expected 13 fields, saw 15\\nSkipping line 213593: expected 13 fields, saw 14\\nSkipping line 213594: expected 13 fields, saw 14\\nSkipping line 213597: expected 13 fields, saw 14\\nSkipping line 213598: expected 13 fields, saw 14\\nSkipping line 213599: expected 13 fields, saw 14\\nSkipping line 213644: expected 13 fields, saw 14\\nSkipping line 213645: expected 13 fields, saw 14\\nSkipping line 213646: expected 13 fields, saw 14\\nSkipping line 213647: expected 13 fields, saw 14\\nSkipping line 213657: expected 13 fields, saw 14\\nSkipping line 213662: expected 13 fields, saw 14\\nSkipping line 213663: expected 13 fields, saw 14\\nSkipping line 213672: expected 13 fields, saw 14\\nSkipping line 213674: expected 13 fields, saw 14\\nSkipping line 213676: expected 13 fields, saw 14\\nSkipping line 213681: expected 13 fields, saw 14\\nSkipping line 213684: expected 13 fields, saw 14\\nSkipping line 213689: expected 13 fields, saw 14\\nSkipping line 213690: expected 13 fields, saw 14\\nSkipping line 213691: expected 13 fields, saw 14\\nSkipping line 213699: expected 13 fields, saw 14\\nSkipping line 213704: expected 13 fields, saw 14\\nSkipping line 213707: expected 13 fields, saw 14\\nSkipping line 213710: expected 13 fields, saw 14\\nSkipping line 213711: expected 13 fields, saw 14\\nSkipping line 213712: expected 13 fields, saw 14\\nSkipping line 213717: expected 13 fields, saw 14\\nSkipping line 213722: expected 13 fields, saw 14\\nSkipping line 213731: expected 13 fields, saw 14\\nSkipping line 213732: expected 13 fields, saw 14\\nSkipping line 213734: expected 13 fields, saw 14\\nSkipping line 213735: expected 13 fields, saw 14\\nSkipping line 213741: expected 13 fields, saw 14\\nSkipping line 213750: expected 13 fields, saw 14\\nSkipping line 213755: expected 13 fields, saw 14\\nSkipping line 213760: expected 13 fields, saw 14\\nSkipping line 213762: expected 13 fields, saw 16\\nSkipping line 213764: expected 13 fields, saw 14\\nSkipping line 213767: expected 13 fields, saw 14\\nSkipping line 213778: expected 13 fields, saw 14\\nSkipping line 213779: expected 13 fields, saw 14\\nSkipping line 213783: expected 13 fields, saw 15\\nSkipping line 213785: expected 13 fields, saw 14\\nSkipping line 213789: expected 13 fields, saw 14\\nSkipping line 213790: expected 13 fields, saw 15\\nSkipping line 213792: expected 13 fields, saw 14\\nSkipping line 213793: expected 13 fields, saw 14\\nSkipping line 213801: expected 13 fields, saw 14\\nSkipping line 213802: expected 13 fields, saw 14\\nSkipping line 213805: expected 13 fields, saw 14\\nSkipping line 213808: expected 13 fields, saw 14\\nSkipping line 213817: expected 13 fields, saw 14\\nSkipping line 213822: expected 13 fields, saw 14\\nSkipping line 213823: expected 13 fields, saw 14\\nSkipping line 213824: expected 13 fields, saw 14\\nSkipping line 213840: expected 13 fields, saw 14\\nSkipping line 213844: expected 13 fields, saw 14\\nSkipping line 213847: expected 13 fields, saw 14\\nSkipping line 213852: expected 13 fields, saw 14\\nSkipping line 213858: expected 13 fields, saw 15\\nSkipping line 213860: expected 13 fields, saw 14\\nSkipping line 213862: expected 13 fields, saw 15\\nSkipping line 213866: expected 13 fields, saw 14\\nSkipping line 213873: expected 13 fields, saw 14\\nSkipping line 213874: expected 13 fields, saw 14\\nSkipping line 213875: expected 13 fields, saw 14\\nSkipping line 213888: expected 13 fields, saw 14\\nSkipping line 213890: expected 13 fields, saw 14\\nSkipping line 213891: expected 13 fields, saw 15\\nSkipping line 213892: expected 13 fields, saw 16\\nSkipping line 213907: expected 13 fields, saw 15\\nSkipping line 213926: expected 13 fields, saw 14\\nSkipping line 213927: expected 13 fields, saw 14\\nSkipping line 213943: expected 13 fields, saw 15\\nSkipping line 213950: expected 13 fields, saw 14\\nSkipping line 213951: expected 13 fields, saw 15\\nSkipping line 213953: expected 13 fields, saw 14\\nSkipping line 213955: expected 13 fields, saw 14\\nSkipping line 213956: expected 13 fields, saw 14\\nSkipping line 213960: expected 13 fields, saw 14\\nSkipping line 213961: expected 13 fields, saw 14\\nSkipping line 213984: expected 13 fields, saw 14\\nSkipping line 213996: expected 13 fields, saw 14\\nSkipping line 213997: expected 13 fields, saw 14\\nSkipping line 213998: expected 13 fields, saw 14\\nSkipping line 213999: expected 13 fields, saw 14\\nSkipping line 214000: expected 13 fields, saw 15\\nSkipping line 214004: expected 13 fields, saw 14\\nSkipping line 214005: expected 13 fields, saw 15\\nSkipping line 214045: expected 13 fields, saw 14\\nSkipping line 214067: expected 13 fields, saw 14\\nSkipping line 214074: expected 13 fields, saw 15\\nSkipping line 214109: expected 13 fields, saw 14\\nSkipping line 214110: expected 13 fields, saw 14\\nSkipping line 214111: expected 13 fields, saw 14\\nSkipping line 214112: expected 13 fields, saw 15\\nSkipping line 214122: expected 13 fields, saw 14\\nSkipping line 214123: expected 13 fields, saw 14\\nSkipping line 214125: expected 13 fields, saw 14\\nSkipping line 214126: expected 13 fields, saw 16\\nSkipping line 214130: expected 13 fields, saw 14\\nSkipping line 214131: expected 13 fields, saw 14\\nSkipping line 214132: expected 13 fields, saw 14\\nSkipping line 214133: expected 13 fields, saw 14\\nSkipping line 214134: expected 13 fields, saw 14\\nSkipping line 214135: expected 13 fields, saw 14\\nSkipping line 214136: expected 13 fields, saw 14\\nSkipping line 214137: expected 13 fields, saw 14\\nSkipping line 214138: expected 13 fields, saw 14\\nSkipping line 214139: expected 13 fields, saw 16\\nSkipping line 214140: expected 13 fields, saw 16\\nSkipping line 214141: expected 13 fields, saw 16\\nSkipping line 214142: expected 13 fields, saw 16\\nSkipping line 214151: expected 13 fields, saw 14\\nSkipping line 214152: expected 13 fields, saw 14\\nSkipping line 214153: expected 13 fields, saw 14\\nSkipping line 214172: expected 13 fields, saw 14\\nSkipping line 214173: expected 13 fields, saw 14\\nSkipping line 214174: expected 13 fields, saw 14\\nSkipping line 214191: expected 13 fields, saw 14\\nSkipping line 214192: expected 13 fields, saw 14\\nSkipping line 214193: expected 13 fields, saw 14\\nSkipping line 214212: expected 13 fields, saw 14\\nSkipping line 214213: expected 13 fields, saw 14\\nSkipping line 214214: expected 13 fields, saw 14\\nSkipping line 214232: expected 13 fields, saw 14\\nSkipping line 214233: expected 13 fields, saw 14\\nSkipping line 214234: expected 13 fields, saw 14\\nSkipping line 214252: expected 13 fields, saw 14\\nSkipping line 214253: expected 13 fields, saw 14\\nSkipping line 214254: expected 13 fields, saw 14\\nSkipping line 214255: expected 13 fields, saw 14\\nSkipping line 214272: expected 13 fields, saw 14\\nSkipping line 214273: expected 13 fields, saw 14\\nSkipping line 214274: expected 13 fields, saw 14\\nSkipping line 214275: expected 13 fields, saw 14\\nSkipping line 214292: expected 13 fields, saw 14\\nSkipping line 214293: expected 13 fields, saw 14\\nSkipping line 214294: expected 13 fields, saw 14\\nSkipping line 214295: expected 13 fields, saw 14\\nSkipping line 214312: expected 13 fields, saw 14\\nSkipping line 214313: expected 13 fields, saw 14\\nSkipping line 214314: expected 13 fields, saw 14\\nSkipping line 214332: expected 13 fields, saw 14\\nSkipping line 214333: expected 13 fields, saw 14\\nSkipping line 214334: expected 13 fields, saw 14\\nSkipping line 214342: expected 13 fields, saw 14\\nSkipping line 214343: expected 13 fields, saw 14\\nSkipping line 214352: expected 13 fields, saw 14\\nSkipping line 214353: expected 13 fields, saw 14\\nSkipping line 214354: expected 13 fields, saw 14\\nSkipping line 214372: expected 13 fields, saw 14\\nSkipping line 214373: expected 13 fields, saw 14\\nSkipping line 214374: expected 13 fields, saw 14\\nSkipping line 214379: expected 13 fields, saw 14\\nSkipping line 214391: expected 13 fields, saw 14\\nSkipping line 214392: expected 13 fields, saw 14\\nSkipping line 214393: expected 13 fields, saw 14\\nSkipping line 214395: expected 13 fields, saw 14\\nSkipping line 214396: expected 13 fields, saw 14\\nSkipping line 214399: expected 13 fields, saw 14\\nSkipping line 214400: expected 13 fields, saw 14\\nSkipping line 214401: expected 13 fields, saw 14\\nSkipping line 214402: expected 13 fields, saw 14\\nSkipping line 214403: expected 13 fields, saw 14\\nSkipping line 214411: expected 13 fields, saw 14\\nSkipping line 214412: expected 13 fields, saw 14\\nSkipping line 214413: expected 13 fields, saw 14\\nSkipping line 214414: expected 13 fields, saw 14\\nSkipping line 214416: expected 13 fields, saw 14\\nSkipping line 214417: expected 13 fields, saw 14\\nSkipping line 214418: expected 13 fields, saw 14\\nSkipping line 214419: expected 13 fields, saw 14\\nSkipping line 214420: expected 13 fields, saw 14\\nSkipping line 214421: expected 13 fields, saw 15\\nSkipping line 214422: expected 13 fields, saw 16\\nSkipping line 214423: expected 13 fields, saw 16\\nSkipping line 214428: expected 13 fields, saw 14\\nSkipping line 214429: expected 13 fields, saw 14\\nSkipping line 214430: expected 13 fields, saw 14\\nSkipping line 214431: expected 13 fields, saw 14\\nSkipping line 214435: expected 13 fields, saw 14\\nSkipping line 214436: expected 13 fields, saw 14\\nSkipping line 214437: expected 13 fields, saw 14\\nSkipping line 214438: expected 13 fields, saw 14\\nSkipping line 214439: expected 13 fields, saw 14\\nSkipping line 214440: expected 13 fields, saw 14\\nSkipping line 214441: expected 13 fields, saw 15\\nSkipping line 214442: expected 13 fields, saw 16\\nSkipping line 214443: expected 13 fields, saw 15\\nSkipping line 214447: expected 13 fields, saw 14\\nSkipping line 214450: expected 13 fields, saw 14\\nSkipping line 214451: expected 13 fields, saw 14\\nSkipping line 214452: expected 13 fields, saw 14\\nSkipping line 214453: expected 13 fields, saw 14\\nSkipping line 214454: expected 13 fields, saw 14\\nSkipping line 214455: expected 13 fields, saw 14\\nSkipping line 214456: expected 13 fields, saw 14\\nSkipping line 214457: expected 13 fields, saw 15\\nSkipping line 214458: expected 13 fields, saw 16\\nSkipping line 214459: expected 13 fields, saw 16\\nSkipping line 214462: expected 13 fields, saw 15\\nSkipping line 214467: expected 13 fields, saw 15\\nSkipping line 214471: expected 13 fields, saw 15\\nSkipping line 214472: expected 13 fields, saw 14\\nSkipping line 214473: expected 13 fields, saw 14\\nSkipping line 214474: expected 13 fields, saw 14\\nSkipping line 214475: expected 13 fields, saw 14\\nSkipping line 214476: expected 13 fields, saw 14\\nSkipping line 214477: expected 13 fields, saw 14\\nSkipping line 214478: expected 13 fields, saw 14\\nSkipping line 214479: expected 13 fields, saw 14\\nSkipping line 214480: expected 13 fields, saw 15\\nSkipping line 214481: expected 13 fields, saw 16\\nSkipping line 214485: expected 13 fields, saw 14\\nSkipping line 214488: expected 13 fields, saw 15\\nSkipping line 214489: expected 13 fields, saw 14\\nSkipping line 214490: expected 13 fields, saw 14\\nSkipping line 214491: expected 13 fields, saw 14\\nSkipping line 214492: expected 13 fields, saw 14\\nSkipping line 214493: expected 13 fields, saw 14\\nSkipping line 214494: expected 13 fields, saw 14\\nSkipping line 214495: expected 13 fields, saw 14\\nSkipping line 214496: expected 13 fields, saw 14\\nSkipping line 214497: expected 13 fields, saw 14\\nSkipping line 214498: expected 13 fields, saw 14\\nSkipping line 214499: expected 13 fields, saw 16\\nSkipping line 214500: expected 13 fields, saw 16\\nSkipping line 214505: expected 13 fields, saw 14\\nSkipping line 214511: expected 13 fields, saw 15\\nSkipping line 214512: expected 13 fields, saw 14\\nSkipping line 214513: expected 13 fields, saw 14\\nSkipping line 214514: expected 13 fields, saw 14\\nSkipping line 214515: expected 13 fields, saw 14\\nSkipping line 214516: expected 13 fields, saw 14\\nSkipping line 214517: expected 13 fields, saw 14\\nSkipping line 214518: expected 13 fields, saw 14\\nSkipping line 214519: expected 13 fields, saw 14\\nSkipping line 214520: expected 13 fields, saw 14\\nSkipping line 214521: expected 13 fields, saw 14\\nSkipping line 214522: expected 13 fields, saw 14\\nSkipping line 214523: expected 13 fields, saw 14\\nSkipping line 214526: expected 13 fields, saw 14\\nSkipping line 214527: expected 13 fields, saw 15\\nSkipping line 214539: expected 13 fields, saw 14\\nSkipping line 214540: expected 13 fields, saw 15\\nSkipping line 214541: expected 13 fields, saw 14\\nSkipping line 214542: expected 13 fields, saw 14\\nSkipping line 214543: expected 13 fields, saw 14\\nSkipping line 214545: expected 13 fields, saw 14\\nSkipping line 214558: expected 13 fields, saw 14\\nSkipping line 214559: expected 13 fields, saw 15\\nSkipping line 214560: expected 13 fields, saw 14\\nSkipping line 214561: expected 13 fields, saw 14\\nSkipping line 214562: expected 13 fields, saw 14\\nSkipping line 214563: expected 13 fields, saw 14\\nSkipping line 214564: expected 13 fields, saw 14\\nSkipping line 214566: expected 13 fields, saw 14\\nSkipping line 214567: expected 13 fields, saw 14\\nSkipping line 214577: expected 13 fields, saw 14\\nSkipping line 214580: expected 13 fields, saw 14\\nSkipping line 214581: expected 13 fields, saw 14\\nSkipping line 214582: expected 13 fields, saw 14\\nSkipping line 214583: expected 13 fields, saw 14\\nSkipping line 214586: expected 13 fields, saw 14\\nSkipping line 214587: expected 13 fields, saw 14\\nSkipping line 214588: expected 13 fields, saw 14\\nSkipping line 214602: expected 13 fields, saw 14\\nSkipping line 214603: expected 13 fields, saw 14\\nSkipping line 214605: expected 13 fields, saw 15\\nSkipping line 214608: expected 13 fields, saw 14\\nSkipping line 214609: expected 13 fields, saw 14\\nSkipping line 214610: expected 13 fields, saw 14\\nSkipping line 214611: expected 13 fields, saw 14\\nSkipping line 214622: expected 13 fields, saw 14\\nSkipping line 214626: expected 13 fields, saw 14\\nSkipping line 214629: expected 13 fields, saw 14\\nSkipping line 214630: expected 13 fields, saw 14\\nSkipping line 214631: expected 13 fields, saw 14\\nSkipping line 214632: expected 13 fields, saw 14\\nSkipping line 214633: expected 13 fields, saw 14\\nSkipping line 214646: expected 13 fields, saw 14\\nSkipping line 214647: expected 13 fields, saw 14\\nSkipping line 214648: expected 13 fields, saw 14\\nSkipping line 214649: expected 13 fields, saw 15\\nSkipping line 214660: expected 13 fields, saw 14\\nSkipping line 214661: expected 13 fields, saw 14\\nSkipping line 214662: expected 13 fields, saw 15\\nSkipping line 214663: expected 13 fields, saw 14\\nSkipping line 214666: expected 13 fields, saw 14\\nSkipping line 214667: expected 13 fields, saw 14\\nSkipping line 214668: expected 13 fields, saw 14\\nSkipping line 214680: expected 13 fields, saw 14\\nSkipping line 214681: expected 13 fields, saw 14\\nSkipping line 214682: expected 13 fields, saw 14\\nSkipping line 214683: expected 13 fields, saw 14\\nSkipping line 214687: expected 13 fields, saw 14\\nSkipping line 214688: expected 13 fields, saw 14\\nSkipping line 214699: expected 13 fields, saw 14\\nSkipping line 214700: expected 13 fields, saw 14\\nSkipping line 214701: expected 13 fields, saw 14\\nSkipping line 214702: expected 13 fields, saw 14\\nSkipping line 214703: expected 13 fields, saw 14\\nSkipping line 214709: expected 13 fields, saw 14\\nSkipping line 214710: expected 13 fields, saw 14\\nSkipping line 214716: expected 13 fields, saw 14\\nSkipping line 214720: expected 13 fields, saw 14\\nSkipping line 214721: expected 13 fields, saw 14\\nSkipping line 214722: expected 13 fields, saw 14\\nSkipping line 214723: expected 13 fields, saw 14\\nSkipping line 214727: expected 13 fields, saw 14\\nSkipping line 214728: expected 13 fields, saw 14\\nSkipping line 214735: expected 13 fields, saw 14\\nSkipping line 214738: expected 13 fields, saw 14\\nSkipping line 214739: expected 13 fields, saw 14\\nSkipping line 214740: expected 13 fields, saw 14\\nSkipping line 214741: expected 13 fields, saw 14\\nSkipping line 214742: expected 13 fields, saw 14\\nSkipping line 214743: expected 13 fields, saw 14\\nSkipping line 214757: expected 13 fields, saw 14\\nSkipping line 214764: expected 13 fields, saw 14\\nSkipping line 214779: expected 13 fields, saw 14\\nSkipping line 214780: expected 13 fields, saw 14\\nSkipping line 214781: expected 13 fields, saw 14\\nSkipping line 214784: expected 13 fields, saw 14\\nSkipping line 214799: expected 13 fields, saw 14\\nSkipping line 214800: expected 13 fields, saw 14\\nSkipping line 214804: expected 13 fields, saw 14\\nSkipping line 214821: expected 13 fields, saw 14\\nSkipping line 214822: expected 13 fields, saw 14\\nSkipping line 214823: expected 13 fields, saw 15\\nSkipping line 214836: expected 13 fields, saw 14\\nSkipping line 214837: expected 13 fields, saw 14\\nSkipping line 214838: expected 13 fields, saw 14\\nSkipping line 214839: expected 13 fields, saw 15\\nSkipping line 214856: expected 13 fields, saw 14\\nSkipping line 214857: expected 13 fields, saw 14\\nSkipping line 214858: expected 13 fields, saw 14\\nSkipping line 214859: expected 13 fields, saw 14\\nSkipping line 214860: expected 13 fields, saw 16\\nSkipping line 214877: expected 13 fields, saw 14\\nSkipping line 214878: expected 13 fields, saw 14\\nSkipping line 214879: expected 13 fields, saw 14\\nSkipping line 214880: expected 13 fields, saw 14\\nSkipping line 214881: expected 13 fields, saw 14\\nSkipping line 214882: expected 13 fields, saw 14\\nSkipping line 214897: expected 13 fields, saw 14\\nSkipping line 214898: expected 13 fields, saw 14\\nSkipping line 214899: expected 13 fields, saw 14\\nSkipping line 214900: expected 13 fields, saw 14\\nSkipping line 214901: expected 13 fields, saw 16\\nSkipping line 214917: expected 13 fields, saw 14\\nSkipping line 214918: expected 13 fields, saw 14\\nSkipping line 214919: expected 13 fields, saw 14\\nSkipping line 214920: expected 13 fields, saw 14\\nSkipping line 214921: expected 13 fields, saw 16\\nSkipping line 214938: expected 13 fields, saw 14\\nSkipping line 214939: expected 13 fields, saw 14\\nSkipping line 214940: expected 13 fields, saw 14\\nSkipping line 214941: expected 13 fields, saw 14\\nSkipping line 214942: expected 13 fields, saw 15\\nSkipping line 214957: expected 13 fields, saw 14\\nSkipping line 214958: expected 13 fields, saw 14\\nSkipping line 214962: expected 13 fields, saw 14\\nSkipping line 214976: expected 13 fields, saw 15\\nSkipping line 214977: expected 13 fields, saw 16\\nSkipping line 214983: expected 13 fields, saw 14\\nSkipping line 214996: expected 13 fields, saw 14\\nSkipping line 214997: expected 13 fields, saw 16\\nSkipping line 215000: expected 13 fields, saw 14\\nSkipping line 215015: expected 13 fields, saw 14\\nSkipping line 215016: expected 13 fields, saw 14\\nSkipping line 215017: expected 13 fields, saw 16\\nSkipping line 215021: expected 13 fields, saw 14\\nSkipping line 215036: expected 13 fields, saw 14\\nSkipping line 215037: expected 13 fields, saw 14\\nSkipping line 215041: expected 13 fields, saw 14\\nSkipping line 215057: expected 13 fields, saw 14\\nSkipping line 215058: expected 13 fields, saw 14\\nSkipping line 215059: expected 13 fields, saw 14\\nSkipping line 215060: expected 13 fields, saw 14\\nSkipping line 215061: expected 13 fields, saw 16\\nSkipping line 215064: expected 13 fields, saw 14\\nSkipping line 215078: expected 13 fields, saw 14\\nSkipping line 215079: expected 13 fields, saw 14\\nSkipping line 215080: expected 13 fields, saw 14\\nSkipping line 215081: expected 13 fields, saw 14\\nSkipping line 215082: expected 13 fields, saw 14\\nSkipping line 215083: expected 13 fields, saw 14\\nSkipping line 215100: expected 13 fields, saw 14\\nSkipping line 215101: expected 13 fields, saw 14\\nSkipping line 215102: expected 13 fields, saw 14\\nSkipping line 215103: expected 13 fields, saw 14\\nSkipping line 215120: expected 13 fields, saw 14\\nSkipping line 215121: expected 13 fields, saw 14\\nSkipping line 215122: expected 13 fields, saw 14\\nSkipping line 215123: expected 13 fields, saw 15\\nSkipping line 215141: expected 13 fields, saw 14\\nSkipping line 215142: expected 13 fields, saw 14\\nSkipping line 215143: expected 13 fields, saw 15\\nSkipping line 215162: expected 13 fields, saw 14\\nSkipping line 215163: expected 13 fields, saw 14\\nSkipping line 215168: expected 13 fields, saw 14\\nSkipping line 215169: expected 13 fields, saw 14\\nSkipping line 215170: expected 13 fields, saw 14\\nSkipping line 215171: expected 13 fields, saw 14\\nSkipping line 215172: expected 13 fields, saw 14\\nSkipping line 215173: expected 13 fields, saw 16\\nSkipping line 215174: expected 13 fields, saw 16\\nSkipping line 215189: expected 13 fields, saw 14\\nSkipping line 215190: expected 13 fields, saw 14\\nSkipping line 215191: expected 13 fields, saw 14\\nSkipping line 215192: expected 13 fields, saw 15\\nSkipping line 215193: expected 13 fields, saw 14\\nSkipping line 215194: expected 13 fields, saw 16\\nSkipping line 215208: expected 13 fields, saw 14\\nSkipping line 215209: expected 13 fields, saw 14\\nSkipping line 215210: expected 13 fields, saw 14\\nSkipping line 215211: expected 13 fields, saw 14\\nSkipping line 215212: expected 13 fields, saw 14\\nSkipping line 215213: expected 13 fields, saw 16\\nSkipping line 215214: expected 13 fields, saw 16\\nSkipping line 225051: expected 13 fields, saw 14\\nSkipping line 225176: expected 13 fields, saw 14\\nSkipping line 225177: expected 13 fields, saw 14\\nSkipping line 225178: expected 13 fields, saw 14\\nSkipping line 226422: expected 13 fields, saw 21\\nSkipping line 226429: expected 13 fields, saw 21\\nSkipping line 226430: expected 13 fields, saw 20\\nSkipping line 226453: expected 13 fields, saw 20\\nSkipping line 226470: expected 13 fields, saw 20\\nSkipping line 228218: expected 13 fields, saw 14\\nSkipping line 228409: expected 13 fields, saw 14\\nSkipping line 228410: expected 13 fields, saw 14\\nSkipping line 228411: expected 13 fields, saw 14\\nSkipping line 228412: expected 13 fields, saw 14\\nSkipping line 228413: expected 13 fields, saw 14\\nSkipping line 230413: expected 13 fields, saw 14\\nSkipping line 230414: expected 13 fields, saw 14\\nSkipping line 230415: expected 13 fields, saw 14\\nSkipping line 230416: expected 13 fields, saw 14\\nSkipping line 230417: expected 13 fields, saw 14\\nSkipping line 230418: expected 13 fields, saw 14\\nSkipping line 230419: expected 13 fields, saw 14\\nSkipping line 230420: expected 13 fields, saw 14\\nSkipping line 230421: expected 13 fields, saw 14\\nSkipping line 230422: expected 13 fields, saw 14\\nSkipping line 230428: expected 13 fields, saw 29\\nSkipping line 233595: expected 13 fields, saw 14\\nSkipping line 233633: expected 13 fields, saw 16\\nSkipping line 233649: expected 13 fields, saw 16\\nSkipping line 237297: expected 13 fields, saw 23\\nSkipping line 237328: expected 13 fields, saw 14\\n'\n",
      "b'Skipping line 268649: expected 13 fields, saw 16\\nSkipping line 281380: expected 13 fields, saw 14\\nSkipping line 283158: expected 13 fields, saw 48\\nSkipping line 289776: expected 13 fields, saw 70\\nSkipping line 290568: expected 13 fields, saw 15\\nSkipping line 317525: expected 13 fields, saw 14\\n'\n",
      "b'Skipping line 329958: expected 13 fields, saw 14\\nSkipping line 330461: expected 13 fields, saw 14\\nSkipping line 332666: expected 13 fields, saw 15\\nSkipping line 332762: expected 13 fields, saw 14\\nSkipping line 332764: expected 13 fields, saw 14\\nSkipping line 332766: expected 13 fields, saw 14\\nSkipping line 332768: expected 13 fields, saw 14\\nSkipping line 332769: expected 13 fields, saw 16\\nSkipping line 332770: expected 13 fields, saw 14\\nSkipping line 332898: expected 13 fields, saw 16\\nSkipping line 332899: expected 13 fields, saw 14\\nSkipping line 332900: expected 13 fields, saw 16\\nSkipping line 332901: expected 13 fields, saw 14\\nSkipping line 332902: expected 13 fields, saw 14\\nSkipping line 332903: expected 13 fields, saw 14\\nSkipping line 332904: expected 13 fields, saw 16\\nSkipping line 332905: expected 13 fields, saw 14\\nSkipping line 332906: expected 13 fields, saw 14\\nSkipping line 333142: expected 13 fields, saw 14\\nSkipping line 333143: expected 13 fields, saw 14\\nSkipping line 333144: expected 13 fields, saw 14\\nSkipping line 333145: expected 13 fields, saw 14\\nSkipping line 333146: expected 13 fields, saw 14\\nSkipping line 333147: expected 13 fields, saw 14\\nSkipping line 333148: expected 13 fields, saw 14\\nSkipping line 333149: expected 13 fields, saw 14\\nSkipping line 333150: expected 13 fields, saw 14\\nSkipping line 333151: expected 13 fields, saw 14\\nSkipping line 333152: expected 13 fields, saw 14\\nSkipping line 333153: expected 13 fields, saw 14\\nSkipping line 333154: expected 13 fields, saw 14\\nSkipping line 333155: expected 13 fields, saw 14\\nSkipping line 333156: expected 13 fields, saw 14\\nSkipping line 333157: expected 13 fields, saw 14\\nSkipping line 333158: expected 13 fields, saw 14\\nSkipping line 333160: expected 13 fields, saw 14\\nSkipping line 333161: expected 13 fields, saw 14\\nSkipping line 338451: expected 13 fields, saw 15\\nSkipping line 345569: expected 13 fields, saw 14\\nSkipping line 345570: expected 13 fields, saw 14\\nSkipping line 345571: expected 13 fields, saw 14\\nSkipping line 345572: expected 13 fields, saw 14\\nSkipping line 345573: expected 13 fields, saw 14\\nSkipping line 345574: expected 13 fields, saw 14\\nSkipping line 345575: expected 13 fields, saw 14\\nSkipping line 345576: expected 13 fields, saw 14\\nSkipping line 345578: expected 13 fields, saw 14\\nSkipping line 345579: expected 13 fields, saw 14\\nSkipping line 345580: expected 13 fields, saw 14\\nSkipping line 345581: expected 13 fields, saw 14\\nSkipping line 345582: expected 13 fields, saw 14\\nSkipping line 345583: expected 13 fields, saw 14\\nSkipping line 345584: expected 13 fields, saw 14\\nSkipping line 345585: expected 13 fields, saw 14\\nSkipping line 345586: expected 13 fields, saw 14\\nSkipping line 345587: expected 13 fields, saw 14\\nSkipping line 379377: expected 13 fields, saw 16\\nSkipping line 384940: expected 13 fields, saw 14\\nSkipping line 392387: expected 13 fields, saw 14\\n'\n"
     ]
    },
    {
     "name": "stderr",
     "output_type": "stream",
     "text": [
      "b'Skipping line 396605: expected 13 fields, saw 14\\nSkipping line 397416: expected 13 fields, saw 14\\nSkipping line 398947: expected 13 fields, saw 14\\nSkipping line 402958: expected 13 fields, saw 14\\nSkipping line 410134: expected 13 fields, saw 14\\nSkipping line 410135: expected 13 fields, saw 14\\nSkipping line 410136: expected 13 fields, saw 14\\nSkipping line 410137: expected 13 fields, saw 14\\nSkipping line 410140: expected 13 fields, saw 14\\nSkipping line 410165: expected 13 fields, saw 14\\nSkipping line 410166: expected 13 fields, saw 14\\nSkipping line 410168: expected 13 fields, saw 14\\nSkipping line 410169: expected 13 fields, saw 14\\nSkipping line 410170: expected 13 fields, saw 14\\nSkipping line 410171: expected 13 fields, saw 14\\nSkipping line 410172: expected 13 fields, saw 14\\nSkipping line 410173: expected 13 fields, saw 14\\nSkipping line 410174: expected 13 fields, saw 14\\nSkipping line 410175: expected 13 fields, saw 16\\nSkipping line 410176: expected 13 fields, saw 16\\nSkipping line 410184: expected 13 fields, saw 14\\nSkipping line 410185: expected 13 fields, saw 14\\nSkipping line 410200: expected 13 fields, saw 14\\nSkipping line 410203: expected 13 fields, saw 14\\nSkipping line 410220: expected 13 fields, saw 14\\nSkipping line 410229: expected 13 fields, saw 14\\nSkipping line 410230: expected 13 fields, saw 14\\nSkipping line 410231: expected 13 fields, saw 14\\nSkipping line 410267: expected 13 fields, saw 14\\nSkipping line 410268: expected 13 fields, saw 14\\nSkipping line 410282: expected 13 fields, saw 14\\nSkipping line 410286: expected 13 fields, saw 14\\nSkipping line 410287: expected 13 fields, saw 14\\nSkipping line 410288: expected 13 fields, saw 14\\nSkipping line 410298: expected 13 fields, saw 14\\nSkipping line 410299: expected 13 fields, saw 14\\nSkipping line 410301: expected 13 fields, saw 14\\nSkipping line 410302: expected 13 fields, saw 14\\nSkipping line 410303: expected 13 fields, saw 15\\nSkipping line 410331: expected 13 fields, saw 14\\nSkipping line 410332: expected 13 fields, saw 14\\nSkipping line 410333: expected 13 fields, saw 14\\nSkipping line 410337: expected 13 fields, saw 14\\nSkipping line 410344: expected 13 fields, saw 14\\nSkipping line 410345: expected 13 fields, saw 14\\nSkipping line 410360: expected 13 fields, saw 14\\nSkipping line 410362: expected 13 fields, saw 14\\nSkipping line 410363: expected 13 fields, saw 14\\nSkipping line 410374: expected 13 fields, saw 15\\nSkipping line 410382: expected 13 fields, saw 14\\nSkipping line 410391: expected 13 fields, saw 14\\nSkipping line 410392: expected 13 fields, saw 14\\nSkipping line 410399: expected 13 fields, saw 14\\nSkipping line 410402: expected 13 fields, saw 14\\nSkipping line 410407: expected 13 fields, saw 14\\nSkipping line 410421: expected 13 fields, saw 14\\nSkipping line 410425: expected 13 fields, saw 14\\nSkipping line 410434: expected 13 fields, saw 14\\nSkipping line 410441: expected 13 fields, saw 14\\nSkipping line 410448: expected 13 fields, saw 14\\nSkipping line 410449: expected 13 fields, saw 14\\nSkipping line 410512: expected 13 fields, saw 14\\nSkipping line 410546: expected 13 fields, saw 14\\nSkipping line 410717: expected 13 fields, saw 14\\nSkipping line 411128: expected 13 fields, saw 16\\nSkipping line 412023: expected 13 fields, saw 16\\nSkipping line 412073: expected 13 fields, saw 16\\nSkipping line 413088: expected 13 fields, saw 15\\nSkipping line 416049: expected 13 fields, saw 14\\nSkipping line 417383: expected 13 fields, saw 16\\nSkipping line 422802: expected 13 fields, saw 14\\nSkipping line 426416: expected 13 fields, saw 15\\nSkipping line 430704: expected 13 fields, saw 14\\nSkipping line 436820: expected 13 fields, saw 14\\nSkipping line 442803: expected 13 fields, saw 14\\nSkipping line 442805: expected 13 fields, saw 14\\nSkipping line 443598: expected 13 fields, saw 14\\nSkipping line 443976: expected 13 fields, saw 15\\nSkipping line 444480: expected 13 fields, saw 15\\nSkipping line 452401: expected 13 fields, saw 14\\nSkipping line 453066: expected 13 fields, saw 14\\nSkipping line 454399: expected 13 fields, saw 21\\nSkipping line 456764: expected 13 fields, saw 14\\nSkipping line 456812: expected 13 fields, saw 14\\n'\n",
      "b'Skipping line 460955: expected 13 fields, saw 16\\nSkipping line 462300: expected 13 fields, saw 14\\nSkipping line 465128: expected 13 fields, saw 17\\nSkipping line 465354: expected 13 fields, saw 15\\nSkipping line 465355: expected 13 fields, saw 16\\nSkipping line 466987: expected 13 fields, saw 15\\nSkipping line 466988: expected 13 fields, saw 16\\nSkipping line 470108: expected 13 fields, saw 16\\nSkipping line 470109: expected 13 fields, saw 16\\nSkipping line 470110: expected 13 fields, saw 16\\nSkipping line 470111: expected 13 fields, saw 16\\nSkipping line 470112: expected 13 fields, saw 16\\nSkipping line 472735: expected 13 fields, saw 14\\nSkipping line 473216: expected 13 fields, saw 14\\nSkipping line 474757: expected 13 fields, saw 16\\nSkipping line 476341: expected 13 fields, saw 15\\nSkipping line 476345: expected 13 fields, saw 14\\nSkipping line 476346: expected 13 fields, saw 15\\nSkipping line 476360: expected 13 fields, saw 14\\nSkipping line 476361: expected 13 fields, saw 15\\nSkipping line 476592: expected 13 fields, saw 15\\nSkipping line 484912: expected 13 fields, saw 15\\nSkipping line 487417: expected 13 fields, saw 14\\nSkipping line 487418: expected 13 fields, saw 14\\nSkipping line 489209: expected 13 fields, saw 15\\nSkipping line 489255: expected 13 fields, saw 15\\nSkipping line 489425: expected 13 fields, saw 14\\nSkipping line 493301: expected 13 fields, saw 14\\nSkipping line 493303: expected 13 fields, saw 14\\nSkipping line 493305: expected 13 fields, saw 14\\nSkipping line 495998: expected 13 fields, saw 16\\nSkipping line 499321: expected 13 fields, saw 14\\nSkipping line 499322: expected 13 fields, saw 15\\nSkipping line 499323: expected 13 fields, saw 15\\nSkipping line 502903: expected 13 fields, saw 15\\nSkipping line 502913: expected 13 fields, saw 15\\nSkipping line 503300: expected 13 fields, saw 14\\nSkipping line 503900: expected 13 fields, saw 14\\nSkipping line 504823: expected 13 fields, saw 18\\nSkipping line 505385: expected 13 fields, saw 16\\nSkipping line 511137: expected 13 fields, saw 14\\nSkipping line 511157: expected 13 fields, saw 14\\nSkipping line 511193: expected 13 fields, saw 14\\nSkipping line 511553: expected 13 fields, saw 14\\nSkipping line 513455: expected 13 fields, saw 14\\nSkipping line 517199: expected 13 fields, saw 14\\nSkipping line 517201: expected 13 fields, saw 16\\nSkipping line 517217: expected 13 fields, saw 14\\nSkipping line 522172: expected 13 fields, saw 14\\nSkipping line 523150: expected 13 fields, saw 14\\n'\n",
      "b'Skipping line 531726: expected 13 fields, saw 14\\nSkipping line 543870: expected 13 fields, saw 14\\nSkipping line 543903: expected 13 fields, saw 14\\nSkipping line 544434: expected 13 fields, saw 14\\nSkipping line 545969: expected 13 fields, saw 14\\nSkipping line 546305: expected 13 fields, saw 43\\nSkipping line 547218: expected 13 fields, saw 15\\nSkipping line 547223: expected 13 fields, saw 56\\nSkipping line 547224: expected 13 fields, saw 20\\nSkipping line 547225: expected 13 fields, saw 22\\nSkipping line 547226: expected 13 fields, saw 20\\nSkipping line 547228: expected 13 fields, saw 19\\nSkipping line 547230: expected 13 fields, saw 23\\nSkipping line 547231: expected 13 fields, saw 25\\nSkipping line 547233: expected 13 fields, saw 33\\nSkipping line 547234: expected 13 fields, saw 53\\nSkipping line 547245: expected 13 fields, saw 20\\nSkipping line 547353: expected 13 fields, saw 14\\nSkipping line 547359: expected 13 fields, saw 19\\nSkipping line 547360: expected 13 fields, saw 21\\nSkipping line 552597: expected 13 fields, saw 15\\nSkipping line 564806: expected 13 fields, saw 14\\nSkipping line 585707: expected 13 fields, saw 14\\nSkipping line 588056: expected 13 fields, saw 14\\nSkipping line 590439: expected 13 fields, saw 14\\nSkipping line 590686: expected 13 fields, saw 14\\n'\n",
      "b'Skipping line 591447: expected 13 fields, saw 14\\nSkipping line 592495: expected 13 fields, saw 14\\nSkipping line 594496: expected 13 fields, saw 14\\nSkipping line 594897: expected 13 fields, saw 14\\nSkipping line 594898: expected 13 fields, saw 14\\nSkipping line 600182: expected 13 fields, saw 14\\nSkipping line 610515: expected 13 fields, saw 21\\nSkipping line 610534: expected 13 fields, saw 25\\nSkipping line 610535: expected 13 fields, saw 32\\nSkipping line 610536: expected 13 fields, saw 33\\nSkipping line 610537: expected 13 fields, saw 63\\nSkipping line 610590: expected 13 fields, saw 47\\nSkipping line 610620: expected 13 fields, saw 66\\nSkipping line 610706: expected 13 fields, saw 74\\nSkipping line 610707: expected 13 fields, saw 56\\nSkipping line 611398: expected 13 fields, saw 18\\nSkipping line 611399: expected 13 fields, saw 29\\nSkipping line 611400: expected 13 fields, saw 17\\nSkipping line 611401: expected 13 fields, saw 19\\nSkipping line 611402: expected 13 fields, saw 18\\nSkipping line 611403: expected 13 fields, saw 19\\nSkipping line 611404: expected 13 fields, saw 23\\nSkipping line 611405: expected 13 fields, saw 21\\nSkipping line 611406: expected 13 fields, saw 18\\nSkipping line 611407: expected 13 fields, saw 29\\nSkipping line 611597: expected 13 fields, saw 14\\nSkipping line 611598: expected 13 fields, saw 14\\nSkipping line 611599: expected 13 fields, saw 14\\nSkipping line 611600: expected 13 fields, saw 15\\nSkipping line 611601: expected 13 fields, saw 15\\nSkipping line 611602: expected 13 fields, saw 15\\nSkipping line 611603: expected 13 fields, saw 15\\nSkipping line 611604: expected 13 fields, saw 15\\nSkipping line 611605: expected 13 fields, saw 15\\nSkipping line 611606: expected 13 fields, saw 15\\nSkipping line 611607: expected 13 fields, saw 15\\nSkipping line 611608: expected 13 fields, saw 15\\nSkipping line 611609: expected 13 fields, saw 15\\nSkipping line 611613: expected 13 fields, saw 14\\nSkipping line 611614: expected 13 fields, saw 14\\nSkipping line 611618: expected 13 fields, saw 14\\nSkipping line 611619: expected 13 fields, saw 14\\nSkipping line 611620: expected 13 fields, saw 14\\nSkipping line 611623: expected 13 fields, saw 15\\nSkipping line 611625: expected 13 fields, saw 15\\nSkipping line 611626: expected 13 fields, saw 15\\nSkipping line 611627: expected 13 fields, saw 15\\nSkipping line 611628: expected 13 fields, saw 14\\nSkipping line 611629: expected 13 fields, saw 14\\nSkipping line 611630: expected 13 fields, saw 14\\nSkipping line 611631: expected 13 fields, saw 14\\nSkipping line 611632: expected 13 fields, saw 14\\nSkipping line 611633: expected 13 fields, saw 14\\nSkipping line 611634: expected 13 fields, saw 14\\nSkipping line 611635: expected 13 fields, saw 14\\nSkipping line 611636: expected 13 fields, saw 14\\nSkipping line 611637: expected 13 fields, saw 14\\nSkipping line 611638: expected 13 fields, saw 14\\nSkipping line 611639: expected 13 fields, saw 14\\nSkipping line 611640: expected 13 fields, saw 14\\nSkipping line 611641: expected 13 fields, saw 14\\nSkipping line 611642: expected 13 fields, saw 14\\nSkipping line 611643: expected 13 fields, saw 14\\nSkipping line 611644: expected 13 fields, saw 15\\nSkipping line 611645: expected 13 fields, saw 16\\nSkipping line 611646: expected 13 fields, saw 19\\nSkipping line 611647: expected 13 fields, saw 19\\nSkipping line 611648: expected 13 fields, saw 20\\nSkipping line 611649: expected 13 fields, saw 20\\nSkipping line 611650: expected 13 fields, saw 16\\nSkipping line 611651: expected 13 fields, saw 16\\nSkipping line 611652: expected 13 fields, saw 16\\nSkipping line 611653: expected 13 fields, saw 14\\nSkipping line 611654: expected 13 fields, saw 14\\nSkipping line 611655: expected 13 fields, saw 14\\nSkipping line 611656: expected 13 fields, saw 14\\nSkipping line 611657: expected 13 fields, saw 15\\nSkipping line 611658: expected 13 fields, saw 14\\nSkipping line 611659: expected 13 fields, saw 14\\nSkipping line 611660: expected 13 fields, saw 14\\nSkipping line 611661: expected 13 fields, saw 15\\nSkipping line 611662: expected 13 fields, saw 16\\nSkipping line 611663: expected 13 fields, saw 19\\nSkipping line 611664: expected 13 fields, saw 19\\nSkipping line 611665: expected 13 fields, saw 20\\nSkipping line 611666: expected 13 fields, saw 20\\nSkipping line 611667: expected 13 fields, saw 15\\nSkipping line 611668: expected 13 fields, saw 14\\nSkipping line 611669: expected 13 fields, saw 15\\nSkipping line 611670: expected 13 fields, saw 15\\nSkipping line 611671: expected 13 fields, saw 14\\nSkipping line 611672: expected 13 fields, saw 14\\nSkipping line 611673: expected 13 fields, saw 16\\nSkipping line 611674: expected 13 fields, saw 15\\nSkipping line 611675: expected 13 fields, saw 15\\nSkipping line 611676: expected 13 fields, saw 19\\nSkipping line 611677: expected 13 fields, saw 17\\nSkipping line 611678: expected 13 fields, saw 16\\nSkipping line 611679: expected 13 fields, saw 16\\nSkipping line 611680: expected 13 fields, saw 16\\nSkipping line 611681: expected 13 fields, saw 17\\nSkipping line 611682: expected 13 fields, saw 16\\nSkipping line 611683: expected 13 fields, saw 17\\nSkipping line 611684: expected 13 fields, saw 16\\nSkipping line 611685: expected 13 fields, saw 16\\nSkipping line 611686: expected 13 fields, saw 15\\nSkipping line 611687: expected 13 fields, saw 16\\nSkipping line 611688: expected 13 fields, saw 16\\nSkipping line 611689: expected 13 fields, saw 17\\nSkipping line 611690: expected 13 fields, saw 15\\nSkipping line 611691: expected 13 fields, saw 15\\nSkipping line 611692: expected 13 fields, saw 15\\nSkipping line 611693: expected 13 fields, saw 18\\nSkipping line 611694: expected 13 fields, saw 17\\nSkipping line 611695: expected 13 fields, saw 17\\nSkipping line 611696: expected 13 fields, saw 16\\nSkipping line 611697: expected 13 fields, saw 16\\nSkipping line 611698: expected 13 fields, saw 16\\nSkipping line 611699: expected 13 fields, saw 17\\nSkipping line 611700: expected 13 fields, saw 24\\nSkipping line 611701: expected 13 fields, saw 26\\nSkipping line 611702: expected 13 fields, saw 17\\nSkipping line 611703: expected 13 fields, saw 17\\nSkipping line 611704: expected 13 fields, saw 25\\nSkipping line 611705: expected 13 fields, saw 24\\nSkipping line 611706: expected 13 fields, saw 22\\nSkipping line 611707: expected 13 fields, saw 22\\nSkipping line 611708: expected 13 fields, saw 23\\nSkipping line 611709: expected 13 fields, saw 23\\nSkipping line 611710: expected 13 fields, saw 23\\nSkipping line 611711: expected 13 fields, saw 22\\nSkipping line 611712: expected 13 fields, saw 17\\nSkipping line 611713: expected 13 fields, saw 22\\nSkipping line 611714: expected 13 fields, saw 22\\nSkipping line 611715: expected 13 fields, saw 17\\nSkipping line 611716: expected 13 fields, saw 21\\nSkipping line 611717: expected 13 fields, saw 25\\nSkipping line 611718: expected 13 fields, saw 16\\nSkipping line 611719: expected 13 fields, saw 16\\nSkipping line 611720: expected 13 fields, saw 16\\nSkipping line 611721: expected 13 fields, saw 16\\nSkipping line 611722: expected 13 fields, saw 16\\nSkipping line 611723: expected 13 fields, saw 22\\nSkipping line 611724: expected 13 fields, saw 21\\nSkipping line 611725: expected 13 fields, saw 19\\nSkipping line 611726: expected 13 fields, saw 19\\nSkipping line 611730: expected 13 fields, saw 18\\nSkipping line 611731: expected 13 fields, saw 18\\nSkipping line 611732: expected 13 fields, saw 18\\nSkipping line 611733: expected 13 fields, saw 30\\nSkipping line 611734: expected 13 fields, saw 18\\nSkipping line 611735: expected 13 fields, saw 20\\nSkipping line 611736: expected 13 fields, saw 19\\nSkipping line 611737: expected 13 fields, saw 26\\nSkipping line 611738: expected 13 fields, saw 22\\nSkipping line 611739: expected 13 fields, saw 20\\nSkipping line 611740: expected 13 fields, saw 22\\nSkipping line 611741: expected 13 fields, saw 22\\nSkipping line 611742: expected 13 fields, saw 24\\nSkipping line 611743: expected 13 fields, saw 27\\nSkipping line 611747: expected 13 fields, saw 20\\nSkipping line 611748: expected 13 fields, saw 28\\nSkipping line 611749: expected 13 fields, saw 28\\nSkipping line 611750: expected 13 fields, saw 28\\nSkipping line 611751: expected 13 fields, saw 28\\nSkipping line 611752: expected 13 fields, saw 30\\nSkipping line 611753: expected 13 fields, saw 24\\nSkipping line 611756: expected 13 fields, saw 32\\nSkipping line 611757: expected 13 fields, saw 26\\nSkipping line 611758: expected 13 fields, saw 26\\nSkipping line 611759: expected 13 fields, saw 38\\nSkipping line 611760: expected 13 fields, saw 32\\nSkipping line 611761: expected 13 fields, saw 27\\nSkipping line 611762: expected 13 fields, saw 34\\nSkipping line 611764: expected 13 fields, saw 36\\nSkipping line 611765: expected 13 fields, saw 34\\nSkipping line 611766: expected 13 fields, saw 32\\nSkipping line 612267: expected 13 fields, saw 47\\nSkipping line 612268: expected 13 fields, saw 73\\nSkipping line 612269: expected 13 fields, saw 64\\nSkipping line 612270: expected 13 fields, saw 100\\nSkipping line 612271: expected 13 fields, saw 68\\nSkipping line 612385: expected 13 fields, saw 72\\nSkipping line 612386: expected 13 fields, saw 70\\nSkipping line 612387: expected 13 fields, saw 59\\nSkipping line 612388: expected 13 fields, saw 64\\nSkipping line 612389: expected 13 fields, saw 51\\nSkipping line 612390: expected 13 fields, saw 50\\nSkipping line 612391: expected 13 fields, saw 57\\nSkipping line 612392: expected 13 fields, saw 49\\nSkipping line 612393: expected 13 fields, saw 49\\nSkipping line 612394: expected 13 fields, saw 52\\nSkipping line 612395: expected 13 fields, saw 47\\nSkipping line 612396: expected 13 fields, saw 48\\nSkipping line 612397: expected 13 fields, saw 49\\nSkipping line 612398: expected 13 fields, saw 51\\nSkipping line 612399: expected 13 fields, saw 50\\nSkipping line 612400: expected 13 fields, saw 47\\nSkipping line 612401: expected 13 fields, saw 49\\nSkipping line 612402: expected 13 fields, saw 47\\nSkipping line 612403: expected 13 fields, saw 55\\nSkipping line 612404: expected 13 fields, saw 53\\nSkipping line 612405: expected 13 fields, saw 72\\nSkipping line 612406: expected 13 fields, saw 40\\nSkipping line 612407: expected 13 fields, saw 39\\nSkipping line 612408: expected 13 fields, saw 41\\nSkipping line 612409: expected 13 fields, saw 44\\nSkipping line 612410: expected 13 fields, saw 46\\nSkipping line 612411: expected 13 fields, saw 51\\nSkipping line 612412: expected 13 fields, saw 42\\nSkipping line 612413: expected 13 fields, saw 41\\nSkipping line 612414: expected 13 fields, saw 42\\nSkipping line 612415: expected 13 fields, saw 42\\nSkipping line 612416: expected 13 fields, saw 39\\nSkipping line 612417: expected 13 fields, saw 97\\nSkipping line 612418: expected 13 fields, saw 39\\nSkipping line 612419: expected 13 fields, saw 37\\nSkipping line 612420: expected 13 fields, saw 39\\nSkipping line 612421: expected 13 fields, saw 36\\nSkipping line 612422: expected 13 fields, saw 36\\nSkipping line 612423: expected 13 fields, saw 35\\nSkipping line 612424: expected 13 fields, saw 35\\nSkipping line 612425: expected 13 fields, saw 29\\nSkipping line 612426: expected 13 fields, saw 29\\nSkipping line 612427: expected 13 fields, saw 29\\nSkipping line 612428: expected 13 fields, saw 30\\nSkipping line 612429: expected 13 fields, saw 29\\nSkipping line 612430: expected 13 fields, saw 29\\nSkipping line 612431: expected 13 fields, saw 29\\nSkipping line 612432: expected 13 fields, saw 29\\nSkipping line 612433: expected 13 fields, saw 29\\nSkipping line 612434: expected 13 fields, saw 29\\nSkipping line 612435: expected 13 fields, saw 29\\nSkipping line 612436: expected 13 fields, saw 29\\nSkipping line 612437: expected 13 fields, saw 29\\nSkipping line 612438: expected 13 fields, saw 29\\nSkipping line 612439: expected 13 fields, saw 48\\nSkipping line 612440: expected 13 fields, saw 66\\nSkipping line 612441: expected 13 fields, saw 28\\nSkipping line 612442: expected 13 fields, saw 27\\nSkipping line 612443: expected 13 fields, saw 28\\nSkipping line 612444: expected 13 fields, saw 28\\nSkipping line 612446: expected 13 fields, saw 24\\nSkipping line 612447: expected 13 fields, saw 24\\nSkipping line 612448: expected 13 fields, saw 24\\nSkipping line 612449: expected 13 fields, saw 24\\nSkipping line 612450: expected 13 fields, saw 24\\nSkipping line 612451: expected 13 fields, saw 24\\nSkipping line 612452: expected 13 fields, saw 24\\nSkipping line 612453: expected 13 fields, saw 24\\nSkipping line 612454: expected 13 fields, saw 24\\nSkipping line 612455: expected 13 fields, saw 25\\nSkipping line 612456: expected 13 fields, saw 25\\nSkipping line 612457: expected 13 fields, saw 26\\nSkipping line 612458: expected 13 fields, saw 26\\nSkipping line 612459: expected 13 fields, saw 24\\nSkipping line 612460: expected 13 fields, saw 25\\nSkipping line 612461: expected 13 fields, saw 26\\nSkipping line 612462: expected 13 fields, saw 25\\nSkipping line 612463: expected 13 fields, saw 25\\nSkipping line 612464: expected 13 fields, saw 25\\nSkipping line 612465: expected 13 fields, saw 26\\nSkipping line 612466: expected 13 fields, saw 28\\nSkipping line 612467: expected 13 fields, saw 28\\nSkipping line 612468: expected 13 fields, saw 29\\nSkipping line 612469: expected 13 fields, saw 29\\nSkipping line 612470: expected 13 fields, saw 29\\nSkipping line 612471: expected 13 fields, saw 29\\nSkipping line 612472: expected 13 fields, saw 25\\nSkipping line 612473: expected 13 fields, saw 28\\nSkipping line 612474: expected 13 fields, saw 36\\nSkipping line 612475: expected 13 fields, saw 28\\nSkipping line 612476: expected 13 fields, saw 28\\nSkipping line 612477: expected 13 fields, saw 33\\nSkipping line 612478: expected 13 fields, saw 33\\nSkipping line 612479: expected 13 fields, saw 28\\nSkipping line 612480: expected 13 fields, saw 29\\nSkipping line 612481: expected 13 fields, saw 32\\nSkipping line 612482: expected 13 fields, saw 31\\nSkipping line 612483: expected 13 fields, saw 31\\nSkipping line 612484: expected 13 fields, saw 34\\nSkipping line 612485: expected 13 fields, saw 22\\nSkipping line 612486: expected 13 fields, saw 26\\nSkipping line 612487: expected 13 fields, saw 21\\nSkipping line 612488: expected 13 fields, saw 29\\nSkipping line 612489: expected 13 fields, saw 29\\nSkipping line 612490: expected 13 fields, saw 29\\nSkipping line 612491: expected 13 fields, saw 31\\nSkipping line 612492: expected 13 fields, saw 29\\nSkipping line 612493: expected 13 fields, saw 25\\nSkipping line 612494: expected 13 fields, saw 25\\nSkipping line 612495: expected 13 fields, saw 25\\nSkipping line 612496: expected 13 fields, saw 24\\nSkipping line 612497: expected 13 fields, saw 24\\nSkipping line 612498: expected 13 fields, saw 24\\nSkipping line 612499: expected 13 fields, saw 25\\nSkipping line 612500: expected 13 fields, saw 24\\nSkipping line 612501: expected 13 fields, saw 24\\nSkipping line 612502: expected 13 fields, saw 24\\nSkipping line 612503: expected 13 fields, saw 24\\nSkipping line 612504: expected 13 fields, saw 24\\nSkipping line 612505: expected 13 fields, saw 24\\nSkipping line 612506: expected 13 fields, saw 30\\nSkipping line 612507: expected 13 fields, saw 27\\nSkipping line 612508: expected 13 fields, saw 27\\nSkipping line 612509: expected 13 fields, saw 27\\nSkipping line 612510: expected 13 fields, saw 27\\nSkipping line 612511: expected 13 fields, saw 27\\nSkipping line 612512: expected 13 fields, saw 27\\nSkipping line 612513: expected 13 fields, saw 26\\nSkipping line 612514: expected 13 fields, saw 26\\nSkipping line 612515: expected 13 fields, saw 24\\nSkipping line 612516: expected 13 fields, saw 27\\nSkipping line 612517: expected 13 fields, saw 24\\nSkipping line 612518: expected 13 fields, saw 25\\nSkipping line 612519: expected 13 fields, saw 25\\nSkipping line 612520: expected 13 fields, saw 25\\nSkipping line 612521: expected 13 fields, saw 25\\nSkipping line 612522: expected 13 fields, saw 24\\nSkipping line 612523: expected 13 fields, saw 24\\nSkipping line 612524: expected 13 fields, saw 24\\nSkipping line 612525: expected 13 fields, saw 24\\nSkipping line 612527: expected 13 fields, saw 26\\nSkipping line 612528: expected 13 fields, saw 24\\nSkipping line 612529: expected 13 fields, saw 24\\nSkipping line 612530: expected 13 fields, saw 24\\nSkipping line 612531: expected 13 fields, saw 22\\nSkipping line 612532: expected 13 fields, saw 22\\nSkipping line 612533: expected 13 fields, saw 22\\nSkipping line 612534: expected 13 fields, saw 30\\nSkipping line 612535: expected 13 fields, saw 22\\nSkipping line 612536: expected 13 fields, saw 21\\nSkipping line 612537: expected 13 fields, saw 19\\nSkipping line 612538: expected 13 fields, saw 20\\nSkipping line 612539: expected 13 fields, saw 20\\nSkipping line 612540: expected 13 fields, saw 20\\nSkipping line 612541: expected 13 fields, saw 20\\nSkipping line 612542: expected 13 fields, saw 20\\nSkipping line 612543: expected 13 fields, saw 20\\nSkipping line 612544: expected 13 fields, saw 20\\nSkipping line 612545: expected 13 fields, saw 19\\nSkipping line 612546: expected 13 fields, saw 20\\nSkipping line 612547: expected 13 fields, saw 23\\nSkipping line 612548: expected 13 fields, saw 23\\nSkipping line 612549: expected 13 fields, saw 23\\nSkipping line 612550: expected 13 fields, saw 25\\nSkipping line 612551: expected 13 fields, saw 20\\nSkipping line 612552: expected 13 fields, saw 20\\nSkipping line 612553: expected 13 fields, saw 18\\nSkipping line 612554: expected 13 fields, saw 18\\nSkipping line 612555: expected 13 fields, saw 18\\nSkipping line 612556: expected 13 fields, saw 18\\nSkipping line 612557: expected 13 fields, saw 19\\nSkipping line 612558: expected 13 fields, saw 22\\nSkipping line 612559: expected 13 fields, saw 22\\nSkipping line 612560: expected 13 fields, saw 22\\nSkipping line 612561: expected 13 fields, saw 16\\nSkipping line 612562: expected 13 fields, saw 21\\nSkipping line 612563: expected 13 fields, saw 16\\nSkipping line 612564: expected 13 fields, saw 20\\nSkipping line 612565: expected 13 fields, saw 23\\nSkipping line 612566: expected 13 fields, saw 22\\nSkipping line 612568: expected 13 fields, saw 18\\nSkipping line 612569: expected 13 fields, saw 16\\nSkipping line 612570: expected 13 fields, saw 15\\nSkipping line 612571: expected 13 fields, saw 15\\nSkipping line 612572: expected 13 fields, saw 15\\nSkipping line 612573: expected 13 fields, saw 15\\nSkipping line 612574: expected 13 fields, saw 14\\nSkipping line 612575: expected 13 fields, saw 14\\nSkipping line 612576: expected 13 fields, saw 15\\nSkipping line 612577: expected 13 fields, saw 14\\nSkipping line 612578: expected 13 fields, saw 15\\nSkipping line 612579: expected 13 fields, saw 15\\nSkipping line 612580: expected 13 fields, saw 15\\nSkipping line 612581: expected 13 fields, saw 15\\nSkipping line 612582: expected 13 fields, saw 16\\nSkipping line 612583: expected 13 fields, saw 15\\nSkipping line 612584: expected 13 fields, saw 16\\nSkipping line 612585: expected 13 fields, saw 16\\nSkipping line 612586: expected 13 fields, saw 16\\nSkipping line 612587: expected 13 fields, saw 16\\nSkipping line 612588: expected 13 fields, saw 15\\nSkipping line 612590: expected 13 fields, saw 14\\nSkipping line 612591: expected 13 fields, saw 14\\nSkipping line 612592: expected 13 fields, saw 14\\nSkipping line 612593: expected 13 fields, saw 14\\nSkipping line 612596: expected 13 fields, saw 14\\nSkipping line 612599: expected 13 fields, saw 14\\nSkipping line 612601: expected 13 fields, saw 14\\nSkipping line 612602: expected 13 fields, saw 14\\nSkipping line 612603: expected 13 fields, saw 14\\nSkipping line 612604: expected 13 fields, saw 14\\nSkipping line 612605: expected 13 fields, saw 14\\nSkipping line 612606: expected 13 fields, saw 15\\nSkipping line 612607: expected 13 fields, saw 14\\nSkipping line 613030: expected 13 fields, saw 14\\nSkipping line 614606: expected 13 fields, saw 30\\nSkipping line 615670: expected 13 fields, saw 19\\nSkipping line 615672: expected 13 fields, saw 19\\nSkipping line 615674: expected 13 fields, saw 19\\nSkipping line 615675: expected 13 fields, saw 25\\nSkipping line 618925: expected 13 fields, saw 16\\nSkipping line 622274: expected 13 fields, saw 14\\nSkipping line 622920: expected 13 fields, saw 15\\nSkipping line 623477: expected 13 fields, saw 14\\nSkipping line 623521: expected 13 fields, saw 17\\nSkipping line 623697: expected 13 fields, saw 14\\nSkipping line 634271: expected 13 fields, saw 26\\nSkipping line 634504: expected 13 fields, saw 16\\nSkipping line 640589: expected 13 fields, saw 14\\nSkipping line 641884: expected 13 fields, saw 14\\nSkipping line 648558: expected 13 fields, saw 14\\nSkipping line 648559: expected 13 fields, saw 14\\nSkipping line 650266: expected 13 fields, saw 14\\nSkipping line 654957: expected 13 fields, saw 14\\nSkipping line 655030: expected 13 fields, saw 14\\nSkipping line 655432: expected 13 fields, saw 15\\nSkipping line 656202: expected 13 fields, saw 14\\nSkipping line 656217: expected 13 fields, saw 16\\n'\n",
      "b'Skipping line 660901: expected 13 fields, saw 15\\nSkipping line 661332: expected 13 fields, saw 15\\nSkipping line 662656: expected 13 fields, saw 14\\nSkipping line 662863: expected 13 fields, saw 51\\nSkipping line 662901: expected 13 fields, saw 15\\nSkipping line 662902: expected 13 fields, saw 14\\nSkipping line 662903: expected 13 fields, saw 14\\nSkipping line 662904: expected 13 fields, saw 14\\nSkipping line 662905: expected 13 fields, saw 14\\nSkipping line 662906: expected 13 fields, saw 14\\nSkipping line 662910: expected 13 fields, saw 14\\nSkipping line 662914: expected 13 fields, saw 14\\nSkipping line 662915: expected 13 fields, saw 15\\nSkipping line 662916: expected 13 fields, saw 15\\nSkipping line 662917: expected 13 fields, saw 15\\nSkipping line 662918: expected 13 fields, saw 15\\nSkipping line 662921: expected 13 fields, saw 15\\nSkipping line 662922: expected 13 fields, saw 16\\nSkipping line 662923: expected 13 fields, saw 19\\nSkipping line 662924: expected 13 fields, saw 19\\nSkipping line 662925: expected 13 fields, saw 14\\nSkipping line 662926: expected 13 fields, saw 14\\nSkipping line 662927: expected 13 fields, saw 15\\nSkipping line 662928: expected 13 fields, saw 16\\nSkipping line 662929: expected 13 fields, saw 16\\nSkipping line 662930: expected 13 fields, saw 17\\nSkipping line 662931: expected 13 fields, saw 18\\nSkipping line 662932: expected 13 fields, saw 18\\nSkipping line 662933: expected 13 fields, saw 19\\nSkipping line 662934: expected 13 fields, saw 20\\nSkipping line 662935: expected 13 fields, saw 20\\nSkipping line 662936: expected 13 fields, saw 20\\nSkipping line 662937: expected 13 fields, saw 20\\nSkipping line 662938: expected 13 fields, saw 18\\nSkipping line 662939: expected 13 fields, saw 19\\nSkipping line 662940: expected 13 fields, saw 19\\nSkipping line 662942: expected 13 fields, saw 24\\nSkipping line 662943: expected 13 fields, saw 16\\nSkipping line 662944: expected 13 fields, saw 16\\nSkipping line 662945: expected 13 fields, saw 16\\nSkipping line 662946: expected 13 fields, saw 16\\nSkipping line 662947: expected 13 fields, saw 16\\nSkipping line 662948: expected 13 fields, saw 23\\nSkipping line 662949: expected 13 fields, saw 23\\nSkipping line 662950: expected 13 fields, saw 23\\nSkipping line 662951: expected 13 fields, saw 23\\nSkipping line 662952: expected 13 fields, saw 23\\nSkipping line 662953: expected 13 fields, saw 23\\nSkipping line 662954: expected 13 fields, saw 23\\nSkipping line 662955: expected 13 fields, saw 23\\nSkipping line 662956: expected 13 fields, saw 23\\nSkipping line 662957: expected 13 fields, saw 23\\nSkipping line 662958: expected 13 fields, saw 23\\nSkipping line 662959: expected 13 fields, saw 23\\nSkipping line 662960: expected 13 fields, saw 23\\nSkipping line 662961: expected 13 fields, saw 22\\nSkipping line 662962: expected 13 fields, saw 28\\nSkipping line 662963: expected 13 fields, saw 20\\nSkipping line 662964: expected 13 fields, saw 22\\nSkipping line 662965: expected 13 fields, saw 33\\nSkipping line 662966: expected 13 fields, saw 33\\nSkipping line 662967: expected 13 fields, saw 16\\nSkipping line 662968: expected 13 fields, saw 17\\nSkipping line 662969: expected 13 fields, saw 22\\nSkipping line 662970: expected 13 fields, saw 17\\nSkipping line 662971: expected 13 fields, saw 17\\nSkipping line 662972: expected 13 fields, saw 17\\nSkipping line 662973: expected 13 fields, saw 17\\nSkipping line 662974: expected 13 fields, saw 17\\nSkipping line 662975: expected 13 fields, saw 17\\nSkipping line 662976: expected 13 fields, saw 17\\nSkipping line 662977: expected 13 fields, saw 16\\nSkipping line 662978: expected 13 fields, saw 16\\nSkipping line 662979: expected 13 fields, saw 24\\nSkipping line 662980: expected 13 fields, saw 24\\nSkipping line 662981: expected 13 fields, saw 26\\nSkipping line 662983: expected 13 fields, saw 25\\nSkipping line 662984: expected 13 fields, saw 30\\nSkipping line 662985: expected 13 fields, saw 43\\nSkipping line 662986: expected 13 fields, saw 18\\nSkipping line 662987: expected 13 fields, saw 31\\nSkipping line 662988: expected 13 fields, saw 20\\nSkipping line 662989: expected 13 fields, saw 20\\nSkipping line 662990: expected 13 fields, saw 20\\nSkipping line 662991: expected 13 fields, saw 20\\nSkipping line 662992: expected 13 fields, saw 20\\nSkipping line 662993: expected 13 fields, saw 20\\nSkipping line 662994: expected 13 fields, saw 20\\nSkipping line 662995: expected 13 fields, saw 20\\nSkipping line 662996: expected 13 fields, saw 20\\nSkipping line 662997: expected 13 fields, saw 20\\nSkipping line 662998: expected 13 fields, saw 20\\nSkipping line 662999: expected 13 fields, saw 20\\nSkipping line 663000: expected 13 fields, saw 20\\nSkipping line 663001: expected 13 fields, saw 20\\nSkipping line 663002: expected 13 fields, saw 20\\nSkipping line 663003: expected 13 fields, saw 39\\nSkipping line 663004: expected 13 fields, saw 39\\nSkipping line 663005: expected 13 fields, saw 26\\nSkipping line 663006: expected 13 fields, saw 25\\nSkipping line 663007: expected 13 fields, saw 25\\nSkipping line 663008: expected 13 fields, saw 25\\nSkipping line 663009: expected 13 fields, saw 25\\nSkipping line 663010: expected 13 fields, saw 25\\nSkipping line 663011: expected 13 fields, saw 25\\nSkipping line 663012: expected 13 fields, saw 31\\nSkipping line 663013: expected 13 fields, saw 18\\nSkipping line 663014: expected 13 fields, saw 24\\nSkipping line 663015: expected 13 fields, saw 25\\nSkipping line 663016: expected 13 fields, saw 24\\nSkipping line 663017: expected 13 fields, saw 23\\nSkipping line 663018: expected 13 fields, saw 23\\nSkipping line 663019: expected 13 fields, saw 23\\nSkipping line 663020: expected 13 fields, saw 23\\nSkipping line 663021: expected 13 fields, saw 23\\nSkipping line 663022: expected 13 fields, saw 23\\nSkipping line 663023: expected 13 fields, saw 54\\nSkipping line 663024: expected 13 fields, saw 30\\nSkipping line 663025: expected 13 fields, saw 29\\nSkipping line 663026: expected 13 fields, saw 29\\nSkipping line 663027: expected 13 fields, saw 29\\nSkipping line 663028: expected 13 fields, saw 29\\nSkipping line 663029: expected 13 fields, saw 29\\nSkipping line 663030: expected 13 fields, saw 29\\nSkipping line 663031: expected 13 fields, saw 29\\nSkipping line 663032: expected 13 fields, saw 29\\nSkipping line 663033: expected 13 fields, saw 28\\nSkipping line 663034: expected 13 fields, saw 28\\nSkipping line 663035: expected 13 fields, saw 28\\nSkipping line 663036: expected 13 fields, saw 27\\nSkipping line 663037: expected 13 fields, saw 27\\nSkipping line 663038: expected 13 fields, saw 27\\nSkipping line 663039: expected 13 fields, saw 27\\nSkipping line 663040: expected 13 fields, saw 27\\nSkipping line 663041: expected 13 fields, saw 27\\nSkipping line 663042: expected 13 fields, saw 27\\nSkipping line 663043: expected 13 fields, saw 34\\nSkipping line 663044: expected 13 fields, saw 32\\nSkipping line 663045: expected 13 fields, saw 30\\nSkipping line 663046: expected 13 fields, saw 30\\nSkipping line 663047: expected 13 fields, saw 28\\nSkipping line 663048: expected 13 fields, saw 27\\nSkipping line 663049: expected 13 fields, saw 27\\nSkipping line 663050: expected 13 fields, saw 27\\nSkipping line 663051: expected 13 fields, saw 27\\nSkipping line 663052: expected 13 fields, saw 27\\nSkipping line 663053: expected 13 fields, saw 27\\nSkipping line 663054: expected 13 fields, saw 27\\nSkipping line 663055: expected 13 fields, saw 26\\nSkipping line 663056: expected 13 fields, saw 26\\nSkipping line 663057: expected 13 fields, saw 26\\nSkipping line 663058: expected 13 fields, saw 26\\nSkipping line 663059: expected 13 fields, saw 26\\nSkipping line 663060: expected 13 fields, saw 26\\nSkipping line 663061: expected 13 fields, saw 26\\nSkipping line 663062: expected 13 fields, saw 26\\nSkipping line 663063: expected 13 fields, saw 43\\nSkipping line 663064: expected 13 fields, saw 43\\nSkipping line 663065: expected 13 fields, saw 39\\nSkipping line 663066: expected 13 fields, saw 39\\nSkipping line 663067: expected 13 fields, saw 39\\nSkipping line 663068: expected 13 fields, saw 39\\nSkipping line 663069: expected 13 fields, saw 39\\nSkipping line 663070: expected 13 fields, saw 31\\nSkipping line 663071: expected 13 fields, saw 39\\nSkipping line 663072: expected 13 fields, saw 38\\nSkipping line 663073: expected 13 fields, saw 38\\nSkipping line 663074: expected 13 fields, saw 38\\nSkipping line 663075: expected 13 fields, saw 38\\nSkipping line 663076: expected 13 fields, saw 38\\nSkipping line 663077: expected 13 fields, saw 38\\nSkipping line 663078: expected 13 fields, saw 38\\nSkipping line 663079: expected 13 fields, saw 38\\nSkipping line 663080: expected 13 fields, saw 37\\nSkipping line 663081: expected 13 fields, saw 37\\nSkipping line 663082: expected 13 fields, saw 37\\nSkipping line 663083: expected 13 fields, saw 56\\nSkipping line 663084: expected 13 fields, saw 33\\nSkipping line 663085: expected 13 fields, saw 33\\nSkipping line 663086: expected 13 fields, saw 32\\nSkipping line 663087: expected 13 fields, saw 34\\nSkipping line 663088: expected 13 fields, saw 33\\nSkipping line 663089: expected 13 fields, saw 33\\nSkipping line 663090: expected 13 fields, saw 31\\nSkipping line 663091: expected 13 fields, saw 31\\nSkipping line 663092: expected 13 fields, saw 31\\nSkipping line 663093: expected 13 fields, saw 31\\nSkipping line 663094: expected 13 fields, saw 30\\nSkipping line 663095: expected 13 fields, saw 30\\nSkipping line 663096: expected 13 fields, saw 30\\nSkipping line 663097: expected 13 fields, saw 30\\nSkipping line 663098: expected 13 fields, saw 32\\nSkipping line 663099: expected 13 fields, saw 29\\nSkipping line 663100: expected 13 fields, saw 29\\nSkipping line 663101: expected 13 fields, saw 29\\nSkipping line 663102: expected 13 fields, saw 29\\nSkipping line 663103: expected 13 fields, saw 79\\nSkipping line 663104: expected 13 fields, saw 76\\nSkipping line 663105: expected 13 fields, saw 76\\nSkipping line 663106: expected 13 fields, saw 76\\nSkipping line 663107: expected 13 fields, saw 75\\nSkipping line 663108: expected 13 fields, saw 75\\nSkipping line 663109: expected 13 fields, saw 74\\nSkipping line 663110: expected 13 fields, saw 74\\nSkipping line 663111: expected 13 fields, saw 69\\nSkipping line 663112: expected 13 fields, saw 61\\nSkipping line 663113: expected 13 fields, saw 56\\nSkipping line 663114: expected 13 fields, saw 56\\nSkipping line 663115: expected 13 fields, saw 55\\nSkipping line 663116: expected 13 fields, saw 55\\nSkipping line 663117: expected 13 fields, saw 55\\nSkipping line 663118: expected 13 fields, saw 52\\nSkipping line 663119: expected 13 fields, saw 48\\nSkipping line 663120: expected 13 fields, saw 47\\nSkipping line 663121: expected 13 fields, saw 45\\nSkipping line 663122: expected 13 fields, saw 44\\nSkipping line 663147: expected 13 fields, saw 16\\nSkipping line 663555: expected 13 fields, saw 16\\nSkipping line 663560: expected 13 fields, saw 16\\nSkipping line 663561: expected 13 fields, saw 15\\nSkipping line 663562: expected 13 fields, saw 15\\nSkipping line 663566: expected 13 fields, saw 16\\nSkipping line 663567: expected 13 fields, saw 17\\nSkipping line 663571: expected 13 fields, saw 33\\nSkipping line 663577: expected 13 fields, saw 22\\nSkipping line 663916: expected 13 fields, saw 16\\nSkipping line 664469: expected 13 fields, saw 18\\nSkipping line 664499: expected 13 fields, saw 16\\nSkipping line 664583: expected 13 fields, saw 27\\nSkipping line 664590: expected 13 fields, saw 27\\nSkipping line 664592: expected 13 fields, saw 27\\nSkipping line 664593: expected 13 fields, saw 27\\nSkipping line 683702: expected 13 fields, saw 15\\nSkipping line 685526: expected 13 fields, saw 14\\n'\n"
     ]
    },
    {
     "name": "stderr",
     "output_type": "stream",
     "text": [
      "b'Skipping line 737407: expected 13 fields, saw 16\\nSkipping line 753640: expected 13 fields, saw 14\\nSkipping line 755322: expected 13 fields, saw 16\\nSkipping line 773545: expected 13 fields, saw 15\\nSkipping line 775580: expected 13 fields, saw 16\\nSkipping line 775822: expected 13 fields, saw 56\\nSkipping line 776044: expected 13 fields, saw 57\\nSkipping line 776410: expected 13 fields, saw 16\\nSkipping line 776465: expected 13 fields, saw 18\\nSkipping line 777411: expected 13 fields, saw 14\\nSkipping line 778897: expected 13 fields, saw 14\\nSkipping line 778909: expected 13 fields, saw 14\\nSkipping line 779030: expected 13 fields, saw 14\\nSkipping line 779044: expected 13 fields, saw 14\\nSkipping line 779162: expected 13 fields, saw 14\\nSkipping line 783281: expected 13 fields, saw 14\\nSkipping line 783282: expected 13 fields, saw 14\\nSkipping line 783283: expected 13 fields, saw 14\\nSkipping line 783284: expected 13 fields, saw 14\\nSkipping line 783285: expected 13 fields, saw 14\\nSkipping line 783286: expected 13 fields, saw 14\\nSkipping line 783287: expected 13 fields, saw 14\\nSkipping line 783288: expected 13 fields, saw 14\\nSkipping line 783289: expected 13 fields, saw 14\\nSkipping line 783295: expected 13 fields, saw 14\\nSkipping line 783296: expected 13 fields, saw 14\\nSkipping line 783297: expected 13 fields, saw 14\\nSkipping line 783299: expected 13 fields, saw 14\\nSkipping line 783300: expected 13 fields, saw 14\\nSkipping line 783301: expected 13 fields, saw 14\\nSkipping line 783303: expected 13 fields, saw 14\\nSkipping line 783304: expected 13 fields, saw 14\\nSkipping line 783305: expected 13 fields, saw 14\\nSkipping line 783306: expected 13 fields, saw 14\\nSkipping line 783307: expected 13 fields, saw 14\\nSkipping line 783308: expected 13 fields, saw 14\\nSkipping line 783309: expected 13 fields, saw 14\\nSkipping line 783331: expected 13 fields, saw 14\\nSkipping line 783404: expected 13 fields, saw 14\\nSkipping line 783405: expected 13 fields, saw 14\\nSkipping line 783462: expected 13 fields, saw 14\\nSkipping line 783464: expected 13 fields, saw 14\\nSkipping line 783465: expected 13 fields, saw 14\\nSkipping line 783466: expected 13 fields, saw 14\\nSkipping line 783467: expected 13 fields, saw 14\\nSkipping line 783468: expected 13 fields, saw 14\\nSkipping line 783482: expected 13 fields, saw 14\\nSkipping line 783483: expected 13 fields, saw 14\\nSkipping line 783484: expected 13 fields, saw 14\\nSkipping line 783485: expected 13 fields, saw 14\\nSkipping line 783486: expected 13 fields, saw 14\\nSkipping line 783487: expected 13 fields, saw 14\\nSkipping line 783488: expected 13 fields, saw 14\\nSkipping line 783489: expected 13 fields, saw 14\\nSkipping line 783490: expected 13 fields, saw 14\\nSkipping line 783496: expected 13 fields, saw 14\\nSkipping line 783499: expected 13 fields, saw 14\\nSkipping line 783504: expected 13 fields, saw 14\\nSkipping line 783518: expected 13 fields, saw 14\\nSkipping line 783519: expected 13 fields, saw 14\\nSkipping line 783520: expected 13 fields, saw 14\\nSkipping line 783521: expected 13 fields, saw 14\\nSkipping line 783522: expected 13 fields, saw 14\\nSkipping line 783524: expected 13 fields, saw 14\\nSkipping line 783526: expected 13 fields, saw 14\\nSkipping line 783527: expected 13 fields, saw 14\\nSkipping line 783528: expected 13 fields, saw 14\\nSkipping line 783529: expected 13 fields, saw 14\\nSkipping line 783530: expected 13 fields, saw 14\\nSkipping line 783531: expected 13 fields, saw 14\\nSkipping line 783532: expected 13 fields, saw 14\\nSkipping line 783533: expected 13 fields, saw 14\\nSkipping line 783535: expected 13 fields, saw 14\\nSkipping line 783536: expected 13 fields, saw 14\\nSkipping line 783537: expected 13 fields, saw 14\\nSkipping line 783538: expected 13 fields, saw 14\\nSkipping line 783539: expected 13 fields, saw 14\\nSkipping line 783540: expected 13 fields, saw 14\\nSkipping line 783541: expected 13 fields, saw 14\\nSkipping line 783542: expected 13 fields, saw 14\\nSkipping line 783543: expected 13 fields, saw 14\\nSkipping line 783544: expected 13 fields, saw 14\\nSkipping line 783545: expected 13 fields, saw 14\\nSkipping line 783546: expected 13 fields, saw 14\\nSkipping line 783547: expected 13 fields, saw 14\\nSkipping line 783548: expected 13 fields, saw 14\\nSkipping line 783549: expected 13 fields, saw 14\\nSkipping line 783550: expected 13 fields, saw 14\\nSkipping line 783551: expected 13 fields, saw 14\\nSkipping line 783552: expected 13 fields, saw 14\\nSkipping line 783553: expected 13 fields, saw 14\\nSkipping line 783554: expected 13 fields, saw 14\\nSkipping line 783555: expected 13 fields, saw 14\\nSkipping line 783556: expected 13 fields, saw 14\\nSkipping line 783557: expected 13 fields, saw 14\\nSkipping line 783558: expected 13 fields, saw 14\\nSkipping line 783559: expected 13 fields, saw 14\\nSkipping line 783560: expected 13 fields, saw 14\\n'\n",
      "b'Skipping line 791715: expected 13 fields, saw 14\\nSkipping line 791716: expected 13 fields, saw 14\\nSkipping line 791946: expected 13 fields, saw 14\\nSkipping line 802071: expected 13 fields, saw 36\\nSkipping line 803524: expected 13 fields, saw 14\\nSkipping line 803526: expected 13 fields, saw 16\\nSkipping line 803532: expected 13 fields, saw 14\\nSkipping line 805310: expected 13 fields, saw 14\\nSkipping line 807766: expected 13 fields, saw 16\\nSkipping line 807886: expected 13 fields, saw 14\\nSkipping line 807912: expected 13 fields, saw 14\\nSkipping line 807915: expected 13 fields, saw 16\\nSkipping line 809885: expected 13 fields, saw 16\\nSkipping line 810653: expected 13 fields, saw 15\\nSkipping line 819442: expected 13 fields, saw 14\\nSkipping line 820633: expected 13 fields, saw 15\\nSkipping line 821828: expected 13 fields, saw 17\\nSkipping line 821846: expected 13 fields, saw 24\\nSkipping line 821852: expected 13 fields, saw 20\\nSkipping line 821853: expected 13 fields, saw 20\\nSkipping line 821903: expected 13 fields, saw 15\\nSkipping line 826931: expected 13 fields, saw 14\\nSkipping line 827363: expected 13 fields, saw 14\\nSkipping line 828374: expected 13 fields, saw 16\\nSkipping line 829430: expected 13 fields, saw 14\\nSkipping line 829458: expected 13 fields, saw 14\\nSkipping line 830297: expected 13 fields, saw 16\\nSkipping line 830298: expected 13 fields, saw 14\\nSkipping line 831650: expected 13 fields, saw 14\\nSkipping line 831651: expected 13 fields, saw 23\\nSkipping line 831654: expected 13 fields, saw 14\\nSkipping line 831687: expected 13 fields, saw 23\\nSkipping line 831719: expected 13 fields, saw 44\\nSkipping line 831855: expected 13 fields, saw 21\\nSkipping line 831858: expected 13 fields, saw 16\\nSkipping line 831863: expected 13 fields, saw 16\\nSkipping line 831956: expected 13 fields, saw 24\\nSkipping line 832157: expected 13 fields, saw 23\\nSkipping line 833679: expected 13 fields, saw 53\\nSkipping line 834622: expected 13 fields, saw 20\\nSkipping line 834626: expected 13 fields, saw 48\\nSkipping line 834633: expected 13 fields, saw 37\\nSkipping line 834938: expected 13 fields, saw 64\\nSkipping line 834944: expected 13 fields, saw 47\\nSkipping line 834948: expected 13 fields, saw 42\\nSkipping line 838891: expected 13 fields, saw 20\\nSkipping line 839145: expected 13 fields, saw 40\\nSkipping line 839702: expected 13 fields, saw 42\\nSkipping line 839715: expected 13 fields, saw 44\\nSkipping line 845166: expected 13 fields, saw 14\\nSkipping line 845220: expected 13 fields, saw 14\\nSkipping line 845839: expected 13 fields, saw 14\\nSkipping line 845841: expected 13 fields, saw 14\\nSkipping line 845907: expected 13 fields, saw 29\\nSkipping line 845987: expected 13 fields, saw 28\\nSkipping line 846188: expected 13 fields, saw 16\\nSkipping line 848920: expected 13 fields, saw 58\\nSkipping line 848921: expected 13 fields, saw 16\\nSkipping line 848956: expected 13 fields, saw 15\\nSkipping line 848971: expected 13 fields, saw 14\\nSkipping line 849553: expected 13 fields, saw 42\\n'\n",
      "b'Skipping line 880303: expected 13 fields, saw 14\\nSkipping line 881516: expected 13 fields, saw 48\\nSkipping line 882716: expected 13 fields, saw 50\\nSkipping line 882767: expected 13 fields, saw 36\\nSkipping line 882990: expected 13 fields, saw 16\\nSkipping line 883001: expected 13 fields, saw 15\\nSkipping line 892369: expected 13 fields, saw 18\\nSkipping line 893317: expected 13 fields, saw 14\\nSkipping line 893318: expected 13 fields, saw 14\\nSkipping line 893319: expected 13 fields, saw 14\\nSkipping line 893320: expected 13 fields, saw 14\\nSkipping line 893321: expected 13 fields, saw 14\\nSkipping line 893322: expected 13 fields, saw 14\\nSkipping line 893326: expected 13 fields, saw 15\\nSkipping line 893327: expected 13 fields, saw 16\\nSkipping line 893328: expected 13 fields, saw 16\\nSkipping line 893329: expected 13 fields, saw 16\\nSkipping line 893330: expected 13 fields, saw 16\\nSkipping line 893331: expected 13 fields, saw 16\\nSkipping line 893332: expected 13 fields, saw 16\\nSkipping line 893333: expected 13 fields, saw 15\\nSkipping line 893334: expected 13 fields, saw 15\\nSkipping line 894803: expected 13 fields, saw 14\\nSkipping line 894804: expected 13 fields, saw 14\\nSkipping line 894848: expected 13 fields, saw 15\\nSkipping line 899454: expected 13 fields, saw 14\\nSkipping line 899455: expected 13 fields, saw 14\\nSkipping line 899456: expected 13 fields, saw 14\\nSkipping line 899457: expected 13 fields, saw 14\\nSkipping line 899458: expected 13 fields, saw 14\\nSkipping line 899459: expected 13 fields, saw 14\\nSkipping line 899460: expected 13 fields, saw 16\\nSkipping line 899461: expected 13 fields, saw 15\\nSkipping line 899465: expected 13 fields, saw 14\\nSkipping line 899466: expected 13 fields, saw 14\\nSkipping line 899467: expected 13 fields, saw 16\\nSkipping line 899468: expected 13 fields, saw 16\\nSkipping line 899469: expected 13 fields, saw 16\\nSkipping line 899470: expected 13 fields, saw 16\\nSkipping line 899471: expected 13 fields, saw 16\\nSkipping line 899944: expected 13 fields, saw 14\\nSkipping line 906428: expected 13 fields, saw 14\\nSkipping line 906484: expected 13 fields, saw 18\\nSkipping line 914298: expected 13 fields, saw 14\\nSkipping line 914299: expected 13 fields, saw 14\\nSkipping line 915356: expected 13 fields, saw 15\\nSkipping line 915357: expected 13 fields, saw 16\\nSkipping line 915358: expected 13 fields, saw 15\\nSkipping line 915359: expected 13 fields, saw 15\\n'\n"
     ]
    },
    {
     "name": "stderr",
     "output_type": "stream",
     "text": [
      "b'Skipping line 919450: expected 14 fields, saw 16\\nSkipping line 919451: expected 14 fields, saw 16\\nSkipping line 919453: expected 14 fields, saw 15\\nSkipping line 919454: expected 14 fields, saw 15\\nSkipping line 919459: expected 14 fields, saw 16\\nSkipping line 919462: expected 14 fields, saw 16\\nSkipping line 919599: expected 14 fields, saw 16\\nSkipping line 919601: expected 14 fields, saw 16\\nSkipping line 936638: expected 14 fields, saw 16\\nSkipping line 941490: expected 14 fields, saw 15\\nSkipping line 941493: expected 14 fields, saw 15\\nSkipping line 941494: expected 14 fields, saw 15\\nSkipping line 941495: expected 14 fields, saw 16\\nSkipping line 941496: expected 14 fields, saw 16\\nSkipping line 941497: expected 14 fields, saw 16\\nSkipping line 941499: expected 14 fields, saw 16\\nSkipping line 941500: expected 14 fields, saw 16\\nSkipping line 941501: expected 14 fields, saw 15\\nSkipping line 941502: expected 14 fields, saw 16\\nSkipping line 941509: expected 14 fields, saw 15\\nSkipping line 943185: expected 14 fields, saw 16\\nSkipping line 978848: expected 14 fields, saw 15\\nSkipping line 978850: expected 14 fields, saw 16\\nSkipping line 978852: expected 14 fields, saw 16\\nSkipping line 978854: expected 14 fields, saw 16\\nSkipping line 978855: expected 14 fields, saw 16\\nSkipping line 978856: expected 14 fields, saw 16\\n'\n",
      "b'Skipping line 1004138: expected 14 fields, saw 29\\nSkipping line 1029695: expected 14 fields, saw 60\\n'\n",
      "b'Skipping line 1138943: expected 14 fields, saw 16\\nSkipping line 1142943: expected 14 fields, saw 15\\nSkipping line 1143154: expected 14 fields, saw 16\\n'\n",
      "b'Skipping line 1213554: expected 14 fields, saw 15\\nSkipping line 1213556: expected 14 fields, saw 16\\nSkipping line 1213558: expected 14 fields, saw 16\\nSkipping line 1213560: expected 14 fields, saw 16\\nSkipping line 1213561: expected 14 fields, saw 15\\nSkipping line 1213566: expected 14 fields, saw 16\\nSkipping line 1213568: expected 14 fields, saw 15\\nSkipping line 1213570: expected 14 fields, saw 16\\nSkipping line 1213573: expected 14 fields, saw 16\\nSkipping line 1213574: expected 14 fields, saw 15\\nSkipping line 1213575: expected 14 fields, saw 15\\n'\n",
      "b'Skipping line 1275895: expected 14 fields, saw 15\\nSkipping line 1275898: expected 14 fields, saw 16\\nSkipping line 1275899: expected 14 fields, saw 16\\nSkipping line 1307198: expected 14 fields, saw 15\\n'\n",
      "b'Skipping line 1367801: expected 14 fields, saw 33\\nSkipping line 1367807: expected 14 fields, saw 25\\nSkipping line 1367924: expected 14 fields, saw 33\\nSkipping line 1367928: expected 14 fields, saw 31\\nSkipping line 1376619: expected 14 fields, saw 33\\nSkipping line 1376691: expected 14 fields, saw 31\\nSkipping line 1377149: expected 14 fields, saw 23\\nSkipping line 1377341: expected 14 fields, saw 20\\nSkipping line 1377361: expected 14 fields, saw 19\\nSkipping line 1377626: expected 14 fields, saw 39\\n'\n",
      "b'Skipping line 1386352: expected 14 fields, saw 31\\nSkipping line 1410576: expected 14 fields, saw 20\\nSkipping line 1410942: expected 14 fields, saw 19\\nSkipping line 1419277: expected 14 fields, saw 18\\nSkipping line 1421945: expected 14 fields, saw 16\\nSkipping line 1422429: expected 14 fields, saw 16\\nSkipping line 1422430: expected 14 fields, saw 16\\nSkipping line 1422431: expected 14 fields, saw 16\\nSkipping line 1422432: expected 14 fields, saw 16\\nSkipping line 1422433: expected 14 fields, saw 15\\nSkipping line 1422434: expected 14 fields, saw 15\\nSkipping line 1422435: expected 14 fields, saw 15\\nSkipping line 1422436: expected 14 fields, saw 15\\nSkipping line 1422437: expected 14 fields, saw 16\\nSkipping line 1422439: expected 14 fields, saw 15\\nSkipping line 1422542: expected 14 fields, saw 16\\nSkipping line 1425142: expected 14 fields, saw 31\\nSkipping line 1425366: expected 14 fields, saw 34\\nSkipping line 1425553: expected 14 fields, saw 29\\nSkipping line 1426269: expected 14 fields, saw 27\\nSkipping line 1426303: expected 14 fields, saw 25\\n'\n",
      "b'Skipping line 1449387: expected 14 fields, saw 15\\nSkipping line 1449388: expected 14 fields, saw 16\\nSkipping line 1458168: expected 14 fields, saw 15\\nSkipping line 1458169: expected 14 fields, saw 16\\nSkipping line 1464655: expected 14 fields, saw 23\\nSkipping line 1465097: expected 14 fields, saw 16\\nSkipping line 1465103: expected 14 fields, saw 16\\nSkipping line 1465152: expected 14 fields, saw 19\\nSkipping line 1465153: expected 14 fields, saw 20\\nSkipping line 1465182: expected 14 fields, saw 15\\nSkipping line 1465320: expected 14 fields, saw 16\\nSkipping line 1465321: expected 14 fields, saw 16\\nSkipping line 1465447: expected 14 fields, saw 21\\nSkipping line 1465449: expected 14 fields, saw 15\\nSkipping line 1465455: expected 14 fields, saw 16\\nSkipping line 1465456: expected 14 fields, saw 15\\nSkipping line 1465457: expected 14 fields, saw 17\\nSkipping line 1465503: expected 14 fields, saw 25\\nSkipping line 1465509: expected 14 fields, saw 21\\nSkipping line 1467257: expected 14 fields, saw 15\\nSkipping line 1467258: expected 14 fields, saw 16\\nSkipping line 1467259: expected 14 fields, saw 17\\nSkipping line 1467265: expected 14 fields, saw 15\\nSkipping line 1467266: expected 14 fields, saw 18\\nSkipping line 1499561: expected 14 fields, saw 20\\nSkipping line 1499708: expected 14 fields, saw 21\\nSkipping line 1502371: expected 14 fields, saw 21\\nSkipping line 1502385: expected 14 fields, saw 16\\nSkipping line 1502386: expected 14 fields, saw 15\\nSkipping line 1502387: expected 14 fields, saw 16\\nSkipping line 1502388: expected 14 fields, saw 24\\nSkipping line 1502391: expected 14 fields, saw 16\\nSkipping line 1507961: expected 14 fields, saw 15\\n'\n",
      "b'Skipping line 1509495: expected 14 fields, saw 16\\n'\n",
      "b'Skipping line 1647789: expected 14 fields, saw 19\\nSkipping line 1702797: expected 14 fields, saw 15\\n'\n",
      "b'Skipping line 1725242: expected 14 fields, saw 21\\nSkipping line 1725245: expected 14 fields, saw 17\\nSkipping line 1739660: expected 14 fields, saw 16\\nSkipping line 1739661: expected 14 fields, saw 16\\nSkipping line 1739663: expected 14 fields, saw 15\\nSkipping line 1761887: expected 14 fields, saw 16\\nSkipping line 1761892: expected 14 fields, saw 16\\nSkipping line 1761893: expected 14 fields, saw 16\\nSkipping line 1761894: expected 14 fields, saw 16\\nSkipping line 1761895: expected 14 fields, saw 16\\n'\n",
      "b'Skipping line 1779978: expected 14 fields, saw 18\\nSkipping line 1779988: expected 14 fields, saw 19\\nSkipping line 1780269: expected 14 fields, saw 16\\nSkipping line 1780915: expected 14 fields, saw 17\\nSkipping line 1785020: expected 14 fields, saw 19\\nSkipping line 1794901: expected 14 fields, saw 62\\n'\n",
      "b'Skipping line 1849156: expected 14 fields, saw 87\\nSkipping line 1868003: expected 14 fields, saw 16\\nSkipping line 1877429: expected 14 fields, saw 16\\nSkipping line 1877430: expected 14 fields, saw 17\\nSkipping line 1877431: expected 14 fields, saw 19\\nSkipping line 1877432: expected 14 fields, saw 16\\nSkipping line 1877433: expected 14 fields, saw 16\\nSkipping line 1877434: expected 14 fields, saw 15\\nSkipping line 1877435: expected 14 fields, saw 18\\nSkipping line 1877436: expected 14 fields, saw 15\\nSkipping line 1877437: expected 14 fields, saw 18\\nSkipping line 1877438: expected 14 fields, saw 22\\nSkipping line 1877439: expected 14 fields, saw 18\\nSkipping line 1877440: expected 14 fields, saw 18\\nSkipping line 1877441: expected 14 fields, saw 21\\nSkipping line 1877442: expected 14 fields, saw 15\\nSkipping line 1877443: expected 14 fields, saw 21\\nSkipping line 1877444: expected 14 fields, saw 21\\nSkipping line 1877445: expected 14 fields, saw 18\\nSkipping line 1877446: expected 14 fields, saw 15\\nSkipping line 1877447: expected 14 fields, saw 20\\nSkipping line 1877448: expected 14 fields, saw 21\\nSkipping line 1877449: expected 14 fields, saw 21\\nSkipping line 1877450: expected 14 fields, saw 17\\nSkipping line 1877451: expected 14 fields, saw 20\\nSkipping line 1877452: expected 14 fields, saw 21\\nSkipping line 1877453: expected 14 fields, saw 22\\nSkipping line 1877454: expected 14 fields, saw 19\\nSkipping line 1877455: expected 14 fields, saw 21\\nSkipping line 1877456: expected 14 fields, saw 20\\nSkipping line 1877457: expected 14 fields, saw 18\\nSkipping line 1878289: expected 14 fields, saw 21\\nSkipping line 1878295: expected 14 fields, saw 18\\n'\n",
      "b'Skipping line 1921657: expected 14 fields, saw 17\\nSkipping line 1922299: expected 14 fields, saw 19\\nSkipping line 1922540: expected 14 fields, saw 22\\nSkipping line 1922541: expected 14 fields, saw 15\\nSkipping line 1922730: expected 14 fields, saw 22\\nSkipping line 1922750: expected 14 fields, saw 21\\nSkipping line 1922839: expected 14 fields, saw 20\\nSkipping line 1922840: expected 14 fields, saw 21\\nSkipping line 1922871: expected 14 fields, saw 19\\nSkipping line 1938820: expected 14 fields, saw 21\\nSkipping line 1938863: expected 14 fields, saw 21\\nSkipping line 1938884: expected 14 fields, saw 20\\nSkipping line 1939058: expected 14 fields, saw 20\\nSkipping line 1939242: expected 14 fields, saw 38\\nSkipping line 1949018: expected 14 fields, saw 22\\nSkipping line 1949087: expected 14 fields, saw 24\\n'\n"
     ]
    },
    {
     "name": "stderr",
     "output_type": "stream",
     "text": [
      "b'Skipping line 1973533: expected 14 fields, saw 15\\nSkipping line 1978566: expected 14 fields, saw 17\\nSkipping line 1979172: expected 14 fields, saw 16\\nSkipping line 1980867: expected 14 fields, saw 17\\nSkipping line 1981386: expected 14 fields, saw 17\\nSkipping line 2003420: expected 14 fields, saw 17\\nSkipping line 2010202: expected 14 fields, saw 22\\nSkipping line 2010243: expected 14 fields, saw 22\\nSkipping line 2011558: expected 14 fields, saw 15\\nSkipping line 2014824: expected 14 fields, saw 44\\nSkipping line 2015216: expected 14 fields, saw 48\\nSkipping line 2015303: expected 14 fields, saw 36\\nSkipping line 2016044: expected 14 fields, saw 41\\nSkipping line 2016097: expected 14 fields, saw 32\\nSkipping line 2016852: expected 14 fields, saw 48\\nSkipping line 2019008: expected 14 fields, saw 19\\nSkipping line 2024940: expected 14 fields, saw 15\\nSkipping line 2024947: expected 14 fields, saw 15\\nSkipping line 2024955: expected 14 fields, saw 15\\n'\n",
      "b'Skipping line 2081253: expected 14 fields, saw 15\\nSkipping line 2083750: expected 14 fields, saw 16\\nSkipping line 2095351: expected 14 fields, saw 16\\nSkipping line 2095354: expected 14 fields, saw 16\\nSkipping line 2095356: expected 14 fields, saw 16\\nSkipping line 2095401: expected 14 fields, saw 16\\nSkipping line 2095403: expected 14 fields, saw 16\\nSkipping line 2095404: expected 14 fields, saw 16\\nSkipping line 2095406: expected 14 fields, saw 16\\nSkipping line 2095416: expected 14 fields, saw 16\\nSkipping line 2097562: expected 14 fields, saw 15\\nSkipping line 2097577: expected 14 fields, saw 15\\nSkipping line 2097591: expected 14 fields, saw 15\\nSkipping line 2097607: expected 14 fields, saw 15\\nSkipping line 2097823: expected 14 fields, saw 16\\nSkipping line 2098977: expected 14 fields, saw 16\\nSkipping line 2098985: expected 14 fields, saw 16\\n'\n",
      "b'Skipping line 2102014: expected 14 fields, saw 16\\nSkipping line 2111069: expected 14 fields, saw 16\\nSkipping line 2111070: expected 14 fields, saw 16\\nSkipping line 2118197: expected 14 fields, saw 16\\nSkipping line 2118198: expected 14 fields, saw 16\\nSkipping line 2118215: expected 14 fields, saw 15\\nSkipping line 2123482: expected 14 fields, saw 17\\nSkipping line 2123529: expected 14 fields, saw 16\\nSkipping line 2123530: expected 14 fields, saw 15\\nSkipping line 2127090: expected 14 fields, saw 15\\nSkipping line 2127764: expected 14 fields, saw 16\\nSkipping line 2127765: expected 14 fields, saw 17\\nSkipping line 2127768: expected 14 fields, saw 16\\nSkipping line 2127770: expected 14 fields, saw 17\\nSkipping line 2127771: expected 14 fields, saw 16\\nSkipping line 2127773: expected 14 fields, saw 15\\nSkipping line 2127774: expected 14 fields, saw 17\\nSkipping line 2127775: expected 14 fields, saw 16\\nSkipping line 2127777: expected 14 fields, saw 15\\nSkipping line 2127778: expected 14 fields, saw 16\\nSkipping line 2127779: expected 14 fields, saw 16\\nSkipping line 2127784: expected 14 fields, saw 15\\nSkipping line 2127786: expected 14 fields, saw 15\\nSkipping line 2127788: expected 14 fields, saw 15\\nSkipping line 2129246: expected 14 fields, saw 17\\nSkipping line 2129249: expected 14 fields, saw 16\\nSkipping line 2129250: expected 14 fields, saw 17\\nSkipping line 2129252: expected 14 fields, saw 17\\nSkipping line 2129253: expected 14 fields, saw 17\\nSkipping line 2129255: expected 14 fields, saw 15\\nSkipping line 2129256: expected 14 fields, saw 16\\nSkipping line 2129257: expected 14 fields, saw 17\\nSkipping line 2129259: expected 14 fields, saw 15\\nSkipping line 2129260: expected 14 fields, saw 16\\nSkipping line 2129261: expected 14 fields, saw 17\\nSkipping line 2129263: expected 14 fields, saw 15\\nSkipping line 2129265: expected 14 fields, saw 16\\nSkipping line 2129266: expected 14 fields, saw 17\\nSkipping line 2129267: expected 14 fields, saw 15\\nSkipping line 2129268: expected 14 fields, saw 17\\nSkipping line 2129269: expected 14 fields, saw 15\\nSkipping line 2129271: expected 14 fields, saw 17\\nSkipping line 2129272: expected 14 fields, saw 15\\nSkipping line 2129273: expected 14 fields, saw 15\\nSkipping line 2129274: expected 14 fields, saw 16\\nSkipping line 2129275: expected 14 fields, saw 17\\nSkipping line 2129277: expected 14 fields, saw 15\\nSkipping line 2129279: expected 14 fields, saw 15\\nSkipping line 2129280: expected 14 fields, saw 17\\nSkipping line 2129282: expected 14 fields, saw 15\\nSkipping line 2129287: expected 14 fields, saw 16\\nSkipping line 2129291: expected 14 fields, saw 17\\nSkipping line 2129293: expected 14 fields, saw 16\\nSkipping line 2129308: expected 14 fields, saw 17\\n'\n",
      "b'Skipping line 2205329: expected 14 fields, saw 15\\nSkipping line 2205360: expected 14 fields, saw 18\\nSkipping line 2205364: expected 14 fields, saw 16\\nSkipping line 2205371: expected 14 fields, saw 15\\nSkipping line 2205376: expected 14 fields, saw 16\\nSkipping line 2205381: expected 14 fields, saw 15\\nSkipping line 2205410: expected 14 fields, saw 15\\nSkipping line 2205411: expected 14 fields, saw 17\\nSkipping line 2205415: expected 14 fields, saw 17\\nSkipping line 2205418: expected 14 fields, saw 17\\nSkipping line 2205422: expected 14 fields, saw 17\\nSkipping line 2205430: expected 14 fields, saw 16\\nSkipping line 2205432: expected 14 fields, saw 17\\nSkipping line 2205435: expected 14 fields, saw 16\\nSkipping line 2205436: expected 14 fields, saw 19\\nSkipping line 2205438: expected 14 fields, saw 17\\nSkipping line 2205440: expected 14 fields, saw 17\\nSkipping line 2205444: expected 14 fields, saw 19\\nSkipping line 2205445: expected 14 fields, saw 16\\nSkipping line 2205446: expected 14 fields, saw 18\\nSkipping line 2205454: expected 14 fields, saw 18\\nSkipping line 2205455: expected 14 fields, saw 15\\nSkipping line 2205457: expected 14 fields, saw 15\\nSkipping line 2205458: expected 14 fields, saw 19\\nSkipping line 2205461: expected 14 fields, saw 15\\nSkipping line 2205464: expected 14 fields, saw 20\\nSkipping line 2205466: expected 14 fields, saw 16\\nSkipping line 2205467: expected 14 fields, saw 20\\nSkipping line 2205474: expected 14 fields, saw 15\\nSkipping line 2205475: expected 14 fields, saw 17\\nSkipping line 2205478: expected 14 fields, saw 16\\nSkipping line 2205479: expected 14 fields, saw 15\\nSkipping line 2205480: expected 14 fields, saw 19\\nSkipping line 2205482: expected 14 fields, saw 15\\nSkipping line 2205483: expected 14 fields, saw 17\\nSkipping line 2205484: expected 14 fields, saw 16\\nSkipping line 2205485: expected 14 fields, saw 17\\nSkipping line 2205486: expected 14 fields, saw 16\\nSkipping line 2205487: expected 14 fields, saw 19\\nSkipping line 2205490: expected 14 fields, saw 15\\nSkipping line 2205494: expected 14 fields, saw 17\\nSkipping line 2205495: expected 14 fields, saw 19\\nSkipping line 2205501: expected 14 fields, saw 19\\nSkipping line 2205503: expected 14 fields, saw 15\\nSkipping line 2205504: expected 14 fields, saw 16\\nSkipping line 2205505: expected 14 fields, saw 17\\nSkipping line 2205506: expected 14 fields, saw 20\\nSkipping line 2205507: expected 14 fields, saw 18\\nSkipping line 2205510: expected 14 fields, saw 16\\nSkipping line 2205513: expected 14 fields, saw 16\\nSkipping line 2205515: expected 14 fields, saw 18\\nSkipping line 2205516: expected 14 fields, saw 17\\nSkipping line 2205518: expected 14 fields, saw 16\\nSkipping line 2205522: expected 14 fields, saw 19\\nSkipping line 2205525: expected 14 fields, saw 15\\nSkipping line 2205526: expected 14 fields, saw 16\\nSkipping line 2205531: expected 14 fields, saw 18\\nSkipping line 2205533: expected 14 fields, saw 16\\nSkipping line 2205534: expected 14 fields, saw 17\\nSkipping line 2205535: expected 14 fields, saw 17\\nSkipping line 2205536: expected 14 fields, saw 15\\nSkipping line 2205538: expected 14 fields, saw 15\\nSkipping line 2205540: expected 14 fields, saw 15\\nSkipping line 2205556: expected 14 fields, saw 15\\nSkipping line 2205564: expected 14 fields, saw 16\\nSkipping line 2205567: expected 14 fields, saw 18\\nSkipping line 2205572: expected 14 fields, saw 16\\nSkipping line 2205575: expected 14 fields, saw 18\\nSkipping line 2205583: expected 14 fields, saw 15\\nSkipping line 2205600: expected 14 fields, saw 15\\nSkipping line 2205607: expected 14 fields, saw 15\\nSkipping line 2205609: expected 14 fields, saw 15\\nSkipping line 2205610: expected 14 fields, saw 15\\nSkipping line 2205611: expected 14 fields, saw 15\\nSkipping line 2205612: expected 14 fields, saw 15\\nSkipping line 2205613: expected 14 fields, saw 15\\nSkipping line 2205614: expected 14 fields, saw 20\\nSkipping line 2205616: expected 14 fields, saw 15\\nSkipping line 2205622: expected 14 fields, saw 15\\nSkipping line 2205638: expected 14 fields, saw 15\\nSkipping line 2205640: expected 14 fields, saw 15\\nSkipping line 2205641: expected 14 fields, saw 19\\nSkipping line 2205642: expected 14 fields, saw 20\\nSkipping line 2205646: expected 14 fields, saw 16\\nSkipping line 2205647: expected 14 fields, saw 16\\nSkipping line 2205658: expected 14 fields, saw 16\\nSkipping line 2205661: expected 14 fields, saw 17\\nSkipping line 2205670: expected 14 fields, saw 16\\nSkipping line 2205676: expected 14 fields, saw 15\\nSkipping line 2205677: expected 14 fields, saw 17\\nSkipping line 2205684: expected 14 fields, saw 17\\nSkipping line 2205706: expected 14 fields, saw 18\\nSkipping line 2205707: expected 14 fields, saw 19\\nSkipping line 2205709: expected 14 fields, saw 15\\nSkipping line 2205711: expected 14 fields, saw 17\\n'\n",
      "b'Skipping line 2261236: expected 14 fields, saw 15\\nSkipping line 2261237: expected 14 fields, saw 15\\nSkipping line 2261238: expected 14 fields, saw 15\\nSkipping line 2261244: expected 14 fields, saw 15\\nSkipping line 2268336: expected 14 fields, saw 15\\nSkipping line 2277496: expected 14 fields, saw 15\\nSkipping line 2280917: expected 14 fields, saw 15\\nSkipping line 2281022: expected 14 fields, saw 16\\nSkipping line 2282606: expected 14 fields, saw 17\\nSkipping line 2288483: expected 14 fields, saw 16\\nSkipping line 2288537: expected 14 fields, saw 16\\nSkipping line 2290814: expected 14 fields, saw 16\\nSkipping line 2290957: expected 14 fields, saw 16\\nSkipping line 2290958: expected 14 fields, saw 17\\nSkipping line 2290959: expected 14 fields, saw 17\\nSkipping line 2290961: expected 14 fields, saw 15\\nSkipping line 2290962: expected 14 fields, saw 16\\nSkipping line 2290963: expected 14 fields, saw 17\\nSkipping line 2290966: expected 14 fields, saw 15\\nSkipping line 2291056: expected 14 fields, saw 16\\nSkipping line 2291057: expected 14 fields, saw 16\\nSkipping line 2291058: expected 14 fields, saw 16\\nSkipping line 2291059: expected 14 fields, saw 17\\nSkipping line 2291060: expected 14 fields, saw 16\\nSkipping line 2291061: expected 14 fields, saw 16\\nSkipping line 2291062: expected 14 fields, saw 17\\nSkipping line 2291063: expected 14 fields, saw 15\\nSkipping line 2291064: expected 14 fields, saw 15\\nSkipping line 2291065: expected 14 fields, saw 15\\nSkipping line 2291066: expected 14 fields, saw 15\\nSkipping line 2296074: expected 14 fields, saw 16\\nSkipping line 2296075: expected 14 fields, saw 17\\nSkipping line 2296076: expected 14 fields, saw 16\\nSkipping line 2296077: expected 14 fields, saw 17\\nSkipping line 2296078: expected 14 fields, saw 16\\nSkipping line 2296079: expected 14 fields, saw 15\\nSkipping line 2296080: expected 14 fields, saw 17\\nSkipping line 2296081: expected 14 fields, saw 17\\nSkipping line 2296082: expected 14 fields, saw 17\\nSkipping line 2296083: expected 14 fields, saw 17\\nSkipping line 2296084: expected 14 fields, saw 16\\nSkipping line 2296086: expected 14 fields, saw 16\\nSkipping line 2296087: expected 14 fields, saw 16\\nSkipping line 2296089: expected 14 fields, saw 16\\nSkipping line 2296090: expected 14 fields, saw 17\\nSkipping line 2296091: expected 14 fields, saw 17\\nSkipping line 2296093: expected 14 fields, saw 15\\nSkipping line 2296094: expected 14 fields, saw 15\\nSkipping line 2296095: expected 14 fields, saw 17\\nSkipping line 2296096: expected 14 fields, saw 17\\nSkipping line 2296097: expected 14 fields, saw 15\\nSkipping line 2296098: expected 14 fields, saw 17\\nSkipping line 2296099: expected 14 fields, saw 15\\nSkipping line 2296100: expected 14 fields, saw 17\\nSkipping line 2296101: expected 14 fields, saw 15\\nSkipping line 2296102: expected 14 fields, saw 17\\nSkipping line 2296103: expected 14 fields, saw 17\\nSkipping line 2296104: expected 14 fields, saw 15\\nSkipping line 2296105: expected 14 fields, saw 15\\nSkipping line 2296106: expected 14 fields, saw 17\\nSkipping line 2296107: expected 14 fields, saw 17\\nSkipping line 2296108: expected 14 fields, saw 16\\nSkipping line 2296109: expected 14 fields, saw 17\\nSkipping line 2296110: expected 14 fields, saw 15\\nSkipping line 2296111: expected 14 fields, saw 15\\nSkipping line 2296112: expected 14 fields, saw 17\\nSkipping line 2296113: expected 14 fields, saw 15\\nSkipping line 2296114: expected 14 fields, saw 15\\nSkipping line 2296115: expected 14 fields, saw 17\\nSkipping line 2296116: expected 14 fields, saw 15\\nSkipping line 2296117: expected 14 fields, saw 16\\nSkipping line 2296118: expected 14 fields, saw 15\\nSkipping line 2296119: expected 14 fields, saw 17\\nSkipping line 2296120: expected 14 fields, saw 15\\nSkipping line 2296121: expected 14 fields, saw 17\\nSkipping line 2296122: expected 14 fields, saw 17\\nSkipping line 2296123: expected 14 fields, saw 17\\nSkipping line 2296124: expected 14 fields, saw 15\\nSkipping line 2296125: expected 14 fields, saw 17\\nSkipping line 2296126: expected 14 fields, saw 17\\nSkipping line 2296127: expected 14 fields, saw 17\\nSkipping line 2296128: expected 14 fields, saw 15\\nSkipping line 2296129: expected 14 fields, saw 16\\nSkipping line 2296130: expected 14 fields, saw 17\\nSkipping line 2296131: expected 14 fields, saw 17\\nSkipping line 2296132: expected 14 fields, saw 17\\nSkipping line 2296133: expected 14 fields, saw 17\\nSkipping line 2296134: expected 14 fields, saw 15\\nSkipping line 2296135: expected 14 fields, saw 16\\nSkipping line 2296136: expected 14 fields, saw 17\\nSkipping line 2296137: expected 14 fields, saw 17\\nSkipping line 2296138: expected 14 fields, saw 17\\nSkipping line 2296139: expected 14 fields, saw 16\\nSkipping line 2296140: expected 14 fields, saw 17\\nSkipping line 2296141: expected 14 fields, saw 17\\nSkipping line 2296142: expected 14 fields, saw 17\\nSkipping line 2296143: expected 14 fields, saw 15\\nSkipping line 2296144: expected 14 fields, saw 17\\nSkipping line 2296145: expected 14 fields, saw 17\\nSkipping line 2296146: expected 14 fields, saw 16\\nSkipping line 2296147: expected 14 fields, saw 17\\nSkipping line 2296148: expected 14 fields, saw 17\\nSkipping line 2296149: expected 14 fields, saw 17\\nSkipping line 2296150: expected 14 fields, saw 15\\nSkipping line 2296151: expected 14 fields, saw 17\\nSkipping line 2296152: expected 14 fields, saw 17\\nSkipping line 2296153: expected 14 fields, saw 15\\nSkipping line 2296154: expected 14 fields, saw 17\\n'\n"
     ]
    },
    {
     "name": "stderr",
     "output_type": "stream",
     "text": [
      "b'Skipping line 2315585: expected 14 fields, saw 15\\nSkipping line 2315586: expected 14 fields, saw 16\\nSkipping line 2315590: expected 14 fields, saw 15\\nSkipping line 2320415: expected 14 fields, saw 17\\nSkipping line 2320416: expected 14 fields, saw 16\\nSkipping line 2320417: expected 14 fields, saw 16\\nSkipping line 2320418: expected 14 fields, saw 17\\nSkipping line 2320419: expected 14 fields, saw 17\\nSkipping line 2320420: expected 14 fields, saw 16\\nSkipping line 2320421: expected 14 fields, saw 16\\nSkipping line 2320422: expected 14 fields, saw 16\\nSkipping line 2320423: expected 14 fields, saw 15\\nSkipping line 2320424: expected 14 fields, saw 17\\nSkipping line 2320425: expected 14 fields, saw 17\\nSkipping line 2320426: expected 14 fields, saw 15\\nSkipping line 2320427: expected 14 fields, saw 15\\nSkipping line 2320428: expected 14 fields, saw 17\\nSkipping line 2320429: expected 14 fields, saw 17\\nSkipping line 2320430: expected 14 fields, saw 17\\nSkipping line 2320431: expected 14 fields, saw 16\\nSkipping line 2320432: expected 14 fields, saw 15\\nSkipping line 2320433: expected 14 fields, saw 15\\nSkipping line 2320434: expected 14 fields, saw 17\\nSkipping line 2320435: expected 14 fields, saw 15\\nSkipping line 2320436: expected 14 fields, saw 16\\nSkipping line 2320437: expected 14 fields, saw 16\\nSkipping line 2320438: expected 14 fields, saw 17\\nSkipping line 2320439: expected 14 fields, saw 15\\nSkipping line 2320440: expected 14 fields, saw 16\\nSkipping line 2320441: expected 14 fields, saw 16\\nSkipping line 2320442: expected 14 fields, saw 16\\nSkipping line 2320443: expected 14 fields, saw 17\\nSkipping line 2320444: expected 14 fields, saw 17\\nSkipping line 2320446: expected 14 fields, saw 16\\nSkipping line 2320447: expected 14 fields, saw 17\\nSkipping line 2320449: expected 14 fields, saw 15\\nSkipping line 2320450: expected 14 fields, saw 17\\nSkipping line 2320453: expected 14 fields, saw 16\\nSkipping line 2320454: expected 14 fields, saw 17\\nSkipping line 2320456: expected 14 fields, saw 16\\nSkipping line 2320457: expected 14 fields, saw 17\\nSkipping line 2320458: expected 14 fields, saw 15\\nSkipping line 2320460: expected 14 fields, saw 16\\nSkipping line 2320461: expected 14 fields, saw 16\\nSkipping line 2320462: expected 14 fields, saw 16\\nSkipping line 2320463: expected 14 fields, saw 17\\nSkipping line 2320465: expected 14 fields, saw 16\\nSkipping line 2320470: expected 14 fields, saw 15\\nSkipping line 2320471: expected 14 fields, saw 16\\nSkipping line 2320472: expected 14 fields, saw 17\\nSkipping line 2320473: expected 14 fields, saw 16\\nSkipping line 2320474: expected 14 fields, saw 15\\nSkipping line 2320475: expected 14 fields, saw 17\\nSkipping line 2320476: expected 14 fields, saw 16\\nSkipping line 2320477: expected 14 fields, saw 17\\nSkipping line 2320478: expected 14 fields, saw 17\\nSkipping line 2320480: expected 14 fields, saw 17\\nSkipping line 2320481: expected 14 fields, saw 17\\nSkipping line 2320483: expected 14 fields, saw 17\\nSkipping line 2320484: expected 14 fields, saw 17\\nSkipping line 2320485: expected 14 fields, saw 17\\nSkipping line 2320486: expected 14 fields, saw 15\\nSkipping line 2320487: expected 14 fields, saw 17\\nSkipping line 2320488: expected 14 fields, saw 17\\nSkipping line 2320489: expected 14 fields, saw 17\\nSkipping line 2320490: expected 14 fields, saw 17\\nSkipping line 2320491: expected 14 fields, saw 15\\nSkipping line 2320492: expected 14 fields, saw 17\\nSkipping line 2320493: expected 14 fields, saw 17\\nSkipping line 2320494: expected 14 fields, saw 17\\nSkipping line 2320495: expected 14 fields, saw 17\\nSkipping line 2320496: expected 14 fields, saw 17\\nSkipping line 2320497: expected 14 fields, saw 17\\nSkipping line 2320498: expected 14 fields, saw 15\\nSkipping line 2320499: expected 14 fields, saw 16\\nSkipping line 2320500: expected 14 fields, saw 16\\nSkipping line 2320502: expected 14 fields, saw 15\\nSkipping line 2320505: expected 14 fields, saw 15\\nSkipping line 2320506: expected 14 fields, saw 15\\nSkipping line 2320507: expected 14 fields, saw 17\\nSkipping line 2320508: expected 14 fields, saw 16\\nSkipping line 2320509: expected 14 fields, saw 17\\nSkipping line 2320510: expected 14 fields, saw 16\\nSkipping line 2320512: expected 14 fields, saw 17\\nSkipping line 2320513: expected 14 fields, saw 17\\nSkipping line 2320514: expected 14 fields, saw 17\\nSkipping line 2320515: expected 14 fields, saw 16\\nSkipping line 2320516: expected 14 fields, saw 15\\nSkipping line 2320517: expected 14 fields, saw 17\\nSkipping line 2320518: expected 14 fields, saw 17\\nSkipping line 2320519: expected 14 fields, saw 15\\nSkipping line 2320520: expected 14 fields, saw 17\\nSkipping line 2320521: expected 14 fields, saw 15\\nSkipping line 2320522: expected 14 fields, saw 17\\nSkipping line 2320523: expected 14 fields, saw 17\\nSkipping line 2320524: expected 14 fields, saw 15\\nSkipping line 2320525: expected 14 fields, saw 17\\nSkipping line 2320526: expected 14 fields, saw 15\\nSkipping line 2320527: expected 14 fields, saw 17\\nSkipping line 2320528: expected 14 fields, saw 15\\nSkipping line 2320529: expected 14 fields, saw 15\\nSkipping line 2320530: expected 14 fields, saw 17\\nSkipping line 2320531: expected 14 fields, saw 16\\nSkipping line 2320532: expected 14 fields, saw 15\\nSkipping line 2320533: expected 14 fields, saw 15\\nSkipping line 2320534: expected 14 fields, saw 15\\nSkipping line 2320536: expected 14 fields, saw 17\\nSkipping line 2320537: expected 14 fields, saw 17\\nSkipping line 2320538: expected 14 fields, saw 16\\nSkipping line 2320539: expected 14 fields, saw 17\\nSkipping line 2320540: expected 14 fields, saw 16\\nSkipping line 2320541: expected 14 fields, saw 17\\nSkipping line 2320542: expected 14 fields, saw 16\\nSkipping line 2320543: expected 14 fields, saw 17\\nSkipping line 2320544: expected 14 fields, saw 17\\nSkipping line 2322893: expected 14 fields, saw 17\\nSkipping line 2335327: expected 14 fields, saw 15\\nSkipping line 2335511: expected 14 fields, saw 15\\nSkipping line 2335879: expected 14 fields, saw 15\\nSkipping line 2340408: expected 14 fields, saw 15\\nSkipping line 2340573: expected 14 fields, saw 15\\nSkipping line 2341284: expected 14 fields, saw 15\\nSkipping line 2341320: expected 14 fields, saw 15\\nSkipping line 2341360: expected 14 fields, saw 15\\nSkipping line 2342341: expected 14 fields, saw 15\\nSkipping line 2343403: expected 14 fields, saw 15\\n'\n",
      "b'Skipping line 2393269: expected 14 fields, saw 45\\nSkipping line 2393665: expected 14 fields, saw 16\\nSkipping line 2393729: expected 14 fields, saw 16\\nSkipping line 2393731: expected 14 fields, saw 16\\nSkipping line 2393757: expected 14 fields, saw 16\\nSkipping line 2393946: expected 14 fields, saw 15\\nSkipping line 2403928: expected 14 fields, saw 15\\nSkipping line 2403958: expected 14 fields, saw 15\\nSkipping line 2409122: expected 14 fields, saw 77\\nSkipping line 2409596: expected 14 fields, saw 16\\nSkipping line 2420531: expected 14 fields, saw 41\\nSkipping line 2420538: expected 14 fields, saw 46\\nSkipping line 2420539: expected 14 fields, saw 70\\nSkipping line 2420653: expected 14 fields, saw 46\\nSkipping line 2420655: expected 14 fields, saw 67\\nSkipping line 2420657: expected 14 fields, saw 89\\n'\n",
      "b'Skipping line 2442910: expected 14 fields, saw 35\\nSkipping line 2442911: expected 14 fields, saw 41\\nSkipping line 2442917: expected 14 fields, saw 66\\nSkipping line 2448023: expected 14 fields, saw 16\\nSkipping line 2451107: expected 14 fields, saw 16\\n'\n",
      "b'Skipping line 2502554: expected 14 fields, saw 16\\nSkipping line 2534850: expected 14 fields, saw 70\\n'\n",
      "b'Skipping line 2562208: expected 14 fields, saw 53\\nSkipping line 2562316: expected 14 fields, saw 40\\nSkipping line 2572545: expected 14 fields, saw 70\\nSkipping line 2588986: expected 14 fields, saw 23\\nSkipping line 2593292: expected 14 fields, saw 53\\nSkipping line 2615271: expected 14 fields, saw 66\\n'\n",
      "b'Skipping line 2685754: expected 14 fields, saw 20\\n'\n",
      "b'Skipping line 2698454: expected 14 fields, saw 23\\nSkipping line 2732644: expected 14 fields, saw 39\\n'\n",
      "b'Skipping line 2757408: expected 14 fields, saw 15\\nSkipping line 2757409: expected 14 fields, saw 19\\nSkipping line 2757417: expected 14 fields, saw 26\\nSkipping line 2757419: expected 14 fields, saw 21\\nSkipping line 2757420: expected 14 fields, saw 17\\nSkipping line 2757423: expected 14 fields, saw 16\\nSkipping line 2757424: expected 14 fields, saw 20\\nSkipping line 2757425: expected 14 fields, saw 20\\nSkipping line 2757428: expected 14 fields, saw 19\\nSkipping line 2757429: expected 14 fields, saw 18\\nSkipping line 2768275: expected 14 fields, saw 15\\nSkipping line 2778028: expected 14 fields, saw 15\\nSkipping line 2778763: expected 14 fields, saw 16\\nSkipping line 2781196: expected 14 fields, saw 93\\nSkipping line 2781541: expected 14 fields, saw 90\\nSkipping line 2801366: expected 14 fields, saw 27\\nSkipping line 2820401: expected 14 fields, saw 48\\n'\n",
      "b'Skipping line 2847140: expected 14 fields, saw 15\\nSkipping line 2860040: expected 14 fields, saw 17\\nSkipping line 2860041: expected 14 fields, saw 17\\nSkipping line 2860042: expected 14 fields, saw 17\\nSkipping line 2860043: expected 14 fields, saw 15\\nSkipping line 2860502: expected 14 fields, saw 55\\nSkipping line 2861007: expected 14 fields, saw 17\\nSkipping line 2861008: expected 14 fields, saw 17\\nSkipping line 2861009: expected 14 fields, saw 17\\nSkipping line 2861010: expected 14 fields, saw 17\\nSkipping line 2861011: expected 14 fields, saw 17\\nSkipping line 2861012: expected 14 fields, saw 17\\nSkipping line 2861013: expected 14 fields, saw 17\\nSkipping line 2861014: expected 14 fields, saw 17\\nSkipping line 2861015: expected 14 fields, saw 17\\nSkipping line 2861016: expected 14 fields, saw 17\\nSkipping line 2863495: expected 14 fields, saw 25\\nSkipping line 2868077: expected 14 fields, saw 17\\nSkipping line 2868078: expected 14 fields, saw 17\\nSkipping line 2868079: expected 14 fields, saw 17\\nSkipping line 2868080: expected 14 fields, saw 17\\nSkipping line 2868081: expected 14 fields, saw 17\\nSkipping line 2868082: expected 14 fields, saw 17\\nSkipping line 2868083: expected 14 fields, saw 17\\nSkipping line 2868084: expected 14 fields, saw 17\\nSkipping line 2868085: expected 14 fields, saw 17\\nSkipping line 2868086: expected 14 fields, saw 17\\nSkipping line 2876709: expected 14 fields, saw 18\\n'\n",
      "b'Skipping line 2909383: expected 14 fields, saw 64\\nSkipping line 2928968: expected 14 fields, saw 48\\n'\n"
     ]
    },
    {
     "name": "stderr",
     "output_type": "stream",
     "text": [
      "b'Skipping line 2959883: expected 14 fields, saw 16\\nSkipping line 2959884: expected 14 fields, saw 16\\nSkipping line 2960561: expected 14 fields, saw 16\\nSkipping line 2969847: expected 14 fields, saw 15\\nSkipping line 2981820: expected 14 fields, saw 19\\nSkipping line 3005622: expected 14 fields, saw 16\\n'\n",
      "b'Skipping line 3019713: expected 14 fields, saw 16\\nSkipping line 3021043: expected 14 fields, saw 16\\nSkipping line 3021044: expected 14 fields, saw 16\\nSkipping line 3032685: expected 14 fields, saw 15\\nSkipping line 3032905: expected 14 fields, saw 15\\nSkipping line 3034752: expected 14 fields, saw 15\\nSkipping line 3046015: expected 14 fields, saw 26\\nSkipping line 3063701: expected 14 fields, saw 21\\nSkipping line 3064318: expected 14 fields, saw 15\\n'\n",
      "b'Skipping line 3085675: expected 14 fields, saw 16\\nSkipping line 3119735: expected 14 fields, saw 16\\nSkipping line 3119756: expected 14 fields, saw 16\\n'\n",
      "b'Skipping line 3227316: expected 14 fields, saw 15\\n'\n",
      "b'Skipping line 3291094: expected 14 fields, saw 15\\nSkipping line 3291098: expected 14 fields, saw 15\\nSkipping line 3291103: expected 14 fields, saw 15\\nSkipping line 3295125: expected 14 fields, saw 15\\nSkipping line 3295126: expected 14 fields, saw 15\\nSkipping line 3311029: expected 14 fields, saw 49\\nSkipping line 3329706: expected 14 fields, saw 37\\nSkipping line 3338986: expected 14 fields, saw 15\\nSkipping line 3338987: expected 14 fields, saw 15\\nSkipping line 3339035: expected 14 fields, saw 15\\nSkipping line 3343506: expected 14 fields, saw 59\\nSkipping line 3343508: expected 14 fields, saw 47\\n'\n",
      "b'Skipping line 3352566: expected 14 fields, saw 15\\nSkipping line 3352650: expected 14 fields, saw 15\\nSkipping line 3359519: expected 14 fields, saw 15\\nSkipping line 3363970: expected 14 fields, saw 16\\nSkipping line 3387999: expected 14 fields, saw 60\\n'\n",
      "b'Skipping line 3428114: expected 14 fields, saw 15\\nSkipping line 3456779: expected 14 fields, saw 16\\nSkipping line 3456780: expected 14 fields, saw 17\\nSkipping line 3456872: expected 14 fields, saw 16\\nSkipping line 3456873: expected 14 fields, saw 17\\nSkipping line 3461571: expected 14 fields, saw 16\\n'\n",
      "b'Skipping line 3492550: expected 14 fields, saw 15\\nSkipping line 3492551: expected 14 fields, saw 15\\nSkipping line 3492611: expected 14 fields, saw 15\\nSkipping line 3492612: expected 14 fields, saw 15\\nSkipping line 3522021: expected 14 fields, saw 15\\nSkipping line 3522042: expected 14 fields, saw 15\\nSkipping line 3522058: expected 14 fields, saw 15\\nSkipping line 3522076: expected 14 fields, saw 15\\n'\n",
      "b'Skipping line 3558684: expected 14 fields, saw 19\\nSkipping line 3568103: expected 14 fields, saw 18\\nSkipping line 3568344: expected 14 fields, saw 15\\nSkipping line 3568531: expected 14 fields, saw 17\\nSkipping line 3571911: expected 14 fields, saw 20\\nSkipping line 3584396: expected 14 fields, saw 15\\nSkipping line 3584399: expected 14 fields, saw 18\\nSkipping line 3584739: expected 14 fields, saw 40\\n'\n",
      "b'Skipping line 3617840: expected 14 fields, saw 52\\nSkipping line 3620566: expected 14 fields, saw 15\\nSkipping line 3620567: expected 14 fields, saw 19\\nSkipping line 3653906: expected 14 fields, saw 16\\nSkipping line 3658336: expected 14 fields, saw 19\\nSkipping line 3668126: expected 14 fields, saw 18\\n'\n",
      "b'Skipping line 3675371: expected 14 fields, saw 18\\nSkipping line 3675383: expected 14 fields, saw 22\\nSkipping line 3678401: expected 14 fields, saw 15\\nSkipping line 3682412: expected 14 fields, saw 16\\nSkipping line 3682888: expected 14 fields, saw 18\\nSkipping line 3690825: expected 14 fields, saw 21\\nSkipping line 3694734: expected 14 fields, saw 25\\nSkipping line 3696537: expected 14 fields, saw 29\\nSkipping line 3697040: expected 14 fields, saw 29\\nSkipping line 3705246: expected 14 fields, saw 29\\nSkipping line 3705256: expected 14 fields, saw 20\\nSkipping line 3706085: expected 14 fields, saw 21\\nSkipping line 3706136: expected 14 fields, saw 21\\nSkipping line 3707494: expected 14 fields, saw 24\\nSkipping line 3710136: expected 14 fields, saw 31\\nSkipping line 3713593: expected 14 fields, saw 25\\n'\n",
      "b'Skipping line 3753700: expected 14 fields, saw 25\\nSkipping line 3753704: expected 14 fields, saw 23\\nSkipping line 3753739: expected 14 fields, saw 26\\nSkipping line 3753740: expected 14 fields, saw 22\\nSkipping line 3755353: expected 14 fields, saw 23\\nSkipping line 3760016: expected 14 fields, saw 18\\n'\n"
     ]
    }
   ],
   "source": [
    "full_df = pd.read_csv('data/accre-jobs-2020.csv', error_bad_lines=False)"
   ]
  },
  {
   "cell_type": "code",
   "execution_count": 23,
   "metadata": {},
   "outputs": [
    {
     "name": "stdout",
     "output_type": "stream",
     "text": [
      "<class 'pandas.core.frame.DataFrame'>\n",
      "RangeIndex: 3813593 entries, 0 to 3813592\n",
      "Data columns (total 13 columns):\n",
      " #   Column     Dtype \n",
      "---  ------     ----- \n",
      " 0   JOBID      object\n",
      " 1   ACCOUNT    object\n",
      " 2   USER       object\n",
      " 3   REQMEM     object\n",
      " 4   USEDMEM    object\n",
      " 5   REQTIME    object\n",
      " 6   USEDTIME   object\n",
      " 7   NODES      int64 \n",
      " 8   CPUS       int64 \n",
      " 9   PARTITION  object\n",
      " 10  EXITCODE   object\n",
      " 11  STATE      object\n",
      " 12  NODELIST   object\n",
      "dtypes: int64(2), object(11)\n",
      "memory usage: 378.2+ MB\n"
     ]
    }
   ],
   "source": [
    "full_df.info()"
   ]
  },
  {
   "cell_type": "code",
   "execution_count": 24,
   "metadata": {},
   "outputs": [],
   "source": [
    "full_df = full_df[full_df['PARTITION']=='production']"
   ]
  },
  {
   "cell_type": "code",
   "execution_count": 25,
   "metadata": {},
   "outputs": [],
   "source": [
    "failed_jobs = full_df[full_df['EXITCODE']!='0:0']"
   ]
  },
  {
   "cell_type": "code",
   "execution_count": 26,
   "metadata": {},
   "outputs": [],
   "source": [
    "node_failure_counts = failed_jobs['NODELIST'].value_counts()"
   ]
  },
  {
   "cell_type": "code",
   "execution_count": 27,
   "metadata": {},
   "outputs": [],
   "source": [
    "node_failure_df = pd.DataFrame(node_failure_counts)"
   ]
  },
  {
   "cell_type": "code",
   "execution_count": 28,
   "metadata": {},
   "outputs": [],
   "source": [
    "node_failure_df = node_failure_df.reset_index()"
   ]
  },
  {
   "cell_type": "code",
   "execution_count": 31,
   "metadata": {},
   "outputs": [],
   "source": [
    "node_failure_df.columns = ['NODELIST','FAIL_COUNT']"
   ]
  },
  {
   "cell_type": "code",
   "execution_count": 46,
   "metadata": {},
   "outputs": [
    {
     "data": {
      "text/html": [
       "<div>\n",
       "<style scoped>\n",
       "    .dataframe tbody tr th:only-of-type {\n",
       "        vertical-align: middle;\n",
       "    }\n",
       "\n",
       "    .dataframe tbody tr th {\n",
       "        vertical-align: top;\n",
       "    }\n",
       "\n",
       "    .dataframe thead th {\n",
       "        text-align: right;\n",
       "    }\n",
       "</style>\n",
       "<table border=\"1\" class=\"dataframe\">\n",
       "  <thead>\n",
       "    <tr style=\"text-align: right;\">\n",
       "      <th></th>\n",
       "      <th>NODELIST</th>\n",
       "      <th>FAIL_COUNT</th>\n",
       "    </tr>\n",
       "  </thead>\n",
       "  <tbody>\n",
       "    <tr>\n",
       "      <th>0</th>\n",
       "      <td>cn1449</td>\n",
       "      <td>16</td>\n",
       "    </tr>\n",
       "    <tr>\n",
       "      <th>1</th>\n",
       "      <td>cn1347</td>\n",
       "      <td>15</td>\n",
       "    </tr>\n",
       "    <tr>\n",
       "      <th>2</th>\n",
       "      <td>cn416</td>\n",
       "      <td>15</td>\n",
       "    </tr>\n",
       "    <tr>\n",
       "      <th>3</th>\n",
       "      <td>cn304</td>\n",
       "      <td>14</td>\n",
       "    </tr>\n",
       "    <tr>\n",
       "      <th>4</th>\n",
       "      <td>cn1085</td>\n",
       "      <td>10</td>\n",
       "    </tr>\n",
       "    <tr>\n",
       "      <th>...</th>\n",
       "      <td>...</td>\n",
       "      <td>...</td>\n",
       "    </tr>\n",
       "    <tr>\n",
       "      <th>70</th>\n",
       "      <td>cn1288</td>\n",
       "      <td>4</td>\n",
       "    </tr>\n",
       "    <tr>\n",
       "      <th>71</th>\n",
       "      <td>cn1464</td>\n",
       "      <td>4</td>\n",
       "    </tr>\n",
       "    <tr>\n",
       "      <th>72</th>\n",
       "      <td>cn374</td>\n",
       "      <td>4</td>\n",
       "    </tr>\n",
       "    <tr>\n",
       "      <th>73</th>\n",
       "      <td>cn[1468-1469]</td>\n",
       "      <td>4</td>\n",
       "    </tr>\n",
       "    <tr>\n",
       "      <th>74</th>\n",
       "      <td>cn1271</td>\n",
       "      <td>4</td>\n",
       "    </tr>\n",
       "  </tbody>\n",
       "</table>\n",
       "<p>75 rows × 2 columns</p>\n",
       "</div>"
      ],
      "text/plain": [
       "         NODELIST  FAIL_COUNT\n",
       "0          cn1449          16\n",
       "1          cn1347          15\n",
       "2           cn416          15\n",
       "3           cn304          14\n",
       "4          cn1085          10\n",
       "..            ...         ...\n",
       "70         cn1288           4\n",
       "71         cn1464           4\n",
       "72          cn374           4\n",
       "73  cn[1468-1469]           4\n",
       "74         cn1271           4\n",
       "\n",
       "[75 rows x 2 columns]"
      ]
     },
     "execution_count": 46,
     "metadata": {},
     "output_type": "execute_result"
    }
   ],
   "source": [
    "problem_nodes = node_failure_df[node_failure_df['FAIL_COUNT']>3]\n",
    "problem_nodes"
   ]
  },
  {
   "cell_type": "code",
   "execution_count": 49,
   "metadata": {},
   "outputs": [
    {
     "data": {
      "image/png": "[encoded data removed]",
      "text/plain": [
       "<Figure size 432x288 with 1 Axes>"
      ]
     },
     "metadata": {
      "needs_background": "light"
     },
     "output_type": "display_data"
    }
   ],
   "source": [
    "problem_nodes.plot(kind='bar',x='NODELIST', y='FAIL_COUNT');"
   ]
  },
  {
   "cell_type": "code",
   "execution_count": null,
   "metadata": {},
   "outputs": [],
   "source": []
  }
 ],
 "metadata": {
  "kernelspec": {
   "display_name": "Python 3",
   "language": "python",
   "name": "python3"
  },
  "language_info": {
   "codemirror_mode": {
    "name": "ipython",
    "version": 3
   },
   "file_extension": ".py",
   "mimetype": "text/x-python",
   "name": "python",
   "nbconvert_exporter": "python",
   "pygments_lexer": "ipython3",
   "version": "3.8.3"
  }
 },
 "nbformat": 4,
 "nbformat_minor": 4
}
