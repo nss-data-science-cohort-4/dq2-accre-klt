{
 "cells": [
  {
   "cell_type": "code",
   "execution_count": 1,
   "metadata": {},
   "outputs": [],
   "source": [
    "import pandas as pd"
   ]
  },
  {
   "cell_type": "code",
   "execution_count": 10,
   "metadata": {},
   "outputs": [
    {
     "data": {
      "text/plain": [
       "(1000, 13)"
      ]
     },
     "execution_count": 10,
     "metadata": {},
     "output_type": "execute_result"
    }
   ],
   "source": [
    "base1000_df = pd.read_csv('data/accre-jobs-2020.csv', nrows=1000)\n",
    "base1000_df.shape"
   ]
  },
  {
   "cell_type": "code",
   "execution_count": 11,
   "metadata": {},
   "outputs": [
    {
     "name": "stdout",
     "output_type": "stream",
     "text": [
      "<class 'pandas.core.frame.DataFrame'>\n",
      "RangeIndex: 1000 entries, 0 to 999\n",
      "Data columns (total 13 columns):\n",
      " #   Column     Non-Null Count  Dtype \n",
      "---  ------     --------------  ----- \n",
      " 0   JOBID      1000 non-null   object\n",
      " 1   ACCOUNT    1000 non-null   object\n",
      " 2   USER       1000 non-null   object\n",
      " 3   REQMEM     1000 non-null   object\n",
      " 4   USEDMEM    1000 non-null   object\n",
      " 5   REQTIME    1000 non-null   object\n",
      " 6   USEDTIME   1000 non-null   object\n",
      " 7   NODES      1000 non-null   int64 \n",
      " 8   CPUS       1000 non-null   int64 \n",
      " 9   PARTITION  1000 non-null   object\n",
      " 10  EXITCODE   1000 non-null   object\n",
      " 11  STATE      1000 non-null   object\n",
      " 12  NODELIST   1000 non-null   object\n",
      "dtypes: int64(2), object(11)\n",
      "memory usage: 101.7+ KB\n"
     ]
    }
   ],
   "source": [
    "base1000_df.info()"
   ]
  },
  {
   "cell_type": "code",
   "execution_count": null,
   "metadata": {},
   "outputs": [],
   "source": []
  }
 ],
 "metadata": {
  "kernelspec": {
   "display_name": "Python 3",
   "language": "python",
   "name": "python3"
  },
  "language_info": {
   "codemirror_mode": {
    "name": "ipython",
    "version": 3
   },
   "file_extension": ".py",
   "mimetype": "text/x-python",
   "name": "python",
   "nbconvert_exporter": "python",
   "pygments_lexer": "ipython3",
   "version": "3.8.3"
  }
 },
 "nbformat": 4,
 "nbformat_minor": 4
}
