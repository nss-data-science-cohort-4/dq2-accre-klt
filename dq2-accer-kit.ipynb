{
 "cells": [
  {
   "cell_type": "code",
<<<<<<< HEAD
   "execution_count": 1,
   "metadata": {},
   "outputs": [],
   "source": [
    "import pandas as pd\n",
    "import re"
=======
   "execution_count": 8,
   "metadata": {},
   "outputs": [],
   "source": [
    "import pandas as pd"
>>>>>>> 2d50ec13f068352cc198c795352f4cad9e8f0f9f
   ]
  },
  {
   "cell_type": "code",
<<<<<<< HEAD
   "execution_count": 2,
   "metadata": {},
   "outputs": [],
   "source": [
    "#accer_df2000=pd.read_csv(\"data/accre-jobs-2020.csv\", nrows=2000 )\n",
    "accer_df= pd.read_csv('data/accre-jobs-2020.csv', error_bad_lines = False, warn_bad_lines = False)"
=======
   "execution_count": 16,
   "metadata": {},
   "outputs": [],
   "source": [
    "accer_df2000=pd.read_csv(\"data/accre-jobs-2020.csv\", nrows=2000 )"
>>>>>>> 2d50ec13f068352cc198c795352f4cad9e8f0f9f
   ]
  },
  {
   "cell_type": "code",
<<<<<<< HEAD
   "execution_count": 3,
=======
   "execution_count": 17,
>>>>>>> 2d50ec13f068352cc198c795352f4cad9e8f0f9f
   "metadata": {},
   "outputs": [
    {
     "data": {
      "text/html": [
       "<div>\n",
       "<style scoped>\n",
       "    .dataframe tbody tr th:only-of-type {\n",
       "        vertical-align: middle;\n",
       "    }\n",
       "\n",
       "    .dataframe tbody tr th {\n",
       "        vertical-align: top;\n",
       "    }\n",
       "\n",
       "    .dataframe thead th {\n",
       "        text-align: right;\n",
       "    }\n",
       "</style>\n",
       "<table border=\"1\" class=\"dataframe\">\n",
       "  <thead>\n",
       "    <tr style=\"text-align: right;\">\n",
       "      <th></th>\n",
       "      <th>JOBID</th>\n",
       "      <th>ACCOUNT</th>\n",
       "      <th>USER</th>\n",
       "      <th>REQMEM</th>\n",
       "      <th>USEDMEM</th>\n",
       "      <th>REQTIME</th>\n",
       "      <th>USEDTIME</th>\n",
       "      <th>NODES</th>\n",
       "      <th>CPUS</th>\n",
       "      <th>PARTITION</th>\n",
       "      <th>EXITCODE</th>\n",
       "      <th>STATE</th>\n",
       "      <th>NODELIST</th>\n",
       "    </tr>\n",
       "  </thead>\n",
       "  <tbody>\n",
       "    <tr>\n",
       "      <th>0</th>\n",
       "      <td>15925210</td>\n",
       "      <td>treviso</td>\n",
       "      <td>arabella</td>\n",
       "      <td>122880Mn</td>\n",
       "      <td>65973.49M</td>\n",
       "      <td>13-18:00:00</td>\n",
       "      <td>13-18:00:28</td>\n",
       "      <td>1</td>\n",
       "      <td>24</td>\n",
       "      <td>production</td>\n",
       "      <td>0:0</td>\n",
       "      <td>COMPLETED</td>\n",
       "      <td>cn1531</td>\n",
       "    </tr>\n",
       "    <tr>\n",
       "      <th>1</th>\n",
       "      <td>15861126</td>\n",
       "      <td>treviso</td>\n",
       "      <td>arabella</td>\n",
       "      <td>122880Mn</td>\n",
       "      <td>67181.12M</td>\n",
       "      <td>13-18:00:00</td>\n",
       "      <td>12-14:50:56</td>\n",
       "      <td>1</td>\n",
       "      <td>24</td>\n",
       "      <td>production</td>\n",
       "      <td>0:0</td>\n",
       "      <td>COMPLETED</td>\n",
       "      <td>cn1441</td>\n",
       "    </tr>\n",
       "    <tr>\n",
       "      <th>2</th>\n",
       "      <td>15861125</td>\n",
       "      <td>treviso</td>\n",
       "      <td>arabella</td>\n",
       "      <td>122880Mn</td>\n",
       "      <td>69111.86M</td>\n",
       "      <td>13-18:00:00</td>\n",
       "      <td>13-18:00:20</td>\n",
       "      <td>1</td>\n",
       "      <td>24</td>\n",
       "      <td>production</td>\n",
       "      <td>0:0</td>\n",
       "      <td>COMPLETED</td>\n",
       "      <td>cn1464</td>\n",
       "    </tr>\n",
       "    <tr>\n",
       "      <th>3</th>\n",
       "      <td>16251645</td>\n",
       "      <td>treviso</td>\n",
       "      <td>arabella</td>\n",
       "      <td>122880Mn</td>\n",
       "      <td>65317.33M</td>\n",
       "      <td>13-18:00:00</td>\n",
       "      <td>12-03:50:32</td>\n",
       "      <td>1</td>\n",
       "      <td>24</td>\n",
       "      <td>production</td>\n",
       "      <td>0:0</td>\n",
       "      <td>COMPLETED</td>\n",
       "      <td>cn1473</td>\n",
       "    </tr>\n",
       "    <tr>\n",
       "      <th>4</th>\n",
       "      <td>16251646</td>\n",
       "      <td>treviso</td>\n",
       "      <td>arabella</td>\n",
       "      <td>122880Mn</td>\n",
       "      <td>65876.11M</td>\n",
       "      <td>13-18:00:00</td>\n",
       "      <td>13-18:00:03</td>\n",
       "      <td>1</td>\n",
       "      <td>24</td>\n",
       "      <td>production</td>\n",
       "      <td>0:0</td>\n",
       "      <td>COMPLETED</td>\n",
       "      <td>cn1440</td>\n",
       "    </tr>\n",
       "  </tbody>\n",
       "</table>\n",
       "</div>"
      ],
      "text/plain": [
       "      JOBID  ACCOUNT      USER    REQMEM    USEDMEM      REQTIME     USEDTIME  \\\n",
       "0  15925210  treviso  arabella  122880Mn  65973.49M  13-18:00:00  13-18:00:28   \n",
       "1  15861126  treviso  arabella  122880Mn  67181.12M  13-18:00:00  12-14:50:56   \n",
       "2  15861125  treviso  arabella  122880Mn  69111.86M  13-18:00:00  13-18:00:20   \n",
       "3  16251645  treviso  arabella  122880Mn  65317.33M  13-18:00:00  12-03:50:32   \n",
       "4  16251646  treviso  arabella  122880Mn  65876.11M  13-18:00:00  13-18:00:03   \n",
       "\n",
       "   NODES  CPUS   PARTITION EXITCODE      STATE NODELIST  \n",
       "0      1    24  production      0:0  COMPLETED   cn1531  \n",
       "1      1    24  production      0:0  COMPLETED   cn1441  \n",
       "2      1    24  production      0:0  COMPLETED   cn1464  \n",
       "3      1    24  production      0:0  COMPLETED   cn1473  \n",
       "4      1    24  production      0:0  COMPLETED   cn1440  "
      ]
     },
<<<<<<< HEAD
     "execution_count": 3,
=======
     "execution_count": 17,
>>>>>>> 2d50ec13f068352cc198c795352f4cad9e8f0f9f
     "metadata": {},
     "output_type": "execute_result"
    }
   ],
   "source": [
<<<<<<< HEAD
    "accer_df.head()"
=======
    "accer_df2000.head()"
>>>>>>> 2d50ec13f068352cc198c795352f4cad9e8f0f9f
   ]
  },
  {
   "cell_type": "code",
<<<<<<< HEAD
   "execution_count": 4,
=======
   "execution_count": 18,
>>>>>>> 2d50ec13f068352cc198c795352f4cad9e8f0f9f
   "metadata": {},
   "outputs": [
    {
     "data": {
      "text/html": [
       "<div>\n",
       "<style scoped>\n",
       "    .dataframe tbody tr th:only-of-type {\n",
       "        vertical-align: middle;\n",
       "    }\n",
       "\n",
       "    .dataframe tbody tr th {\n",
       "        vertical-align: top;\n",
       "    }\n",
       "\n",
       "    .dataframe thead th {\n",
       "        text-align: right;\n",
       "    }\n",
       "</style>\n",
       "<table border=\"1\" class=\"dataframe\">\n",
       "  <thead>\n",
       "    <tr style=\"text-align: right;\">\n",
       "      <th></th>\n",
       "      <th>JOBID</th>\n",
       "      <th>ACCOUNT</th>\n",
       "      <th>USER</th>\n",
       "      <th>REQMEM</th>\n",
       "      <th>USEDMEM</th>\n",
       "      <th>REQTIME</th>\n",
       "      <th>USEDTIME</th>\n",
       "      <th>NODES</th>\n",
       "      <th>CPUS</th>\n",
       "      <th>PARTITION</th>\n",
       "      <th>EXITCODE</th>\n",
       "      <th>STATE</th>\n",
       "      <th>NODELIST</th>\n",
       "    </tr>\n",
       "  </thead>\n",
       "  <tbody>\n",
       "    <tr>\n",
<<<<<<< HEAD
       "      <th>3813588</th>\n",
       "      <td>24173815_8</td>\n",
       "      <td>portabella</td>\n",
       "      <td>vennie</td>\n",
       "      <td>32768Mn</td>\n",
       "      <td>30042.68M</td>\n",
       "      <td>1-00:00:00</td>\n",
       "      <td>00:02:27</td>\n",
       "      <td>1</td>\n",
       "      <td>2</td>\n",
       "      <td>production</td>\n",
       "      <td>0:0</td>\n",
       "      <td>COMPLETED</td>\n",
       "      <td>cn312</td>\n",
       "    </tr>\n",
       "    <tr>\n",
       "      <th>3813589</th>\n",
       "      <td>24173815_9</td>\n",
       "      <td>portabella</td>\n",
       "      <td>vennie</td>\n",
       "      <td>32768Mn</td>\n",
       "      <td>31067.75M</td>\n",
       "      <td>1-00:00:00</td>\n",
       "      <td>00:02:27</td>\n",
       "      <td>1</td>\n",
       "      <td>2</td>\n",
       "      <td>production</td>\n",
       "      <td>0:0</td>\n",
       "      <td>COMPLETED</td>\n",
       "      <td>cn312</td>\n",
       "    </tr>\n",
       "    <tr>\n",
       "      <th>3813590</th>\n",
       "      <td>24173815_10</td>\n",
       "      <td>portabella</td>\n",
       "      <td>vennie</td>\n",
       "      <td>32768Mn</td>\n",
       "      <td>21207.96M</td>\n",
       "      <td>1-00:00:00</td>\n",
       "      <td>00:01:40</td>\n",
       "      <td>1</td>\n",
       "      <td>2</td>\n",
       "      <td>production</td>\n",
       "      <td>0:0</td>\n",
       "      <td>COMPLETED</td>\n",
       "      <td>cn368</td>\n",
       "    </tr>\n",
       "    <tr>\n",
       "      <th>3813591</th>\n",
       "      <td>24173817</td>\n",
       "      <td>boysenberries</td>\n",
       "      <td>hortensia</td>\n",
       "      <td>100000Mn</td>\n",
       "      <td>0</td>\n",
       "      <td>1-00:00:00</td>\n",
       "      <td>00:03:05</td>\n",
       "      <td>1</td>\n",
       "      <td>8</td>\n",
       "      <td>production</td>\n",
       "      <td>0:0</td>\n",
       "      <td>RUNNING</td>\n",
       "      <td>cn1509</td>\n",
       "    </tr>\n",
       "    <tr>\n",
       "      <th>3813592</th>\n",
       "      <td>24173866</td>\n",
       "      <td>horseradish</td>\n",
       "      <td>ariane</td>\n",
       "      <td>20480Mn</td>\n",
       "      <td>0</td>\n",
       "      <td>05:00:00</td>\n",
       "      <td>00:02:05</td>\n",
=======
       "      <th>995</th>\n",
       "      <td>17016721_16</td>\n",
       "      <td>sunburst</td>\n",
       "      <td>darlyne</td>\n",
       "      <td>8192Mn</td>\n",
       "      <td>2547.97M</td>\n",
       "      <td>14-00:00:00</td>\n",
       "      <td>7-17:16:46</td>\n",
       "      <td>1</td>\n",
       "      <td>1</td>\n",
       "      <td>production</td>\n",
       "      <td>0:0</td>\n",
       "      <td>COMPLETED</td>\n",
       "      <td>cn322</td>\n",
       "    </tr>\n",
       "    <tr>\n",
       "      <th>996</th>\n",
       "      <td>17016721_17</td>\n",
       "      <td>sunburst</td>\n",
       "      <td>darlyne</td>\n",
       "      <td>8192Mn</td>\n",
       "      <td>1950.11M</td>\n",
       "      <td>14-00:00:00</td>\n",
       "      <td>7-03:03:50</td>\n",
       "      <td>1</td>\n",
       "      <td>1</td>\n",
       "      <td>production</td>\n",
       "      <td>0:0</td>\n",
       "      <td>COMPLETED</td>\n",
       "      <td>cn322</td>\n",
       "    </tr>\n",
       "    <tr>\n",
       "      <th>997</th>\n",
       "      <td>17016721_18</td>\n",
       "      <td>sunburst</td>\n",
       "      <td>darlyne</td>\n",
       "      <td>8192Mn</td>\n",
       "      <td>2450.23M</td>\n",
       "      <td>14-00:00:00</td>\n",
       "      <td>7-09:59:09</td>\n",
       "      <td>1</td>\n",
       "      <td>1</td>\n",
       "      <td>production</td>\n",
       "      <td>0:0</td>\n",
       "      <td>COMPLETED</td>\n",
       "      <td>cn322</td>\n",
       "    </tr>\n",
       "    <tr>\n",
       "      <th>998</th>\n",
       "      <td>17016721_19</td>\n",
       "      <td>sunburst</td>\n",
       "      <td>darlyne</td>\n",
       "      <td>8192Mn</td>\n",
       "      <td>2743.43M</td>\n",
       "      <td>14-00:00:00</td>\n",
       "      <td>7-12:40:23</td>\n",
       "      <td>1</td>\n",
       "      <td>1</td>\n",
       "      <td>production</td>\n",
       "      <td>0:0</td>\n",
       "      <td>COMPLETED</td>\n",
       "      <td>cn322</td>\n",
       "    </tr>\n",
       "    <tr>\n",
       "      <th>999</th>\n",
       "      <td>17016721_20</td>\n",
       "      <td>sunburst</td>\n",
       "      <td>darlyne</td>\n",
       "      <td>8192Mn</td>\n",
       "      <td>1972.13M</td>\n",
       "      <td>14-00:00:00</td>\n",
       "      <td>7-06:27:41</td>\n",
>>>>>>> 2d50ec13f068352cc198c795352f4cad9e8f0f9f
       "      <td>1</td>\n",
       "      <td>1</td>\n",
       "      <td>production</td>\n",
       "      <td>0:0</td>\n",
<<<<<<< HEAD
       "      <td>RUNNING</td>\n",
       "      <td>cn1131</td>\n",
=======
       "      <td>COMPLETED</td>\n",
       "      <td>cn322</td>\n",
>>>>>>> 2d50ec13f068352cc198c795352f4cad9e8f0f9f
       "    </tr>\n",
       "  </tbody>\n",
       "</table>\n",
       "</div>"
      ],
      "text/plain": [
<<<<<<< HEAD
       "               JOBID        ACCOUNT       USER    REQMEM    USEDMEM  \\\n",
       "3813588   24173815_8     portabella     vennie   32768Mn  30042.68M   \n",
       "3813589   24173815_9     portabella     vennie   32768Mn  31067.75M   \n",
       "3813590  24173815_10     portabella     vennie   32768Mn  21207.96M   \n",
       "3813591     24173817  boysenberries  hortensia  100000Mn          0   \n",
       "3813592     24173866    horseradish     ariane   20480Mn          0   \n",
       "\n",
       "            REQTIME  USEDTIME  NODES  CPUS   PARTITION EXITCODE      STATE  \\\n",
       "3813588  1-00:00:00  00:02:27      1     2  production      0:0  COMPLETED   \n",
       "3813589  1-00:00:00  00:02:27      1     2  production      0:0  COMPLETED   \n",
       "3813590  1-00:00:00  00:01:40      1     2  production      0:0  COMPLETED   \n",
       "3813591  1-00:00:00  00:03:05      1     8  production      0:0    RUNNING   \n",
       "3813592    05:00:00  00:02:05      1     1  production      0:0    RUNNING   \n",
       "\n",
       "        NODELIST  \n",
       "3813588    cn312  \n",
       "3813589    cn312  \n",
       "3813590    cn368  \n",
       "3813591   cn1509  \n",
       "3813592   cn1131  "
      ]
     },
     "execution_count": 4,
=======
       "           JOBID   ACCOUNT     USER  REQMEM   USEDMEM      REQTIME  \\\n",
       "995  17016721_16  sunburst  darlyne  8192Mn  2547.97M  14-00:00:00   \n",
       "996  17016721_17  sunburst  darlyne  8192Mn  1950.11M  14-00:00:00   \n",
       "997  17016721_18  sunburst  darlyne  8192Mn  2450.23M  14-00:00:00   \n",
       "998  17016721_19  sunburst  darlyne  8192Mn  2743.43M  14-00:00:00   \n",
       "999  17016721_20  sunburst  darlyne  8192Mn  1972.13M  14-00:00:00   \n",
       "\n",
       "       USEDTIME  NODES  CPUS   PARTITION EXITCODE      STATE NODELIST  \n",
       "995  7-17:16:46      1     1  production      0:0  COMPLETED    cn322  \n",
       "996  7-03:03:50      1     1  production      0:0  COMPLETED    cn322  \n",
       "997  7-09:59:09      1     1  production      0:0  COMPLETED    cn322  \n",
       "998  7-12:40:23      1     1  production      0:0  COMPLETED    cn322  \n",
       "999  7-06:27:41      1     1  production      0:0  COMPLETED    cn322  "
      ]
     },
     "execution_count": 18,
>>>>>>> 2d50ec13f068352cc198c795352f4cad9e8f0f9f
     "metadata": {},
     "output_type": "execute_result"
    }
   ],
   "source": [
<<<<<<< HEAD
    "accer_df.tail()"
=======
    "accer_df1000.tail()"
>>>>>>> 2d50ec13f068352cc198c795352f4cad9e8f0f9f
   ]
  },
  {
   "cell_type": "code",
<<<<<<< HEAD
   "execution_count": 5,
=======
   "execution_count": 19,
>>>>>>> 2d50ec13f068352cc198c795352f4cad9e8f0f9f
   "metadata": {},
   "outputs": [
    {
     "name": "stdout",
     "output_type": "stream",
     "text": [
      "<class 'pandas.core.frame.DataFrame'>\n",
<<<<<<< HEAD
      "RangeIndex: 3813593 entries, 0 to 3813592\n",
      "Data columns (total 13 columns):\n",
      " #   Column     Dtype \n",
      "---  ------     ----- \n",
      " 0   JOBID      object\n",
      " 1   ACCOUNT    object\n",
      " 2   USER       object\n",
      " 3   REQMEM     object\n",
      " 4   USEDMEM    object\n",
      " 5   REQTIME    object\n",
      " 6   USEDTIME   object\n",
      " 7   NODES      int64 \n",
      " 8   CPUS       int64 \n",
      " 9   PARTITION  object\n",
      " 10  EXITCODE   object\n",
      " 11  STATE      object\n",
      " 12  NODELIST   object\n",
      "dtypes: int64(2), object(11)\n",
      "memory usage: 378.2+ MB\n"
=======
      "RangeIndex: 1000 entries, 0 to 999\n",
      "Data columns (total 13 columns):\n",
      " #   Column     Non-Null Count  Dtype \n",
      "---  ------     --------------  ----- \n",
      " 0   JOBID      1000 non-null   object\n",
      " 1   ACCOUNT    1000 non-null   object\n",
      " 2   USER       1000 non-null   object\n",
      " 3   REQMEM     1000 non-null   object\n",
      " 4   USEDMEM    1000 non-null   object\n",
      " 5   REQTIME    1000 non-null   object\n",
      " 6   USEDTIME   1000 non-null   object\n",
      " 7   NODES      1000 non-null   int64 \n",
      " 8   CPUS       1000 non-null   int64 \n",
      " 9   PARTITION  1000 non-null   object\n",
      " 10  EXITCODE   1000 non-null   object\n",
      " 11  STATE      1000 non-null   object\n",
      " 12  NODELIST   1000 non-null   object\n",
      "dtypes: int64(2), object(11)\n",
      "memory usage: 101.7+ KB\n"
>>>>>>> 2d50ec13f068352cc198c795352f4cad9e8f0f9f
     ]
    }
   ],
   "source": [
<<<<<<< HEAD
    "accer_df.info()"
   ]
  },
  {
   "cell_type": "markdown",
   "metadata": {},
   "source": [
    "Data Question 2: The Advanced Computing Center for Research and Education\n",
    "\n",
    "In this data question, you will be analyzing data on jobs run on ACCRE's hardware. You will need to do some data cleaning and preparation and then explore and analyze to answer the following questions.\n",
    "\n"
   ]
  },
  {
   "cell_type": "markdown",
   "metadata": {},
   "source": [
    "Data cleaning / formatting\n",
    "\n",
    "We really only want to look at the \"production\" partition so rows with other partitions should be removed\n",
    "\n",
    "Job time is in a format of either d-hh:mm:ss or hh:mm:ss, it needs to be converted to total seconds\n",
    "\n",
    "Only successful jobs with \"0:0\" exit codes should be considered for memory use analysis\n",
    "\n",
    "Memory is reported in terms of Megabytes per node (Mc) or Megabytes per core (Mc), this needs to be uniformly converted to Megabytes per core by dividing by the number of cores per node in a job."
   ]
  },
  {
   "cell_type": "code",
   "execution_count": 6,
   "metadata": {},
   "outputs": [
    {
     "data": {
      "text/plain": [
       "production              3309124\n",
       "nogpfs                   327652\n",
       "sam                       79151\n",
       "pascal                    47997\n",
       "turing                    39402\n",
       "debug                      6738\n",
       "maxwell                    3326\n",
       "cgw-capra1                   83\n",
       "cgw-dougherty1               72\n",
       "cgw-cqs1                     34\n",
       "cgw-cqs3                      4\n",
       "cgw-vm-qa-flatearth1          4\n",
       "cgw-tbi01                     2\n",
       "devel                         2\n",
       "cgw-rocksteady                2\n",
       "Name: PARTITION, dtype: int64"
      ]
     },
     "execution_count": 6,
     "metadata": {},
     "output_type": "execute_result"
    }
   ],
   "source": [
    "accer_df['PARTITION'].value_counts()"
   ]
  },
  {
   "cell_type": "code",
   "execution_count": 7,
   "metadata": {},
   "outputs": [
    {
     "data": {
      "text/plain": [
       "0:0      3810910\n",
       "1:0         1076\n",
       "0:9          832\n",
       "0:15         304\n",
       "127:0        138\n",
       "2:0          127\n",
       "0:125         82\n",
       "7:0           28\n",
       "6:0           15\n",
       "0:7           12\n",
       "0:11          11\n",
       "13:0          10\n",
       "38:0           9\n",
       "126:0          7\n",
       "24:0           7\n",
       "11:0           6\n",
       "0:6            4\n",
       "59:0           4\n",
       "64:0           2\n",
       "0:39           2\n",
       "0:12           1\n",
       "8:0            1\n",
       "0:4            1\n",
       "0:36           1\n",
       "101:0          1\n",
       "0:2            1\n",
       "16:0           1\n",
       "Name: EXITCODE, dtype: int64"
      ]
     },
     "execution_count": 7,
     "metadata": {},
     "output_type": "execute_result"
    }
   ],
   "source": [
    "accer_df['EXITCODE'].value_counts()"
   ]
  },
  {
   "cell_type": "code",
   "execution_count": 8,
   "metadata": {},
   "outputs": [],
   "source": [
    "accer_production=accer_df[(accer_df['PARTITION']==\"production\") & ((accer_df['EXITCODE']==\"0:0\"))]"
   ]
  },
  {
   "cell_type": "code",
   "execution_count": 9,
   "metadata": {},
   "outputs": [
    {
     "data": {
      "text/plain": [
       "production    3308108\n",
       "Name: PARTITION, dtype: int64"
      ]
     },
     "execution_count": 9,
     "metadata": {},
     "output_type": "execute_result"
    }
   ],
   "source": [
    "accer_production['PARTITION'].value_counts()"
   ]
  },
  {
   "cell_type": "code",
   "execution_count": 10,
   "metadata": {},
   "outputs": [
    {
     "data": {
      "text/plain": [
       "0:0    3308108\n",
       "Name: EXITCODE, dtype: int64"
      ]
     },
     "execution_count": 10,
     "metadata": {},
     "output_type": "execute_result"
    }
   ],
   "source": [
    "accer_production['EXITCODE']. value_counts()"
   ]
  },
  {
   "cell_type": "code",
   "execution_count": 11,
   "metadata": {},
   "outputs": [
    {
     "data": {
      "text/html": [
       "<div>\n",
       "<style scoped>\n",
       "    .dataframe tbody tr th:only-of-type {\n",
       "        vertical-align: middle;\n",
       "    }\n",
       "\n",
       "    .dataframe tbody tr th {\n",
       "        vertical-align: top;\n",
       "    }\n",
       "\n",
       "    .dataframe thead th {\n",
       "        text-align: right;\n",
       "    }\n",
       "</style>\n",
       "<table border=\"1\" class=\"dataframe\">\n",
       "  <thead>\n",
       "    <tr style=\"text-align: right;\">\n",
       "      <th></th>\n",
       "      <th>JOBID</th>\n",
       "      <th>ACCOUNT</th>\n",
       "      <th>USER</th>\n",
       "      <th>REQMEM</th>\n",
       "      <th>USEDMEM</th>\n",
       "      <th>REQTIME</th>\n",
       "      <th>USEDTIME</th>\n",
       "      <th>NODES</th>\n",
       "      <th>CPUS</th>\n",
       "      <th>PARTITION</th>\n",
       "      <th>EXITCODE</th>\n",
       "      <th>STATE</th>\n",
       "      <th>NODELIST</th>\n",
       "    </tr>\n",
       "  </thead>\n",
       "  <tbody>\n",
       "    <tr>\n",
       "      <th>0</th>\n",
       "      <td>15925210</td>\n",
       "      <td>treviso</td>\n",
       "      <td>arabella</td>\n",
       "      <td>122880Mn</td>\n",
       "      <td>65973.49M</td>\n",
       "      <td>13-18:00:00</td>\n",
       "      <td>13-18:00:28</td>\n",
       "      <td>1</td>\n",
       "      <td>24</td>\n",
       "      <td>production</td>\n",
       "      <td>0:0</td>\n",
       "      <td>COMPLETED</td>\n",
       "      <td>cn1531</td>\n",
       "    </tr>\n",
       "    <tr>\n",
       "      <th>1</th>\n",
       "      <td>15861126</td>\n",
       "      <td>treviso</td>\n",
       "      <td>arabella</td>\n",
       "      <td>122880Mn</td>\n",
       "      <td>67181.12M</td>\n",
       "      <td>13-18:00:00</td>\n",
       "      <td>12-14:50:56</td>\n",
       "      <td>1</td>\n",
       "      <td>24</td>\n",
       "      <td>production</td>\n",
       "      <td>0:0</td>\n",
       "      <td>COMPLETED</td>\n",
       "      <td>cn1441</td>\n",
       "    </tr>\n",
       "    <tr>\n",
       "      <th>2</th>\n",
       "      <td>15861125</td>\n",
       "      <td>treviso</td>\n",
       "      <td>arabella</td>\n",
       "      <td>122880Mn</td>\n",
       "      <td>69111.86M</td>\n",
       "      <td>13-18:00:00</td>\n",
       "      <td>13-18:00:20</td>\n",
       "      <td>1</td>\n",
       "      <td>24</td>\n",
       "      <td>production</td>\n",
       "      <td>0:0</td>\n",
       "      <td>COMPLETED</td>\n",
       "      <td>cn1464</td>\n",
       "    </tr>\n",
       "    <tr>\n",
       "      <th>3</th>\n",
       "      <td>16251645</td>\n",
       "      <td>treviso</td>\n",
       "      <td>arabella</td>\n",
       "      <td>122880Mn</td>\n",
       "      <td>65317.33M</td>\n",
       "      <td>13-18:00:00</td>\n",
       "      <td>12-03:50:32</td>\n",
       "      <td>1</td>\n",
       "      <td>24</td>\n",
       "      <td>production</td>\n",
       "      <td>0:0</td>\n",
       "      <td>COMPLETED</td>\n",
       "      <td>cn1473</td>\n",
       "    </tr>\n",
       "    <tr>\n",
       "      <th>4</th>\n",
       "      <td>16251646</td>\n",
       "      <td>treviso</td>\n",
       "      <td>arabella</td>\n",
       "      <td>122880Mn</td>\n",
       "      <td>65876.11M</td>\n",
       "      <td>13-18:00:00</td>\n",
       "      <td>13-18:00:03</td>\n",
       "      <td>1</td>\n",
       "      <td>24</td>\n",
       "      <td>production</td>\n",
       "      <td>0:0</td>\n",
       "      <td>COMPLETED</td>\n",
       "      <td>cn1440</td>\n",
       "    </tr>\n",
       "    <tr>\n",
       "      <th>...</th>\n",
       "      <td>...</td>\n",
       "      <td>...</td>\n",
       "      <td>...</td>\n",
       "      <td>...</td>\n",
       "      <td>...</td>\n",
       "      <td>...</td>\n",
       "      <td>...</td>\n",
       "      <td>...</td>\n",
       "      <td>...</td>\n",
       "      <td>...</td>\n",
       "      <td>...</td>\n",
       "      <td>...</td>\n",
       "      <td>...</td>\n",
       "    </tr>\n",
       "    <tr>\n",
       "      <th>3813588</th>\n",
       "      <td>24173815_8</td>\n",
       "      <td>portabella</td>\n",
       "      <td>vennie</td>\n",
       "      <td>32768Mn</td>\n",
       "      <td>30042.68M</td>\n",
       "      <td>1-00:00:00</td>\n",
       "      <td>00:02:27</td>\n",
       "      <td>1</td>\n",
       "      <td>2</td>\n",
       "      <td>production</td>\n",
       "      <td>0:0</td>\n",
       "      <td>COMPLETED</td>\n",
       "      <td>cn312</td>\n",
       "    </tr>\n",
       "    <tr>\n",
       "      <th>3813589</th>\n",
       "      <td>24173815_9</td>\n",
       "      <td>portabella</td>\n",
       "      <td>vennie</td>\n",
       "      <td>32768Mn</td>\n",
       "      <td>31067.75M</td>\n",
       "      <td>1-00:00:00</td>\n",
       "      <td>00:02:27</td>\n",
       "      <td>1</td>\n",
       "      <td>2</td>\n",
       "      <td>production</td>\n",
       "      <td>0:0</td>\n",
       "      <td>COMPLETED</td>\n",
       "      <td>cn312</td>\n",
       "    </tr>\n",
       "    <tr>\n",
       "      <th>3813590</th>\n",
       "      <td>24173815_10</td>\n",
       "      <td>portabella</td>\n",
       "      <td>vennie</td>\n",
       "      <td>32768Mn</td>\n",
       "      <td>21207.96M</td>\n",
       "      <td>1-00:00:00</td>\n",
       "      <td>00:01:40</td>\n",
       "      <td>1</td>\n",
       "      <td>2</td>\n",
       "      <td>production</td>\n",
       "      <td>0:0</td>\n",
       "      <td>COMPLETED</td>\n",
       "      <td>cn368</td>\n",
       "    </tr>\n",
       "    <tr>\n",
       "      <th>3813591</th>\n",
       "      <td>24173817</td>\n",
       "      <td>boysenberries</td>\n",
       "      <td>hortensia</td>\n",
       "      <td>100000Mn</td>\n",
       "      <td>0</td>\n",
       "      <td>1-00:00:00</td>\n",
       "      <td>00:03:05</td>\n",
       "      <td>1</td>\n",
       "      <td>8</td>\n",
       "      <td>production</td>\n",
       "      <td>0:0</td>\n",
       "      <td>RUNNING</td>\n",
       "      <td>cn1509</td>\n",
       "    </tr>\n",
       "    <tr>\n",
       "      <th>3813592</th>\n",
       "      <td>24173866</td>\n",
       "      <td>horseradish</td>\n",
       "      <td>ariane</td>\n",
       "      <td>20480Mn</td>\n",
       "      <td>0</td>\n",
       "      <td>05:00:00</td>\n",
       "      <td>00:02:05</td>\n",
       "      <td>1</td>\n",
       "      <td>1</td>\n",
       "      <td>production</td>\n",
       "      <td>0:0</td>\n",
       "      <td>RUNNING</td>\n",
       "      <td>cn1131</td>\n",
       "    </tr>\n",
       "  </tbody>\n",
       "</table>\n",
       "<p>3308108 rows × 13 columns</p>\n",
       "</div>"
      ],
      "text/plain": [
       "               JOBID        ACCOUNT       USER    REQMEM    USEDMEM  \\\n",
       "0           15925210        treviso   arabella  122880Mn  65973.49M   \n",
       "1           15861126        treviso   arabella  122880Mn  67181.12M   \n",
       "2           15861125        treviso   arabella  122880Mn  69111.86M   \n",
       "3           16251645        treviso   arabella  122880Mn  65317.33M   \n",
       "4           16251646        treviso   arabella  122880Mn  65876.11M   \n",
       "...              ...            ...        ...       ...        ...   \n",
       "3813588   24173815_8     portabella     vennie   32768Mn  30042.68M   \n",
       "3813589   24173815_9     portabella     vennie   32768Mn  31067.75M   \n",
       "3813590  24173815_10     portabella     vennie   32768Mn  21207.96M   \n",
       "3813591     24173817  boysenberries  hortensia  100000Mn          0   \n",
       "3813592     24173866    horseradish     ariane   20480Mn          0   \n",
       "\n",
       "             REQTIME     USEDTIME  NODES  CPUS   PARTITION EXITCODE  \\\n",
       "0        13-18:00:00  13-18:00:28      1    24  production      0:0   \n",
       "1        13-18:00:00  12-14:50:56      1    24  production      0:0   \n",
       "2        13-18:00:00  13-18:00:20      1    24  production      0:0   \n",
       "3        13-18:00:00  12-03:50:32      1    24  production      0:0   \n",
       "4        13-18:00:00  13-18:00:03      1    24  production      0:0   \n",
       "...              ...          ...    ...   ...         ...      ...   \n",
       "3813588   1-00:00:00     00:02:27      1     2  production      0:0   \n",
       "3813589   1-00:00:00     00:02:27      1     2  production      0:0   \n",
       "3813590   1-00:00:00     00:01:40      1     2  production      0:0   \n",
       "3813591   1-00:00:00     00:03:05      1     8  production      0:0   \n",
       "3813592     05:00:00     00:02:05      1     1  production      0:0   \n",
       "\n",
       "             STATE NODELIST  \n",
       "0        COMPLETED   cn1531  \n",
       "1        COMPLETED   cn1441  \n",
       "2        COMPLETED   cn1464  \n",
       "3        COMPLETED   cn1473  \n",
       "4        COMPLETED   cn1440  \n",
       "...            ...      ...  \n",
       "3813588  COMPLETED    cn312  \n",
       "3813589  COMPLETED    cn312  \n",
       "3813590  COMPLETED    cn368  \n",
       "3813591    RUNNING   cn1509  \n",
       "3813592    RUNNING   cn1131  \n",
       "\n",
       "[3308108 rows x 13 columns]"
      ]
     },
     "execution_count": 11,
     "metadata": {},
     "output_type": "execute_result"
    }
   ],
   "source": [
    "accer_production\n"
   ]
  },
  {
   "cell_type": "code",
   "execution_count": 12,
   "metadata": {
    "scrolled": true
   },
   "outputs": [
    {
     "name": "stderr",
     "output_type": "stream",
     "text": [
      "<ipython-input-12-40c6c8039387>:1: SettingWithCopyWarning: \n",
      "A value is trying to be set on a copy of a slice from a DataFrame.\n",
      "Try using .loc[row_indexer,col_indexer] = value instead\n",
      "\n",
      "See the caveats in the documentation: https://pandas.pydata.org/pandas-docs/stable/user_guide/indexing.html#returning-a-view-versus-a-copy\n",
      "  accer_production['HHMMSS_USED'] = accer_production['USEDTIME'].str.extract('(\\d{2}:\\d{2}:\\d{2})')\n"
     ]
    }
   ],
   "source": [
    "accer_production['HHMMSS_USED'] = accer_production['USEDTIME'].str.extract('(\\d{2}:\\d{2}:\\d{2})')"
   ]
  },
  {
   "cell_type": "code",
   "execution_count": 13,
   "metadata": {},
   "outputs": [
    {
     "name": "stderr",
     "output_type": "stream",
     "text": [
      "<ipython-input-13-f5973496beea>:1: SettingWithCopyWarning: \n",
      "A value is trying to be set on a copy of a slice from a DataFrame.\n",
      "Try using .loc[row_indexer,col_indexer] = value instead\n",
      "\n",
      "See the caveats in the documentation: https://pandas.pydata.org/pandas-docs/stable/user_guide/indexing.html#returning-a-view-versus-a-copy\n",
      "  accer_production['DAYS_USED'] = accer_production['USEDTIME'].str.extract('(\\d+)-')\n"
     ]
    }
   ],
   "source": [
    "accer_production['DAYS_USED'] = accer_production['USEDTIME'].str.extract('(\\d+)-')"
   ]
  },
  {
   "cell_type": "code",
   "execution_count": 14,
   "metadata": {},
   "outputs": [
    {
     "data": {
      "text/html": [
       "<div>\n",
       "<style scoped>\n",
       "    .dataframe tbody tr th:only-of-type {\n",
       "        vertical-align: middle;\n",
       "    }\n",
       "\n",
       "    .dataframe tbody tr th {\n",
       "        vertical-align: top;\n",
       "    }\n",
       "\n",
       "    .dataframe thead th {\n",
       "        text-align: right;\n",
       "    }\n",
       "</style>\n",
       "<table border=\"1\" class=\"dataframe\">\n",
       "  <thead>\n",
       "    <tr style=\"text-align: right;\">\n",
       "      <th></th>\n",
       "      <th>JOBID</th>\n",
       "      <th>ACCOUNT</th>\n",
       "      <th>USER</th>\n",
       "      <th>REQMEM</th>\n",
       "      <th>USEDMEM</th>\n",
       "      <th>REQTIME</th>\n",
       "      <th>USEDTIME</th>\n",
       "      <th>NODES</th>\n",
       "      <th>CPUS</th>\n",
       "      <th>PARTITION</th>\n",
       "      <th>EXITCODE</th>\n",
       "      <th>STATE</th>\n",
       "      <th>NODELIST</th>\n",
       "      <th>HHMMSS_USED</th>\n",
       "      <th>DAYS_USED</th>\n",
       "    </tr>\n",
       "  </thead>\n",
       "  <tbody>\n",
       "    <tr>\n",
       "      <th>0</th>\n",
       "      <td>15925210</td>\n",
       "      <td>treviso</td>\n",
       "      <td>arabella</td>\n",
       "      <td>122880Mn</td>\n",
       "      <td>65973.49M</td>\n",
       "      <td>13-18:00:00</td>\n",
       "      <td>13-18:00:28</td>\n",
       "      <td>1</td>\n",
       "      <td>24</td>\n",
       "      <td>production</td>\n",
       "      <td>0:0</td>\n",
       "      <td>COMPLETED</td>\n",
       "      <td>cn1531</td>\n",
       "      <td>18:00:28</td>\n",
       "      <td>13</td>\n",
       "    </tr>\n",
       "    <tr>\n",
       "      <th>1</th>\n",
       "      <td>15861126</td>\n",
       "      <td>treviso</td>\n",
       "      <td>arabella</td>\n",
       "      <td>122880Mn</td>\n",
       "      <td>67181.12M</td>\n",
       "      <td>13-18:00:00</td>\n",
       "      <td>12-14:50:56</td>\n",
       "      <td>1</td>\n",
       "      <td>24</td>\n",
       "      <td>production</td>\n",
       "      <td>0:0</td>\n",
       "      <td>COMPLETED</td>\n",
       "      <td>cn1441</td>\n",
       "      <td>14:50:56</td>\n",
       "      <td>12</td>\n",
       "    </tr>\n",
       "    <tr>\n",
       "      <th>2</th>\n",
       "      <td>15861125</td>\n",
       "      <td>treviso</td>\n",
       "      <td>arabella</td>\n",
       "      <td>122880Mn</td>\n",
       "      <td>69111.86M</td>\n",
       "      <td>13-18:00:00</td>\n",
       "      <td>13-18:00:20</td>\n",
       "      <td>1</td>\n",
       "      <td>24</td>\n",
       "      <td>production</td>\n",
       "      <td>0:0</td>\n",
       "      <td>COMPLETED</td>\n",
       "      <td>cn1464</td>\n",
       "      <td>18:00:20</td>\n",
       "      <td>13</td>\n",
       "    </tr>\n",
       "    <tr>\n",
       "      <th>3</th>\n",
       "      <td>16251645</td>\n",
       "      <td>treviso</td>\n",
       "      <td>arabella</td>\n",
       "      <td>122880Mn</td>\n",
       "      <td>65317.33M</td>\n",
       "      <td>13-18:00:00</td>\n",
       "      <td>12-03:50:32</td>\n",
       "      <td>1</td>\n",
       "      <td>24</td>\n",
       "      <td>production</td>\n",
       "      <td>0:0</td>\n",
       "      <td>COMPLETED</td>\n",
       "      <td>cn1473</td>\n",
       "      <td>03:50:32</td>\n",
       "      <td>12</td>\n",
       "    </tr>\n",
       "    <tr>\n",
       "      <th>4</th>\n",
       "      <td>16251646</td>\n",
       "      <td>treviso</td>\n",
       "      <td>arabella</td>\n",
       "      <td>122880Mn</td>\n",
       "      <td>65876.11M</td>\n",
       "      <td>13-18:00:00</td>\n",
       "      <td>13-18:00:03</td>\n",
       "      <td>1</td>\n",
       "      <td>24</td>\n",
       "      <td>production</td>\n",
       "      <td>0:0</td>\n",
       "      <td>COMPLETED</td>\n",
       "      <td>cn1440</td>\n",
       "      <td>18:00:03</td>\n",
       "      <td>13</td>\n",
       "    </tr>\n",
       "    <tr>\n",
       "      <th>...</th>\n",
       "      <td>...</td>\n",
       "      <td>...</td>\n",
       "      <td>...</td>\n",
       "      <td>...</td>\n",
       "      <td>...</td>\n",
       "      <td>...</td>\n",
       "      <td>...</td>\n",
       "      <td>...</td>\n",
       "      <td>...</td>\n",
       "      <td>...</td>\n",
       "      <td>...</td>\n",
       "      <td>...</td>\n",
       "      <td>...</td>\n",
       "      <td>...</td>\n",
       "      <td>...</td>\n",
       "    </tr>\n",
       "    <tr>\n",
       "      <th>3813588</th>\n",
       "      <td>24173815_8</td>\n",
       "      <td>portabella</td>\n",
       "      <td>vennie</td>\n",
       "      <td>32768Mn</td>\n",
       "      <td>30042.68M</td>\n",
       "      <td>1-00:00:00</td>\n",
       "      <td>00:02:27</td>\n",
       "      <td>1</td>\n",
       "      <td>2</td>\n",
       "      <td>production</td>\n",
       "      <td>0:0</td>\n",
       "      <td>COMPLETED</td>\n",
       "      <td>cn312</td>\n",
       "      <td>00:02:27</td>\n",
       "      <td>NaN</td>\n",
       "    </tr>\n",
       "    <tr>\n",
       "      <th>3813589</th>\n",
       "      <td>24173815_9</td>\n",
       "      <td>portabella</td>\n",
       "      <td>vennie</td>\n",
       "      <td>32768Mn</td>\n",
       "      <td>31067.75M</td>\n",
       "      <td>1-00:00:00</td>\n",
       "      <td>00:02:27</td>\n",
       "      <td>1</td>\n",
       "      <td>2</td>\n",
       "      <td>production</td>\n",
       "      <td>0:0</td>\n",
       "      <td>COMPLETED</td>\n",
       "      <td>cn312</td>\n",
       "      <td>00:02:27</td>\n",
       "      <td>NaN</td>\n",
       "    </tr>\n",
       "    <tr>\n",
       "      <th>3813590</th>\n",
       "      <td>24173815_10</td>\n",
       "      <td>portabella</td>\n",
       "      <td>vennie</td>\n",
       "      <td>32768Mn</td>\n",
       "      <td>21207.96M</td>\n",
       "      <td>1-00:00:00</td>\n",
       "      <td>00:01:40</td>\n",
       "      <td>1</td>\n",
       "      <td>2</td>\n",
       "      <td>production</td>\n",
       "      <td>0:0</td>\n",
       "      <td>COMPLETED</td>\n",
       "      <td>cn368</td>\n",
       "      <td>00:01:40</td>\n",
       "      <td>NaN</td>\n",
       "    </tr>\n",
       "    <tr>\n",
       "      <th>3813591</th>\n",
       "      <td>24173817</td>\n",
       "      <td>boysenberries</td>\n",
       "      <td>hortensia</td>\n",
       "      <td>100000Mn</td>\n",
       "      <td>0</td>\n",
       "      <td>1-00:00:00</td>\n",
       "      <td>00:03:05</td>\n",
       "      <td>1</td>\n",
       "      <td>8</td>\n",
       "      <td>production</td>\n",
       "      <td>0:0</td>\n",
       "      <td>RUNNING</td>\n",
       "      <td>cn1509</td>\n",
       "      <td>00:03:05</td>\n",
       "      <td>NaN</td>\n",
       "    </tr>\n",
       "    <tr>\n",
       "      <th>3813592</th>\n",
       "      <td>24173866</td>\n",
       "      <td>horseradish</td>\n",
       "      <td>ariane</td>\n",
       "      <td>20480Mn</td>\n",
       "      <td>0</td>\n",
       "      <td>05:00:00</td>\n",
       "      <td>00:02:05</td>\n",
       "      <td>1</td>\n",
       "      <td>1</td>\n",
       "      <td>production</td>\n",
       "      <td>0:0</td>\n",
       "      <td>RUNNING</td>\n",
       "      <td>cn1131</td>\n",
       "      <td>00:02:05</td>\n",
       "      <td>NaN</td>\n",
       "    </tr>\n",
       "  </tbody>\n",
       "</table>\n",
       "<p>3308108 rows × 15 columns</p>\n",
       "</div>"
      ],
      "text/plain": [
       "               JOBID        ACCOUNT       USER    REQMEM    USEDMEM  \\\n",
       "0           15925210        treviso   arabella  122880Mn  65973.49M   \n",
       "1           15861126        treviso   arabella  122880Mn  67181.12M   \n",
       "2           15861125        treviso   arabella  122880Mn  69111.86M   \n",
       "3           16251645        treviso   arabella  122880Mn  65317.33M   \n",
       "4           16251646        treviso   arabella  122880Mn  65876.11M   \n",
       "...              ...            ...        ...       ...        ...   \n",
       "3813588   24173815_8     portabella     vennie   32768Mn  30042.68M   \n",
       "3813589   24173815_9     portabella     vennie   32768Mn  31067.75M   \n",
       "3813590  24173815_10     portabella     vennie   32768Mn  21207.96M   \n",
       "3813591     24173817  boysenberries  hortensia  100000Mn          0   \n",
       "3813592     24173866    horseradish     ariane   20480Mn          0   \n",
       "\n",
       "             REQTIME     USEDTIME  NODES  CPUS   PARTITION EXITCODE  \\\n",
       "0        13-18:00:00  13-18:00:28      1    24  production      0:0   \n",
       "1        13-18:00:00  12-14:50:56      1    24  production      0:0   \n",
       "2        13-18:00:00  13-18:00:20      1    24  production      0:0   \n",
       "3        13-18:00:00  12-03:50:32      1    24  production      0:0   \n",
       "4        13-18:00:00  13-18:00:03      1    24  production      0:0   \n",
       "...              ...          ...    ...   ...         ...      ...   \n",
       "3813588   1-00:00:00     00:02:27      1     2  production      0:0   \n",
       "3813589   1-00:00:00     00:02:27      1     2  production      0:0   \n",
       "3813590   1-00:00:00     00:01:40      1     2  production      0:0   \n",
       "3813591   1-00:00:00     00:03:05      1     8  production      0:0   \n",
       "3813592     05:00:00     00:02:05      1     1  production      0:0   \n",
       "\n",
       "             STATE NODELIST HHMMSS_USED DAYS_USED  \n",
       "0        COMPLETED   cn1531    18:00:28        13  \n",
       "1        COMPLETED   cn1441    14:50:56        12  \n",
       "2        COMPLETED   cn1464    18:00:20        13  \n",
       "3        COMPLETED   cn1473    03:50:32        12  \n",
       "4        COMPLETED   cn1440    18:00:03        13  \n",
       "...            ...      ...         ...       ...  \n",
       "3813588  COMPLETED    cn312    00:02:27       NaN  \n",
       "3813589  COMPLETED    cn312    00:02:27       NaN  \n",
       "3813590  COMPLETED    cn368    00:01:40       NaN  \n",
       "3813591    RUNNING   cn1509    00:03:05       NaN  \n",
       "3813592    RUNNING   cn1131    00:02:05       NaN  \n",
       "\n",
       "[3308108 rows x 15 columns]"
      ]
     },
     "execution_count": 14,
     "metadata": {},
     "output_type": "execute_result"
    }
   ],
   "source": [
    "accer_production"
   ]
  },
  {
   "cell_type": "code",
   "execution_count": 15,
   "metadata": {},
   "outputs": [
    {
     "name": "stderr",
     "output_type": "stream",
     "text": [
      "<ipython-input-15-342fa2de8cd1>:1: SettingWithCopyWarning: \n",
      "A value is trying to be set on a copy of a slice from a DataFrame.\n",
      "Try using .loc[row_indexer,col_indexer] = value instead\n",
      "\n",
      "See the caveats in the documentation: https://pandas.pydata.org/pandas-docs/stable/user_guide/indexing.html#returning-a-view-versus-a-copy\n",
      "  accer_production['HH_USED'] = accer_production['HHMMSS_USED'].str.extract('(\\d+):')\n",
      "<ipython-input-15-342fa2de8cd1>:2: SettingWithCopyWarning: \n",
      "A value is trying to be set on a copy of a slice from a DataFrame.\n",
      "Try using .loc[row_indexer,col_indexer] = value instead\n",
      "\n",
      "See the caveats in the documentation: https://pandas.pydata.org/pandas-docs/stable/user_guide/indexing.html#returning-a-view-versus-a-copy\n",
      "  accer_production['MM_USED'] = accer_production['HHMMSS_USED'].str.extract(':(\\d+):')\n",
      "<ipython-input-15-342fa2de8cd1>:3: SettingWithCopyWarning: \n",
      "A value is trying to be set on a copy of a slice from a DataFrame.\n",
      "Try using .loc[row_indexer,col_indexer] = value instead\n",
      "\n",
      "See the caveats in the documentation: https://pandas.pydata.org/pandas-docs/stable/user_guide/indexing.html#returning-a-view-versus-a-copy\n",
      "  accer_production['SS_USED'] = accer_production['HHMMSS_USED'].str.extract(':\\d+:(\\d+)')\n"
     ]
    }
   ],
   "source": [
    "accer_production['HH_USED'] = accer_production['HHMMSS_USED'].str.extract('(\\d+):')\n",
    "accer_production['MM_USED'] = accer_production['HHMMSS_USED'].str.extract(':(\\d+):')\n",
    "accer_production['SS_USED'] = accer_production['HHMMSS_USED'].str.extract(':\\d+:(\\d+)')"
   ]
  },
  {
   "cell_type": "code",
   "execution_count": 16,
   "metadata": {},
   "outputs": [
    {
     "data": {
      "text/html": [
       "<div>\n",
       "<style scoped>\n",
       "    .dataframe tbody tr th:only-of-type {\n",
       "        vertical-align: middle;\n",
       "    }\n",
       "\n",
       "    .dataframe tbody tr th {\n",
       "        vertical-align: top;\n",
       "    }\n",
       "\n",
       "    .dataframe thead th {\n",
       "        text-align: right;\n",
       "    }\n",
       "</style>\n",
       "<table border=\"1\" class=\"dataframe\">\n",
       "  <thead>\n",
       "    <tr style=\"text-align: right;\">\n",
       "      <th></th>\n",
       "      <th>JOBID</th>\n",
       "      <th>ACCOUNT</th>\n",
       "      <th>USER</th>\n",
       "      <th>REQMEM</th>\n",
       "      <th>USEDMEM</th>\n",
       "      <th>REQTIME</th>\n",
       "      <th>USEDTIME</th>\n",
       "      <th>NODES</th>\n",
       "      <th>CPUS</th>\n",
       "      <th>PARTITION</th>\n",
       "      <th>EXITCODE</th>\n",
       "      <th>STATE</th>\n",
       "      <th>NODELIST</th>\n",
       "      <th>HHMMSS_USED</th>\n",
       "      <th>DAYS_USED</th>\n",
       "      <th>HH_USED</th>\n",
       "      <th>MM_USED</th>\n",
       "      <th>SS_USED</th>\n",
       "    </tr>\n",
       "  </thead>\n",
       "  <tbody>\n",
       "    <tr>\n",
       "      <th>0</th>\n",
       "      <td>15925210</td>\n",
       "      <td>treviso</td>\n",
       "      <td>arabella</td>\n",
       "      <td>122880Mn</td>\n",
       "      <td>65973.49M</td>\n",
       "      <td>13-18:00:00</td>\n",
       "      <td>13-18:00:28</td>\n",
       "      <td>1</td>\n",
       "      <td>24</td>\n",
       "      <td>production</td>\n",
       "      <td>0:0</td>\n",
       "      <td>COMPLETED</td>\n",
       "      <td>cn1531</td>\n",
       "      <td>18:00:28</td>\n",
       "      <td>13</td>\n",
       "      <td>18</td>\n",
       "      <td>00</td>\n",
       "      <td>28</td>\n",
       "    </tr>\n",
       "    <tr>\n",
       "      <th>1</th>\n",
       "      <td>15861126</td>\n",
       "      <td>treviso</td>\n",
       "      <td>arabella</td>\n",
       "      <td>122880Mn</td>\n",
       "      <td>67181.12M</td>\n",
       "      <td>13-18:00:00</td>\n",
       "      <td>12-14:50:56</td>\n",
       "      <td>1</td>\n",
       "      <td>24</td>\n",
       "      <td>production</td>\n",
       "      <td>0:0</td>\n",
       "      <td>COMPLETED</td>\n",
       "      <td>cn1441</td>\n",
       "      <td>14:50:56</td>\n",
       "      <td>12</td>\n",
       "      <td>14</td>\n",
       "      <td>50</td>\n",
       "      <td>56</td>\n",
       "    </tr>\n",
       "    <tr>\n",
       "      <th>2</th>\n",
       "      <td>15861125</td>\n",
       "      <td>treviso</td>\n",
       "      <td>arabella</td>\n",
       "      <td>122880Mn</td>\n",
       "      <td>69111.86M</td>\n",
       "      <td>13-18:00:00</td>\n",
       "      <td>13-18:00:20</td>\n",
       "      <td>1</td>\n",
       "      <td>24</td>\n",
       "      <td>production</td>\n",
       "      <td>0:0</td>\n",
       "      <td>COMPLETED</td>\n",
       "      <td>cn1464</td>\n",
       "      <td>18:00:20</td>\n",
       "      <td>13</td>\n",
       "      <td>18</td>\n",
       "      <td>00</td>\n",
       "      <td>20</td>\n",
       "    </tr>\n",
       "    <tr>\n",
       "      <th>3</th>\n",
       "      <td>16251645</td>\n",
       "      <td>treviso</td>\n",
       "      <td>arabella</td>\n",
       "      <td>122880Mn</td>\n",
       "      <td>65317.33M</td>\n",
       "      <td>13-18:00:00</td>\n",
       "      <td>12-03:50:32</td>\n",
       "      <td>1</td>\n",
       "      <td>24</td>\n",
       "      <td>production</td>\n",
       "      <td>0:0</td>\n",
       "      <td>COMPLETED</td>\n",
       "      <td>cn1473</td>\n",
       "      <td>03:50:32</td>\n",
       "      <td>12</td>\n",
       "      <td>03</td>\n",
       "      <td>50</td>\n",
       "      <td>32</td>\n",
       "    </tr>\n",
       "    <tr>\n",
       "      <th>4</th>\n",
       "      <td>16251646</td>\n",
       "      <td>treviso</td>\n",
       "      <td>arabella</td>\n",
       "      <td>122880Mn</td>\n",
       "      <td>65876.11M</td>\n",
       "      <td>13-18:00:00</td>\n",
       "      <td>13-18:00:03</td>\n",
       "      <td>1</td>\n",
       "      <td>24</td>\n",
       "      <td>production</td>\n",
       "      <td>0:0</td>\n",
       "      <td>COMPLETED</td>\n",
       "      <td>cn1440</td>\n",
       "      <td>18:00:03</td>\n",
       "      <td>13</td>\n",
       "      <td>18</td>\n",
       "      <td>00</td>\n",
       "      <td>03</td>\n",
       "    </tr>\n",
       "    <tr>\n",
       "      <th>...</th>\n",
       "      <td>...</td>\n",
       "      <td>...</td>\n",
       "      <td>...</td>\n",
       "      <td>...</td>\n",
       "      <td>...</td>\n",
       "      <td>...</td>\n",
       "      <td>...</td>\n",
       "      <td>...</td>\n",
       "      <td>...</td>\n",
       "      <td>...</td>\n",
       "      <td>...</td>\n",
       "      <td>...</td>\n",
       "      <td>...</td>\n",
       "      <td>...</td>\n",
       "      <td>...</td>\n",
       "      <td>...</td>\n",
       "      <td>...</td>\n",
       "      <td>...</td>\n",
       "    </tr>\n",
       "    <tr>\n",
       "      <th>3813588</th>\n",
       "      <td>24173815_8</td>\n",
       "      <td>portabella</td>\n",
       "      <td>vennie</td>\n",
       "      <td>32768Mn</td>\n",
       "      <td>30042.68M</td>\n",
       "      <td>1-00:00:00</td>\n",
       "      <td>00:02:27</td>\n",
       "      <td>1</td>\n",
       "      <td>2</td>\n",
       "      <td>production</td>\n",
       "      <td>0:0</td>\n",
       "      <td>COMPLETED</td>\n",
       "      <td>cn312</td>\n",
       "      <td>00:02:27</td>\n",
       "      <td>NaN</td>\n",
       "      <td>00</td>\n",
       "      <td>02</td>\n",
       "      <td>27</td>\n",
       "    </tr>\n",
       "    <tr>\n",
       "      <th>3813589</th>\n",
       "      <td>24173815_9</td>\n",
       "      <td>portabella</td>\n",
       "      <td>vennie</td>\n",
       "      <td>32768Mn</td>\n",
       "      <td>31067.75M</td>\n",
       "      <td>1-00:00:00</td>\n",
       "      <td>00:02:27</td>\n",
       "      <td>1</td>\n",
       "      <td>2</td>\n",
       "      <td>production</td>\n",
       "      <td>0:0</td>\n",
       "      <td>COMPLETED</td>\n",
       "      <td>cn312</td>\n",
       "      <td>00:02:27</td>\n",
       "      <td>NaN</td>\n",
       "      <td>00</td>\n",
       "      <td>02</td>\n",
       "      <td>27</td>\n",
       "    </tr>\n",
       "    <tr>\n",
       "      <th>3813590</th>\n",
       "      <td>24173815_10</td>\n",
       "      <td>portabella</td>\n",
       "      <td>vennie</td>\n",
       "      <td>32768Mn</td>\n",
       "      <td>21207.96M</td>\n",
       "      <td>1-00:00:00</td>\n",
       "      <td>00:01:40</td>\n",
       "      <td>1</td>\n",
       "      <td>2</td>\n",
       "      <td>production</td>\n",
       "      <td>0:0</td>\n",
       "      <td>COMPLETED</td>\n",
       "      <td>cn368</td>\n",
       "      <td>00:01:40</td>\n",
       "      <td>NaN</td>\n",
       "      <td>00</td>\n",
       "      <td>01</td>\n",
       "      <td>40</td>\n",
       "    </tr>\n",
       "    <tr>\n",
       "      <th>3813591</th>\n",
       "      <td>24173817</td>\n",
       "      <td>boysenberries</td>\n",
       "      <td>hortensia</td>\n",
       "      <td>100000Mn</td>\n",
       "      <td>0</td>\n",
       "      <td>1-00:00:00</td>\n",
       "      <td>00:03:05</td>\n",
       "      <td>1</td>\n",
       "      <td>8</td>\n",
       "      <td>production</td>\n",
       "      <td>0:0</td>\n",
       "      <td>RUNNING</td>\n",
       "      <td>cn1509</td>\n",
       "      <td>00:03:05</td>\n",
       "      <td>NaN</td>\n",
       "      <td>00</td>\n",
       "      <td>03</td>\n",
       "      <td>05</td>\n",
       "    </tr>\n",
       "    <tr>\n",
       "      <th>3813592</th>\n",
       "      <td>24173866</td>\n",
       "      <td>horseradish</td>\n",
       "      <td>ariane</td>\n",
       "      <td>20480Mn</td>\n",
       "      <td>0</td>\n",
       "      <td>05:00:00</td>\n",
       "      <td>00:02:05</td>\n",
       "      <td>1</td>\n",
       "      <td>1</td>\n",
       "      <td>production</td>\n",
       "      <td>0:0</td>\n",
       "      <td>RUNNING</td>\n",
       "      <td>cn1131</td>\n",
       "      <td>00:02:05</td>\n",
       "      <td>NaN</td>\n",
       "      <td>00</td>\n",
       "      <td>02</td>\n",
       "      <td>05</td>\n",
       "    </tr>\n",
       "  </tbody>\n",
       "</table>\n",
       "<p>3308108 rows × 18 columns</p>\n",
       "</div>"
      ],
      "text/plain": [
       "               JOBID        ACCOUNT       USER    REQMEM    USEDMEM  \\\n",
       "0           15925210        treviso   arabella  122880Mn  65973.49M   \n",
       "1           15861126        treviso   arabella  122880Mn  67181.12M   \n",
       "2           15861125        treviso   arabella  122880Mn  69111.86M   \n",
       "3           16251645        treviso   arabella  122880Mn  65317.33M   \n",
       "4           16251646        treviso   arabella  122880Mn  65876.11M   \n",
       "...              ...            ...        ...       ...        ...   \n",
       "3813588   24173815_8     portabella     vennie   32768Mn  30042.68M   \n",
       "3813589   24173815_9     portabella     vennie   32768Mn  31067.75M   \n",
       "3813590  24173815_10     portabella     vennie   32768Mn  21207.96M   \n",
       "3813591     24173817  boysenberries  hortensia  100000Mn          0   \n",
       "3813592     24173866    horseradish     ariane   20480Mn          0   \n",
       "\n",
       "             REQTIME     USEDTIME  NODES  CPUS   PARTITION EXITCODE  \\\n",
       "0        13-18:00:00  13-18:00:28      1    24  production      0:0   \n",
       "1        13-18:00:00  12-14:50:56      1    24  production      0:0   \n",
       "2        13-18:00:00  13-18:00:20      1    24  production      0:0   \n",
       "3        13-18:00:00  12-03:50:32      1    24  production      0:0   \n",
       "4        13-18:00:00  13-18:00:03      1    24  production      0:0   \n",
       "...              ...          ...    ...   ...         ...      ...   \n",
       "3813588   1-00:00:00     00:02:27      1     2  production      0:0   \n",
       "3813589   1-00:00:00     00:02:27      1     2  production      0:0   \n",
       "3813590   1-00:00:00     00:01:40      1     2  production      0:0   \n",
       "3813591   1-00:00:00     00:03:05      1     8  production      0:0   \n",
       "3813592     05:00:00     00:02:05      1     1  production      0:0   \n",
       "\n",
       "             STATE NODELIST HHMMSS_USED DAYS_USED HH_USED MM_USED SS_USED  \n",
       "0        COMPLETED   cn1531    18:00:28        13      18      00      28  \n",
       "1        COMPLETED   cn1441    14:50:56        12      14      50      56  \n",
       "2        COMPLETED   cn1464    18:00:20        13      18      00      20  \n",
       "3        COMPLETED   cn1473    03:50:32        12      03      50      32  \n",
       "4        COMPLETED   cn1440    18:00:03        13      18      00      03  \n",
       "...            ...      ...         ...       ...     ...     ...     ...  \n",
       "3813588  COMPLETED    cn312    00:02:27       NaN      00      02      27  \n",
       "3813589  COMPLETED    cn312    00:02:27       NaN      00      02      27  \n",
       "3813590  COMPLETED    cn368    00:01:40       NaN      00      01      40  \n",
       "3813591    RUNNING   cn1509    00:03:05       NaN      00      03      05  \n",
       "3813592    RUNNING   cn1131    00:02:05       NaN      00      02      05  \n",
       "\n",
       "[3308108 rows x 18 columns]"
      ]
     },
     "execution_count": 16,
     "metadata": {},
     "output_type": "execute_result"
    }
   ],
   "source": [
    "accer_production"
   ]
  },
  {
   "cell_type": "code",
   "execution_count": 17,
   "metadata": {},
   "outputs": [
    {
     "name": "stderr",
     "output_type": "stream",
     "text": [
      "<ipython-input-17-7747bfc97f5e>:1: SettingWithCopyWarning: \n",
      "A value is trying to be set on a copy of a slice from a DataFrame.\n",
      "Try using .loc[row_indexer,col_indexer] = value instead\n",
      "\n",
      "See the caveats in the documentation: https://pandas.pydata.org/pandas-docs/stable/user_guide/indexing.html#returning-a-view-versus-a-copy\n",
      "  accer_production['HH_USED'] = accer_production['HH_USED'].astype(int)\n",
      "<ipython-input-17-7747bfc97f5e>:2: SettingWithCopyWarning: \n",
      "A value is trying to be set on a copy of a slice from a DataFrame.\n",
      "Try using .loc[row_indexer,col_indexer] = value instead\n",
      "\n",
      "See the caveats in the documentation: https://pandas.pydata.org/pandas-docs/stable/user_guide/indexing.html#returning-a-view-versus-a-copy\n",
      "  accer_production['MM_USED'] = accer_production['MM_USED'].astype(int)\n",
      "<ipython-input-17-7747bfc97f5e>:3: SettingWithCopyWarning: \n",
      "A value is trying to be set on a copy of a slice from a DataFrame.\n",
      "Try using .loc[row_indexer,col_indexer] = value instead\n",
      "\n",
      "See the caveats in the documentation: https://pandas.pydata.org/pandas-docs/stable/user_guide/indexing.html#returning-a-view-versus-a-copy\n",
      "  accer_production['SS_USED'] = accer_production['SS_USED'].astype(int)\n",
      "<ipython-input-17-7747bfc97f5e>:4: SettingWithCopyWarning: \n",
      "A value is trying to be set on a copy of a slice from a DataFrame.\n",
      "Try using .loc[row_indexer,col_indexer] = value instead\n",
      "\n",
      "See the caveats in the documentation: https://pandas.pydata.org/pandas-docs/stable/user_guide/indexing.html#returning-a-view-versus-a-copy\n",
      "  accer_production['DAYS_USED'] = accer_production['DAYS_USED'].fillna(0).astype(int)\n"
     ]
    }
   ],
   "source": [
    "accer_production['HH_USED'] = accer_production['HH_USED'].astype(int)\n",
    "accer_production['MM_USED'] = accer_production['MM_USED'].astype(int)\n",
    "accer_production['SS_USED'] = accer_production['SS_USED'].astype(int)\n",
    "accer_production['DAYS_USED'] = accer_production['DAYS_USED'].fillna(0).astype(int)\n"
   ]
  },
  {
   "cell_type": "code",
   "execution_count": 18,
   "metadata": {},
   "outputs": [],
   "source": [
    "day_sec_used = accer_production['DAYS_USED'] * 24 * 3600\n",
    "hour_sec_used = accer_production['HH_USED']*3600\n",
    "minute_sec_used = accer_production['MM_USED']*60"
   ]
  },
  {
   "cell_type": "code",
   "execution_count": 19,
   "metadata": {},
   "outputs": [
    {
     "name": "stderr",
     "output_type": "stream",
     "text": [
      "<ipython-input-19-411e9a6a40e8>:1: SettingWithCopyWarning: \n",
      "A value is trying to be set on a copy of a slice from a DataFrame.\n",
      "Try using .loc[row_indexer,col_indexer] = value instead\n",
      "\n",
      "See the caveats in the documentation: https://pandas.pydata.org/pandas-docs/stable/user_guide/indexing.html#returning-a-view-versus-a-copy\n",
      "  accer_production['TOTAL_SEC_USED'] = day_sec_used + hour_sec_used + minute_sec_used + accer_production['SS_USED']\n"
     ]
    }
   ],
   "source": [
    "accer_production['TOTAL_SEC_USED'] = day_sec_used + hour_sec_used + minute_sec_used + accer_production['SS_USED']"
   ]
  },
  {
   "cell_type": "code",
   "execution_count": 20,
   "metadata": {},
   "outputs": [
    {
     "name": "stderr",
     "output_type": "stream",
     "text": [
      "<ipython-input-20-423ffee273da>:1: SettingWithCopyWarning: \n",
      "A value is trying to be set on a copy of a slice from a DataFrame.\n",
      "Try using .loc[row_indexer,col_indexer] = value instead\n",
      "\n",
      "See the caveats in the documentation: https://pandas.pydata.org/pandas-docs/stable/user_guide/indexing.html#returning-a-view-versus-a-copy\n",
      "  accer_production['HHMMSS_REQ'] = accer_production['REQTIME'].str.extract('(\\d{2}:\\d{2}:\\d{2})')\n"
     ]
    }
   ],
   "source": [
    "accer_production['HHMMSS_REQ'] = accer_production['REQTIME'].str.extract('(\\d{2}:\\d{2}:\\d{2})')"
   ]
  },
  {
   "cell_type": "code",
   "execution_count": 21,
   "metadata": {},
   "outputs": [
    {
     "name": "stderr",
     "output_type": "stream",
     "text": [
      "<ipython-input-21-5bdadda7d1d2>:1: SettingWithCopyWarning: \n",
      "A value is trying to be set on a copy of a slice from a DataFrame.\n",
      "Try using .loc[row_indexer,col_indexer] = value instead\n",
      "\n",
      "See the caveats in the documentation: https://pandas.pydata.org/pandas-docs/stable/user_guide/indexing.html#returning-a-view-versus-a-copy\n",
      "  accer_production['DAYS_REQ'] = accer_production['REQTIME'].str.extract('(\\d+)-')\n"
     ]
    }
   ],
   "source": [
    "accer_production['DAYS_REQ'] = accer_production['REQTIME'].str.extract('(\\d+)-')"
   ]
  },
  {
   "cell_type": "code",
   "execution_count": 22,
   "metadata": {},
   "outputs": [
    {
     "name": "stderr",
     "output_type": "stream",
     "text": [
      "<ipython-input-22-b16cf38ee4de>:1: SettingWithCopyWarning: \n",
      "A value is trying to be set on a copy of a slice from a DataFrame.\n",
      "Try using .loc[row_indexer,col_indexer] = value instead\n",
      "\n",
      "See the caveats in the documentation: https://pandas.pydata.org/pandas-docs/stable/user_guide/indexing.html#returning-a-view-versus-a-copy\n",
      "  accer_production['HH_REQ'] = accer_production['HHMMSS_REQ'].str.extract('(\\d+):')\n",
      "<ipython-input-22-b16cf38ee4de>:2: SettingWithCopyWarning: \n",
      "A value is trying to be set on a copy of a slice from a DataFrame.\n",
      "Try using .loc[row_indexer,col_indexer] = value instead\n",
      "\n",
      "See the caveats in the documentation: https://pandas.pydata.org/pandas-docs/stable/user_guide/indexing.html#returning-a-view-versus-a-copy\n",
      "  accer_production['MM_REQ'] = accer_production['HHMMSS_REQ'].str.extract(':(\\d+):')\n",
      "<ipython-input-22-b16cf38ee4de>:3: SettingWithCopyWarning: \n",
      "A value is trying to be set on a copy of a slice from a DataFrame.\n",
      "Try using .loc[row_indexer,col_indexer] = value instead\n",
      "\n",
      "See the caveats in the documentation: https://pandas.pydata.org/pandas-docs/stable/user_guide/indexing.html#returning-a-view-versus-a-copy\n",
      "  accer_production['SS_REQ'] = accer_production['HHMMSS_REQ'].str.extract(':\\d+:(\\d+)')\n"
     ]
    }
   ],
   "source": [
    "accer_production['HH_REQ'] = accer_production['HHMMSS_REQ'].str.extract('(\\d+):')\n",
    "accer_production['MM_REQ'] = accer_production['HHMMSS_REQ'].str.extract(':(\\d+):')\n",
    "accer_production['SS_REQ'] = accer_production['HHMMSS_REQ'].str.extract(':\\d+:(\\d+)')"
   ]
  },
  {
   "cell_type": "code",
   "execution_count": 23,
   "metadata": {},
   "outputs": [
    {
     "name": "stderr",
     "output_type": "stream",
     "text": [
      "<ipython-input-23-005c0f9cf5ad>:1: SettingWithCopyWarning: \n",
      "A value is trying to be set on a copy of a slice from a DataFrame.\n",
      "Try using .loc[row_indexer,col_indexer] = value instead\n",
      "\n",
      "See the caveats in the documentation: https://pandas.pydata.org/pandas-docs/stable/user_guide/indexing.html#returning-a-view-versus-a-copy\n",
      "  accer_production['HH_REQ'] = accer_production['HH_REQ'].astype(int)\n",
      "<ipython-input-23-005c0f9cf5ad>:2: SettingWithCopyWarning: \n",
      "A value is trying to be set on a copy of a slice from a DataFrame.\n",
      "Try using .loc[row_indexer,col_indexer] = value instead\n",
      "\n",
      "See the caveats in the documentation: https://pandas.pydata.org/pandas-docs/stable/user_guide/indexing.html#returning-a-view-versus-a-copy\n",
      "  accer_production['MM_REQ'] = accer_production['MM_REQ'].astype(int)\n",
      "<ipython-input-23-005c0f9cf5ad>:3: SettingWithCopyWarning: \n",
      "A value is trying to be set on a copy of a slice from a DataFrame.\n",
      "Try using .loc[row_indexer,col_indexer] = value instead\n",
      "\n",
      "See the caveats in the documentation: https://pandas.pydata.org/pandas-docs/stable/user_guide/indexing.html#returning-a-view-versus-a-copy\n",
      "  accer_production['SS_REQ'] = accer_production['SS_REQ'].astype(int)\n",
      "<ipython-input-23-005c0f9cf5ad>:4: SettingWithCopyWarning: \n",
      "A value is trying to be set on a copy of a slice from a DataFrame.\n",
      "Try using .loc[row_indexer,col_indexer] = value instead\n",
      "\n",
      "See the caveats in the documentation: https://pandas.pydata.org/pandas-docs/stable/user_guide/indexing.html#returning-a-view-versus-a-copy\n",
      "  accer_production['DAYS_REQ'] = accer_production['DAYS_REQ'].fillna(0).astype(int)\n"
     ]
    }
   ],
   "source": [
    "accer_production['HH_REQ'] = accer_production['HH_REQ'].astype(int)\n",
    "accer_production['MM_REQ'] = accer_production['MM_REQ'].astype(int)\n",
    "accer_production['SS_REQ'] = accer_production['SS_REQ'].astype(int)\n",
    "accer_production['DAYS_REQ'] = accer_production['DAYS_REQ'].fillna(0).astype(int)"
   ]
  },
  {
   "cell_type": "code",
   "execution_count": 24,
   "metadata": {},
   "outputs": [],
   "source": [
    "day_sec_req = accer_production['DAYS_REQ'] * 24 * 3600\n",
    "hour_sec_req = accer_production['HH_REQ']*3600\n",
    "minute_sec_req = accer_production['MM_REQ']*60"
   ]
  },
  {
   "cell_type": "code",
   "execution_count": 25,
   "metadata": {},
   "outputs": [
    {
     "name": "stderr",
     "output_type": "stream",
     "text": [
      "<ipython-input-25-fb9f21ab98b1>:1: SettingWithCopyWarning: \n",
      "A value is trying to be set on a copy of a slice from a DataFrame.\n",
      "Try using .loc[row_indexer,col_indexer] = value instead\n",
      "\n",
      "See the caveats in the documentation: https://pandas.pydata.org/pandas-docs/stable/user_guide/indexing.html#returning-a-view-versus-a-copy\n",
      "  accer_production['TOTAL_SEC_REQ'] = day_sec_req + hour_sec_req + minute_sec_req + accer_production['SS_REQ']\n"
     ]
    }
   ],
   "source": [
    "accer_production['TOTAL_SEC_REQ'] = day_sec_req + hour_sec_req + minute_sec_req + accer_production['SS_REQ']"
   ]
  },
  {
   "cell_type": "code",
   "execution_count": 26,
   "metadata": {},
   "outputs": [
    {
     "data": {
      "text/plain": [
       "28000Mn     365414\n",
       "16384Mn     287354\n",
       "5000Mn      263825\n",
       "4096Mn      215161\n",
       "12288Mn     177449\n",
       "             ...  \n",
       "123398Mn         1\n",
       "10Mn             1\n",
       "59392Mn          1\n",
       "252542Mn         1\n",
       "8000Mc           1\n",
       "Name: REQMEM, Length: 176, dtype: int64"
      ]
     },
     "execution_count": 26,
     "metadata": {},
     "output_type": "execute_result"
    }
   ],
   "source": [
    "accer_production['REQMEM'].value_counts()"
   ]
  },
  {
   "cell_type": "code",
   "execution_count": 27,
   "metadata": {},
   "outputs": [
    {
     "name": "stderr",
     "output_type": "stream",
     "text": [
      "<ipython-input-27-b129ce27e1b5>:1: SettingWithCopyWarning: \n",
      "A value is trying to be set on a copy of a slice from a DataFrame.\n",
      "Try using .loc[row_indexer,col_indexer] = value instead\n",
      "\n",
      "See the caveats in the documentation: https://pandas.pydata.org/pandas-docs/stable/user_guide/indexing.html#returning-a-view-versus-a-copy\n",
      "  accer_production['mem_req_type']=accer_production['REQMEM'].str.extract(r'\\d+(\\w+)')\n"
     ]
    }
   ],
   "source": [
    "accer_production['mem_req_type']=accer_production['REQMEM'].str.extract(r'\\d+(\\w+)') "
   ]
  },
  {
   "cell_type": "code",
   "execution_count": 28,
   "metadata": {},
   "outputs": [
    {
     "name": "stderr",
     "output_type": "stream",
     "text": [
      "<ipython-input-28-3c304708607e>:1: SettingWithCopyWarning: \n",
      "A value is trying to be set on a copy of a slice from a DataFrame.\n",
      "Try using .loc[row_indexer,col_indexer] = value instead\n",
      "\n",
      "See the caveats in the documentation: https://pandas.pydata.org/pandas-docs/stable/user_guide/indexing.html#returning-a-view-versus-a-copy\n",
      "  accer_production['mem_req_amnt']=accer_production['REQMEM'].str.extract(r'(\\d+)\\w+')\n"
     ]
    }
   ],
   "source": [
    "accer_production['mem_req_amnt']=accer_production['REQMEM'].str.extract(r'(\\d+)\\w+')"
   ]
  },
  {
   "cell_type": "code",
   "execution_count": 29,
   "metadata": {},
   "outputs": [
    {
     "data": {
      "text/plain": [
       "Mn    2492294\n",
       "Mc     815814\n",
       "Name: mem_req_type, dtype: int64"
      ]
     },
     "execution_count": 29,
     "metadata": {},
     "output_type": "execute_result"
    }
   ],
   "source": [
    "accer_production['mem_req_type'].value_counts()"
   ]
  },
  {
   "cell_type": "code",
   "execution_count": 30,
   "metadata": {},
   "outputs": [
    {
     "data": {
      "text/html": [
       "<div>\n",
       "<style scoped>\n",
       "    .dataframe tbody tr th:only-of-type {\n",
       "        vertical-align: middle;\n",
       "    }\n",
       "\n",
       "    .dataframe tbody tr th {\n",
       "        vertical-align: top;\n",
       "    }\n",
       "\n",
       "    .dataframe thead th {\n",
       "        text-align: right;\n",
       "    }\n",
       "</style>\n",
       "<table border=\"1\" class=\"dataframe\">\n",
       "  <thead>\n",
       "    <tr style=\"text-align: right;\">\n",
       "      <th></th>\n",
       "      <th>JOBID</th>\n",
       "      <th>ACCOUNT</th>\n",
       "      <th>USER</th>\n",
       "      <th>REQMEM</th>\n",
       "      <th>USEDMEM</th>\n",
       "      <th>REQTIME</th>\n",
       "      <th>USEDTIME</th>\n",
       "      <th>NODES</th>\n",
       "      <th>CPUS</th>\n",
       "      <th>PARTITION</th>\n",
       "      <th>...</th>\n",
       "      <th>SS_USED</th>\n",
       "      <th>TOTAL_SEC_USED</th>\n",
       "      <th>HHMMSS_REQ</th>\n",
       "      <th>DAYS_REQ</th>\n",
       "      <th>HH_REQ</th>\n",
       "      <th>MM_REQ</th>\n",
       "      <th>SS_REQ</th>\n",
       "      <th>TOTAL_SEC_REQ</th>\n",
       "      <th>mem_req_type</th>\n",
       "      <th>mem_req_amnt</th>\n",
       "    </tr>\n",
       "  </thead>\n",
       "  <tbody>\n",
       "    <tr>\n",
       "      <th>0</th>\n",
       "      <td>15925210</td>\n",
       "      <td>treviso</td>\n",
       "      <td>arabella</td>\n",
       "      <td>122880Mn</td>\n",
       "      <td>65973.49M</td>\n",
       "      <td>13-18:00:00</td>\n",
       "      <td>13-18:00:28</td>\n",
       "      <td>1</td>\n",
       "      <td>24</td>\n",
       "      <td>production</td>\n",
       "      <td>...</td>\n",
       "      <td>28</td>\n",
       "      <td>1188028</td>\n",
       "      <td>18:00:00</td>\n",
       "      <td>13</td>\n",
       "      <td>18</td>\n",
       "      <td>0</td>\n",
       "      <td>0</td>\n",
       "      <td>1188000</td>\n",
       "      <td>Mn</td>\n",
       "      <td>122880</td>\n",
       "    </tr>\n",
       "    <tr>\n",
       "      <th>1</th>\n",
       "      <td>15861126</td>\n",
       "      <td>treviso</td>\n",
       "      <td>arabella</td>\n",
       "      <td>122880Mn</td>\n",
       "      <td>67181.12M</td>\n",
       "      <td>13-18:00:00</td>\n",
       "      <td>12-14:50:56</td>\n",
       "      <td>1</td>\n",
       "      <td>24</td>\n",
       "      <td>production</td>\n",
       "      <td>...</td>\n",
       "      <td>56</td>\n",
       "      <td>1090256</td>\n",
       "      <td>18:00:00</td>\n",
       "      <td>13</td>\n",
       "      <td>18</td>\n",
       "      <td>0</td>\n",
       "      <td>0</td>\n",
       "      <td>1188000</td>\n",
       "      <td>Mn</td>\n",
       "      <td>122880</td>\n",
       "    </tr>\n",
       "    <tr>\n",
       "      <th>2</th>\n",
       "      <td>15861125</td>\n",
       "      <td>treviso</td>\n",
       "      <td>arabella</td>\n",
       "      <td>122880Mn</td>\n",
       "      <td>69111.86M</td>\n",
       "      <td>13-18:00:00</td>\n",
       "      <td>13-18:00:20</td>\n",
       "      <td>1</td>\n",
       "      <td>24</td>\n",
       "      <td>production</td>\n",
       "      <td>...</td>\n",
       "      <td>20</td>\n",
       "      <td>1188020</td>\n",
       "      <td>18:00:00</td>\n",
       "      <td>13</td>\n",
       "      <td>18</td>\n",
       "      <td>0</td>\n",
       "      <td>0</td>\n",
       "      <td>1188000</td>\n",
       "      <td>Mn</td>\n",
       "      <td>122880</td>\n",
       "    </tr>\n",
       "    <tr>\n",
       "      <th>3</th>\n",
       "      <td>16251645</td>\n",
       "      <td>treviso</td>\n",
       "      <td>arabella</td>\n",
       "      <td>122880Mn</td>\n",
       "      <td>65317.33M</td>\n",
       "      <td>13-18:00:00</td>\n",
       "      <td>12-03:50:32</td>\n",
       "      <td>1</td>\n",
       "      <td>24</td>\n",
       "      <td>production</td>\n",
       "      <td>...</td>\n",
       "      <td>32</td>\n",
       "      <td>1050632</td>\n",
       "      <td>18:00:00</td>\n",
       "      <td>13</td>\n",
       "      <td>18</td>\n",
       "      <td>0</td>\n",
       "      <td>0</td>\n",
       "      <td>1188000</td>\n",
       "      <td>Mn</td>\n",
       "      <td>122880</td>\n",
       "    </tr>\n",
       "    <tr>\n",
       "      <th>4</th>\n",
       "      <td>16251646</td>\n",
       "      <td>treviso</td>\n",
       "      <td>arabella</td>\n",
       "      <td>122880Mn</td>\n",
       "      <td>65876.11M</td>\n",
       "      <td>13-18:00:00</td>\n",
       "      <td>13-18:00:03</td>\n",
       "      <td>1</td>\n",
       "      <td>24</td>\n",
       "      <td>production</td>\n",
       "      <td>...</td>\n",
       "      <td>3</td>\n",
       "      <td>1188003</td>\n",
       "      <td>18:00:00</td>\n",
       "      <td>13</td>\n",
       "      <td>18</td>\n",
       "      <td>0</td>\n",
       "      <td>0</td>\n",
       "      <td>1188000</td>\n",
       "      <td>Mn</td>\n",
       "      <td>122880</td>\n",
       "    </tr>\n",
       "    <tr>\n",
       "      <th>...</th>\n",
       "      <td>...</td>\n",
       "      <td>...</td>\n",
       "      <td>...</td>\n",
       "      <td>...</td>\n",
       "      <td>...</td>\n",
       "      <td>...</td>\n",
       "      <td>...</td>\n",
       "      <td>...</td>\n",
       "      <td>...</td>\n",
       "      <td>...</td>\n",
       "      <td>...</td>\n",
       "      <td>...</td>\n",
       "      <td>...</td>\n",
       "      <td>...</td>\n",
       "      <td>...</td>\n",
       "      <td>...</td>\n",
       "      <td>...</td>\n",
       "      <td>...</td>\n",
       "      <td>...</td>\n",
       "      <td>...</td>\n",
       "      <td>...</td>\n",
       "    </tr>\n",
       "    <tr>\n",
       "      <th>3813588</th>\n",
       "      <td>24173815_8</td>\n",
       "      <td>portabella</td>\n",
       "      <td>vennie</td>\n",
       "      <td>32768Mn</td>\n",
       "      <td>30042.68M</td>\n",
       "      <td>1-00:00:00</td>\n",
       "      <td>00:02:27</td>\n",
       "      <td>1</td>\n",
       "      <td>2</td>\n",
       "      <td>production</td>\n",
       "      <td>...</td>\n",
       "      <td>27</td>\n",
       "      <td>147</td>\n",
       "      <td>00:00:00</td>\n",
       "      <td>1</td>\n",
       "      <td>0</td>\n",
       "      <td>0</td>\n",
       "      <td>0</td>\n",
       "      <td>86400</td>\n",
       "      <td>Mn</td>\n",
       "      <td>32768</td>\n",
       "    </tr>\n",
       "    <tr>\n",
       "      <th>3813589</th>\n",
       "      <td>24173815_9</td>\n",
       "      <td>portabella</td>\n",
       "      <td>vennie</td>\n",
       "      <td>32768Mn</td>\n",
       "      <td>31067.75M</td>\n",
       "      <td>1-00:00:00</td>\n",
       "      <td>00:02:27</td>\n",
       "      <td>1</td>\n",
       "      <td>2</td>\n",
       "      <td>production</td>\n",
       "      <td>...</td>\n",
       "      <td>27</td>\n",
       "      <td>147</td>\n",
       "      <td>00:00:00</td>\n",
       "      <td>1</td>\n",
       "      <td>0</td>\n",
       "      <td>0</td>\n",
       "      <td>0</td>\n",
       "      <td>86400</td>\n",
       "      <td>Mn</td>\n",
       "      <td>32768</td>\n",
       "    </tr>\n",
       "    <tr>\n",
       "      <th>3813590</th>\n",
       "      <td>24173815_10</td>\n",
       "      <td>portabella</td>\n",
       "      <td>vennie</td>\n",
       "      <td>32768Mn</td>\n",
       "      <td>21207.96M</td>\n",
       "      <td>1-00:00:00</td>\n",
       "      <td>00:01:40</td>\n",
       "      <td>1</td>\n",
       "      <td>2</td>\n",
       "      <td>production</td>\n",
       "      <td>...</td>\n",
       "      <td>40</td>\n",
       "      <td>100</td>\n",
       "      <td>00:00:00</td>\n",
       "      <td>1</td>\n",
       "      <td>0</td>\n",
       "      <td>0</td>\n",
       "      <td>0</td>\n",
       "      <td>86400</td>\n",
       "      <td>Mn</td>\n",
       "      <td>32768</td>\n",
       "    </tr>\n",
       "    <tr>\n",
       "      <th>3813591</th>\n",
       "      <td>24173817</td>\n",
       "      <td>boysenberries</td>\n",
       "      <td>hortensia</td>\n",
       "      <td>100000Mn</td>\n",
       "      <td>0</td>\n",
       "      <td>1-00:00:00</td>\n",
       "      <td>00:03:05</td>\n",
       "      <td>1</td>\n",
       "      <td>8</td>\n",
       "      <td>production</td>\n",
       "      <td>...</td>\n",
       "      <td>5</td>\n",
       "      <td>185</td>\n",
       "      <td>00:00:00</td>\n",
       "      <td>1</td>\n",
       "      <td>0</td>\n",
       "      <td>0</td>\n",
       "      <td>0</td>\n",
       "      <td>86400</td>\n",
       "      <td>Mn</td>\n",
       "      <td>100000</td>\n",
       "    </tr>\n",
       "    <tr>\n",
       "      <th>3813592</th>\n",
       "      <td>24173866</td>\n",
       "      <td>horseradish</td>\n",
       "      <td>ariane</td>\n",
       "      <td>20480Mn</td>\n",
       "      <td>0</td>\n",
       "      <td>05:00:00</td>\n",
       "      <td>00:02:05</td>\n",
       "      <td>1</td>\n",
       "      <td>1</td>\n",
       "      <td>production</td>\n",
       "      <td>...</td>\n",
       "      <td>5</td>\n",
       "      <td>125</td>\n",
       "      <td>05:00:00</td>\n",
       "      <td>0</td>\n",
       "      <td>5</td>\n",
       "      <td>0</td>\n",
       "      <td>0</td>\n",
       "      <td>18000</td>\n",
       "      <td>Mn</td>\n",
       "      <td>20480</td>\n",
       "    </tr>\n",
       "  </tbody>\n",
       "</table>\n",
       "<p>3308108 rows × 27 columns</p>\n",
       "</div>"
      ],
      "text/plain": [
       "               JOBID        ACCOUNT       USER    REQMEM    USEDMEM  \\\n",
       "0           15925210        treviso   arabella  122880Mn  65973.49M   \n",
       "1           15861126        treviso   arabella  122880Mn  67181.12M   \n",
       "2           15861125        treviso   arabella  122880Mn  69111.86M   \n",
       "3           16251645        treviso   arabella  122880Mn  65317.33M   \n",
       "4           16251646        treviso   arabella  122880Mn  65876.11M   \n",
       "...              ...            ...        ...       ...        ...   \n",
       "3813588   24173815_8     portabella     vennie   32768Mn  30042.68M   \n",
       "3813589   24173815_9     portabella     vennie   32768Mn  31067.75M   \n",
       "3813590  24173815_10     portabella     vennie   32768Mn  21207.96M   \n",
       "3813591     24173817  boysenberries  hortensia  100000Mn          0   \n",
       "3813592     24173866    horseradish     ariane   20480Mn          0   \n",
       "\n",
       "             REQTIME     USEDTIME  NODES  CPUS   PARTITION  ... SS_USED  \\\n",
       "0        13-18:00:00  13-18:00:28      1    24  production  ...      28   \n",
       "1        13-18:00:00  12-14:50:56      1    24  production  ...      56   \n",
       "2        13-18:00:00  13-18:00:20      1    24  production  ...      20   \n",
       "3        13-18:00:00  12-03:50:32      1    24  production  ...      32   \n",
       "4        13-18:00:00  13-18:00:03      1    24  production  ...       3   \n",
       "...              ...          ...    ...   ...         ...  ...     ...   \n",
       "3813588   1-00:00:00     00:02:27      1     2  production  ...      27   \n",
       "3813589   1-00:00:00     00:02:27      1     2  production  ...      27   \n",
       "3813590   1-00:00:00     00:01:40      1     2  production  ...      40   \n",
       "3813591   1-00:00:00     00:03:05      1     8  production  ...       5   \n",
       "3813592     05:00:00     00:02:05      1     1  production  ...       5   \n",
       "\n",
       "        TOTAL_SEC_USED HHMMSS_REQ DAYS_REQ  HH_REQ  MM_REQ  SS_REQ  \\\n",
       "0              1188028   18:00:00       13      18       0       0   \n",
       "1              1090256   18:00:00       13      18       0       0   \n",
       "2              1188020   18:00:00       13      18       0       0   \n",
       "3              1050632   18:00:00       13      18       0       0   \n",
       "4              1188003   18:00:00       13      18       0       0   \n",
       "...                ...        ...      ...     ...     ...     ...   \n",
       "3813588            147   00:00:00        1       0       0       0   \n",
       "3813589            147   00:00:00        1       0       0       0   \n",
       "3813590            100   00:00:00        1       0       0       0   \n",
       "3813591            185   00:00:00        1       0       0       0   \n",
       "3813592            125   05:00:00        0       5       0       0   \n",
       "\n",
       "         TOTAL_SEC_REQ  mem_req_type mem_req_amnt  \n",
       "0              1188000            Mn       122880  \n",
       "1              1188000            Mn       122880  \n",
       "2              1188000            Mn       122880  \n",
       "3              1188000            Mn       122880  \n",
       "4              1188000            Mn       122880  \n",
       "...                ...           ...          ...  \n",
       "3813588          86400            Mn        32768  \n",
       "3813589          86400            Mn        32768  \n",
       "3813590          86400            Mn        32768  \n",
       "3813591          86400            Mn       100000  \n",
       "3813592          18000            Mn        20480  \n",
       "\n",
       "[3308108 rows x 27 columns]"
      ]
     },
     "execution_count": 30,
     "metadata": {},
     "output_type": "execute_result"
    }
   ],
   "source": [
    "accer_production"
   ]
  },
  {
   "cell_type": "code",
   "execution_count": 31,
   "metadata": {},
   "outputs": [
    {
     "data": {
      "text/plain": [
       "0            544284\n",
       "6.23M         46819\n",
       "6.24M         41677\n",
       "0.79M         39715\n",
       "0.78M          9309\n",
       "              ...  \n",
       "25984.88M         1\n",
       "6948.96M          1\n",
       "5699.42M          1\n",
       "15781.94M         1\n",
       "11216.73M         1\n",
       "Name: USEDMEM, Length: 782208, dtype: int64"
      ]
     },
     "execution_count": 31,
     "metadata": {},
     "output_type": "execute_result"
    }
   ],
   "source": [
    "accer_production['USEDMEM'].value_counts()"
   ]
  },
  {
   "cell_type": "code",
   "execution_count": 32,
   "metadata": {},
   "outputs": [
    {
     "name": "stderr",
     "output_type": "stream",
     "text": [
      "<ipython-input-32-3faa7fedde31>:1: SettingWithCopyWarning: \n",
      "A value is trying to be set on a copy of a slice from a DataFrame.\n",
      "Try using .loc[row_indexer,col_indexer] = value instead\n",
      "\n",
      "See the caveats in the documentation: https://pandas.pydata.org/pandas-docs/stable/user_guide/indexing.html#returning-a-view-versus-a-copy\n",
      "  accer_production['mem_used_type']=accer_production['USEDMEM'].str.extract(r'\\d+\\.*\\d*(\\w{1})')\n"
     ]
    }
   ],
   "source": [
    "accer_production['mem_used_type']=accer_production['USEDMEM'].str.extract(r'\\d+\\.*\\d*(\\w{1})') "
   ]
  },
  {
   "cell_type": "code",
   "execution_count": 33,
   "metadata": {},
   "outputs": [
    {
     "name": "stderr",
     "output_type": "stream",
     "text": [
      "<ipython-input-33-60207a7e0aa8>:1: SettingWithCopyWarning: \n",
      "A value is trying to be set on a copy of a slice from a DataFrame.\n",
      "Try using .loc[row_indexer,col_indexer] = value instead\n",
      "\n",
      "See the caveats in the documentation: https://pandas.pydata.org/pandas-docs/stable/user_guide/indexing.html#returning-a-view-versus-a-copy\n",
      "  accer_production['mem_used_amnt']=accer_production['USEDMEM'].str.extract(r'(\\d+\\.*\\d*)\\w+')\n"
     ]
    }
   ],
   "source": [
    "accer_production['mem_used_amnt']=accer_production['USEDMEM'].str.extract(r'(\\d+\\.*\\d*)\\w+')"
   ]
  },
  {
   "cell_type": "code",
   "execution_count": 34,
   "metadata": {},
   "outputs": [
    {
     "data": {
      "text/plain": [
       "M    2763824\n",
       "Name: mem_used_type, dtype: int64"
      ]
     },
     "execution_count": 34,
     "metadata": {},
     "output_type": "execute_result"
    }
   ],
   "source": [
    "accer_production['mem_used_type'].value_counts()"
   ]
  },
  {
   "cell_type": "code",
   "execution_count": 35,
   "metadata": {},
   "outputs": [
    {
     "data": {
      "text/html": [
       "<div>\n",
       "<style scoped>\n",
       "    .dataframe tbody tr th:only-of-type {\n",
       "        vertical-align: middle;\n",
       "    }\n",
       "\n",
       "    .dataframe tbody tr th {\n",
       "        vertical-align: top;\n",
       "    }\n",
       "\n",
       "    .dataframe thead th {\n",
       "        text-align: right;\n",
       "    }\n",
       "</style>\n",
       "<table border=\"1\" class=\"dataframe\">\n",
       "  <thead>\n",
       "    <tr style=\"text-align: right;\">\n",
       "      <th></th>\n",
       "      <th>JOBID</th>\n",
       "      <th>ACCOUNT</th>\n",
       "      <th>USER</th>\n",
       "      <th>REQMEM</th>\n",
       "      <th>USEDMEM</th>\n",
       "      <th>REQTIME</th>\n",
       "      <th>USEDTIME</th>\n",
       "      <th>NODES</th>\n",
       "      <th>CPUS</th>\n",
       "      <th>PARTITION</th>\n",
       "      <th>...</th>\n",
       "      <th>HHMMSS_REQ</th>\n",
       "      <th>DAYS_REQ</th>\n",
       "      <th>HH_REQ</th>\n",
       "      <th>MM_REQ</th>\n",
       "      <th>SS_REQ</th>\n",
       "      <th>TOTAL_SEC_REQ</th>\n",
       "      <th>mem_req_type</th>\n",
       "      <th>mem_req_amnt</th>\n",
       "      <th>mem_used_type</th>\n",
       "      <th>mem_used_amnt</th>\n",
       "    </tr>\n",
       "  </thead>\n",
       "  <tbody>\n",
       "    <tr>\n",
       "      <th>0</th>\n",
       "      <td>15925210</td>\n",
       "      <td>treviso</td>\n",
       "      <td>arabella</td>\n",
       "      <td>122880Mn</td>\n",
       "      <td>65973.49M</td>\n",
       "      <td>13-18:00:00</td>\n",
       "      <td>13-18:00:28</td>\n",
       "      <td>1</td>\n",
       "      <td>24</td>\n",
       "      <td>production</td>\n",
       "      <td>...</td>\n",
       "      <td>18:00:00</td>\n",
       "      <td>13</td>\n",
       "      <td>18</td>\n",
       "      <td>0</td>\n",
       "      <td>0</td>\n",
       "      <td>1188000</td>\n",
       "      <td>Mn</td>\n",
       "      <td>122880</td>\n",
       "      <td>M</td>\n",
       "      <td>65973.49</td>\n",
       "    </tr>\n",
       "    <tr>\n",
       "      <th>1</th>\n",
       "      <td>15861126</td>\n",
       "      <td>treviso</td>\n",
       "      <td>arabella</td>\n",
       "      <td>122880Mn</td>\n",
       "      <td>67181.12M</td>\n",
       "      <td>13-18:00:00</td>\n",
       "      <td>12-14:50:56</td>\n",
       "      <td>1</td>\n",
       "      <td>24</td>\n",
       "      <td>production</td>\n",
       "      <td>...</td>\n",
       "      <td>18:00:00</td>\n",
       "      <td>13</td>\n",
       "      <td>18</td>\n",
       "      <td>0</td>\n",
       "      <td>0</td>\n",
       "      <td>1188000</td>\n",
       "      <td>Mn</td>\n",
       "      <td>122880</td>\n",
       "      <td>M</td>\n",
       "      <td>67181.12</td>\n",
       "    </tr>\n",
       "    <tr>\n",
       "      <th>2</th>\n",
       "      <td>15861125</td>\n",
       "      <td>treviso</td>\n",
       "      <td>arabella</td>\n",
       "      <td>122880Mn</td>\n",
       "      <td>69111.86M</td>\n",
       "      <td>13-18:00:00</td>\n",
       "      <td>13-18:00:20</td>\n",
       "      <td>1</td>\n",
       "      <td>24</td>\n",
       "      <td>production</td>\n",
       "      <td>...</td>\n",
       "      <td>18:00:00</td>\n",
       "      <td>13</td>\n",
       "      <td>18</td>\n",
       "      <td>0</td>\n",
       "      <td>0</td>\n",
       "      <td>1188000</td>\n",
       "      <td>Mn</td>\n",
       "      <td>122880</td>\n",
       "      <td>M</td>\n",
       "      <td>69111.86</td>\n",
       "    </tr>\n",
       "    <tr>\n",
       "      <th>3</th>\n",
       "      <td>16251645</td>\n",
       "      <td>treviso</td>\n",
       "      <td>arabella</td>\n",
       "      <td>122880Mn</td>\n",
       "      <td>65317.33M</td>\n",
       "      <td>13-18:00:00</td>\n",
       "      <td>12-03:50:32</td>\n",
       "      <td>1</td>\n",
       "      <td>24</td>\n",
       "      <td>production</td>\n",
       "      <td>...</td>\n",
       "      <td>18:00:00</td>\n",
       "      <td>13</td>\n",
       "      <td>18</td>\n",
       "      <td>0</td>\n",
       "      <td>0</td>\n",
       "      <td>1188000</td>\n",
       "      <td>Mn</td>\n",
       "      <td>122880</td>\n",
       "      <td>M</td>\n",
       "      <td>65317.33</td>\n",
       "    </tr>\n",
       "    <tr>\n",
       "      <th>4</th>\n",
       "      <td>16251646</td>\n",
       "      <td>treviso</td>\n",
       "      <td>arabella</td>\n",
       "      <td>122880Mn</td>\n",
       "      <td>65876.11M</td>\n",
       "      <td>13-18:00:00</td>\n",
       "      <td>13-18:00:03</td>\n",
       "      <td>1</td>\n",
       "      <td>24</td>\n",
       "      <td>production</td>\n",
       "      <td>...</td>\n",
       "      <td>18:00:00</td>\n",
       "      <td>13</td>\n",
       "      <td>18</td>\n",
       "      <td>0</td>\n",
       "      <td>0</td>\n",
       "      <td>1188000</td>\n",
       "      <td>Mn</td>\n",
       "      <td>122880</td>\n",
       "      <td>M</td>\n",
       "      <td>65876.11</td>\n",
       "    </tr>\n",
       "    <tr>\n",
       "      <th>...</th>\n",
       "      <td>...</td>\n",
       "      <td>...</td>\n",
       "      <td>...</td>\n",
       "      <td>...</td>\n",
       "      <td>...</td>\n",
       "      <td>...</td>\n",
       "      <td>...</td>\n",
       "      <td>...</td>\n",
       "      <td>...</td>\n",
       "      <td>...</td>\n",
       "      <td>...</td>\n",
       "      <td>...</td>\n",
       "      <td>...</td>\n",
       "      <td>...</td>\n",
       "      <td>...</td>\n",
       "      <td>...</td>\n",
       "      <td>...</td>\n",
       "      <td>...</td>\n",
       "      <td>...</td>\n",
       "      <td>...</td>\n",
       "      <td>...</td>\n",
       "    </tr>\n",
       "    <tr>\n",
       "      <th>3813588</th>\n",
       "      <td>24173815_8</td>\n",
       "      <td>portabella</td>\n",
       "      <td>vennie</td>\n",
       "      <td>32768Mn</td>\n",
       "      <td>30042.68M</td>\n",
       "      <td>1-00:00:00</td>\n",
       "      <td>00:02:27</td>\n",
       "      <td>1</td>\n",
       "      <td>2</td>\n",
       "      <td>production</td>\n",
       "      <td>...</td>\n",
       "      <td>00:00:00</td>\n",
       "      <td>1</td>\n",
       "      <td>0</td>\n",
       "      <td>0</td>\n",
       "      <td>0</td>\n",
       "      <td>86400</td>\n",
       "      <td>Mn</td>\n",
       "      <td>32768</td>\n",
       "      <td>M</td>\n",
       "      <td>30042.68</td>\n",
       "    </tr>\n",
       "    <tr>\n",
       "      <th>3813589</th>\n",
       "      <td>24173815_9</td>\n",
       "      <td>portabella</td>\n",
       "      <td>vennie</td>\n",
       "      <td>32768Mn</td>\n",
       "      <td>31067.75M</td>\n",
       "      <td>1-00:00:00</td>\n",
       "      <td>00:02:27</td>\n",
       "      <td>1</td>\n",
       "      <td>2</td>\n",
       "      <td>production</td>\n",
       "      <td>...</td>\n",
       "      <td>00:00:00</td>\n",
       "      <td>1</td>\n",
       "      <td>0</td>\n",
       "      <td>0</td>\n",
       "      <td>0</td>\n",
       "      <td>86400</td>\n",
       "      <td>Mn</td>\n",
       "      <td>32768</td>\n",
       "      <td>M</td>\n",
       "      <td>31067.75</td>\n",
       "    </tr>\n",
       "    <tr>\n",
       "      <th>3813590</th>\n",
       "      <td>24173815_10</td>\n",
       "      <td>portabella</td>\n",
       "      <td>vennie</td>\n",
       "      <td>32768Mn</td>\n",
       "      <td>21207.96M</td>\n",
       "      <td>1-00:00:00</td>\n",
       "      <td>00:01:40</td>\n",
       "      <td>1</td>\n",
       "      <td>2</td>\n",
       "      <td>production</td>\n",
       "      <td>...</td>\n",
       "      <td>00:00:00</td>\n",
       "      <td>1</td>\n",
       "      <td>0</td>\n",
       "      <td>0</td>\n",
       "      <td>0</td>\n",
       "      <td>86400</td>\n",
       "      <td>Mn</td>\n",
       "      <td>32768</td>\n",
       "      <td>M</td>\n",
       "      <td>21207.96</td>\n",
       "    </tr>\n",
       "    <tr>\n",
       "      <th>3813591</th>\n",
       "      <td>24173817</td>\n",
       "      <td>boysenberries</td>\n",
       "      <td>hortensia</td>\n",
       "      <td>100000Mn</td>\n",
       "      <td>0</td>\n",
       "      <td>1-00:00:00</td>\n",
       "      <td>00:03:05</td>\n",
       "      <td>1</td>\n",
       "      <td>8</td>\n",
       "      <td>production</td>\n",
       "      <td>...</td>\n",
       "      <td>00:00:00</td>\n",
       "      <td>1</td>\n",
       "      <td>0</td>\n",
       "      <td>0</td>\n",
       "      <td>0</td>\n",
       "      <td>86400</td>\n",
       "      <td>Mn</td>\n",
       "      <td>100000</td>\n",
       "      <td>NaN</td>\n",
       "      <td>NaN</td>\n",
       "    </tr>\n",
       "    <tr>\n",
       "      <th>3813592</th>\n",
       "      <td>24173866</td>\n",
       "      <td>horseradish</td>\n",
       "      <td>ariane</td>\n",
       "      <td>20480Mn</td>\n",
       "      <td>0</td>\n",
       "      <td>05:00:00</td>\n",
       "      <td>00:02:05</td>\n",
       "      <td>1</td>\n",
       "      <td>1</td>\n",
       "      <td>production</td>\n",
       "      <td>...</td>\n",
       "      <td>05:00:00</td>\n",
       "      <td>0</td>\n",
       "      <td>5</td>\n",
       "      <td>0</td>\n",
       "      <td>0</td>\n",
       "      <td>18000</td>\n",
       "      <td>Mn</td>\n",
       "      <td>20480</td>\n",
       "      <td>NaN</td>\n",
       "      <td>NaN</td>\n",
       "    </tr>\n",
       "  </tbody>\n",
       "</table>\n",
       "<p>3308108 rows × 29 columns</p>\n",
       "</div>"
      ],
      "text/plain": [
       "               JOBID        ACCOUNT       USER    REQMEM    USEDMEM  \\\n",
       "0           15925210        treviso   arabella  122880Mn  65973.49M   \n",
       "1           15861126        treviso   arabella  122880Mn  67181.12M   \n",
       "2           15861125        treviso   arabella  122880Mn  69111.86M   \n",
       "3           16251645        treviso   arabella  122880Mn  65317.33M   \n",
       "4           16251646        treviso   arabella  122880Mn  65876.11M   \n",
       "...              ...            ...        ...       ...        ...   \n",
       "3813588   24173815_8     portabella     vennie   32768Mn  30042.68M   \n",
       "3813589   24173815_9     portabella     vennie   32768Mn  31067.75M   \n",
       "3813590  24173815_10     portabella     vennie   32768Mn  21207.96M   \n",
       "3813591     24173817  boysenberries  hortensia  100000Mn          0   \n",
       "3813592     24173866    horseradish     ariane   20480Mn          0   \n",
       "\n",
       "             REQTIME     USEDTIME  NODES  CPUS   PARTITION  ... HHMMSS_REQ  \\\n",
       "0        13-18:00:00  13-18:00:28      1    24  production  ...   18:00:00   \n",
       "1        13-18:00:00  12-14:50:56      1    24  production  ...   18:00:00   \n",
       "2        13-18:00:00  13-18:00:20      1    24  production  ...   18:00:00   \n",
       "3        13-18:00:00  12-03:50:32      1    24  production  ...   18:00:00   \n",
       "4        13-18:00:00  13-18:00:03      1    24  production  ...   18:00:00   \n",
       "...              ...          ...    ...   ...         ...  ...        ...   \n",
       "3813588   1-00:00:00     00:02:27      1     2  production  ...   00:00:00   \n",
       "3813589   1-00:00:00     00:02:27      1     2  production  ...   00:00:00   \n",
       "3813590   1-00:00:00     00:01:40      1     2  production  ...   00:00:00   \n",
       "3813591   1-00:00:00     00:03:05      1     8  production  ...   00:00:00   \n",
       "3813592     05:00:00     00:02:05      1     1  production  ...   05:00:00   \n",
       "\n",
       "        DAYS_REQ HH_REQ MM_REQ  SS_REQ  TOTAL_SEC_REQ  mem_req_type  \\\n",
       "0             13     18      0       0        1188000            Mn   \n",
       "1             13     18      0       0        1188000            Mn   \n",
       "2             13     18      0       0        1188000            Mn   \n",
       "3             13     18      0       0        1188000            Mn   \n",
       "4             13     18      0       0        1188000            Mn   \n",
       "...          ...    ...    ...     ...            ...           ...   \n",
       "3813588        1      0      0       0          86400            Mn   \n",
       "3813589        1      0      0       0          86400            Mn   \n",
       "3813590        1      0      0       0          86400            Mn   \n",
       "3813591        1      0      0       0          86400            Mn   \n",
       "3813592        0      5      0       0          18000            Mn   \n",
       "\n",
       "         mem_req_amnt  mem_used_type mem_used_amnt  \n",
       "0              122880              M      65973.49  \n",
       "1              122880              M      67181.12  \n",
       "2              122880              M      69111.86  \n",
       "3              122880              M      65317.33  \n",
       "4              122880              M      65876.11  \n",
       "...               ...            ...           ...  \n",
       "3813588         32768              M      30042.68  \n",
       "3813589         32768              M      31067.75  \n",
       "3813590         32768              M      21207.96  \n",
       "3813591        100000            NaN           NaN  \n",
       "3813592         20480            NaN           NaN  \n",
       "\n",
       "[3308108 rows x 29 columns]"
      ]
     },
     "execution_count": 35,
     "metadata": {},
     "output_type": "execute_result"
    }
   ],
   "source": [
    "accer_production"
   ]
  },
  {
   "cell_type": "code",
   "execution_count": 36,
   "metadata": {},
   "outputs": [
    {
     "name": "stderr",
     "output_type": "stream",
     "text": [
      "<ipython-input-36-d38b8c2c8723>:1: SettingWithCopyWarning: \n",
      "A value is trying to be set on a copy of a slice from a DataFrame.\n",
      "Try using .loc[row_indexer,col_indexer] = value instead\n",
      "\n",
      "See the caveats in the documentation: https://pandas.pydata.org/pandas-docs/stable/user_guide/indexing.html#returning-a-view-versus-a-copy\n",
      "  accer_production['mem_req_amnt']=accer_production['mem_req_amnt'].astype(float)\n",
      "<ipython-input-36-d38b8c2c8723>:2: SettingWithCopyWarning: \n",
      "A value is trying to be set on a copy of a slice from a DataFrame.\n",
      "Try using .loc[row_indexer,col_indexer] = value instead\n",
      "\n",
      "See the caveats in the documentation: https://pandas.pydata.org/pandas-docs/stable/user_guide/indexing.html#returning-a-view-versus-a-copy\n",
      "  accer_production['mem_used_amnt']=accer_production['mem_used_amnt'].astype(float)\n"
     ]
    }
   ],
   "source": [
    "accer_production['mem_req_amnt']=accer_production['mem_req_amnt'].astype(float)\n",
    "accer_production['mem_used_amnt']=accer_production['mem_used_amnt'].astype(float)"
   ]
  },
  {
   "cell_type": "code",
   "execution_count": null,
   "metadata": {},
   "outputs": [],
   "source": []
  },
  {
   "cell_type": "code",
   "execution_count": 37,
   "metadata": {},
   "outputs": [
    {
     "name": "stdout",
     "output_type": "stream",
     "text": [
      "<class 'pandas.core.frame.DataFrame'>\n",
      "Int64Index: 3308108 entries, 0 to 3813592\n",
      "Data columns (total 29 columns):\n",
      " #   Column          Dtype  \n",
      "---  ------          -----  \n",
      " 0   JOBID           object \n",
      " 1   ACCOUNT         object \n",
      " 2   USER            object \n",
      " 3   REQMEM          object \n",
      " 4   USEDMEM         object \n",
      " 5   REQTIME         object \n",
      " 6   USEDTIME        object \n",
      " 7   NODES           int64  \n",
      " 8   CPUS            int64  \n",
      " 9   PARTITION       object \n",
      " 10  EXITCODE        object \n",
      " 11  STATE           object \n",
      " 12  NODELIST        object \n",
      " 13  HHMMSS_USED     object \n",
      " 14  DAYS_USED       int64  \n",
      " 15  HH_USED         int64  \n",
      " 16  MM_USED         int64  \n",
      " 17  SS_USED         int64  \n",
      " 18  TOTAL_SEC_USED  int64  \n",
      " 19  HHMMSS_REQ      object \n",
      " 20  DAYS_REQ        int64  \n",
      " 21  HH_REQ          int64  \n",
      " 22  MM_REQ          int64  \n",
      " 23  SS_REQ          int64  \n",
      " 24  TOTAL_SEC_REQ   int64  \n",
      " 25  mem_req_type    object \n",
      " 26  mem_req_amnt    float64\n",
      " 27  mem_used_type   object \n",
      " 28  mem_used_amnt   float64\n",
      "dtypes: float64(2), int64(12), object(15)\n",
      "memory usage: 757.2+ MB\n"
     ]
    }
   ],
   "source": [
    "accer_production.info()"
   ]
  },
  {
   "cell_type": "code",
   "execution_count": 38,
   "metadata": {},
   "outputs": [
    {
     "data": {
      "text/plain": [
       "544284"
      ]
     },
     "execution_count": 38,
     "metadata": {},
     "output_type": "execute_result"
    }
   ],
   "source": [
    "accer_production['mem_used_type'].isna().sum()"
   ]
  },
  {
   "cell_type": "code",
   "execution_count": 39,
   "metadata": {},
   "outputs": [
    {
     "data": {
      "text/plain": [
       "544284"
      ]
     },
     "execution_count": 39,
     "metadata": {},
     "output_type": "execute_result"
    }
   ],
   "source": [
    "accer_production['mem_used_amnt'].isna().sum()"
   ]
  },
  {
   "cell_type": "code",
   "execution_count": 40,
   "metadata": {},
   "outputs": [
    {
     "data": {
      "text/plain": [
       "0"
      ]
     },
     "execution_count": 40,
     "metadata": {},
     "output_type": "execute_result"
    }
   ],
   "source": [
    "accer_production['mem_req_amnt'].isna().sum()"
   ]
  },
  {
   "cell_type": "code",
   "execution_count": 41,
   "metadata": {},
   "outputs": [
    {
     "name": "stderr",
     "output_type": "stream",
     "text": [
      "/Users/turik1/opt/anaconda3/lib/python3.8/site-packages/pandas/core/indexing.py:845: SettingWithCopyWarning: \n",
      "A value is trying to be set on a copy of a slice from a DataFrame.\n",
      "Try using .loc[row_indexer,col_indexer] = value instead\n",
      "\n",
      "See the caveats in the documentation: https://pandas.pydata.org/pandas-docs/stable/user_guide/indexing.html#returning-a-view-versus-a-copy\n",
      "  self.obj[key] = _infer_fill_value(value)\n",
      "/Users/turik1/opt/anaconda3/lib/python3.8/site-packages/pandas/core/indexing.py:966: SettingWithCopyWarning: \n",
      "A value is trying to be set on a copy of a slice from a DataFrame.\n",
      "Try using .loc[row_indexer,col_indexer] = value instead\n",
      "\n",
      "See the caveats in the documentation: https://pandas.pydata.org/pandas-docs/stable/user_guide/indexing.html#returning-a-view-versus-a-copy\n",
      "  self.obj[item] = s\n",
      "<ipython-input-41-ced57359f110>:3: SettingWithCopyWarning: \n",
      "A value is trying to be set on a copy of a slice from a DataFrame.\n",
      "Try using .loc[row_indexer,col_indexer] = value instead\n",
      "\n",
      "See the caveats in the documentation: https://pandas.pydata.org/pandas-docs/stable/user_guide/indexing.html#returning-a-view-versus-a-copy\n",
      "  accer_production['mem_used_percpu'] = accer_production['mem_used_amnt']*accer_production['NODES']/accer_production['CPUS']\n"
     ]
    }
   ],
   "source": [
    "accer_production.loc[accer_production['mem_req_type']=='Mn','mem_req_percpu'] = accer_production['NODES']*accer_production['mem_req_amnt']/accer_production['CPUS']\n",
    "accer_production.loc[accer_production['mem_req_type']=='Mc','mem_req_percpu'] = accer_production['mem_req_amnt']\n",
    "accer_production['mem_used_percpu'] = accer_production['mem_used_amnt']*accer_production['NODES']/accer_production['CPUS']"
   ]
  },
  {
   "cell_type": "code",
   "execution_count": 42,
   "metadata": {},
   "outputs": [
    {
     "name": "stdout",
     "output_type": "stream",
     "text": [
      "<class 'pandas.core.frame.DataFrame'>\n",
      "Int64Index: 3308108 entries, 0 to 3813592\n",
      "Data columns (total 31 columns):\n",
      " #   Column           Dtype  \n",
      "---  ------           -----  \n",
      " 0   JOBID            object \n",
      " 1   ACCOUNT          object \n",
      " 2   USER             object \n",
      " 3   REQMEM           object \n",
      " 4   USEDMEM          object \n",
      " 5   REQTIME          object \n",
      " 6   USEDTIME         object \n",
      " 7   NODES            int64  \n",
      " 8   CPUS             int64  \n",
      " 9   PARTITION        object \n",
      " 10  EXITCODE         object \n",
      " 11  STATE            object \n",
      " 12  NODELIST         object \n",
      " 13  HHMMSS_USED      object \n",
      " 14  DAYS_USED        int64  \n",
      " 15  HH_USED          int64  \n",
      " 16  MM_USED          int64  \n",
      " 17  SS_USED          int64  \n",
      " 18  TOTAL_SEC_USED   int64  \n",
      " 19  HHMMSS_REQ       object \n",
      " 20  DAYS_REQ         int64  \n",
      " 21  HH_REQ           int64  \n",
      " 22  MM_REQ           int64  \n",
      " 23  SS_REQ           int64  \n",
      " 24  TOTAL_SEC_REQ    int64  \n",
      " 25  mem_req_type     object \n",
      " 26  mem_req_amnt     float64\n",
      " 27  mem_used_type    object \n",
      " 28  mem_used_amnt    float64\n",
      " 29  mem_req_percpu   float64\n",
      " 30  mem_used_percpu  float64\n",
      "dtypes: float64(4), int64(12), object(15)\n",
      "memory usage: 967.6+ MB\n"
     ]
    }
   ],
   "source": [
    "accer_production.info()"
   ]
  },
  {
   "cell_type": "code",
   "execution_count": 177,
   "metadata": {},
   "outputs": [
    {
     "data": {
      "image/png": "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\n",
      "text/plain": [
       "<Figure size 1440x864 with 1 Axes>"
      ]
     },
     "metadata": {
      "needs_background": "light"
     },
     "output_type": "display_data"
    }
   ],
   "source": [
    "ax=accer_production.groupby('ACCOUNT')['mem_req_percpu'].agg(['min', 'max', 'mean']).plot(kind='bar',figsize=(20, 12),title=' Summary of memory requested per account')\n",
    "\n",
    "ax.set_ylabel(\"Memory requested in MB\")\n",
    "ax.set_xlabel(\"Account name\");"
   ]
  },
  {
   "cell_type": "code",
   "execution_count": 175,
   "metadata": {},
   "outputs": [
    {
     "data": {
      "text/plain": [
       "Text(0.5, 0, 'Account name')"
      ]
     },
     "execution_count": 175,
     "metadata": {},
     "output_type": "execute_result"
    },
    {
     "data": {
      "image/png": "iVBORw0KGgoAAAANSUhEUgAABKYAAAMICAYAAADyr+32AAAABHNCSVQICAgIfAhkiAAAAAlwSFlzAAALEgAACxIB0t1+/AAAADh0RVh0U29mdHdhcmUAbWF0cGxvdGxpYiB2ZXJzaW9uMy4yLjIsIGh0dHA6Ly9tYXRwbG90bGliLm9yZy+WH4yJAAAgAElEQVR4nOzdfbRdVX0v/O8vgIAVUQFRwJqoKC8JRQ1oibUqVm29ovXaimLFF65e3wDbWx+x9QGxpVoRW+1Tb22lIIpvWBV8LWitF6liEAQRlFyNEKW8SqQoSGA+f+x1cBOSkwNknxnO+XzG2OOcNdea8/zW3jtjwHfMOVe11gIAAAAAs21B7wIAAAAAmJ8EUwAAAAB0IZgCAAAAoAvBFAAAAABdCKYAAAAA6EIwBQAAAEAXgikAYN6qqq2r6rSqWl1VH+9dz1xTVV+pqkN61wEAbLoEUwAwT1TVs6vqvKr6WVVdXVVfqqqFvevq7HlJdkyyXWvtD3oXw/xUVSdU1V/0rgMAeti8dwEAwORV1SOSfCDJc5N8Ocl9kjwtya0967qzqmrz1tqajTjkQ5N8fyOPOesm8L7co8z3+weAezIzpgBgftg7yQ9ba19qI9e31j7RWrs0ueOMjap6UlWtGjteWVV/WlXnV9UNVfX+qtqxqj5fVddX1RlVdf/h2oVV1arqpVV1WVX9tKr+Z1XtM/S/rqr+bmzsh1fVl6vqmmEm14eq6n5r/e3/p6rOT3LDUMcnxm+uqt5TVX+zrhuvqt2HJWXXVdWFVXXA0P6WJP9vkudX1X9V1cvX0feoqvp4VX1wuM8LquqRVXVEVV053N/Txq7fdnhvLq+qH1fVX1TVZsO5l1TV16rqXUMtP6iq/Yb2y4bxDl5rrA9U1VVV9aOq+vOqWrCOsa5N8taquraqloz1f2BV/aKqdljPfX1w7HjqM9t8bPwfDPf8w6o6aOzal1XVRcPn+sWqeujYud+pqouHpZF/l6TW9ZmM1XBKVX10+DvfqqrfGDu/U1V9Yrj/H1bVoevo+8Gq+lmSl6xj/GdW1bk1miF4WVUdtdb5J1TVWcNncVlVvWRo37qq3jm856ur6syq2no4d8DwHbpu+E7tPjZeq1EAPHV827+pGv49VdWfDJ/z5VX10uHcK5IclOQNw/fwtPW9ZwAwFwmmAGB++FaS3YYg48lVdZ+7MMZ/T/I7SR6Z5FlJPp/kTUm2z+i/KQ5d6/rHJdk1yfOT/E2SP0vy1CR7JvnDqvrt4bpK8ldJdkqye5KHJDlqrbFekOSZSe6X5INJnlFDeDWEKc9PctLaBVfVFklOS/KvSR6Y5HVJPlRVj2qtHZnkmCQfba3dp7X2/vXc97OGse+f5NwkXxzud+ckRyf5h7FrT0yyJskjkjw6o1lp43ssPS7J+Um2S3Jyko8k2We4/kVJ/m7ss3lPkm2TPCzJbyd5cZKXrjXWD4b7OnoY60VrvWdntNauWs99rVNV/VqSdyf53dbaNkn2S3LecO45GX3mz02yQ5L/k+TDw7ntk3wiyZ9n9J34v0mWbeDPPTvJx5M8IKP341NVtcUQwJ2W5NsZvc/7Jzm8qp6+Vt9TMvpOfGgdY9+Q0Xt2v4y+O68a6k9V/XpG39/3DPex99Q9Jjk2yWOH+35AkjckubWqHjnc6+FDn88lOa2q7rWBe5zyoIw+z52TvDzJ/1dV92+tvW+o/6+H7+GzZjgeAMwJgikAmAdaaz9I8qSM/qf4Y0muHmZ03JmA6j2ttStaaz/OKJD4Rmvt3NbaTUk+mVEQM+6trbUbW2v/mlFI8OHW2pVj/R891LaitXZ6a+2mIUQ5LqMgZty7W2uXtdZ+0Vq7PMlXk0ztCfWMJFe31s5ZR82Pz2jZ4ttaa79srX05yWcyCm1m6v+01r44LBX7eEahxNtaazdnFAYtrKr7VdWOSX43yeGttRtaa1cmeVeSA8fG+mFr7Z9ba7ck+WhGIdzRw73/a5JfJnnEMMvq+UmOGGa3rUzyziR/NDbWT1pr72mtrWmt/SKjUOyFU7OqhmvvENbN0K1JFlfV1q21y1trFw7tr0zyV621i4b345gkew+zpn4vyXdba6cM783fJPnPDfydc8auPy7JVhl9Zvsk2aG1dvTwuf0gyT/m9u/lf7TWPtVau3W4/9tprX2ltXbBcP78jEKlqe/VQRmFdh9urd3cWrumtXbe8N69LMlhrbUft9Zuaa2dNXzHn5/ks8N39eaMAqytMwqwZuLmjD7rm1trn0vyX0keNcO+ADBnCaYAYJ5orX29tfaHrbUdkvxWkidmNItppq4Y+/0X6zheO+Sa0fXDkrOP1Gjp288ymhG1/VpjXbbW8Yn51eygF2X9AcxOSS5rrY3vpfWjjAK6mVq77quHYGnqOBndy0OTbJHk8mGp13UZzaZ64DRjpbW2rvdl+yT3GmpdX923e09aa9/IKAD87araLaNZWKfO8B7Hx7khoxDmfw738tlhvAz3+Ldj93dtRjPeds7wXo+N09aucR3Gr781yaphnIcm2Wnq7wx/600ZbVR/h77rUlWPq6p/G5YCrh7uZ+p79ZCMZnStbfuMwrF1ndspY5/HUO9lmfl36Zq19sH6ee74bwYA5h3BFADMQ621byb5lySLh6Ybktx77JIHzWI5f5WkJdmrtXbfjIKmtfcmamsdfyrJXlW1OMl/y7qXciXJT5I8ZGwWUZL8epIf3+2q7+iyJDcl2b61dr/hdd/W2p53YayrM5ph89CxtrXrXvs9SX4V2P1RklNaazeuZ/xpP+9hhtjvJHlwkoszmq2UjO7xlWP3d7/W2tattbOSXJ5R4JMkqaoaP16P8esXJNklo8/ssoxml43/nW1aa7+3gfsfd3JGwdxDWmvbJvnf+dX36rIkD19Hn6uT3Liecz/J2Ocxdn9Tn8nPc9f/DW3oXgBgzhJMAcA8MGz0/D+q6oHD8W5JDkjy9eGS85L8XlU9oKoelNE+OrNlm4yWNV1XVTsn+dMNdRgCl1MyCh/OntrEfR2mZhG9Ydi76EkZ7Rn1kY1R+Fo1XZ7RXlbvrKr7VtWCGm3svvayxJmMdUtGSy7/sqq2GZbK/XFGs8mmc1KS388onPrANNedl+SJVfXrVbVtkiOmTtRoU/sDhr2mbsros5maIfa/kxxRVXsO125bVVNLKj+bZM+qeu6w79eh2XA489ix6w8f/t7Xk5yd5Gc12vR+66rarKoWV9U+Gxhv3DZJrm2t3VhV+yZ54di5DyV5alX9YVVtXlXbVdXewyyo45McV6PN1zerqt+sqi0z+jyeWVX7D3uX/clQ71lj7+kLhz7PyB2Xo07nioz2EgOAeUcwBQDzw3UZBVEXVNV/JflCRvtC/fVw/qSMNppemVG48tFZrO0tSR6TZHVG4ca/zLDfiUmWZJp9lFprv8zovn83o9kwf5/kxa21i+9OwdN4cUZL8L6b5KcZhWcPvotjvS6jUO0HSc7MKIQ7froOrbVVGW103zLax2t9152e0Wd8fpJzMtp3a8qCjEKXn2S0VO+3k7x66PfJJG9P8pFh2eV3Mnpv01q7OqN9v96W5JqMNr7/2gbu8dMZLRv8aUazvJ477MF0S0YB4t5JfpjRZ/dPGW0ePlOvTnJ0VV2f0dMXPzZ2/5dmtCfWnwz3eF6SqScC/q8kFyT55nDu7UkWtNa+l1Hg956hnmcledbwHUuSw4a26zLaw+pTd6LW9yfZY1i2eGf6AcA9Xo2W/wMA3LMMT1a7OMmDWms/613PpqKqjs9oY/Q/713LdKrqqCSPaK29aEPXAgBz1+a9CwAAuLOG/Yj+OMlHhFK/UlULkzw3d3xCIgDAJkkwBQDcowx7H12R0RPSntG5nE1GVb01yeuT/FVr7Ye96wEAmAlL+QAAAADowubnAAAAAHQhmAIAAACgC3tMDbbffvu2cOHC3mUAAAAAzBnnnHPO1a21HdZ3XjA1WLhwYZYvX967DAAAAIA5o6p+NN15S/kAAAAA6EIwBQAAAEAXgikAAAAAurDHFAAAAMBGcPPNN2fVqlW58cYbe5cy67baaqvssssu2WKLLe5UP8EUAAAAwEawatWqbLPNNlm4cGGqqnc5s6a1lmuuuSarVq3KokWL7lRfS/kAAAAANoIbb7wx22233bwKpZKkqrLddtvdpZligikAAACAjWS+hVJT7up9C6YAAAAA5pFTTz01b3vb23qXkcQeUwAAAAATsfCNn92o46182zM3yjgHHHBADjjggI0y1t1lxhQAAADAHLFy5crstttuOeSQQ7J48eIcdNBBOeOMM7Js2bLsuuuuOfvss3PCCSfkta99bZLkJS95SQ499NDst99+edjDHpZTTjllVusVTAEAAADMIStWrMhhhx2W888/PxdffHFOPvnknHnmmTn22GNzzDHH3OH6yy+/PGeeeWY+85nP5I1vfOOs1mopHwAAAMAcsmjRoixZsiRJsueee2b//fdPVWXJkiVZuXLlHa5/znOekwULFmSPPfbIFVdcMau1mjEFAAAAMIdsueWWt/2+YMGC244XLFiQNWvWTHt9a23yBY4RTAEAAADQhWAKAAAAgC5qtqdobaqWLl3ali9f3rsMAAAA4B7qoosuyu677967jG7Wdf9VdU5rben6+pgxBQAAAEAXgikAAAAAuhBMAQAAANCFYAoAAACALgRTAAAAAHQhmAIAAACgC8EUAAAAAF1s3rsAAAAAgDnpqG038nirN+54mwAzpgAAAADmiJUrV2a33XbLIYccksWLF+eggw7KGWeckWXLlmXXXXfN2WefnbPPPjv77bdfHv3oR2e//fbL9773vSTJcccdl5e97GVJkgsuuCCLFy/Oz3/+84nWK5gCAAAAmENWrFiRww47LOeff34uvvjinHzyyTnzzDNz7LHH5phjjsluu+2Wr371qzn33HNz9NFH501velOS5PDDD8+KFSvyyU9+Mi996UvzD//wD7n3ve890Vot5QMAAACYQxYtWpQlS5YkSfbcc8/sv//+qaosWbIkK1euzOrVq3PwwQfnkksuSVXl5ptvTpIsWLAgJ5xwQvbaa6+88pWvzLJlyyZeqxlTAAAAAHPIlltuedvvCxYsuO14wYIFWbNmTd785jfnyU9+cr7zne/ktNNOy4033njb9Zdccknuc5/75Cc/+cms1CqYAgAAAJhHVq9enZ133jlJcsIJJ9yu/bDDDstXv/rVXHPNNTnllFMmXotgCgAANmRjP1UJADp6wxvekCOOOCLLli3LLbfcclv761//+rz61a/OIx/5yLz//e/PG9/4xlx55ZUTraVaaxP9A/cUS5cubcuXL+9dBgAAm6Kjtp2Tj+gGYOO66KKLsvvuu/cuo5t13X9VndNaW7q+PmZMAQAAANCFYAoAAACALgRTAAAAAHQhmAIAAACgC8EUAAAAAF0IpgAAAADoQjAFAAAAQBeb9y4AAAAAYC5acuKSjTreBQdfsFHH2xSYMQUAAAAwR6xcuTK77bZbDjnkkCxevDgHHXRQzjjjjCxbtiy77rprzj777Nxwww152cteln322SePfvSj8+lPf/q2vr/1W7+VxzzmMXnMYx6Ts846K0nyla98JU960pPyvOc9L7vttlsOOuigtNY2Sr1mTAEAAADMIStWrMjHP/7xvO9978s+++yTk08+OWeeeWZOPfXUHHPMMdljjz3ylKc8Jccff3yuu+667LvvvnnqU5+aBz7wgTn99NOz1VZb5ZJLLskLXvCCLF++PEly7rnn5sILL8xOO+2UZcuW5Wtf+1qe8IQn3O1aBVMAAAAAc8iiRYuyZMloGeGee+6Z/fffP1WVJUuWZOXKlVm1alVOPfXUHHvssUmSG2+8MZdeeml22mmnvPa1r815552XzTbbLN///vdvG3PffffNLrvskiTZe++9s3LlSsEUAAAAALe35ZZb3vb7ggULbjtesGBB1qxZk8022yyf+MQn8qhHPep2/Y466qjsuOOO+fa3v51bb701W2211TrH3GyzzbJmzZqNUqs9pgAAAADmkac//el5z3vec9s+Ueeee26SZPXq1Xnwgx+cBQsW5KSTTsott9wy8VoEUwAAAADzyJvf/ObcfPPN2WuvvbJ48eK8+c1vTpK8+tWvzoknnpjHP/7x+f73v59f+7Vfm3gttbF2Ub+nW7p0aZva0AsAAG7nqG2To1b3rgKATdxFF12U3XffvXcZ3azr/qvqnNba0vX1MWMKAAAAgC4EUwAAAAB0IZgCAAAAoAvBFAAAAMBGMl/38r6r9y2YAgAAANgIttpqq1xzzTXzLpxqreWaa67JVlttdaf7bj6BegAAAADmnV122SWrVq3KVVdd1buUWbfVVltll112udP9BFMAAAAAG8EWW2yRRYsW9S7jHsVSPgAAAAC6EEwBAAAA0IVgCgAAAIAuBFMAAAAAdCGYAgAAAKALwRQAAAAAXQimAAAAAOhCMAUAAABAF4IpAAAAALoQTAEAAADQhWAKAAAAgC4EUwAAAAB0IZgCAAAAoAvBFAAAAABdCKYAAAAA6EIwBQAAAEAXgikAAAAAuhBMAQAAANCFYAoAAACALgRTAAAAAHQhmAIAAACgC8EUAAAAAF0IpgAAAADoQjAFAAAAQBeCKQAAAAC6EEwBAAAA0IVgCgAAAIAuBFMAAAAAdCGYAgAAAKALwRQAAAAAXQimAAAAAOhCMAUAAABAF4IpAAAAALoQTAEAAADQhWAKAAAAgC4EUwAAAAB0IZgCAAAAoAvBFAAAAABdCKYAAAAA6EIwBQAAAEAXgikAAAAAuhBMAQAAANCFYAoAAACALgRTAAAAAHQhmAIAAACgC8EUAAAAAF0IpgAAAADoQjAFAAAAQBeCKQAAAAC6EEwBAAAA0IVgCgAAAIAuBFMAAAAAdCGYAgAAAKALwRQAAAAAXQimAAAAAOhCMAUAAABAF4IpAAAAALoQTAEAAADQxcSCqap6SFX9W1VdVFUXVtVhQ/sDqur0qrpk+Hn/sT5HVNWKqvpeVT19rP2xVXXBcO7dVVVD+5ZV9dGh/RtVtXCsz8HD37ikqg6e1H0CAAAAcNdMcsbUmiR/0lrbPcnjk7ymqvZI8sYkX2qt7ZrkS8NxhnMHJtkzyTOS/H1VbTaM9d4kr0iy6/B6xtD+8iQ/ba09Ism7krx9GOsBSY5M8rgk+yY5cjwAAwAAAKC/iQVTrbXLW2vfGn6/PslFSXZO8uwkJw6XnZjkOcPvz07ykdbaTa21HyZZkWTfqnpwkvu21v6jtdaSfGCtPlNjnZJk/2E21dOTnN5au7a19tMkp+dXYRYAAAAAm4BZ2WNqWGL36CTfSLJja+3yZBReJXngcNnOSS4b67ZqaNt5+H3t9tv1aa2tSbI6yXbTjAUAAADAJmLiwVRV3SfJJ5Ic3lr72XSXrqOtTdN+V/uM1/aKqlpeVcuvuuqqaUoDAAAAYGObaDBVVVtkFEp9qLX2L0PzFcPyvAw/rxzaVyV5yFj3XZL8ZGjfZR3tt+tTVZsn2TbJtdOMdTuttfe11pa21pbusMMOd/U2AQAAALgLJvlUvkry/iQXtdaOGzt1apKpp+QdnOTTY+0HDk/aW5TRJudnD8v9rq+qxw9jvnitPlNjPS/Jl4d9qL6Y5GlVdf9h0/OnDW0AAAAAbCI2n+DYy5L8UZILquq8oe1NSd6W5GNV9fIklyb5gyRprV1YVR9L8t2Mnuj3mtbaLUO/VyU5IcnWST4/vJJR8HVSVa3IaKbUgcNY11bVW5N8c7ju6NbatZO6UQAAAADuvBpNMGLp0qVt+fLlvcsAAGBTdNS2yVGre1cBAPc4VXVOa23p+s7PylP5AAAAAGBtgikAAAAAuhBMAQAAANCFYAoAAACALgRTAAAAAHQhmAIAAACgC8EUAAAAAF0IpgAAAADoQjAFAAAAQBeCKQAAAAC6EEwBAAAA0IVgCgAAAIAuBFMAAAAAdCGYAgAAAKALwRQAAAAAXQimAAAAAOhCMAUAAABAF4IpAAAAALoQTAEAAADQhWAKAAAAgC4EUwAAAAB0IZgCAAAAoAvBFAAAAABdCKYAAAAA6EIwBQAAAEAXgikAAAAAuhBMAQAAANCFYAoAAACALgRTAAAAAHQhmAIAAACgC8EUAAAAAF0IpgAAAADoQjAFAAAAQBeCKQAAAAC6EEwBAAAA0IVgCgAAAIAuBFMAAAAAdCGYAgAAAKALwRQAAAAAXQimAAAAAOhCMAUAAABAF4IpAAAAALoQTAEAAADQhWAKAAAAgC4EUwAAAAB0IZgCAAAAoAvBFAAAAABdCKYAAAAA6EIwBQAAAEAXgikAAAAAuhBMAQAAANCFYAoAAACALgRTAAAAAHQhmAIAAACgC8EUAAAAAF0IpgAAAADoQjAFAAAAQBeCKQAAAAC6EEwBAAAA0IVgCgAAAIAuBFMAAAAAdCGYAgAAAKALwRQAAAAAXQimAAAAAOhCMAUAAABAF4IpAAAAALoQTAEAAADQhWAKAAAAgC4EUwAAAAB0IZgCAAAAoAvBFAAAAABdCKYAAAAA6EIwBQAAAEAXgikAAAAAuhBMAQAAANCFYAoAAACALgRTAAAAAHQhmAIAAACgC8EUAAAAAF0IpgAAAADoQjAFAAAAQBeCKQAAAAC6EEwBAAAA0IVgCgAAAIAuBFMAAAAAdCGYAgAAAKALwRQAAAAAXQimAAAAAOhCMAUAAABAF4IpAAAAALoQTAEAAADQhWAKAAAAgC4EUwAAAAB0IZgCAAAAoAvBFAAAAABdCKYAAAAA6EIwBQAAAEAXgikAAAAAuhBMAQAAANCFYAoAAACALgRTAAAAAHQhmAIAAACgC8EUAAAAAF0IpgAAAADoQjAFAAAAQBeCKQAAAAC6EEwBAAAA0IVgCgAAAIAuBFMAAAAAdCGYAgAAAKALwRQAAAAAXQimAAAAAOhCMAUAAABAF4IpAAAAALoQTAEAAADQhWAKAAAAgC4EUwAAAAB0IZgCAAAAoAvBFAAAAABdCKYAAAAA6EIwBQAAAEAXgikAAAAAuhBMAQAAANCFYAoAAACALgRTAAAAAHQxsWCqqo6vqiur6jtjbUdV1Y+r6rzh9Xtj546oqhVV9b2qevpY+2Or6oLh3Lurqob2Lavqo0P7N6pq4Vifg6vqkuF18KTuEQAAAIC7bpIzpk5I8ox1tL+rtbb38PpcklTVHkkOTLLn0Ofvq2qz4fr3JnlFkl2H19SYL0/y09baI5K8K8nbh7EekOTIJI9Lsm+SI6vq/hv/9gAAAAC4OyYWTLXWvprk2hle/uwkH2mt3dRa+2GSFUn2raoHJ7lva+0/WmstyQeSPGesz4nD76ck2X+YTfX0JKe31q5trf00yelZd0AGAAAAQEc99ph6bVWdPyz1m5rJtHOSy8auWTW07Tz8vnb77fq01tYkWZ1ku2nGAgAAAGATMtvB1HuTPDzJ3kkuT/LOob3WcW2bpv2u9rmdqnpFVS2vquVXXXXVdHUDAAAAsJHNajDVWruitXZLa+3WJP+Y0R5QyWhW00PGLt0lyU+G9l3W0X67PlW1eZJtM1o6uL6x1lXP+1prS1trS3fYYYe7c2sAAAAA3EmzGkwNe0ZN+f0kU0/sOzXJgcOT9hZltMn52a21y5NcX1WPH/aPenGST4/1mXri3vOSfHnYh+qLSZ5WVfcflgo+bWgDAAAAYBOy+aQGrqoPJ3lSku2ralVGT8p7UlXtndHSupVJXpkkrbULq+pjSb6bZE2S17TWbhmGelVGT/jbOsnnh1eSvD/JSVW1IqOZUgcOY11bVW9N8s3huqNbazPdhB0AAACAWVKjSUYsXbq0LV++vHcZAABsio7aNjlqde8qAOAep6rOaa0tXd/5Hk/lAwAAAADBFAAAAAB9CKYAAAAA6EIwBQAAAEAXgikAAAAAuhBMAQAAANCFYAoAAACALgRTAAAAAHQhmAIAAACgC8EUAAAAAF0IpgAAAADoQjAFAAAAQBeCKQAAAAC6EEwBAAAA0IVgCgAAAIAuBFMAAAAAdCGYAgAAAKALwRQAAAAAXQimAAAAAOhCMAUAAABAF4IpAAAAALoQTAEAAADQhWAKAAAAgC7WG0xV1fZVdWRVHVpV96mq91bVd6rq01X1iNksEgAAAIC5Z7oZUycn2TLJrknOTvKDJM9L8pkk/zT50gAAAACYyzaf5tyOrbU3VVUl+VFr7R1D+8VV9ZpZqA0AAACAOWy6GVO3JElrrSW5eq1zt06sIgAAAADmhelmTD2sqk5NUmO/ZzheNPHKAAAAAJjTpgumnj32+7FrnVv7GAAAAADulPUGU621f5/NQgAAAACYX9YbTFXV+dN1bK3ttfHLAQAAAGC+mG4p361JWpKTk5yW5BezUhEAAAAA88J6n8rXWts7yQuS3CejcOovk+yZ5MettR/NTnkAAAAAzFXrDaaSpLV2cWvtyNbaYzKaNfWBJK+flcoAAAAAmNOmW8qXqto5yYFJfj/JTzMKpT45C3UBAAAAMMdNt/n5vyfZJsnHkrwkybXDqXtV1QNaa9eury8AAAAAbMh0M6YemtHm569M8oqx9hraHzbBugAAAACY49YbTLXWFs5iHQAAAADMM9Nufg4AAAAAkyKYAgAAAKALwRQAAAAAXUy3+fltqmqzJDuOX99au3RSRQEAAAAw920wmKqq1yU5MskVSW4dmluSvSZYFwAAAABz3ExmTB2W5FGttWsmXQwAAAAA88dM9pi6LMnqSRcCAAAAwPwykxlTP0jylar6bJKbphpba8dNrCoAAAAA5ryZBFOXDq97DS8AAAAAuNs2GEy11t4yG4UAAAAAML+sN5iqqr9prR1eVadl9BS+22mtHTDRygAAAACY06abMXXS8PPY2SgEAAAAgPllvcFUa+2c4ee/z145AAAAAMwXC3oXAAAAAMD8JJgCAAAAoAvBFAAAAABdTPdUvnU+jW+Kp/IBAAAAcHdM91S+qafxPTfJg5J8cDh+QZKVE6wJAAAAgHlguqfy/XuSVNVbW2tPHDt1WlV9deKVAXffUdsmR63uXQUAAACs00z2mNqhqh42dVBVi5LsMLmSAAAAAJgPplvKN0UPyOkAACAASURBVOX1Sb5SVT8YjhcmeeXEKgIAAABgXthgMNVa+0JV7Zpkt6Hp4tbaTZMtCwAAAIC5boNL+arq3kn+NMlrW2vfTvLrVfXfJl4ZAAAAAHPaTPaY+uckv0zym8PxqiR/MbGKAAAAAJgXZhJMPby19tdJbk6S1tovktREqwIAAABgzptJMPXLqto6SUuSqnp4EntMAQAAAHC3zOSpfEcm+UKSh1TVh5IsS/KSSRYFAAAAwNw3k6fynV5V30ry+IyW8B3WWrt64pUBAAAAMKfN5Kl8y5Lc2Fr7bJL7JXlTVT104pUBAAAAMKfNZI+p9yb5eVX9RpI/TfKjJB+YaFUAAAAAzHkzCabWtNZakmcneXdr7W+TbDPZsgAAAACY62ay+fn1VXVEkhcleWJVbZZki8mWBQAAAMBcN5MZU89PclOSl7fW/jPJzkneMdGqAAAAAJjzZvJUvv9MctzY8aWxxxQAAAAAd9MGg6mquj5JGw7vldEyvv9qrW07ycIAAAAAmNtmMmPqdhudV9Vzkuw7sYoAAAAAmBdmssfU7bTWPpXkKROoBQAAAIB5ZCZL+Z47drggydL8amkfAAAAANwlGwymkjxr7Pc1SVYmefZEqgEAAABg3pjJHlMvnY1CAAAAAJhf7vQeUwAAAACwMQimAAAAAOhig8FUVW02G4UAAAAAML/MZMbUiqp6R1XtMfFqAAAAAJg3ZhJM7ZXk+0n+qaq+XlWvqKr7TrguAAAAAOa4DQZTrbXrW2v/2FrbL8kbkhyZ5PKqOrGqHjHxCgEAAACYk2a0x1RVHVBVn0zyt0nemeRhSU5L8rkJ1wcAAADAHLX5DK65JMm/JXlHa+2ssfZTquqJkykLAAAAgLlu2mBqeCLfCa21o9d1vrV26ESqAgAAAGDOm3YpX2vtliRPnqVaAAAAAJhHZrKU76yq+rskH01yw1Rja+1bE6sKAAAAgDlvJsHUfsPP8eV8LclTNn45AAAAAMwXGwymWmuW8gEAAACw0U27x1SSVNW2VXVcVS0fXu+sqm1nozgAAAAA5q4NBlNJjk9yfZI/HF4/S/LPkywKAAAAgLlvJntMPby19t/Hjt9SVedNqiAAAAAA5oeZzJj6RVU9YeqgqpYl+cXkSgIAAABgPpjJjKlXJTlx2Feqklyb5CWTLAoAAACAuW8mT+U7L8lvVNV9h+OfTbwqAAAAAOa8DQZTVXW/JC9OsjDJ5lWVJGmtHTrRygAAAACY02aylO9zSb6e5IIkt062HAAAAADmi5kEU1u11v544pUAAAAAMK/M5Kl8J1XV/6iqB1fVA6ZeE68MAAAAgDltJjOmfpnkHUn+LEkb2lqSh02qKAAAAADmvpkEU3+c5BGttasnXQwAAAAA88dMlvJdmOTnky4EAAAAgPllJjOmbklyXlX9W5Kbphpba4dOrCoAAAAA5ryZBFOfGl4AAAAAsNFsMJhqrZ1YVVsn+fXW2vdmoSYAAAAA5oEN7jFVVc9Kcl6SLwzHe1fVqZMuDAAAAIC5bSabnx+VZN8k1yVJa+28JIsmWBMAAAAA88BMgqk1rbXVa7W1SRQDAAAAwPwxk83Pv1NVL0yyWVXtmuTQJGdNtiwAAAAA5rqZzJh6XZI9k9yU5MNJfpbk8EkWBQAAAMDcN5On8v08yZ8NLwAAAADYKNYbTG3oyXuttQM2fjkAAAAAzBfTzZj6zSSXZbR87xtJalYqAgAAAGBemC6YelCS30nygiQvTPLZJB9urV04G4UBAAAAMLetd/Pz1totrbUvtNYOTvL4JCuSfKWqXjdr1QEAAAAwZ027+XlVbZnkmRnNmlqY5N1J/mXyZQEAAAAw1023+fmJSRYn+XySt7TWvjNrVQEAAAAw5003Y+qPktyQ5JFJDq26be/zStJaa/edcG0AAAAAzGHrDaZaa+vdfwoAAAAA7i7hEwAAAABdCKYAAAAA6EIwBQAAAEAXgikAAAAAuphYMFVVx1fVlVX1nbG2B1TV6VV1yfDz/mPnjqiqFVX1vap6+lj7Y6vqguHcu2t4PGBVbVlVHx3av1FVC8f6HDz8jUuq6uBJ3SMAAAAAd90kZ0ydkOQZa7W9McmXWmu7JvnScJyq2iPJgUn2HPr8fVVtNvR5b5JXJNl1eE2N+fIkP22tPSLJu5K8fRjrAUmOTPK4JPsmOXI8AAMAAABg0zCxYKq19tUk167V/OwkJw6/n5jkOWPtH2mt3dRa+2GSFUn2raoHJ7lva+0/WmstyQfW6jM11ilJ9h9mUz09yemttWtbaz9NcnruGJABAAAA0Nls7zG1Y2vt8iQZfj5waN85yWVj160a2nYefl+7/XZ9WmtrkqxOst00YwEAAACwCdlUNj+vdbS1adrvap/b/9GqV1TV8qpaftVVV82oUAAAAAA2jtkOpq4Yludl+Hnl0L4qyUPGrtslyU+G9l3W0X67PlW1eZJtM1o6uL6x7qC19r7W2tLW2tIddtjhbtwWAAAAAHfWbAdTpyaZekrewUk+PdZ+4PCkvUUZbXJ+9rDc7/qqevywf9SL1+ozNdbzknx52Ifqi0meVlX3HzY9f9rQBgAAAMAmZPNJDVxVH07ypCTbV9WqjJ6U97YkH6uqlye5NMkfJElr7cKq+liS7yZZk+Q1rbVbhqFeldET/rZO8vnhlSTvT3JSVa3IaKbUgcNY11bVW5N8c7ju6Nba2puwAwAAANDZxIKp1toL1nNq//Vc/5dJ/nId7cuTLF5H+40Zgq11nDs+yfEzLhYAAACAWbepbH4OAAAAwDwjmAIAAACgC8EUAAAAAF0IpgAAAADoQjAFAAAAQBeCKQAAAAC6EEwBAAAA0IVgCgAAAIAuBFMAAAAAdCGYAgAAAKALwRQAAAAAXQimAAAAAOhCMAUAAABAF4IpAAAAALoQTAEAAADQhWAKAAAAgC4EUwAAAAB0IZgCAAAAoAvBFAAAAABdCKYAAAAA6EIwBQAAAEAXgikAAAAAuhBMAQAAANCFYAoAAACALgRTAAAAAHQhmAIAAACgC8EUAAAAAF0IpgAAAADoQjAFAAAAQBeCKQAAAAC6EEwBAAAA0IVgCgAAAIAuBFMAAAAAdCGYAgAAAKALwRQAAAAAXQimAAAAAOhCMAUAAABAF4IpAAAAALoQTAEAAADQhWAKAAAAgC4EUwAAAAB0IZgCAAAAoAvBFAAAAABdCKYAAABgYzhq294VwD2OYAoAAACALgRTAAAAAHQhmAIAAACgC8EUAAAAAF0IpgAAAAASG9h3IJgCAAAAoAvBFAAAAABdCKYAAAAA6EIwBQAAAEAXgikAAAAAuhBMAQAAANCFYAoAAACALgRTAAAAAHQhmAIAAACgC8EUAAAAAF0IpgAAAADoQjAFAAAAQBeCKQAAAAC6EEwBAAAA0IVgCgAAAIAuBFMAAAAAdCGYAgAAAKALwRQAAAAAXQimAAAAAOhCMAUAAABAF4IpAAAAALoQTAEAAADQhWAKAAAAgC4EUwAAAAB0IZgCAAAAoAvBFAAAAABdCKYAAAAA6EIwBQAAAEAXgikAAAAAuhBMAQAAANCFYAoAAACALgRTAAAAAHQhmAIAAACgC8EUAAAAAF0IpgAAAADoQjAFAAAAQBeCKQAAAAC6EEwBAAAA0IVgCgAAAIAuBFMAAAAAdCGYAgAAAKALwRQAAAAAXQimAAAAAOhCMAUAAABAF4IpAPj/2bvvcEmqau/jv8UgQcIoipkkEi4KKEkUDJhBBAOoCMjFnAhiDgjmfBXxqqACA4IImDARJErOQUVfEcEsBtIVRdD1/rH2Pr27TlXtGmaGPnPm+3me88x0V3V1ddWuXbvWTgAAAAAmgsAUAAAAAAAAJoLAFAAAAAAAACaCwBQAAAAAAAAmgsAUAAAAAAAAJoLAFAAAAAAAWHAHzo0/YD4QmAIAAAAAAMBEEJgCAAAAAADARBCYAgAAAAAAwEQQmAIAAAAAAMBEEJgCAAAAAADARBCYAgAAAAAAwEQQmAIAAAAAAMBEEJgCAAAAAADARBCYAgAAAAAAwEQQmAIAAAAAAMBEEJgCAAAAAADARBCYAgAAAAAAwEQQmAIAAAAAAMBEEJgCAAAAAADARBCYAgAAAAAAwEQQmAIAAAAAAMBEEJgCAAAAAADARBCYAgAAAAAAwEQQmAIAAAAAAMBEEJgCAAAAAADARBCYAgAAAAAAwEQQmAIAAAAAAMBEEJgCAAAAAADARBCYAgAAAAAAwEQQmAIAAAAAAMBEEJgCAAAAAADAREwkMGVm15vZ1WZ2hZldkt5bxcxONbNfpH/vW6z/DjO71sx+bmbPLN7fNG3nWjP7jJlZen9ZM/taev9CM1vznv6NAAAAAAAA6DfJFlPbuPuj3X2z9Prtkk5z93UknZZey8w2kPRiSY+U9CxJnzOzOekzn5f0KknrpL9npfdfLukmd3+EpE9J+ug98HsAAAAAAAAwH2ZSV74dJc1L/58n6bnF+8e6+x3u/itJ10rawsweLGlldz/f3V3SkY3P5G2dIOmpuTUVAAAAAAAAZoZJBaZc0ilmdqmZvSq990B3/4MkpX8fkN5/qKTfFJ/9bXrvoen/zffHPuPud0m6RdL9FsHvAAAAAAAAwN209IS+dyt3/72ZPUDSqWb2s55121o6ec/7fZ8Z33AExV4lSauvvnr/HgMAAAAAAGChmkiLKXf/ffr3RknflLSFpD+l7nlK/96YVv+tpNWKjz9M0u/T+w9reX/sM2a2tKS5kv7Wsh+Huvtm7r7ZqquuunB+HAAAAAAAAAa5xwNTZraCma2U/y/pGZJ+LOlESXuk1faQ9O30/xMlvTjNtLeWYpDzi1J3v9vMbMs0ftRLG5/J29pJ0ulpHCoAAAAAAADMEJPoyvdASd9MY5EvLekYdz/JzC6WdJyZvVzSryXtLEnu/hMzO07STyXdJen17v7vtK3XSjpC0vKSfpD+JOnLko4ys2sVLaVefE/8MAAAAAAAAAx3jwem3P06SRu3vP9XSU/t+MwHJX2w5f1LJD2q5f1/KgW2AAAAAAAAMDNNalY+AAAAAAAALOEITAEAAAAAAGAiCEwBAAAAAABgIghMAQAAAAAAYCIITAEAAAAAAGAiCEwBAAAAAABgIghMAQAAAAAAYCIITAEAAAAAAGAiCEwBAAAAAABgIghMAQAAAAAAYCIITAEAAAAAAGAiCEwBAAAAAABgIghMAQAAAAAAYCIITAEAAAAAAGAiCEwBAAAAAABgIghMAQAAAAAAYCIITAEAAAAAAGAiCEwBAAAAAABgIghMAQAAAAAAYCIITGHROXDupPcAAAAAAADMYASmAAAAAAAAMBEEpgAAAAAAADARBKYAAAAAAAAwEQSmAAAAAAAAMBEEpgAAAAAAADARBKYAAAAAAAAwEQSmAAAAAAAAMBEEpgAAAAAAADARBKYAAAAAAAAwEQSmAAAAAAAAMBEEpgAAAAAAADARBKYAAAAAAAAwEQSmAAAAAAAAMBEEpgAAAAAAADARBKYAAAAAAAAwEQSmAAAAAAAAMBEEpgAAAAAAADARBKYAAAAAALPfgXPjD8CMQmAKAAAAAAAAE0FgCgAAAAAAABNBYAoAAAAAAAATQWAKAAAAAAAAE0FgCgAAAAAAABNBYAoAAAAAAAATQWAKAAAAAAAAE0FgCgAAAAAAABNBYAp334FzJ70HAAAAAABgMUZgCgAAAAAAABNBYAoAAAAAAAATQWAKAAAAAAAAE0FgCgAAAAAAABNBYAoAAAAAAAATQWAKAAAAAAAAE0FgCgAALN4OnDvpPQAAAMDdRGAKAAAAAAAAE0FgCgAAAAAAABNBYAoAAAAAAAATQWAKAAAAGGDDeRtOehcAAJh1CEwBAAAAAABgIghMAQAAAAAAYCIITAEAAPQ5cG78AQAAYKEjMAUAAAAAAICJIDAFAAAAAACAiSAwBQAAAAAAgIkgMAUAAAAAAICJIDAFAACAmY0B6AEAmLUITAHoxkMAAAAAAGARIjA1W82GmsXFff8BAAAAAEAvAlMAAAAAAACYCAJTAAAAAAAAmAgCUwAAAAAAAJgIAlMAAAAAAACYCAJTAAAAAAAAmAgCUwAAAAAAAJgIAlNdDpw7+e+f9D4s7mbD8ZsNv2FR4jrBkuCeSOdcRzNf7RxxDhfcpI/hpL9/YSCvwqTzKsqGs+P3L2g6mvQxmPT318zA64TAFAAAAAAAACaCwBQwKTMwUg0AAABgFuP5AzMQgSmgC4GjOo4PAAAAAGABEJgCsOjMhsDVbPgNAAAAADBDEZgCAAAAAADARBCYAhYVugJiSUA6XzxwjgCgjrwSACaCwBQWXxQeAAAAAABYrBGYAgAAAIDZgIpbAIshAlMAMEkUIDEbkI4BAABwNxGYAhZnPAwCALB44J4NAEArAlMAAAAAAACYCAJTAAD0oZUDAADAwsGMzmhBYOru4mICAAAAsCThGQjAIkBgCgAwu1GIBgAAAGYsAlMAgMkicAQAAAAssQhMYXJ4GAUAAAAAYIlGYAoAMLMRxAYAAABmLQJTAAAAA2w4b8NJ7wIAAMDMN58VywSmAAAAAAAAMBEEpgAAAAAAADARBKYAzF4HzmV8IgAAAGAoys+YAAJTAAAAAAAsITactyHjJmJGITAFAAAAAACAiSAwBQAAAAAAgIkgMAUAAAAAAICJIDCFbrN90LvZ/vsAAAAAAJjhCEwBAABg0WKWJwAA0IHAFLAk4yEBAAAAADBBBKYAAAAAienTAQCYAAJTAAAAsx0tZAHMEBvO25AgMIAxBKYAAAAAAAAwEQSmAAAA0I8WV1hC0JoHEzfT81sms8AiQGAKmDAKPwAAYIHxsAgAw5BXzjgEpgAAAAAAADDMQg7uEZgCgJmMGh0AAAAAsxiBKQBYnBG4AgAAmC8MpQHMLASmAAAAAGBRYxwwAGhFYAoAFiUKoACAxcFiEjRh1jxg8cB1ivlBYGqG44IGgEVsMXgQA4bggR0AACyOCEwBd9diUrMIAABmBoKHAABMR2AKwKy3SB8CCE4CuIcQ0ACAGYCyHxa1JbABBIEpLBAKyQCARW4JK5wBwOKMloEA5heBKQAAwEMEAAD3BCpbgGkITM1yi/uDBjUuwIQtgU2JsQQinS/47+cYYmEgDYE0gIF4RpxdCExhopaEDGVJ+I3AguI6qeMY9ZtoRQZBGQAAgLuNwNTiikLwILS4AiaMvArAQsQ9HcBMsCTkRUvCb8SiNT9piMAUgAVC8A+zAekYmDCC2ABmEcoUWBg609EsvGcSmMJijYfJBbeojyHnCFgyLNB1PssKV8DijHs2sOhxnS16kz7GPAPNHwJTi6E13/69qf+T2Gc/zjGAhYG8ZIZbQoJzpMN+PMgAC8fifh2RF2CI2ZRGCEyh14Im9tlwsdR+w2z4jVgwk04DFF6wyC3uQZNZ2OQduMdxHQGYRSg7zyyzOjBlZs8ys5+b2bVm9vZJ78+MQuECAy0OQY9FvX+T/v0LdA5myXU+6XMAYBiu1cnjHABYHMrvMx3H8J41awNTZjZH0v9K2lbSBpJ2MbMNJrtXmGlmQ4Yzq1t0zZIA6qTPwT2Rzif9G4GFYUlPx7W8YrG/Zy7q+8ksuF8t9paEczADfuOsHp90lpQ9Z4PF+n6zmJhJx3jWBqYkbSHpWne/zt3/JelYSTvOzwYWqIBGhgYsHmbAtbrYP+wtBhb0GC/Sc0QhWNI9ExQhQDvzcY4WoZTXLNHX0T0RnLwH8vNZXSk5Q8zoYzhDygwzPS/Borcwz6G5+0Lb2ExiZjtJepa7vyK93l3SY939DcU6r5L0qvRyPUk/LzZxf0l/qXxNbR2WL9jymbAPS/rymbAPs335TNiHJX35TNiH2b58JuzDkr58JuzDbF8+E/ZhSV8+E/Zhti+fCfuwpC+fCfsw25fPhH2YbcvXcPdVO9d291n5J2lnSV8qXu8u6eD5+PwlC7oOyxds+UzYhyV9+UzYh9m+fCbsw5K+fCbsw2xfPhP2YUlfPhP2YbYvnwn7sKQvnwn7MNuXz4R9WNKXz4R9mO3LZ8I+zPblzb/Z3JXvt5JWK14/TNLvJ7QvAAAAAAAAaJjNgamLJa1jZmuZ2TKSXizpxAnvEwAAAAAAAJKlJ70Di4q732Vmb5B0sqQ5kg5z95/MxyYOXQjrsHzBls+EfVjSl8+EfZjty2fCPizpy2fCPsz25TNhH5b05TNhH2b78pmwD0v68pmwD7N9+UzYhyV9+UzYh9m+fCbsw2xfPmbWDn4OAAAAAACAmW02d+UDAAAAAADADEZgCgAAAAAAABNBYAoAAAAAAAATQWDqbjKzpcxs5UWw3eXNbL2B697XzDZayN+/ysLc3iSZ2cpmttIi/o5Fkg5avmfZRbTdhb7/ZrbWkPd6Pv+oges9yMx2MLPnmNmDGstWMLOl0v/XTevdq7HOGmb2tPT/5bvSyvxeZ2Y2x8y+MnT9BWVmK5nZivfU97V8/wqT+u5JM7MHmtn26e8Bk96f+ZVmrV2ueL28ma3Zst4iOcdDrtNJS9f/Fmb2xPxXLLu3me1vZl9Mr9cxs+3nc/tzKsuXqyyfdm9YVPeLBbUo86r5KTstwHfM2LzOzPYZ+N5E7xdDdJVLFkV+O7/XyqLM881sq773zGzbluWvWZj7sDiYKffdRVR+3j7fE+9p6fe8cAG3YWa2WmWdj3a9l8rPP6x8vvc6mQnubhpdGOdgccfg5w1mtrWkddz9cDNbVdKK7v6rtOwYSa+R9G9Jl0qaK+l/3P3jaflWkg6UtIZixkOT5O7+8LR8bUm/dfc7zOzJkjaSdKS735yWP0fSJyQt4+5rmdmjJb3P3Xco9u9MSTuk7V8h6c+SznL3/Yp1ni3pkZKmCrTu/r6B+/CLtN3DJf3AGwnEzK6W1Ew0t0i6RNIHFLMgHi7pGHe/qfjcJn3H3d0vS+vdW9KbJK3u7q80s3Ukrefu303LHyjpQ5Ie4u7bmtkGkh7n7l8uvmuztA8rKc7BzZJe5u6XpuU7SzrJ3W8zs3dL2kTSB4p9WFfSWzQ6j3kfn5KW19JB6/Ylfcbdtzaz2xrHMKeTldPnD3P3lxW/Z0VJ33b3p6bXz5f0UUkPSJ9tfv5hkg6WtLWk/0g6R9I+7v7bvv1Pr/vO0f+kz68j6cOSNtB4Gsvp/DJ3HzvfZnapu29avO5Lo+dIWkbSEYp0dHNzX8zsFZLeI+n09PufpLhWDsvfJ+kJku4r6QJF+rzd3XdNy18p6VWSVnH3tdNv+kJxjM9U/TqbI+mBGk8jv07LTpb0HHf/V9uxHHAM91Gk4dskfUnSYyS93d1PKbaxoaQjJa2SjsGfJe3h7j/uyoskfU/Tr9/SNn3L3X0qQGdmj0/7tqK7r25mG0t6tbu/rlhnE0U6dEnn5mssLVtV0islranxGWLf3LN/cve/pc9/QtLhXbOtduV1kt7f9xslnVn5/m+k7b9Q0sfT+qZIb29x9xPS8nUlfV7SA939URbBzR3c/QNDlqd1Hq/G8XH3I1MeUN3HtI2+a+0SSY/P6dTMllGcp82L7+88x13nMOdfA+43vddpWqf3vprW6bwW0/KHqpGfS/px5Rj+LeUz+0h6mCIf2FLS+cW94GuKPPSl6Rwun5Y/urm9VDgtz0HOK34l6QRFWv5py+eulfQnST+SdLbi/NxSLG/Lb8feG5AWh+Q3ffld7325L69Ky7+j7nLFIZI2lXSFu//dzHZT3FMPcvcb0ud7y04pnb5N0/PbpxS/776SVmv8vlwmGHId1Lb/qJblR3b8dhXr5N9QK3ud2pIOLnf3x6T/186BSdpV0sPd/X1mtrqkB7n7RcX2NlZcr5L0I3e/svF9fXlNbxobUK6q5bfNclV5fN7k7tcNKFstJ+nlLb8h52et+yBpdfUoyk61slvvtWxm50l6t7ufnl6/TdKT3X3b9Lo3HZrZafm3Ftsfe6/tGUjS82q/zyKYcpW7t1Yszkc631JRfv0vRTlwjqS/F8eo6xyc3rePkv679huKfe1M57V0mtaZllemfez7/Xunz35F0uMkfV1xT7imXK/j3n+LpKvd/cbaOR7w/HO2uz+x+QWN7dXu+2Pl/ZbPt6Xzq3L50sxOlLR7eZ8b8PnyOtlKLfcLSd/VgPJt7RildfpiBb15VVqn9X6QlvWeAzN7uY8/885R5AvvTa8778fzWXacVv6UtLmGpeOXdiw/su/71fiyJZ6ZHSBpM0nrKW6g95L0FUk5EruBu99qZrtK+r7iBnCpIgFK0pclvTG91/aQ/3VJm5nZI9K6J0o6RtJ2afmBkrZQejBy9ytseu313LQPr1BkWgeY2VXFb/iCpHsrHjC/JGknSRcVn6/tw7qSnibpZZIOTgXvI9z9/6XlP0i/7Zj0+sXp31sVgYQXS9pT0sXpoedwSadI+mTL8chcUi7AHa44fo9Lr38r6XhFhqL0HYdLeld6/f8kfS39luwwSa9z9x+lY7J1+kx+qN7f3Y9P7z9TUaD9vKTHpuXHS/qCpC+q/TzW0kHr9t39sZLk7rVWXL8zs8+7+2tTYfl7aV+yjymCHte0fzwCg5J2Tq93S+89vbL/X0/L11NkPiem189RPBCV2z9A0qcU6WxPRbl2fUWBbm4j81tZReZbS6Mewbt1FGnwEjO7SJHWTy22+RZJj3H3v6Zt3k/SeYpzL0nm7reb2cslHezuHzOzy4vPv15xrV2YvvMXNl6rUbvO9krH4E+K4J8U6TinseslnZtusH8vflsu/LQew+L7X+buB5nZMyWtmpbnayk7RNJ+7n5G2qcnK6Zlfby686Jaa458nb4+/XtU+ndXSbc31v2UIn2fmH7blTbemuQ9ijSYb3SHm9nxPgq8fFvxsP3Dxj5eqjiW5fHIXFIOSPxM0qFmtrTi2Hy1UZDpyuu+lpZvpSgY5Nc7p+9+Tnr9AMWxzAXebRR5RERTKQAAIABJREFUc/4975K0ubvfmH7vqum35MLHFxXp9JB0fK5KhdoPDFluZkdJWlsREMnHxxUPl3kf23jexwH3g6W9CJ66+78sglNZ7zlW9znMaveb2nUqVe6rtWvRoib2RZJ+qvHjuKFG6Wx1STel/99H0q8lraUISm0u6QJ33yblce8tvn5td3+Rme2Sjs8/0gN+uX87KK6rh0i6UREgu0aRVyrt54slfSk93B0m6Vh3vzVt8xEpSPAExfX7OTO7WdKzJD1U0vJm9hiNrpeVFee8VEuLvfnNgPzuCPXfl/vyKkm6Ln3vV9PrF6XvWjft+8aSNk4PjG9N2z1SUSEh1ctOR6f9ebbioXIPRWBGaX/er3hw/aVGhe6yXFK7DmrbP0DSkxX5zfclbauoMDpSUT6QpOdLepCizClJuyjuI1lX2WstST+RtGy632QrSfpr8bp2Dj6nOLdPkfQ+RQDp64r0nwNLr9Qo//uKmR3q7gen5bW8pnZPq5Wravnt/0j6fTo+lo7PgyT9XHFNPVn1stVRivvKM9Mx2FVxrWZd+5CPSa3s1Fp2M7PHKc7Dqma2X7FoZUVgJttB0nfN7C2K63/99F7Wmg4tAm73lnT/9LvLvOIhxX50PQOV5Y5W7v4fM7vSzFb3olKgMDSdf1Zx7o5P+/JSSY8olnedg4+rPz8/In2+9xzV0rkq6bQnr+x7Bpri7rtZtMLaRVFmco3KN7cpAqePk3RG+siTFZU661lU1vWeY9Wff041szcr0lFZdv1bsY3aff8CM9vc3S8u3zSz10p6naSHl+VpRV51bvH6n5KuNrNTy31Q3B+GXCefV/v9Ipd/a+Xb3mM0IFbQm1dV7gdS/Rw81cxeoEgL90v7cFax/0eo+348qHzbU/68JP2/q/ycbV78fzlJT5V0WfEbu7k7f+kvnQCTdHnx3lXF/3+iSIDHS3pSeu/KYvmFle1flv59i6S90v8vb36+6/vT66slPVhxo9i8ZR+vavy7oqRThu5D47u2kfQ7RYujsxSZ4bkt652b9614bynFDfN3kn6jKMyvMuAcXNJyDMpjfHHL8iva9qfrvfxZRYuVl7Rs79LKPtbSQev2FTWVnX+N7/ioIjh2saQX1H5fMx33vTdg/0+RtFLxeiVF7cHY8Wmc7x9J2lGRGf41/Zv/PqNolTEojRbrzZH0gpSGrlEUGJ+flp2mqB3P6y4j6YflOUjp9QJJj2zZ37FrTRGkL6+j2nV2raT79ZyDA9r+asew5RgdJOl5bddpec6a76mSFw24DnuvobZj2JKOrpG0XPF6eUnX9KXTu7mv60n6iKQbFA8l26T3a/ntGZLuVby+l6QzitfflfTg4vWDJX2jTCON/ViqcT5786oBy69RBG4W5NjU7genKlrO5Nc7SjptPs5x7zkccA56r9MhaVn1a/HnkpbtWf4FSdsVr7eV9MnGOboib6Nxjs5L6Tr/zrUlXdTY/pWKwmPOa7aRdGjHvjxRkd/9XdI8xQPZwxQPKV+QdL7iYfodiofOMxQBhDOKvxOV8sn5SGu9+c2AY1zbfmdelf5/dsvys9O/PymO73skvbxMWz3ptMyvL21576xGGlmmuQ/zcR3Utn+1In/I+fMDJX2n7fd2vaeOPFkR6LwupY0nFX+bKALPQ8/BZZXfeJWkFYrXK2j+yp61NFYrl9Ty22n5hCKg3NxOX9nq8sa+3kvS6fOxD7WyU2vZLZ2vAyT9QeNlhv0UrTLKdR+QzsXhatwfutKhIsD+K0l3pLTyq/R3paQ3FOv2PgPV/hQPubcpymcn5r/5TOeXtPyG8+bjHHTm5wPPUS2dt6XTwWXD+TiW95e0ryJo9wNJv5C0l6TvKFq+5vUeqAgmvEPSvxrn+Lp0jl/fksa7nn9+1fJ3XWPfavf9XAn0y3Q8r07/zlW0wPmqIt/Kf83nnz06/gZdJ6rfLxb0GbEWK6il0d77wcBz8CJJf1EEXbdqLBvynFwr3/aWP1UpP7esP1eNvKDrjxZT4/7l7p4i1LLp4wkcosgkrpR0tpmtIelWG3VTO8PMPq7IJO7IH/JR8787U83qHhpFLcvxNH5sZi+RNCe1GNlbUfAtvU/RXe5cd7/YzB6uyLCyf6Z/bzezhyiCBOX4Pr37kFqe7CZpd0XEfy/FzeXRioz4VjN7rLtfmNbfQlEAkaS70nsbKWrDtlPUuB0t6bWSLjWzN6mFj5oP/suiO0Q+B2urOJaS/p72MS/fUtGMVcV5uMjMDlFkfq64gM8stvG7tPxpkj5qMcZA2af7O2b2Oknf1Ph5zNHq1nQwYPu9LUFShDy7SNL+6V9vtEC6xKIl27ca+5eP4V8smq/m2uddNL3mtG//V1fc4LJ/KW4m2T9Tzf4vzOwNigepB7j7tyV928we5+7nt/zG7B/p39Y0WqSfZysenJ/j7peldc9XXF+/k3ShmX1bcUx3VJz3XIuyj+JG/U13/0m6Ts4o9uEsM3unorXB0xW1ON8plufr7JyO6+w3SumujacmtT1aj2Gx/FIzOyUdl3dYjH/1n8Y2rjOz/TWq9dlNcQOTOvIiRZejfa2jWb2Pug2vYGZbu/s50lST3mZ++Jv0vqdWNntrvHb5ekVNSc6TllUUVLLvmtl27v79cqM2sNtvWneOotZ4fcVN+kpJ+5nZq1XPbx+iKJTm63pFjdcsrunufyhe5xYc2UkWXTbLVh7lb/lLyr9yXrWTokA1dPmPFTXL5XvTWE/3GVWuNUWt+tFm9llFvvQbRQ11VjvHreewUDsHtetUqt9Xe69FReH8Xhq/Dkqbu/vUOC3u/oPUgkaSfmtm91Hktaea2U2KVhnZAZJOkrSamR2tqEX878b273T3v1qMHbGUu59hxRgbKQ0/W5HnramoWT9a0ULq+4rg1MWSPlTuZzLPzF7g7l9Xv1paq+U3tWPceV9O+vIqKWrAp1paWLQQu39a9i9Jt5nZOxTlkiekYzY/Zac7079/SNfL7xUBv6nPK1pW3Njx+2rXQW37//BoUXJXag1xo0YtP8tj8HB3vy4dg7UULYuyFdvKXu5+g5nd4u6PU7/aObgzHdd8DlfVeBowjbeO+LfGyzK1vKaWxmrlklp++x+LLjS5BdVOxbKVizLUtLJVUXbK5/Fmi642f9R42ae2D7WyU1/Z7SwzOyKdz5Xibf8/aaybYu6Sv4wi/exkZu6pm5s60qG7HyTpIDPby0ctf9r0PgNZpaujxluTdqml89vTNXaFmX1MkU+V+9F2Dn5QLO/Lz6X6Oaql87Z0WuZ1rXllV5mr2M/clfE5it4Cayuu1S08uujdW5Hn3Orufyo+eqOkdd39+Sn9f1PSpz1ade2vCFCX5fHe5x93HzIebO2+P20stLTtWyTdYtE97o9edPE3s6ku/u4+z+I5cHV3/3ljM+V1soK7/13T5fvFbpKe2HK/qJVva8+ItVhBLZ/4Z9/9oHYO0j1uH8Xz9X9J2t2i23Zu9VW7H0v18m2t/FkrPzfdLmmdvt+VMcZUwSIwsI6iy9OHFZnDMX0ZuUU3klO7lituLrl/9waKB4Hz3f2rKUN+kbt/JC2/t6Lp3TMUGeHJkt7v7v9s33Tr/uyv6J/9VEn/q0iYX3T39wzch/+nyAwP9zQmUbHttylqRA5TJEJTFBxeoahFeLaiWevNiiaDX3f3O9JnD1fUFDcfOvIxyn2Tny7p3YomgqcoFfTd/cy0fJP0+x6luHBWlbSTR9eEtm2X35HPw70VzaCv9ujC9WBJG/porINfdXy+WZAsj83S7p4Dc73b79nG4X37r/aAVrl/+RiurmgO/bj0ufMUY0zdMHD/3yUp3+BcMb7Ace7+obR8c8UN8j6K8XrmSvqYu1+QlucxrrZKn2+OcVVLo2crmtef4O65sJv3c3d3P8qiKWzfwegtIFkEhV6u4lpz9y/2fabx+S8rWup8T+MFzDyWxKqKJsTNAlxOg81juLKkjxfHcClFMPg6d7853WQe6u5ld8L7KgqCW6ffcLakA939po5rwRX93C81sye1/S53PyttexNFjezc9LlbFF0xyqDQ/RW1309L33+K4mZ5YPrM6ormvKem109XpIVna5SeV0jH706NCt1lc+CWXZw6hv+jCHacLunLPj4Wys8V6bYvr9sz7Ws+Vk9Kx29eWv5Zxf0gB7hfLOlad9+r+J4XKNK5KWp9v1kse7hGXWVuUjwE7ubu1/ctV1wbrrjpP1rxAFWmsXLMwdbuM+7+8rS87Vr7krvvXx5Ui7FWzKOrQPl+2zne20fjfN2mlnPoo/FAavebnd39+MZ3jr3Xk5Zz9+5Hqv9a/LqiK9hpjeV5LISTFS0+v5K2u5ukJ7r7Mxv79STF9XCSF90f07W5ZfrtF7j7Xxqf+6Gk5yrKFPdXFEI3d/fHp+XXKdLgl939vMZnP6O4l26taE21uiJAfpaPjzHRF5wckhZ785sB+V3nfTkt78yr0vLtFC0dfpmWr6WoLDhT0a3mWEkvUdQE/yjd457sozE5estOFgPS/0gxhtTBivz2ve5+Ylq+maJ7yo/Vcq0NuA5q2/+cpHcq8pA3Sfo/RQ32nsU5elY6R9elt9ZUjGN1clq+ufrLXr9W/9g8tXOwq+IBahNFa72dFOOWHJ+W76cIMOc87rmKYR4+nZb35jVD7mlNZbkkva7ltwdpVO65QNEF+HeKYFVX0LEsO71C8bC3keL+t6KiW88hA/ehVnZqK+OV3/8oRfk7T0L0FxXjgNXU0mFap3XcwrSs9xnIzI5XtFx/iYquju6+T7H9NRStV36Yrss55X1lQDpfQ/GQvIzi/M2V9Dl3v7bYxvNVpOPGOejNzweco1o6X8vTWELptUl6hLv/Ir1uzSvVX64py15HKq6bs5vrmNlTFb0IVlc0FFB6/VtFq+TvKlprbWTRDe1DioqOd3oaSmTA88+9FS2QVnf3V1ljnN+0Tr7v/yv9jd330zp9YzBdoegKt6Yirz4xfcd2aXltzMDHKe6LXWP+PUj994ve8u2AY1SNFVTSaO/9oHYOzOxnilZwp6X0t1/a/0cWv695P97Zx8dKay3fpnNSLX8OKD+Xgdg5ivvSce7+dlUQmGqwCIyUD6un2nhf1mmKwtlULUCxvbJmYHtJ33f3ZsuHtv2Yo2hOemvj/c5BTNONf8tcuLWI8i7nHQPIdXyvubtbRHG9+aBSrDdXkX5ubrw/7RjMrwEF/aUVGb9J+rm73zl9K9Xv6Mw0B3y2NtDrUe6+e+MzY+9ZjDuSx6g4s8z0F0RKN/Pcfbeedd7T9n7jQWYTjQZ/PNvdm+O+9O3DqYouVWXN7K7u/vSWdcfSaNr/I70Y/LjyXa01JlYPDO3jUYtYfmbqPasPgtoaGPPR4IOnKPpev1nFWA/u/rb0Gz/i7m+p/LaNNL0A+Y3ODywkaf/2dvdPpXzA5jMP2aNveb5xLeA+miKA/Ukf1RKVy+cO2edUgMljK1zo7n9sLH++xq+Db2o+WdSmLdWTl44tt46gYZYLsGndq1IhNP+7oqI59jNavmfqWjOz3dz9K133tuKetpW7n9vYzrT3hkgPxqv5eHC1NojpVFps2d6g4HRXeiwKUKsoWj7l/PhsxcNcDjp0Doqdlk8bWL18qEjn95+K+9WuisLw0T4aH29FTy0juqTzurUiLe4WX+FrpmW9wcnGdlrTYrqeOge+ruV3aZ0Fui+n9Ll++vzPvFEhV3vgXRBm9hNFS4irVbTiKR4We68DM1uuub8937WmpJW9JSBTHAMpjsG0Vn49Za9L1DI2j7u/q7mNnn1bXxFYMkWX3uZYSHkyi/yw1VouaCt7Wn1Q5mUVD9lravxaep/uIWY2x917J4EZsI0FKTudJ+ldPj4O2IckvaHvc2V+VNl+67gxnoL0aZ1pz0DFssvd/THF/eZeaZ1cruqdVKbYTjWd9/yGtST9wUdB5+UVz0PXp9e9+Xlap/ccmdmmGg8+Xl4s653cZ2Be2dUaqCrl1WVw9BxFI4DcOiafow8rAivHWDEJQlqnL2g0eEKPnn08QGkMJndf16IF5fHuvlVafpm7b2Jmb1W0Jj3YxidquFQx1t2ZxXtXu/uG6f8XKu5zJxbLf+wdA+839m1Q+dZ6Ju5Jy/uukxUUraL+bTFT7HqKycTuTMuPUqTLHynKBmP3g9o5MLOVfXpsYB0fBUeXVVzfU/djxX3/jsZnnqfiOnH3b85n+TOXn11R5vhjsWwvRcD0b4reVDd4o7FLF7ryNaTE1WwBlQerrg1seIKitql0vGJGGSkKDQdZ1OAe3nLTnzbbg5mNzfagnkFMPZoGflJp4PCUCJsJsXc2MEmbWtTqrBSrW3NGu7HCg6VxXnPhwWPmk76ZWVqDOoqxRkq5+eDqFk38y0xhC40KL5uY2VSNT/qO+yluTDlTOUcRbc8PAlOZploGrks329eqCBxJOqQoaB+h/oFe86C2eX/maJQGZGYfUaSjo9Nb+1jMItE7FbWPavjnKVog5Zmt7qt4QH9ZyghXNbNlvGNGOI0PJricYkDA5kDq91Y0GT48bW8txVhR1abIim59Zc3gEWa2b35hEfR5nYrzYzEgac7I71fZf1lRY6JII80Z4fIgoNurZTDa9HosMKXogpPf6x0E1etd9e7nMQPGPikjP8vMzkqf/beZbWoWQeCO33eYotb2JxofQPMbZvZp7+6O97B0w68FHDrzgbR/O0r6VPPm19jHznTYf2imPt82c8qnFQ9Tp1vH7CHu/g13dzN7rru/v2OdW6x7ZsKdGqv/Jv37EDN7SJnXeAQCW4OBVpkFStGa4WON4/MmjZo+N7eXvzOfoxU06gK0rqIg/4PGx1q7z5jZU7qOYfqenNfUJmI4WNPvaQeb2Uvc/WfW0e3SRzWPZ6oxu2W6Dk5VdPV+qEWroGxlpS7haTv/tgjiTwtMtV2DFpUzK5bp1iuB0PTAsk/bMhsNin2dxq/D/CCWB1ZvXqdT5QIfD5y37ctDzKxvxrxLFN1gz1Pcy57o461fH++j4OR7UxlgLM0284OUBm5RjElzhSoDX/soyNfsYtSVztZN37Gnht0zpLhHrqlIKxuV93UrHngVD9YPVbSwykGNdRWVAPnzefv5PJVpLLtFMZ7NtyX9xd3b1slar4PivR+bWd/MiVMBmOIBujkbWq4lX8PTjMRmVtaS95a90v+vtVFw5XCLQEfefu0YraJoVfTV4jP3Kh6mtpT0k+LaXsnMHqs4F63SPn5fAwbeVrRYu0VR9m0LyNVmtOudKWzgOr8ys5MUZYfTm/fn2j4kbWWnnT0mdsitYcf4KDC0gqegVHr/zHQf6J08yCKw2ned5e1vphi8u2/dtmegrNbVsTapzJB03rxv5/3KzyjHazRgvxTPS8drlFd15ueFaefIxyumr1A8gyyd9mn19Jnq5D61sqEVrYEU9+pma6DeNJbO3QkadVlt6u2GVnv+0bAJPXJFxlru/n4zW00xXlFutf48xaybl6Vt/D7dO7Lcxf+lau/if1cqw5VfO5Zm3f03jeVTAWVrn9nx/9x97pDyrdUn7pHiuc89VZSY2Uo+qig5W9Hl/L6KQc8vUZQTcoX74Yrnn4MVXfiusJiJLz9/9J4Dj26a02b102i4kfM9gqdTM1ab2WWafg+7TNJtjd+QK2M+6u5vaxyXj2p8kPUtNArwusaHQ3mg4jq8TNHS93caiMBUYcCN7xRJm/ioZvtAScfbwNnIvD7bQm1WEkm6t7tf1Lgg7yr+f4pFU+NvdNx8Dlf/bGC1Ge1qhYfazCxHqD2oM9YqqqF8EOibqSo7VpExvCC93jV9x9PS61qm+XlFJvm59Hr39N4r0uv7u/txFn2Y5e53mdm/0+s8btGtGh3XfymaLmfbSXq0p5ZzFg/4l2vgrB2SNvKittSj69ZjiuXXq2dGOHcf+x6LmTzKpt5dN653Dty/P1v/GFdHKh58Di6WH6XRLII39O1/8mn1z5LUGhhKGf1LFAWCcgajlRv7+Ah339nMdvTo736MpJOtPyhUPmjVxhy5XDEe1/GN35hvhFu6+wbN7Se5JdonWpblm3wt4FDLB861aOrbnBWkDBD3pkOrB8HbZk45StE0+PT0W3KXv/LffIxaZ34pdM3m1lWgk8bzmt5pq1WfBWquu09dM+n4bKfIQ4coCzenaXrhRoqxHu6juEdclvb/S4pm1fkYTvuN+UGsqxBt9Vmi9lMECtryrKljqO7ZLeel37ODxrs43KY4Z6Xz+tKiVSp0utKhora1di2/UFFI7AqSP1dRK9xZ4z/gYbY2Y9627v5ndauN7SNFfr6ZRgXHZyvGrXpNyoMe6xHQvjztw01WzM5ojS5GZvYXxUNFbzpTex41zYD7eu2BN8+k+yW1zxK1nCKwW3Z/+Ymkl5vZNorxjz6suJ+U53JZDZgFyrtnTtxSw4IyUn1G4t6yl+pj89SO0WWKloHlbGZ/MLMbFcGcz2v8webv6b0r1c3TNvdNv7e8f9yq6PKXPczdn9WzrdpsxLWZwoass54iLb9e0mEpbzjW01g0tX3oKTt9JK1ySdvnCq3jgLn7c/s+ZJVWyoXWcWOsvZJFmp5XHZrS8f6Ka2VFxQDT2R0eM7vm7S7dst1aOq/Nbt47k6zVA7C1iulyVr08vpSn37y94roo87vbJL1yPsqGB6p/BtFaGqvdT16o6Ib2CY8usw9W3F+y2vNPbZxfabwi4/2Krmj/q9FMbLUxmPZU3LM/6O6/sgjefqVYXhszsDbmX9vMjuX4RrXy7S6KWb9zq7yPpOOVK4t6K0qk/tmGPSpzzkrHa5t0LB6pUcV47zmwjln9Uoxi0Ey9A37D0xUxiNK2+T2b3sBibzN7vLvn5+J3p7zsGYrz/VkzO04xZMEv1YPA1Ljaja9r0Lz11JNhlRtIhfSvK2by2VeRSbzFokbvXhatdZ4r6bPufme+sAu1QUz3UxRG7jKz3H2gzLSW99Qv1aPW9UAz+5EiI5YievqjYn/PSTetrFZ4qNXetgZ13H2bnm2WqjU+imbEZUuKD5hZeWOvZZqbu/vGxevTzawsfLUOLOfuH5b0YTP7cL44e9xHo5YTc6V6zX5hKTO7r4/GhlhF49fy79PfUqoHKKTIsMrxs1pvXD7ehHMZjQbKa3bbeJnixvApaWqMq7IVzXqN43tG4/gO2n/vqTFRd2DoPMX1cn+NP1Tfppg1pPn5Zs1gvsHXHrg+YNHl4k0ajfVQPnCvoniAfErxXhl0Od/MNnD3nzY37DFG1BxJr/TpXTZzq6xai65aPpBrJMtuFGXAQaqnw1rw6650He4o6aAUSNxDMXDlfopCtBefaV7z2ygerK9XFC5yXpeD6Le4e7OFUf7cELVpq5/ladyG5FAzu8CjK9Q7FRWLy/ponL3lFTO71c5N1la4uaJcocjnvm5m31Wj+4wXY9iMbbi9BUnp64qHjqU1fg3eqhg76Bdp+7VjuXQqGL9Qo8qIHEj+saRnDMj3ammxVqHTlQ5zYLrvWq4Nil0bWF2qlytqlU3/shhPLQfez1LUsOfz3BWcLN1PUamWWzodoAjQPlFxrG6z/oGvD5W0n493Mfqip3GyutLZfKjd12sPvHe5++d7tv8ISU/x0TiKn1eME/V0Rfe9PJjwlsVnXDEmU+d1kF9YjKu4lSIwtbEi6HWOpFdrFJS5VKO8rBmUkeotFWplr90V98w3KO41q2lUOSfVj9FJikkI8lg/z1A84B6neBAda+Hr0ZJz6YHnfsjA2+eZ2YbufnXH8j/1XENSXEfNB6n5WsdjTMvjJB2XAjAHKa63HISs7UNX2ek76XUtr3uZIs3lcsDZivxKkvpa8w8tO95f0k/NrDluzJByotw95ytnafrg/VJ9Uhmpns677tvZn81sBx+N37ajxiu2awHYWmBmH0UZ9a8tn+2c3MfM8vGslQ3bWgOVamms937iMbTBN4rXf9D4M2Lt+ecA1Sf06K3IUFw/h0i6TwqAvExRAZN7kLyzLLt6tFb7SPH5vRTlhTsUFdwnaVRRI0Ug5yBFMOW3irz89Y3j0Nl6VPUyxfXqn7inVlFiFpV7uyqGBJGKsrGZnaZ4Tj9fESjf3N3LMsaBmn4Oynx2J8V95nJ339OiJ9KXFJX1/6141ikr8m/T9IYFrb/BzF6ruG4fblGJmK2kmAU262pgMfXsm9LZHxXPT3dJuq+kE8zsVHd/qzoQmBpXyxCOUsz8VQ6ad6QPnI3M6rMtfFL9s5JIkZgOlbS+mf1OMYjprmn7SykelvrG/2idDcyGz2hXKzzUam9bgzrW0W0n81FLkiEzVZ1hZi9WFDCkuIi/VyzvzDSTf5vZ2jmqazGoZnmD20/xULO2mZ2rNNBrsfwHNt56J/+G3L3jw5IutxjU1xSFjKmLOb3fVuOSM81PKs5Dbvmxs6QPps/OUfQd7xtj6upi+3PS/peBvNrMLE9WtHi4Pu3/ama2h7ufnb7/Qz7eRaPpcjPb0kcDfT9WRYbno24jXTNuSPUak9bAUArC3CDpcSkzzzU813gxyKo6agY9dWktg3RtfDRm2C1qCYQMKMzPUwSn/qi4OY8FXbzSZdOiBmovTa81zOeld1bAAQEHqScdJtUguLXPnJJn+cxdp7+dfn+z63TrzC+FrpkJ7+OVroLF//sKN32zQLmiJuk0i67Rrshn5tWCQj7qdtFWuJlTrtv2G8zsFkVBpm/coiEDsZ5lZv9w9481tr+zUpNxi4DysYpBLdtqwTpnt/SB3XYHpMVahU5rOvRovdUV4M1yXt06KLZippkrUkFz2sDqSa1cUatsOkxx33ther27Itj2/PRdvcHJpFmpdqeiK80/0gPVZxSD/T7AzD6oNPB1sX5XFyOlfW4dt1CRJ/S1xMhB5Np9vfWB1yIYLtVn0n2o4kEgH5cVFMMJ/NvM7qiksep1oBh4vGvmxCFBGaneUqFW9vp5t7AVAAAgAElEQVSL4t79T0nvTWl72WJ57Rht5uOzmZ1iZh9y9/0sugNdZ2Z7K1pJSXEOrrOBY7AqynkvbVmeW8VtLem/LSafmXbPU3024tpMYYPWsRhj5UWK+8vFGl13Q/ahVnZaVRE4b7Yifkr69yZFWaZLa2v+VJYZ0mX2wJ5t530sx9Y5x8fHV2o712WX4Lcr7lVXK4Ky39f0IHlrOrfhs5vXZpKtBWBrgZnaDKS/Sc+Azcl9BpUNVW8NVEtjtftJTe/zj8e4ypdpNM7vPt4Y51eVGTzd/RMpn75VUY57j6cxmGpl1+RBHmPjtY6Pl/anbxza3tajA8oUd0j6icV4ua40cU9RdqtVlOyr/tmGr1J0XX+UIq3dbGbne5rsKeW9l6r7HLTO6ucRoJ5nw2bq7foNxyiGjPiw4nrObivuFdm0BhZZulfsobgvfUkx8dKd+blD0UuiFYOfF8zsIEXhqCtDkMWgeFunl81B8Xr7r1tltgV3P63l/XK2tKlBk617ENPzvWfaYOuYDUyRCLu4j5rB/lRR+9haeLDRzCxP0ahGsJyZJc8W8EhFrWIO6jS7bzS/Px/DM9QxU4CNT6m7gkbBpNy/eGocAOsfuO6pioJ/OWvInmXB3HoGerVoypstp4hKX+qjwJIsWhFsnj4/NuhySmPl51+guNm+tVjnkYqAhykGKf1psexkRY1Ka6ZvEfDM7lLc6MqZb2ozs1wq6SWeBm60aDr9VR8N/tj6/TYKiN0rHbtfp9drSPqpp4ELrTLjRlqnd5akmvRQ8QlF0NUUNd1vcfe+bl7NoN40xXVQzhD0H0XNyBt9NBFCbXD1axUB0OZgvDcU+3KIomvFtC6PKWDw5ZbP5/7jbfnAx3w0FflcjQ8g2mylkfehLx2eqziuJyi6+/xOkX+tl5bXZk45RdILfNR1eiXFAJrPKr6jbxDPsiAwdQgk5aDE4W3Li3NwtiJ9fUlR4/MHxQyhG6flfbNAberR2nRbjQYTPsXdT7aBg8OnB6Q3Kcar+Wj6vn19fKDa76Xvz7/1yWk/tlSk7dYZrzxas1YH4bf64ORrKB7iXqRIZ19TBKl+3fcbi211puFind60mApAb1NU6DxbEYT5irs/IS2vpcPO/NLqg2K3nkuP7r85aPgk9ZQrzGwLxbiL5Yx5Xyvy2yu8MfBs+V7bw37afjnu4v6KirTcjfQ5imP+SUmHuvuu1jPwdXoQu0zjXYw289TFyMzeVHx1OW5hb+vAnJ/13dfT8mmzqCquy+s03qqysfnoNmzR6vDdGuX3T1Qc868qHtZbB1H30diYtetgY9VnTuycDS0tf4biQayckXiq3DGg7HWBpKf5qFXcioo8J8/++KvKMTpF0WX42LTsRYoywLMUAZpnKQKYT1Ec89MUD2CvbTt2xRfkiqYyMLecIq1d5u47peVrtHy8TCO1/Lp3htAh66RjdIWiUvNEb1SMDdiHtrLTVz2NX2Y9k6Kk5acqxqMqxyU81kczyl3p463Nc+VAXzBrLFhiPZMI2PSxdZ6ruOfmLkzHqL1L8PppvbHgbZuudK7xLoEtP2FUfk7b6ZpJ9kDFg3prAHZA+bY2A2nr5D6KPH5I2bA2g2gtjVWfU2v6nn/S8o3UM/GOjWbw3FQxPMvYDJ7Feis3tpHPQe99P5W9HqpIW2crymxXF9vtnAQsLV9DPTM7DihT1LrGPlIx+/xLFRXAr1M8wwyeaCJ9z4qKtP9mRTBu2fR+baKI1ln9FPftr6T7cVvjhrJc9bG23yDpox4t0Fdpfj5tI5/DXRSt3MYaWLj7sWn5+xTd9m5obsPM/st7gqsEpgq1DCGtM0cxqFd5sf06LTtP0SxvrG+0VyKXNnCGpLTu6c0MurGt9yoeRlrHmDKzR/nAqWc7tl8rPCyvKKg8QekhUNLni0x3OUVT82cqCoPnK7qpDJ3R5kkd31+rpRgs7eObNOpre6qiG8jjfWBLi8b2VlM89O+SXj9PMbBmzgTvo3gg/1bPPp3l7k8qXvelw1qm3zlroJmZohno+uoO3F3lo1rMae91fb+ie1CnIg1VZ9ywaDa6r4+6kd1X8ZD1d/UXDvZO618p6emems+moMYPfRR06Bqk/4cDf8MFisBsHmfrxZL28tGUvb3TLteu87TOAW3vewQdLvTxbmbNz+7cUoiYes+iu/GPNRqseXdJG7v78xuf6UuHrUFwTy3laiymxN3YR13hlpV0pbuvX/z+zplfFlStcLOwWH/LwN7lFkHwV7j7n9LrB2o0Ht7ZXpmlpiudWQTUtlO0FvhasWhlRZerLVo+s46iheGu7j4nvbdAs1umdQalxca+lBU6zXQ4V5Ef5xabfQHesXx3fnSUJ4rNTx2DyxTN73+p6Iq1vSJvy3nF+Yqg+Tnp9VaK8UMel17XHvhznv4AjWZUO8fdp8a7SQ87X/M0o2/Lb7mvIsg0NSObYmromzrWX1aRfz+zeK9soXqRF10XhtzXbQFmskqff7CiksjS9/++WNYVWDteA68D6585sTobWlqvc0biAWWv3gBmjUVlzwEq0ojinN+iOO4LO9+bK+kob7SutugSU+YVg4LcC2mfps12dTe20Vfpeam7b9ooL03lMdaYPa35Xsordvbx1vwneBE07btOrDJrnpldo/GxdZZX5CX/lV6frKgsKoOfJyjyl0coxoydpqW82Dvzdh8z20dRcXyboqXPJpLe7u6npOW9Adi0Tt856r0nWXtw8ApJO/btd9sD+t0x5Dl1AbffOvFOc/vWX5HxakW59h9pGzkAnIPgQ+77yyjuF09WtL5b0d3zGIdnKY3L2PaMYGYP8PGucbIYYD9Xps93maKxLVOUsZoVJZ/yAeOMWfRSeIIisHeDRjP0nacYWuWM9LtzhcvKiln98nXYOqufmb3a3Q8ZeHy7Knu+4+7bp+uoWenTvI46G1gsCLryFbzSvca6B8XLmW5r/3WbPrBg/lz+N9dYD+nnfbnFoM1dgybXxpj6Qrrgj1DUEoxNOZz2d9qsepI+nW7YtemZ56V1cpPHXRQDmObm0Ecqmnd+qFg+NfB1V0DAU82j9wSgzGx975kpStJn3H3rrvNRHKO8j7mLRN7Hn6p/oNeuGovfKppsZgd4Me28xwCFByhqQGTjkeqlFA/fDyp+Zy0d1sZoas4auLTSrIHu7mb2LY/WT10zs1xiUauUa4x21XjXoNbvb96YmwXQkvePHyXFwNs3Fevngbc/3bHPTUs1blx/VTFziToG6feiBrzC3P2o4vVX0s0oax1cvVj+s/Ted9RRK1YUlFaOl2M1hwelNHWK2pvDv0OjgYDV8t7a7l6OT/Jea4xv1JcOU8DqhR6tcf5P4/3j8+fL63AZRUu6/3P33CS4rev0vGITvWNFWL1WrHd6cne/IRXMH+ztM8DVWsjWJtPonVmytjxZ01NQKrlR0rru/jczu7MWGFLH/UQRJBk0OLmZranI31+kSAdlE+0Fnd1S6kiLVqnQURpjwUeD47emQ/Xnl12DYr/d3V9oHS0o3X2jWnmisJPi+O+qCAq8VFFYzF4j6ciUnk3RdP6/i+/aq9xYfuAvlpd5elcXzsskvduiJvqbirzukmIbtS5GTWPjFlp0ef24Ri2WDjazqRaq7n5WJXC1Q/p810xWr5d0tI+3NNnF3XOXJynO758V1+ojzOwRnlqve/eEIL/XgOvA6jMnVsfGTA8bb3D376XXa5jZ13xUc16rRf67mW3io0kBNpX0D+uZoTP99m+kf/+iqDlvc21XfifpZz5sxrmm21UMSJzO8ScV43HdqGhJfY2ZzevbvqKyoHeG0FrZsLgvrmxR6TXWTUvRQrz6G200k1UZ6Chnt6pNivIfi1moc+XOGo3ve4uiq9tYa/7iu3pnfFN9bJzr1T+2TmuXYEVruu+pvWw8xkYtP77X8p7M7ENqmc3W3XPX4pe5+0Fm9kzFvXVPRVntlPSb1qrtg/fMPDjgntQ6uU8qL8xRBLqe1vVh6xicXdJJQ9LYfNxXmt97zsDnn76Jd0r3l3S7t89s+GZJj/SOgGPtGFu0hH9C+ruPYmD8HxWr1MZl/JGZ7e/ux6XtvUlRDsq/q6tMcVztvp4COld5BMHKIWByHi7VxxlbXlE+udTHe6vso2FjEh6unln9hpSrPMaG+mLzNygqZaTI+3JrtZ91bGZzjcrX/9H08eTuFgJTBas0D1T/oHhSR/91Hz6w4JBCeu+gye6+UgpsrKOWh/6UMa2jaL56iZldLOmwlFHLumfVO0aRYC9VSxRVo0JobWDr2vIj1D5r35fT/vU97JUzRbVlvFvnY9Q8Lg2t+5gCCUspItfHdX24cWNZStFFofyNS0370Pi1mI+xFJnt9RqNMSNV0mFXOrLpswZKcWyaswbWZjt7raKAs3f6/NlKYx7YsDGuWgugGgXMauNHSR0Db3tjEFDrbm1ykkXtXy5cvEgxHkLWNfNi8+beDDKvmT5/hpm9XdEtwtP2y3HOatMuL694EC4fUMeCn2a2meJaWSm9vkVRaLtU0oaKWqCnqKj1shi7YTtJD7XxsY5W1viN/R9mtrWPt9L4h8Z1pkOPcQQ2NbOxAXMb64xdhxYTFGxRLP+gmf1Ao+lo9/Si67TqY0X0js2j+gyjtUJ+bYan2qDXtZkla8ulKIB9V+OzjZ2djsXNqgSG1HE/SYGrKy2Co0uruwb+QkVA8XhFTf51jVV6A7DpYfetmh44K/enKy3m892bn1tlzL7KfTe3XmgOip3Ht9heFelBd5/Gg9YnfTQz4nUWzeK/pRjf5JmexppIy69UzF65cnpda9Ex9sCf9ObpPhqbYhVFGvpoekBeJ+3zZop7x5oaD8LmVh9t4xaWA8u+S8UAr+m8/1BpfDarBK4UAea+maxe6e5TBXePiopXanRf+qgiDx5rBaDxMetK91aM2XGlBlwHqs+cOGRszHMkXWgRaH2oIghRtuT6nkb3muUkraWYATTfN/dVzBKdW4I9WPGbd9B4hVo+T/melbuU9s5mpu78Lgcqemecs/FWBEspHhLLctT7FdfZD939MRazJe6iUX7Vtf03KQJmfTOE9pYNNcr/DleUdfMMwbul9/K9sjarXu9MVmof+3LfYt13KcayyRWwT0z7nZ2r6Fqcg5WHKHodZAeq/zqpjY1TG1vnGEVeUnYJ/qpiHJkrvadVkEUlyZAZKrf19tlsc2Aqf247xUyvV1oRobCOrs2KB/u+1vS5wqh2T3qZOib3SeWe281srk8f5y/rGpw9H4PWNGZmbx0SuOr5fUOffzon3in2Zaq1ulpmNlQEM2/v+XzvPVlRiXiJoqvl9316N/vauIxPVowTu7OiRf81KsqW6i5T7JOWX6PxmQxNUZ6Tx9hOV1oRQC72P1derJL2u3VSFE8zBre8f5AGjEnolVn9rFJpmtZpC77dojjuH1AR/LJomXm5IkiVv6N3Vr4FQWBqXG3a5tqgePtIeqfFYKJdfdzLMVHuL2klH42JUk1MXm/V9Yq0Hw9TNBvfUpFxTvVX9aglebciAX5G0qNTxv5Odcyq5+7PSJ+dVhtR3hRUGdh6wPLWgECxvPNhz93zDXw7RX/ZPIDjj5QG7LTxaHeXzn1MmdIbNF6gaipvLHcpxhgof+MlFrMs5RvlXhqvjd2gZf/Lbfamw0qmP2TWwG0kvdrMblDLbGfufofFwJOnKQr5P883Dh82sGFXATSrzrih8YG3XRF8mBp42yqtTTzGaXu+Rt0WDvWiFZu6Z158Uvp8683dpjd/fXWx2DVqhVebdnkptTzMNr7uMEmv8zSLZspbDle0nHue4sGqOc7XxhrWEua1igfV3HrpJk2fmaWWH16umBSiq3XnGHf/lkUwr3zvMo1PMV6qTWJQa/VVm+XqQPUX8muzQFUHKfVKy8DacsV18QJFgdAUrT2/noKB21h0A+kMDNXuJ0rTTqs7OLeHd9emSfUA7NGKioftVYy50thGW1rcw92vSr+hVqHz5uL/U2P25Tesvdl9LqBt6z3dzPsexAobedEyOT1oPaalYLiKIqhzoZmVQZ+xln05Pfho/KPaA79UydMLj1B0415T0UI4O1pRNhoba6tQBuimjVuoegvV3sCV6jNZLWU2CoJbVJCUs0Q9VxFEb31QGBBYa70OVEwM07Fv26TtrqT22dB2KP5/iMWYZmcoHvQf40XXCHffsLHPm6i4v3hMLrC+RmNf/sxj7Mucz79W01uIlumvNptZbUa7qUqhVM5asRFELVsR3CXpBnf/bfHene7+VzNbysyWcvczLFobvarcvk1vITwvLd+mZ9+qZcNkVXcvu0odYWb7emNWveY+2Ggmq7Vt+kxWZffYm1LAYmpSlPRQnPfzpHRecze3N/p4q5Ou1vw5kFa7Ts6y/lnzvpn+sjPLD6d7yPc1Kje9xt0vsWGtcYbOUDnHWmazLZZfajFW11qS3mHRSrrMkzYv/l92bc4VeO9T3IeOSvuwq8YrN3rvSSkYMdb9tOGfkq62CO6V5Z4cOOoanD0Pnj6vZVmuKJPqwdFOA59/5qln4p2kNrPhOxTl8wvVPilI7z1ZMYvsVorA7N5m9h9J53saq1g9k4Cl7/mDmZ2U9uM/irGPyslgWsu3HjMYSlGh1uzhsX7x8sGKAO5FGj/HOV3sIOnTFmNlHatoRVf+vl7ufnAqLzUnScjjr9Zm9atVmkoxwPm/FcFmKYYbkeJ6PMLdn2PTg1+PUgp+acCsfHcXgalxteaB10k602LA2WmD4nU9rGY2Pcq8jMajzNXEZPWuGfsoEtIF7r5NupjeW3x+I0XT12crmrI+x6Op80MUiTwXhFpn1TOz97n7e4rXS0k6Km3XFZHzl5rZ2MDWNj7w9bTlxU9sDQgUy4fMSDFPcXFN607oPdHu+djHUy0GUPyaxjOlv6V/W28shb0UAYk8ZsUpGp8BqW3/y8JHbzpUPdO/yIoaHZs+xlXvbGcWTdC/oKgVMUVB/dU+muL3eknnWnQRahvQuLUAWqxXm3FD7n6kRfeJp6R9eL6P1/D0tjaxCC4e3RUkUX3mxfxgMDZ7jQ9oRp72pzbtcuvDbGOd23JQKq1zTioYStFCb9o09z5qAfBTb7SeSAWfXAC/QvVWGrV02Nu608a7luQuq7XuKuVv6Zz5Jam1+qrNclUr5NdmeKrNrlNrGVhtOZgexE/Q6AG+qTcwNOB+cqD6g3N/sAiydw2SnwOw79YoALt/8fn7ufuXzWwfH80EeJbGXaOokFhbkaZvkfRci0qYTj7q+tDsvnZu4zuuU1zfZevJP0laV9IXzexYTT8+OSjU210zaW3dqQGtrZLeln2qP/BL9Tz9o4qWhL9UBLXe7+Pd/P/saXr2Nh7dWMbyQ0UhNau1UK0FrmozWZ2sCFR/IX3/axTTbWfXKe7rrYEp1QNrB6r9Oqi1Pqh16ZhiZrsrro2XKioXvm9me6Y8e5pUbtu8+PzOiu5AP7aoeHyvmX3AR93UvqVoRXmZRl21yvy2NptZb35nEfR+jaLseqmkuWb2P55aB3h9HNCbLcYsOlsx69qNGg8gly2EzcxuVlRGrNG30cY9vrNsmF7/xVq6aQ3Yh6EzWR2sGBNJPe89RJH2l1bMVlv+hlqPg9p10jlrnkUw9+ne09o9WV7SrT7ehavaGscHtgZRPBNNm822WP5yRS+E69z99vS8MFXB4pWuzYoWqeX4m59PAZQ8cHvrPcm6u5Lm781Bl+9pvHV83o9BM4haT8vFdI4e5T0TlvTpe/4pHKZoXd5VCSHVW6sfomil2bqN2j3ZY3iT6yStpmhk8XhF/p2XXyfpadY9CdipihZUj0qfP8yiq9ub0+dby7c2CjA/3KYHmMvGBStq/J5hinJA3r89LWYK3lYxjuznzOxUd+8tsxT7f4Ci1dcGimt0W8U9NU+W0Turn+qVppK0lY+Px3q1mZ3r7luZ2W5WD35JPbPyLQgCU+NqzQN/nf6W0Xht3JRUCB/rRuejWfhqUeYhianWNeOf7v5PM5NFrcPPzGy9YvlnFa0K3unj3QV+nwoza6ZAxcc0qmkrp3td3cze4e4ftqjJPT79nndq4cgBgYd3BARqD3tS/ebdGu3W8AeF/NBWtuKZ6s6YHoAPVBSYltboYeXhaV//rvHCS1Nt/3vT4YAHsQO8Z4wrHw2m2jUG1CclbeOjGS7WVtyIc2CqNsZVawF0Pm78+fVPNR4wbK7f19rkQZIuthhM9DBFjYYXn73MYkDerpkXm7PXHGFmU7PXpHWm1Xgo+uV3KoI6XQ+zpYssWgx9VZrqLnhmekBcWzFO1cVqr6E/xMz2yEEZi65E+yoFpqw+zoNUzw9rrb7K8Shyl9XeAURLZvZGxWDnXWOhlbVipjQ2j40C0EtL2jMVgNpqBmuF/FoL2ZUVzdm7umPWWgZWWw4OCIzUAkO1+0ktOFfrLnmURq008sPFA4vP18ZckSIwkx+of1e8n2s0t1JcZznQv7OK1oA2fcy+TVWM2adomVJ2kfxOKsQ+0cz+pjhn22i8a3tW664pjbfuzPv3QR8+GG5vy74BD/xD8vRfKcZy7BqE+AAz+5KilWzbzIK9+aFHC9WyZV+zhWotcLWXolXVHWmdkzVqNSJFV6lXK655U1wrZbnldsU4HGP7r5hJqm3szJVTQCAXuluvAx82/EJ+cPtHejBcV9Eq7QeN1V4gaetU+P+qxdh68xQP4bLxsdRyOi5bF+7v7sdbtJx9piIo9nlJ+SG81kK094FZ9fxuA4/ZnHZVnLu3Ka7Dj6f9r+VVOyoqDt6oyIfmarzVWlcL4a5x06Tx/Faql606u2n17UO6Z9xiZnc1r2uLcWc+p3i4XrVxHldWtNDL67YOPF38hlqPg97rxLvHlRnU2t3qXbjyen0D2P/RzFZy99vSM8cmkqYCqB7d1a5SzIgrRZC8HH/TFfn99or0sYI6xipNml2b/53SaB5mYReNlw277kmH9XzHaOe6Wzw1W9O/RePl3VxB2dlyMZ2jctbuu6PW2ufX3lMJkbS1Vi/z27vcvWvsx+o92cx+qeimfI7iWOxZpsm0/AJFwORsTX8O+F8fVbTfbNGD4p3F51vLt4q8akiAeenmfdeiZd8Ud7/TYigKVwRzd1QMmD7ETpI2lnR5CnI9UMXxdfc3pu/Ms/odrjh+uWVhrdJUklY0s8f6aCbuLRTlQynK47Xg14ckXWZmZ0qjWfkG/r5ezMpXsOhHeajGp23ezd2vb6y3kuKG+n+N99u60Z3vqd+smV3k7ltYmmY4FVbO91GT/Q9IOq8vMVmaocPSrB4WUdmTi+/4piKh7qtoqXCTpHu5+3bFNpZR1AZL0x+4a7PqmaKp69WKwvoP3P1T1YM7kFVm7bNhMyceoZhppLx57+GjQYWf1PbdQwr4Fi3Ednb3r/Ws8zNF4ao5O+Nf0/LalMC9+z9gH9sGTz/IR9Ojt82qd7WnrgLWMQaUuz8yLT+7fJBLaeKsxsNd3/6toCiALqVRAfRoVQKDXTf8ju84QTG44GcV1+HeiunNX1ysY4qgwZ6KY3ScYnrTX6Z02Gzy/4UiHdZmr+mq8citc8oCSvETp1pivFSRyY91VfRiQHWLLptd5qoxSHX6grPSZx+etl0OuLy9j1rRtc0ONG3K9PR+6zheHduY9t7dlY7xCxUBp2MVsxP9qWW9Zq1YrYY9P8T3Tuu8gPs+R9I876idri0v1rtWPYERG582OKe3mxWDbl4x4H7yZUUw4u2KB+e9FfeT16TlvTOBWTSnz619yrzwk2n59oprazWNxlx5b1kwtsaMnC2/8QxJz8j3sfQbTvHUtafxQHCX4r7+Ph+1pLtGUYueBxxeXdHyZAMz+4e7L18cnxVVdG23VMPYtW/FPm6gUcvB071n/I6Wzx6quAe2tuyz6d1n/n975x0mS1Wt7/cjXDIogopKliCSEUHJUb2IgoKAgIgYQBQUJRgQECPCRUQJgh6ySk4XkSg5HgmHKIKgcv3JvShBCRLW74+1a2p3T1Xt6unumTnn7Pd5+pnprq6q3d0V9l57re8bWUQY+Keu6WE7tZNqkk7DgymVTk2p62HLzxkHrq61zsBVX6je/ntba+FAVHce4FkbbUSxp+J9qtfiA6rbceHgxszgOEgQrnfFPopA/jlWljwV5/J3gWlmdoY6Hd1Sx9EfK14e+Q5SyMsQV8Wzh35sLmg/4mDW4lq1JPDXrmPoDUX/u+pci19TVP4VLV8wHlAOoG+VakPHPVKu4XQ33qfeEJ9sOC5a/VncBeuh8P77rEF4Opxny+ETQuBi5Pfj56RFY4nuUsNKMecCSzgqW+nofCdhcj06rmKHwTbXmeJaui4eADgcnyhfK3rPG/AMRWO0EcKx4fNubGZvC9ety8xszbA8Lm2eFXgbcKaZHRCWL4FP+BQC9zfgLqiPhuXJe1IT8kms7zK6DKu4lnwEv788I+nA8H0faqVpwVRzo4q67R+BX6dbSSRUrN84/pF0DJ4JU2u8E97X5Gz4bXziqHsbRVZY6p48i4USsZrPMAcecF8P/x2XxzXOto7e0ySb07p/2/WekYwqOk0B5gNuKPprkt6Ll8ZthGfZ/go/RluV80m6zczWDPeNjfDrxD3RGKzO1e8CymN/Xvy7L/Zp1ikrtCYebJ0X/x2ewQNn9wJbWCkcXwS/vgy80czmCK+fCjyExxj+RHblGw6WTg9cEZ8BLiwr/w/4mJndG97SWEZHWhMlqVFFojQjOjEPDh32BYhS2sNF6RS8UyNgUXnmRJHVdTIVrnpyobOCo/BUzRvwNNcRJ5gBUNTQV7r2WYMmilqU4skDSz9pGug0YT7juSed1tHdPG1lWVsVC9noMq3Xt2l/+AxNGlKQFk9PaVxVakCpLL26V64zcGZYf1tgpCxM7QSNMdcPuwm/qTxj7YXL25DMNjEzk9fR/z/8e3otcCkcY8AAACAASURBVLY8cLgEfh4UKefd5ZSP0uxeUznjYaWT3sk0ZBNZulQRa9DUSGEuuLw9peDy5hZlUJLWeUBp17jKrK+6QVzUtkYRz+h9h+DlKivjGRbXSPqLBUcceebnxxitzVMMFtcG7o067/PhncnHwvuewwNTX4t2i1o6PKnBTMMSs9Op5RGp0uY18KBroSOyBX6u7i7X/kppQKUyVVLlkqlsn4vDvyOaKxWkSi7fhHcMiwHovERiupYur/0SLvA7UpoMfDb0A4oBUUdpe3QtbJPBC35NF+X1vRfWxTP9/kh1Zt+RVGimmNlh0TYadf1UM6lGGUxbxbo0jrp4lIrroVoEzYoXzOwc4JyqjSshzJ0aDHbfWyJODstTx0jdebBZWH47Ddc0QOZlR7vhwaHDwiAfJUSNKd0QL2G0AP0BlG68j4f+5aa4eP0cdJZDNh5HLb6DxuAl3id8FC8jv1Y+ARCXgKeuVWfhk8IFr4TXRpwaVZ8hDHCoXEvv5dDWN+KZ3PEgfy3KvhWEwE7U99qEZp3XujYcjffn51CFsYyVJWEnWXOmZEp4uinjLR5sdhiiUE76FX2g2FE5FqlOZbunSrhS+qFQTlBsgU96XyDp4OgzpIwQ1jKf2L8DRvrPccZ2Y2lzCEBVZmarNO+5mK57kqq1CEewMuNoCm7WcGRYf1c6A95fN9fRXRe/fhyBlxMW5dapzMVGiYQmWo5/2hjvpNwnPxr+xhk0I1UlLa41bwrnVIc7ZvQ7voL3XV7Bg5R/I5KtUFo2J9m/raFtye7H8cnSz1iNrmGC20L/9QR8bPZPOjO1K139KM/7U/FA1XV111xzKY+VFCoKrLN0/0yNDn79nE5nxCn4PeUDVDgD9kPOmIroHsgUr0cDmRuBr5nZ1eH5hsB3zOzd4XkR5bwTv3i+qK4ZZTVEmcPyUY56FmXyhA7kObjr1kmE0gwzO77lZ5yKW98+GJ4vi4tzrxGej8xwRevcRdnpr8K6gw5jpW7/Vs661WqiqH0mxOm4GF5djXWqjQfig69KjSl5EG9W/EIe31hGZkSAra3TEvg8vNSzTfvjjtaIhpSZ7ReWz0WFwKeVM5Hz4OU8m8JI2cO3iiCQpNvN7B3hd18tBONuxSPpDc0bmT2/LHw3XyYSjyxuWkrMHscBDzOrCnj0jaS9Qrv+D0+RPd889XYWfBbgn4nj8Hy8w9zhXkN5c1zbPDuybsaj72widaUzm9l9DQPBgse6lr8e74C9CB0zp/vhN5xY5+HCeLAr12XYJrxezJ6OZLeoJuuLalfKERoGkZWEAci2+AzVfNFnuBH/fjp0DqwUsL0DWN1sRDB5FuB2C7NmdYNh4A9m9mlVZ6yNXAvl5bP7AsfXfD+p2enG5eE9R+Ep3JWBEXl51IctZPfKZ7/Oxq81U/HOTav7Sei0z2OR3lg4N0+h1BfoECZXOkujNninzpLLZXCdoFEDakm74qXTxe+xAXBw9DvHWmYFT+NZJYXY9hx4gFy4aHRxrTwQD05vQhnIP5HR5YYxI9fCsI298cHuOWH7W+OD1Sadlfg7qryvRfeDW6xTM2XUa3XXdDN7Z1g+jXJSbVWFSTUz2y4sPwE4snvAHAVTFqPiemhRhmrNZ2sVuArtPo7RmXdTw/LrKQeDWxIGg2Z2UFheGbiiSzewG2s54RYCAt1Bo/gYvQO/Jx8J7GZm9ypkKUva0swukmd1VU04FYK3D+LXo3vovJ7FGZ7vxY/rhyQtAqxkZpeF5Y3HUXhPk+BuY0VAzfcym5WBotS1qir7Mr7nNmUIGx4s2gLvDy2KXze/XHz+pu8g4hf4/bT7ODunZRtusQZjmbp7SnTPWB+fRGgSnq5FXgK3p3WWGh4THYeNGV+JbQvvN74ZP7+/S9DXKq5lqetMeM/FeEn2pvig93k8K6r4ne/Cta46jBCi5bfgAczbzANUC+PZKKtF+3gDUUDTOjOuGt3XJV1tFZN+qsk0KrAy42iqma2hziqE68xsvfB/ZWYjnqU0Kmsz2n6rzMUUTeOfcI//niU0rFSRXaSKSoyG9bsrEq6nc4xyOR4EKgKoOwE7mtlmYflzeL/uv/Bj48mu7acy+5L9234J15plzOyKMCabzbqSXRrWPZUyC+oFYP6iT9Vy/Y3x73Y9PGjU4agX3tNhqlK8bmXVxr6hDd3Br3g/s9Ipjv68mS1f9d5eyBlTnVxCxUAmYh4LQSkAM/utOmcM/iIPbp2PC2T/A599IFrncqIoc0zNjb/DUQ+40jwD4VpKTaPkTFfE7BbZHZvZ7+WlDwWVNew2wKBAglQNfa0mirXX7EjVWKdo1Jii1HR4R9fyogNXaQnctv2W1pA6mQbxdEtrXFVqQFnawasgJWhcNXscC+U2Cpe3QdJhuJvm83jG4Cp4uvZp4S0L4VlIHd956Ei9H9g/cRw2utfgGTpNMx5tNKRSrECZznx4GExeYWZbq955pinTb4Twm0zDrz1itM5D8b5aHS9rkfUFoNEuS62Qp1Vvh+vQnY1bxsfbn9MadA7w4zDu+L0qL70oqNR6KM6/qs5rFykzjcrZaUmnmtnO4bMd2b28i5SO1WKUdu7gs4yLm9nz8szcBSiFYwtnpJclrWpe6lcraBw6JTuZWZWIaFsdryYn3Faaf+ap+r+mvO4eYJ0p5bsB76IMXG2I3+eXlZt5nIoPkJYI7V1Zri90ipkV2WHnhAHVnFZvA17HbvhEVRH4/z6hRL3l53ssfNdvoPoakdJMgYSwNGltynWBXdSVbUOZ5TmV5uth3WdLiYcXpIS55zKzKyUpXNMPlnQdHqyC+iyGov1z4vfru8LrKwO34J87GVDAZ+ObXAv3xoP054Wg1FKE49GC4xueFT0quEUpePu/0XurWIjg2CUvRwXvKxVtbexfKC24m6oIQK7J0zFpSKkTlbpW/a+kD1gomZL0QXziqGh/MkNYnjlzPv4dfsbMYk3ANt9Bynmwsg2KsmhVkUlrZYAz5XzYRni6iSZDFIB51Jnh+m5co6n4HLXZ+GZmkrbCtcPqDEdS1xnwCar3Aoeb65sugp87BSkjhB/h15rXy0vGtiEyD1I64yrlvn6j3HW6e+I57sM28YLCBKc86+RxfAKwoDKz0UIWkWpK/aLPtxReDbA2/lvdhPdtq0pxq6gd/5hnateWs6mlOHi4X23B6OtlMal2Cs0VCZXumNHzHfBr82eBT8onIa81syvD8sbMvrb927Eir4j6NJ7dtjQ+pj+OzrF8E0U20tGMIRvJzK5Ss6MeJExVLJhW1KF24uhjIgemOkkNZB4JF4o4ijtyMbB0GV3V7GBhS/0lWtz48VnX7gvH2XSmKzdxu1wvIU7lnar2jnSVnY8iyjpWetj/W63B/rwl3d9pT1giDTXVgbJOS2AYbQnciKo1pGIx30aBT6VL7apESA+J1l8SL21Ygs6bThHYSwkaS54VtSNliWHHtagp4NGSzc1sP0lb46V82+IDgdPC9r8RGjJKpNPM7g+BqNqUf0vPDBVZP8fJdXa6ZzxiQeQ4m6gXmtKZK51nLMwIKVHGhn/IXzNaoDemjWtcrUC9ahyOKgKvdSyOd8jurFl+auggXEx1Svwj8sy5YsD7WTwrp6BxMNyi89VopmFlWWeHZqGk++SzbX8iEbxoESw+A7hZ0gXh+Za4sPI8+O+SKvWrFTS2SIjVRrs2tjWSqA3epQaRXbyIf7dz4gGnZa0sMXoVeJsF/TH5bHohCn2tpM3xzuOdlNcZw0vY98TdO58yz4CeW9JnzeyYsK02gwTRef16hc5Z8UYkfR4PqvyNTkHk4hr00dCGo8LrN1CWUhR8EJ95rROWTk2qVZYQ9fgb9YxaOlmRHgxWBq6szGL4JT45VJhBrEinu20qoJByLbwWH6wXzx+hLNErSAW3GgXo8bK1IuNiTmBJXED47bSjUXCXRPBS7og4NzVGAS2uVbvjwYwiM/EveAVDsf034BIPbzKz98l1295FpxuU8GypO4G15ZNL/0V7Us6Dr8PPxTjT45u4ac+n8ft63McvArhF3yoVYG0jPF3VrmJMUFlqGL11N9yhrPjOClfBgpSj803AU1afUdPYdwSKEvlz5fIVHQFU+Y3gNjUYIZjZ6fJM9CKosJV1lit9jWiQHPq7V1A616YmjIpy0vj6OPIbKlE2jOv7zo2f34eG9XaJtpUKzFWW+lFOvJyBTyIV483t8UmJjqzZBlLjnzvljtpVGlZtS9kuwu83ddeylAlBozummV0AXBDGyO/Dv/P98BI3SMvmYGa/lhtszQZ+r+n6DP2wJ66RdkvY10NhrNGKmsDS2+kMLNXSMmiUMsNIkRJHHzM5MNVJaiDzCfykPhe/IF5LmG0OnaK7LZRp1ETX/wvv7J0R1t8eDyg8iM+U1N74wwn4dnzGOi5NmJ9mR4pu9sBPmr2iz3AMnYGNWlKdjz5oO5BJaaIkMRfljNMs5yZyRkkR3r8PsJh5Sc8y+OzRsk3rdXWQ3k1psQ5+zLUlpSGVyjo7HZ8Nej9RqV20/Bth1vBVQoBFPstfzCSej5faXUT1TedboePzJUrxyHi2o3b2OJAMeLSgyAL8T7xU9e9xR0TSlvj52CHSSdmJr7tg/wTYUzVionHAStKbKZ0ZkbR+MVi2ltlECZ6hTGc+wTrTmVNZFMfSGeD+V/ya0g5K0ELHK0Gdy1KrdHAzO0DSKmEgCp6qHHdu/o3PnH6N8reKMxt3x2dfvx5evxL4dA+D4VTna0/cTGN5SY/jkxgjYseq0SzEB8CX4gPL26PtFYOcpaJt1JY2h7+HyvXg1g3r725mxTZ3DAOA1aOg2EF4B359wnVGnlG7FS5o/JLCLGTgjoZObBtSTrhJlNZHWsI6RfGfAJYN14SX8MDcCmaVugafMrMik6zQM/kUfs+EdoOEKcAtcmMS4YO3n/XwEffGO/JPVi20Bs2U6D2xVt+oUtnUpJp51lYsJrswpYMPSjjR9kFxrysu3vEALj4XugeDGxEFNUgHrpa3qNzUzO6RFJeVpQIKKdfCNrqLjcEtvK+5PH5vG+XYZl0aYCFY8ZmG7XVTuAa+LM+AfILoWkM6ePluc1Hru83sELlIc6xLk7pWPYwHk+bFs1m7M2hPws+lQvPv93g/5uyu9xWZe22z8WJSOq+/xPvMHw7PdwR+ZUHXEO9vjJJRiLafuqc8IJ9sbRSeruCIrucHRf/HWcFTgSLDVdaV/VkxKdSdjb8R8BlJj9F5vS/u2am+IxotkL4YHph6u5lZOO++RXnP6nbwBJdbeIayb7WYlaVpqYyr2nuOfLLpQms2dKrLviy+i0Jv9Z+U2chEy58jOi/M7K903vNiDa7jrEuDC//dTo2enxb1gZK0GP/UaliF4+VpXHO2Q1xc0pLRhMxbrHnyNjVG+QQN7piSzsGNFv6An2M70zkOLbLoRzL7KF0ekfQZPPD4PH6sjupb9cmLZvbvYswhz8RvktjooGVgqYk2QaOUdmcjlnYGHDtmlh/hgQ8knsIH+n8Mj0d6WP90PFhRt/yWitduDn/vwm9Wr8E7eNfiqXaXhOUfDD/8k+Fv8fgR3iEYr+/o7q6/8+L13eO1/0/i2kTr49kNT+Ap271s41N4VsDD4fkyeIlk2/V/hXcy7wnP58IHRAc1PaL1v4d3YD8RHpcD3+1h/3PhQZ/z8BvcF/GO3jT8glS4tBTH8atFW8P6U+PfMPx/TfT/7+p+97rjuOu9JwOviZ4vCPy8h8+3UDiXigyg04AFe/yNv4d3du7AO/ILx+0O59vr8Nlh8A7GT6Plu9Vsc5Hw/+JVj+i93w/f/yV4J/MivMMzyHPhg3jg5ZpwDB0CbBKWLYFfP/4PDzqejw/Qi3XvTPzGf8CzTOr2PStwWp/tv6HNaw3r74XrrXwzPKYBn4+WP4wbDfTU/nDOPEJ5D4gfj0Tvu7uhbbPiWUXgHYz5Kt5zI7BR9HxD3JW1eH5si+/gLHwg/jAeYL4Md+Bs+x3eD/xH9HwO3EWJcO7shQ/iL8E7b4vjAcDi/VMqHr2c60vhs9nPhf1cH59HLbcxDb/+3RmeL48PFovlx+CB/13C48Lw2jx4QPwswnlddU7gA4H4d703el57T+96bfXwXe6Fa6/08vmuxvUp6pYviQenzw2f7ULCtQYvl3im4vEsbjgRb2dd3JYb/Hq5ZLTsIPwa9vvw/E1E5yp+rX0fHux5XfHo5XP288CDi+cBvwvHwzQ6r2dr4n2Vt4Rj9FxcB7BY/gt8om1DXKPsBHxCo1h+MB5wWAS/ny1IdE/C71G34/e+UecBfl7uhp9vG+BB+e93fYZNQht2AD5UPOLjfAzfy6h7ecN7Czeu3fGB/x3AlJr3boBrtMTXjluK4z8cH3MAD0XLG69VeKnqz3CnZ/CMlN2i5beFv3dEr426jw35OJta8drt0f9nht9wo/D4Ke4IVyxP3VP6up42tHun8Hefqkf0vgWjx0L4BN2D0fJUv6ex7xiep/peP8EH4nWf5fN4v+Ze/Po8cq7j96if41UUHw+PX8fnGtX3nCWi5Ve3OQaIzkc674nL4tePy4CrikcPv9XFeJnhw/j5OAfuOFcs/x6erbRE+P73w7W/Oq5JDdvva/wT1kndD76PVy10r9dqjNJi//vhVQiEz34u0X01dRzi17fKvuEgHsBheFn2A3jW23m4q3bb9Y/EYwCX4/eejfGs317bMW84Xx7Dg2XxsvvwydsHu8+jltv+HD4W/gM+nj0Id8rs+/vLGVOd7IOXilWWVclLT7o1ALAyMpzSLnpVXj9czPDEwptmDbOWVqYuvsvMbhrrB5Tr5xzK6JnN+RtXLCkirh0uRWNtzxjoV2ML+kyzBJY2s+0k7RDWf16SLJTmtOA/gVUt2KHKHdruoNPBook6Dales846Su3Usn4cOCpkVlxGhbg7sLJ1ug7+XVIsTJmaPT4C+JyV+kuFY12cct6IeTbN9/HB1yuS/kVnVsFLZvakpFnk1rRXh/cXbCPpBTM7PbThGGAO89ktLF3CshWe5TAWR45WWEM6s6WzKFJlbI0OStbeNW4Ual92kOKTNGv33Eun41Cr9lsLd6rAryVtbpG4btf2izK3OmfJRs1CM9ujRRv6LW1uLPUzsx9RXmcAHpM7LRVtbKs7V8fj+ODrarxj/Qw+aO2lNDylj7QnnuGwDn6/OwU4x7x3tVG4194X7tvx9ewD+Hd5pjxT2PBB+6XRtq+WdABlZuJ2wH8XWXfWWRogytnZXngEd/767672FRm4tRms1lLDSaNdjGan08Voa4KYbNju/8hLUAtSTrR9oaikMjx/LbCDhZJKfCKjtgzOElkM4bU98IwZ8P5FnOmyS/hbl7GVci1M6S4WbajNiMLP01rHNkmxDMUs+Iz5/1a9t2Jd4ZNjT9FVfq5O6YCCYpZ9XkpjnItDRtVhlC6/cSlg6lp1EtUZUUV24b/kpXQW2rw2ng1QfIbLgW27jpFfmtl7Wnz+Vk6r+Pm+PR6AAu/D/3f01sYSpdS9ZQDX0zqdryJjNHU9aMzGr+v39NB3hHTfK5WVVZtBapbOuLKE+zr1GlPFMZDKvizKfk+gdwkKSJf6bRf+fobytxLeP46vSXU0jn8kTYm2O4JFhh6k7wc3A+eF72kk8xA3WalF7R2bdzLXiYrLHY+TdBLtjsOHqekbDoj98f7pNPx3uoTOa2Ej1mc2ktKOeuBjhn6ocwbsmxyY6qR2IBNo7PyQrt3dES99OQY/+W4GdpIr9nekYlq90N4fJFUFx9oO2n+Iz8RNCx3zXkl1PoZNvxpb0GeaJfDv8JsVHaSlgReVsH2OLqrgMyFFh26B7vcmqOz8tAiWFNSV2l1Lu/rxlfDU2Y3p7EAXgaWUsHeqlHDlYl0YKZ9p7VYX9rktLiD5iqSv48fMt/DST0iLdH4IuFDSq/gF/O8WGQAoXer2CD7AGFpgSp3pzNfjpSu3hGWNZRN0lrGBzyB+Otr87ZJ+RY2DUuBRPNW/1jWuhlZlBy1Iafe8guslXE3nZyjOw0dpaL9qSnbNraShpvMVHQOpMrdGzcKW9FXabDWlfpJ2MrMduwa7McV3lDrOUlyAZyn/ji6jkB5oLDEK97mzGV3yU3Bww7b3xzuWe8CIg2l8v4sHCTEjgwRJ38A17gpXvimSzrLgAtWCP4XHf4RHNy+EAGI/pAYalWKy0UD+akk/oMaJdgCkSiory+DU0uI9BDaPwzPUH6x4XypY3Rg0Iq27COngVqUAfTRgn4/OoMJF+DGXJPy25xP6UWFio6C7nLJjVcqB8OH4ebIeZQlKHNxLXasWMtfW+Upow8uS4uv7Png24FJybZiF6ZzcXdg6J8T+ofYTjm01oj4T3luYqMyCB8z2Ce87V80lSkUJd53zYZugQC2qkdqwoAFr6cnTFRhdinh74xpOW+0hKPte11Hd90oNmP9MFJCs4Cbgz1ajF6warTIzKwKgjRpTpDWkUmW/jVi61G9/KsTRe7jWpsY/sazInPi9ofve3Cgujp9H76JhnKlqQ482xxrUlzu2PQ6/ggcgb6G6bzhm1Cnrc0Lq/TXbaBNYaqI2aCRpfnNN0J7MhrqxhDh6P+TAVCepgUxK4LIumFQsfwSfka7i+pZtvAA/QK9gbNH4P+Mpk2MJSkG68zEUNDiNLfDZyq8Cc0naDL8RN7nddHMQPmu+qNx6dR08ZbjoyKcurt/BB61X4x2f9WmfLQXp+uwU2+JW3vfgGQML4rMzF1HWj8c3jXklzWtlDf/WwFJWnymTEvZOzR4PwrHuQDM7K8yovAc/bmMByUoxYHXODn8SH+zeUCyLbm6HAVtafVbRc/i1pFtzpO8bX8T38JTlqutArXtlaMcTuB5OHSkHJahxlUthLdyVWjKFUrsHPEst1u45PzzqSLV/Cj4oKzqqf8GDTEXHLdX5qtRqkLS1uevedfjArNAsvIbqbI4mfirPDDgQH7TNi+sptMZcV6RbW6ToaKZ+18bjrAX9CnBiadORtfEA/NvwwM6swL+KAGLTfds8q/VYau5xLQIW4Bmtq1lphf09PADUKjDVYjCZymBtQ2qgUScm2x1krnOi7ZdZJI24aIb7Uxykq9R4wq/7SeS6Nz8I21xSnnXxzSJwJddZ24NSF/K3wPFmVgRbUkGjqsmgL3Y1IxXcSp0nlzA6o/8AWmr2hf2vaWV2GdBTBunJ+GAnzuQ+Bb//Q/pa1ZgRhZeenIffl57Fr+2/j5a/okhrSK6j06qfa2bFpEyjRpQlMhAl3U+DaQoeKNyQeufDNkGBJlI6Xym34rps/MItrRJrrz0EZd/rC1QYMVh6gjWVQZrKuDqJhsy8VP/EarIv1V6bsl9S4ugpGsc/ZtYRzJb0C3y8GZMSF3+IhnGm6g097jKzncPYoEnou87ZcOQ4bFgXvFTyKsbuflmLuU7fXerUPeuVvrKREkGjM/CkgKoJhzYZd0NHY49PzHhI2qXqdTMrRPw2wQ/4OoHLxg6wvITpU4w92wlJd5rZqul31q6/Jh7lv4bqi3pq/TPxTkFxI9sB1xP6SP1a/SO3Dt4K1zWIg4PP4unaN1auWL2tWfBZ/s3xk/I3wIm9BOtCB2rtsP7NFpV/SloP14p5JXptdTP7Xdj3NgRBu7D+LdZpb163z9i5cDl8Ft0IzoUhQt+m7XeY2Wp1r4Vo/cF03TSKG7s8k+bz1iDGF2ahCmHvK+POtqSbzWxtufDyj/CO19lmtnRY/jE8UNcR2LJOwcdWn1HSd/HAwRlVn7tivT9SXqxHXbQtiPlKusHM1qnYRLGdxmvJIKgYLF2Dzx69FH3+u0NHdXbgNxbKJSW9Bb9WrQMj7kJ7m9lfxtCOeay+XK3q/U3Op62vRWFbq1Nm+1xrZne0XbfFtm83s3d0nRt3WchWDMfv+0Lwopft3ocPSC7EO9HFsQYMtAPbF2Hwv5c1CMGmjrMW+/gpcLSNUYBTXaYjNe+5HQ/CnoUHTj4GvBXYwMzW1Wi3XOEOvbNrtMlBR8BB6aw6JP0aLzsrSoxeg+ubNZZeS/qhmX1BNVk/UdDku3gG68N0Xq9bB4UkfRnXGtkMn23+BHCGmR0dvWczonumddrEDxVJh+P3ubik8s9m9qWw/DS8DO5eOr+DtpkmU/H71W+jc/3u6Hc+Eb/vFtfvnYFXzOyTYfniVdstBtmS5iwCkw1tuB93h6wLbqU+w4O4q9o9RIOtFgP9Yv378H7Fo/iAftT+5ZOCI0EbMzs/WjZybWx6rWH/q+P3pLfjv+PCwDYW3GxD3/MZPOMavO/5WjPbNix/L67pVASa18edFluXNtfso6N/G4KYIwHKrnO98jiIuJjS+XAVBedDM6ucsA7Xtyt6uJ7eYmZrSboZz/p+Eg8QLBOW32lmq8rdirfCg6NXR/e0fn/DkZJgM1tWLvdxVndfKXzuNcPTW5v6kjX7GIWVLrepc/E2M1uz674+Mq5SIqNK0rJ45Uwhh1KwJNUD/WL/Axnwj7VvG63f0/hHXhb/32b21q7Xa+8H8pK6pfDspVHjTEl/wGUYnuzaZtw32pDO73KkbxTuu+8Nn/8hebnjSlYhq1DzmW40s3en3zk2JF2FH991sj4TjqRT8YqR68zsgYluT0zOmOrkHutypZC7dxWkNAB+zOgO8DLR+v1mO0HCzrYF38Yj/XNSXRaQImXzORTMUzUvBvY3s+/0ua1X5bpOt+C/34O9BKUCG1B20GandIIBv9DfJukjVrpBnYi7X70q6XNmdiadAbY2tNWQSpHKSPoCDS5QeCbVA5JuY7QmS/H/ffgMZxWNrn02GMe6yhmVYqHauc6NQmW2XmOp2yADUA0cix97RTnLzuG1T5Ium5iCz5wUM6E7hdc2g3aBK0nvwmcZ5wUWk7QKbkQwUvJYw1jckkYhnwi410JmiKT5JK1lZkU5Y6WeHi4mmxzwU1OyG731r/jMbV3np88YXwAAIABJREFUq/I7pHTdW4qE617DZx9YcK9hG6+EQViTQ9GYSgmjgM9swK6SHmEMg3FrOTtpZn+QNKv5ZMGUuGNqFVkQkgqX2vdTXdpTUJtVp7Kk+0Vce/Ly8Hwz2mVIF4H4a3Cx2pj4OpXKYE1iZoeHgcaIi1F34Ck8rwxGSfoOcJh16vt8ycy+XvX+MbAfzSWVjWVwSlu8v2xmT6vTQj5mza5+z1Xq1A5KBX/ukfQ3vP93LS4U3F2O1FfmIJ7R30vmdzfvw41l1gvPr8XLbAGQ6yy+ldLCfXdJm5lZ4cTamMmdGvCTzohK6TddGoJbxYThF61GL7aBxn3Isx3XpAxc7S1pXTM7ILSh8TiQlHI+7GYZPOuqLYXUxg/wrEyj8zxpdCum/2z8VEkwcp3dH+BZhwKOlrSvmdWVWndgiQzSFudiKjPvJJq1zio1pIqxY/h8o0rtkh+sPY192xSp8Y9GT9T8PyJXxWg7tfcDSmH/uvLzunLMuG80ldFBvqXCvlPljimulvRpRrtfDmpScF46x2vCxxuTiSn4GPZouTP6HXiQqilTbXywIanST48P/GK6UvR8BzqdvBpdUQjuHHSq/8cuS307iOA37FfxVNxKd502bexj/yfR6WazFnDMOP5GVw9gG1vgF8bf4p3+P+GZD23XPwbvGO8aHpcCP4mW34FflO4nOCbS6SRzID6zuSgVDj/j8B1+LLTtUDyF+gFg5/g7ptkFaoOqRw/7P5k+XPta7mNufMZwmfB8ESKXENKuc3t2tfG1eMrzlPD4OQ3uOXgw4nK8U1M4vLV2+Gz5Ge+qe41q98rdo/dVufLdGf1/eTi2ZwuPjwOXd73/lnAMx8d2a2eVAXz+O6DDMW0WIjeW8BuvHL8nvL5Gm+MYDyBcg+ufnY5nEmwYLT+o6tH2O6SF617DZ6/cd3cbBvAdfxufcFkP72CvjgfYi+Vjckmlxt2JLpenlm28Cr8PXkmXK11Yfi3eOT4FL8H9YtW507XN68PfKle7p/Hz+bOU9/z4HCjOwV2aHj18vlS/5FfA64d0jrVy9Ys/f9zuAbbj/XipRt3yE4AVmn5P3PXu7nCMHQwcEi3/GfDRsHwZPKB8XNdvsHT0fKlePx8eYNgR7z88yoAd5Ui4+rVYf2+8tOUQvF9wN50up/cy+nobO1TGTluPhv/vpXTi+jWe/VycH7PR6WxW5Wh3VrT8JCr6nsDy4fnqVY8ev8PKfUTP746PQ7wqohcnq0bnw+h8K/7+HvhwD9ufI/4fL5OLX0u5FTf+hi32f2txvoS/83Svh7vyvT56vjCJ63HX+gvjga1LGJvr3ep4sO3p8Pf3uK5psbzR/ZEKZ8au7RcOgevi954PknCy7vEYbezbtli/r/FP2MaHwvH7NGMbh/4MvyZ/hWp3yDH3jVru/48Vj4H1z2nhTjkZHuH6tXb4HR4DHpjoNpllV75utgHOlrQjflH5GJ0aKykNgOck/QeuLXMYHsGNtRr6zXbCzOYLGS7L0Lu2EsAVqnGSakKdZWRFDb0RysjG0I6xknLMaMMRuE37H2AkE+K/8Y5TGzYAVrRwZofZh7gUxczsYnlq/a8k/ZzOGYhCGLc7s2RcanstnZHUWMNvCS21FjS69g0CCzMqkl4vqZhxjNNVG13nqBHbtTL1+2Q8gyjOEIj1Vn6GD4CnMvbsyBSvSFrazB4ObViq2JeZFbOkI+6VXfyfpJ0oZ793wNP+CxY2synR85MkfYEuzOzPXTOurT9rSIk/FniDma0oaWXgA9ZeFHpEcya05VW5kGdBpZ6ehZnN1HFsZpdL+h3lDPzeFs3AW1r7p/E7tHaue3VtS+17UBSZQMX+usWAT8Ud75agLHN6Q2qj1t6ooQ2p72JnvAP2OfycXBRvcy1mtm74W5ndF2bcbwSerMuqs8FlTab6JckM1joqZsdHFvkm2rn6AbPKHRFfDNudi5YOQi3ZHtfSOgcfyHdfu1MaT3OZ2ZWSFI69gyVdR2m88Hk8Q+JFPJP0N3RmOeyLz7I/Era9OD3owYXsyXXwAO8q+GC/ra5oW1IZ/Sl2w4MydS6nD+LBteLcXRQP1BSkMr7OtmZx81Q2/lpU6DcB20v6C37/io/l7mtVGyr3oc6S3jEb11iZTdzhfBgt7zeb+CaCOVA4F18M97DitW634ufodO8dc9aevCNwsZq1h8ADe3Hp3pP0kPFD2jwnxdJ4dmBxH1iLzoqByowqtdeQqhPmHgjWf7ZQ4/hH0pVmtkm8QsVrjRqrcq3HUfcVK0tSGw09zGwPVYij29g1m7q331Y3ryfUmzvlhCLXv52HUit6TeuhpHaY5MBUhJk9IreCPR8f1GxuZs9Hb0l1flId4L2Br0p6kWoXpySSPhm28xbgTnzQdCM+W9aGPYH9JP0b+HcPbRhUGVm/pBwz2vBEcVEOFDP9bUl10ARgXvu8Hp5NE5emVDmfHNfD/vvGmkvtGm8aSmiptWAQ4uaNyEuQjgDehP+2i+GDtwPDW1Kucymx3e7gWrdz4FDt0wO1gyVJe+PH3bN4x3B14IAoIP0JPBPmSPwYvJHOgVYqcAXwZ0nvBiwE5PeiN+HrE8JnOB7A3Jr8DFqKQuOudntRitN+Fj+XC/YDLpEL61eV2lWW99Dp9ARlp28xeclYUTq4cNhHtyNdcS1q8x32hfp3xUtxMZ26GQY8I2lVM7sTL09/Gg/ADs2Bsgkzu0auK7KMmV0h15+YNVpeXKefJx3EarvPJyVtCKxItRHGCHXHmbXUHGnRLzmoes1W2x5IWS2uOXmlSlexT1AGKvvGzHaSlz7tgJdiGn59+4W53XtqQJ2yeF8hPIrsxg/iepYrh/1fGX7H5fBz4YEiCNeSP+HlmN8xs917WK8XUq5+KUSFy6nKkucF8CDNrWH5O/H7BtCqjC1VQpUqI0v9xk/QIFzektQ+3s0YjGtUulf2tKwgNfEqLz1+My5ovRrl9Xp+PMOmeN/c+BhgMdyF8E34MX1x2M+YJwzMzCRthZd9VZYEh+DVbXJ9xuK+uB2e/dSWlHlOisIY57V4OVy3eHjh/ri0Ot0fu8Wi96Uz+FJcz/sqtRsHKsc/oS8xN7BQ+G7iY+hNXdtITex+Ofp/TnwcPCLinZpYU43OLe2NHBpR2sxirPTiTjnR3I27/q2IX4efknRTV99iQsji53RkAxW8Hv+hipnPQgBz8ar1e7mYqyLbqZcMlNDWNXHB7VXlbnWHmNl2iVVnelTqA22GD+LPxH/3bfE66y8l1o87aIWwneE3tBvNbNOGdWO3mKTA5mRG1WLCy5jZV1uu37e4eYt93IUHK68wF4rcCP+eC42FuINRYMWAXm59vgT1Yrt34WVdcXDtmmJgINeimJXh2acXn3MOKgZLCoKlkt6Dd0QPxDMNVg/LT8bdeOL2Hx59/sXwwNW7KANXe8UzVpIWAo7CO2CF7sveVq9N1t32RhHSFuu/HhfP3zi08crwmZ4Iyy/D9fQ6nFesFEm9Hh/UH4m7pe5KOdiow6wUkL8Mn7n9MtHMrZntH5ZXfYd799P570bSWXgm4EeJXPHMbO8Bbf8M/By/EP9utsAH2Mvj5//HrKXpwrAIM/Ofxsuhlw4BhOOKGV6VhgYdtA0Mtdh/rRFGWF55nJlZY0Cpbb9ksiAXny7ugZdbD6LTPexjIVwP7wt4EPytwI8sEmmvWW/N8P7X4JlQ8+OaWIUeXVI4PAThl6BzBr9wU0u1exU8YLI+HhR4CL9f/KxxxR6QdAJwpPWux1isvw9+DYtdTk/Cy75qadt/VVrc/H5KUxcoM6JepXMCuG7749Kvkgst92pcc3X0tCqrq1Iwu1huCfFzudnKx/Fr9W3R9p4BTrbSoOlXeIDlY+ZZynMBN7W956aQ9BPgJOtydux6T+FIGpuWnFf3/or1G81zWqzfKB4uaVs8YzLOqDowmpCq1JCKlvclzD0sUuMf/Lz7Ah6Eepzy2HwW+KlFFQSSjgLeSP3EbtX+rzGzDcL/jRlVqhFHHxRKmFnMTEiaF++TfBl4o5kNMtN5TOTAFPUBp4hnmxZa6RRQKbZrpStfZbaTdaVNJtpaDObuxE/cF3sczAkfvCxpZodKWhRYxMxuTaw6KVBaQLNp3SkNi0eCEg3rb9C0vOigKZHFoD6dT4aNEpkgKt3KYteinlwu1ODaN6DPULTxLtyq/VVJt5rZO8PyylK86DeaBRfb3YQy6HKiBafFVHCtqyNakOxgtvxsH2pabmbnqnRJOwp3Djqvq/OVcmasDVxJ+r6Z7S9pWzM7q4/P8Ws8u/QsM1td0jbAbmb2vrFus2v7t5vZOxqWTzWzNSRNiwKK15nZenXr1Kwfnwcjna/xQH264rXY/m9wjZN/hufz4sf81vgA53r6cNUbUBvvxLM3bomO3/g3fV309jnxjviCZvaNURvrfd/r4Poj/5Jnx60OHNUV0BjTcZbql1jpMhWX4/0H3uHuJYN1IIR78ztDW3py2mqx7S3xLKyl8fLRk83siTAIvN/MGr8rSe/AS/UWJ5qciM7b6y2Ub9asf2rY952UWUVmZnv18BnmxQfj6+HBNTOzJdqu32L7fbn6hW00upyqPze1OfHr/XvwPvVN+LXjhbC81fHesP2h9askLW9mD6gmu8laTjiFQNCorK7oO2hcntj2LLj75+kN72l0mu0Xuavasng1QSy1ETs7JoNXiX28H/9eFqU0zznEzFqZCclNlB7Hg+hr4Jm0t1rpTFjcS9fFxxpHAF81s7XaLJ+stB3/SPoG8MO6wFvDtuJtLBi9PgseMD3KzJYLy9eIlo9kVJnZfmH51cBmZvYyQ2Cyj8HGA3lW2nr4OfAYpUPfVRPaMHIpX0Fj4InRKZxFJ7DbRemHuCjcNKuO+O1Nme20kUK2U49t/YvcdeN84HJJ/8BnDNpyDD4DtTEeRPsn8BPKzsZk5ySaHTNqMbOizGlB60qrlJSsObb2mW2n4lkM7yHKYoiW9+t8MmxSNfwpLbUk1lxKOAieCgOBa4HTJT1BlEpMohTPzF7F07srSwEsodNlZhsN9NN0UmktXewaz9KaKs/oWRL4itwZ59XofalyypWLZUC3Dth/Svo6Hpgbc2AKz+T6KbC8pMfxAdWObVcOx9638I7lpbh2yxfM7LTwlpSeXmV5T5vAX/i3SPv+q6Qt8OvwWyT9KLF+68FsC8bkitcDi+El3/H+FsezRYtr5q4ao6vegHjRzP6toHUm1xmLtce6Z11/KM9i6jswhV8fVpFnxOyLmyKcgusQFqTKyCpJDcSj93W7Xm2FB4jGDfXptNWCbfFsoGvjF83sOUltylZPx3+fjuzJiIPks+hXUp0B8A5cXH1MM7nhXjEHnjV5PbB+29+3B/p19SsCLJVBlgH8xqfgGTyFq/IOeF9p27Dvfr+PYfar9sGzMo+gOuOp7UTAyfh3UNwjdsC/l4+0XF5LmHz7DGXGWBUpp9l+aTOptBHwGUm1wasmzOzi8O/TYVu98hH8XDnczJ6SZzTtGy1PaUQNVUNqWETjnzkTgc5tzOybIfC2GaNLHUe21UA8Zn4JF9LfLVp/atf7b1BnOWajzu0AqNVnnYmYC/gvXMx/KAHAsZIzpiBO9a8MPFmU8q+GUrwQ5d0kDGqr9tNXtlPF9jbAy8outZZW0ZJ+Z56dMJQZk2GjPst/wvtvwF0ongnP34ZnbbQqSQkD1+/jgwsxOjOuMosBT10vBOSLlPURAfm2+x82SmSChJnNv+Gz81/Ej8FjrLNufUKRNA/wAv7b7Ii38fRikKqaUjx89v0jGl1GA6Q7T5J2MrPT5GURoxjgjbWRMBD+Ol7m8pQ8a+TNVpZNpDK+aksV5WWOn8aDkc9BRznCyHnQ0Lbu72YufFbtX9D+OyrOe0lb42UnX8RdO4uZz2dxzYR/E2n6AReY2c6S9qN0SToUP0YOwzPlwM/vd+OuP+Cd4N+a2YfC9itnbsM2v4a71Y0E9wpscKLYRRbuOcBKeNB+Xrzs4PgBbf9APDvqgvDSlnhZ35m4w1NlyeAQBt21hADlU3hJ8efxjIP7zOxrYXmc5VDM3u4xiHtedD/9BvC4ufbJ7yyUzIb3dJeRLYA7Pg3SQry7XTeb2drD2n7F/u7CZ7iLMtqF8TLqSdGvUDoj6jS8PPVeIk2TKAPgLLyUuReR4Xj7C5tZLwLNk45+f+NhZymoz1LAlvsYc0ZTWL/xO+j3OwrX6+cZbQ5UVHVshvcLVsCzwNcBPm5mv22z/UGgPiVRwiTy5xldVps0e2i5/VRGVePyyY68TO5v+LF7LXCDmT0dLa8tdZS0n5kdJuloqvvHe4VtpModUxlVlWXuNiDTF0mb4AkOHfqsZlZV6ZAZZ3LGFHQo9FcFnqJlKeHxRrFd+s926m53L4J/BS/JhZyLGZOFqZ5BnKykBDTb8B3cWWMLvCNzCj1kapBwpKA+i2GYWTSDpDITBCAcO982s53wwM9AbhSDxoKzUKAqEHAE7vDYEZgBrgjLxyr2X2SOVYkKj9ssQJg93R7Paouv83eH5SlnxrrvBzPbF9hX0gVmFjv6tKX4bpbDMzUvCG3YGe8otaUoyflPXAT57+p0CFyAsmz5m3LNp0Vw8eTFw7IT8ODaiL5cNLN4MZ4l8dfwfBE8u7R4X+XMrVxf7Ld4AGfY5/wClKL1RdteVilO3hfm5d6XUJb37G5mt4fFW/W7/QFxAD4bOw0PKl6C284XxFkOL+Ozt9sOaN/Pyl3GdgbWC9fH2bveczywi3m5466SdsC1PAYSmFJnhl/RyR/ve3q/TluVKO0a2LZcMZURlRIOXwi4Ty783ZPzYWAWST9jDBIEk4h+f+NhZ4r3nTHWgjFnNAVS30G/31GRPbhn9JrhLmGz4JMlH6LGaXY8GMCkxfl4hcRFDOc6l8qoSi2f1JjZW0NfaD28n3uMpKeiyf0m8fZizHM7zXzd3IGzLusqlVE11HGF9W9mkRkiOWMqoi7wZKWIaqPwuBJiu1376jnbaRDILae3wyPYJ+NuEwea2Znj1YZ+UEJAs4ftbIUHEufDB+UP9bDuDWa2TsPyoWYxDJuaTJCDzeyisPw3eGBu3I7bXlEiqy28Z2g6V0poWA0bST+nFKgflQHQchvD1gG7DNcvejY8nw/PXGw1wAgBoK3wGct34hkpF1upBXEsoWzZzN4WfoPL8PKRPfAS7FjksyNDVtI9FmUxho793ZQZVHX8oWv7I5uItz8IVIqTXxRe6hAnN7PDBrWv6YEwsfSW+H4g17b5MJ0z7GZm3xy9hZ7390ZceP42M7sudPg3tEgUW14mcDYeCF0XD2JtGc9S99mGiylLrYvA259sgGYSLdrwA9wxKXbautuCEcBE0yIjqlE4XDX6km0nB+V6elOAr5mbUsyGZ83146I3rvT7G49HRtOwGUBGU+N3QGc2/ajl/X5Hkq41syZzj0mPpFtskus5TWYkvQUPSm2Ayx/8HbjezL4blvct3t6UdRWWpzKqGsXRB4H6MLPIDJccmIpoEXhqLMVTQmx3shA+VyHqfGVD5s+kQwkBzcS63emnG+OpnI9Ce+0XNThShMHrNtNLoK+KiqBKt2Pb8fiN5EI608XHpUytDfJ05aasttT6ycBWYv1GcfFhIxchfcGikqIh7KPf7+gBPFOhcBKcA7jLzJbvoQ2vBZ4xs1dCh2p+Cy5JSpQtSzrWzPZo2PaP8ezZX+DXje3xoNPWtCjVS21/ECghTm5mKwxz/5MBSb8FPoB3MO/EgzTXmNk+YfmleKnf74h0JMzsiAHtPykILWlZ/H7xZ2ArG6Als9zl6uNWlunugGutjevgTdKH8dKgnp22ho0i4fma5X0Lhyf237cEwUQiSfiE7ZqM3U2tL3HzyYCkk3BdoTijaRcz+2zL9VNGS42kviO5bMQelM6yvwWON7OXwvLGUr/pAUkfxe/LlzFEx+MZFUmv4pNX3zGzC1Lvr9nGsriL2xJ0BnYKg6R+BeYbxdH7RQMws8gMj1zK18kLZvaCJCTNYe7CsVy0PFWKlxLbnXAknWpmO+Pi3N2vTQ80Cmgm6E4/7Rbga8v8ePnP5tFrBpxrXkL1OVyDZXqlWxg8Fr4GP+b/B0/vrSpZmwz8rc+Aa6pcM0VKXHzY3ITrIw2Tfr+jU4FbJZ2Hnz9bU1122YGkjc3sKkUlTOos4RsRJ1dD2XIqaGRmnwv7KNzTfmrubrgJLUr1hh2UClSKk5vZ85JmltT0BcLM6yeBKWZ2kKQ4g/Yt1jILr1fUIAit0Tp1CwKzArdIai3224JtgLPk2dDr4VpbmzevMnjM7Bw8U3gycrOkFeoyokiUgam6pPBpvE/xJTN7JLH/QUgQTBhmZpLON7M1KK+vvW5j0geeWrAW8DFJHRlNxbmeOqfH4Ts4Fs+6OiY83zm89snw/BP4MdgdSBtYFu84sBL+uTYmyn6kvQD9zM5qeHD5o5IOAB7CJ3J6KSs+CzgOL5mvEg3vS2De0uLo/dKXmUVmuOTAVCeNgScz2zr8e3BINVwAd4Mq2BPYLwwIRsR222YQjBNvj5+ElPI1at47GVmuK236arkoZ5Iok2EePAj5Sng+K+6Y0wpLO1JcLunLTL+zUo1BFRty/Xc/RMGK2yX9ioqstpab6jewVavRNE6cDOwk6UGG55bW13dkZt+Wl7gUgZ9drcuevIb18XK6LYlK8KK/xW/8I+A83Gnv2/gA/us9tvFcRg/EjsOv+0vRGezudmkdD87AB92xOPkvwjVumK6Xk4nZQsf3I5RurTE3SlrJXONp0HwNWNO6BKHxrLWx6tT1hJk9ErKkioyszQeZkdVETcAGJl/fZ11gF7nRzajrYYuAwX/hfcEzwrrb41nTD+JOjBsm1t8HD2QvLTdfWRi/Hk1P3CxpTTO7baIbMoGMh45VP6zZ1T++qqt/vAKjxduPG8f2DYKtgaVsEktJTGbM7C5JDwMP432vnfA+VS+BqZfNrNKxOuzjOaJ+k7lOZ2wc0aRjVYw5CgrdxDf20L4U94TtjcnMIjNccilfDRqjBpQaXPsmErlA61dxB6znokUv4ZkAX5mQhvVIv6nUYZ2bgU27yl8uM7NWGSYhjfVY4A1mtqKklYEPmNm3wvLC5bEDG6C2zDBR2rFtYVyf6+10HucTPmMlaUr4N3bZLDBLaCxFga0NqCnX7KEtw9Zo2hvXLXkWn7laDTjAzC6TlzLuw2i9u4HN2KqhpHVQ+6jZ75cYHZAi/N9RUqoxlC03DLYJ2y/cN4deqteGkPZelNdcb6U4+UyBpG2Ab+Cf/bNyTacfAMviv+Ns+D35EQYcpO0uEZOXct/VVDY2KCoysl6PZ+G8CAwyI2u6p66Equ31UBW6NgrOh2qpMRQmAQux3QeL8qrpBXl5+HK49MG/GM5kR6YP5GW925rZw+H5UsDZFkr6JZ2JVxycHlbZAXiNmbUVb59wwoTj562iZDqTRm56Mwdu3HU9XpLbU78wZDc9gU/8xX2/VpPvSuhYRWOoWBz9m2Z2fS/trNjvRWG78wGrAmM1s8gMkZwxVcNYgklKu/ZNGObCdt+Vi9Edhnfai6DCpI9ORp3w2SlTqQ23+ex1wD9nEZQCMLN/hgtlW07A01KPD+vfLRch/lZYPl3PSlnase10PBvs/cDuwC6U4rsTipWOapXi4y02sWWxKWrKNXtoy30MN2vlE2Z2lKT34DPwu+KBqstw8eMLh7hvaChpHfJ+5w1/u139tqTL1c/MHiAqW26Dmc0HIOmbuKPmqWH7OxKVrk6GoBSMpL2PtSx5uiZkuy4aD45DWdWH64IRA+ZSuc5XIQi9PfDrcdgvjFNG1ozAAALyr4ayzbPD8zjbqW3/6Z2Umiyrh3LO6Uls9324rl6R4Xotrt2WmTzsi1cRFKWlS1C6tkIfFQeTiDcAD0i6jRxUGAvvM7N+++u7hL9xeV7rbPEWGVX7M1oc/Tn653C8L/d9Ol2Fi9cyk4AcmBose1OKp28UZusnW9nTI3iHIg6e3cTkr88eZCf8X5JWt9IBohDna8vcZnZrl67Ny9H/VZbCJ9PeUnjCSQRVXmdmP5O0dwjgXjPg+u9B0K2T9Q916mRVMoDA1nhSHID/iWvr3KXyoHwgBEsvYkjZTC1KWodCUUoqd/Vb3UpXv4Nx7YNB8Z6uLIljJd2CB/YzkwBz0fsPAEdWLBu6po2Z7RuyLAvR7+PM7Pxh7zfse0bQ7Jle2BE4CtfuMeBmvFR6LtyMpRHViO3impnTC1vhWkXn4sf6qfgk3dET2ahMBzfgE6bFZPjxeP++4A5Ja3dVHNwwvk3sm4MmugHTM2b2v5K2YHTFQ2uXWjNbchhti/i6mZ0pF0ffDO97H4trvI2ZIuFE0uzdySfhWp6ZBOTA1GBJiadPBvZi8gfPRjHgTvgXcLHYQj9sEdz6uC3/J2lpSiHTbeiM9s8Is1JNFCUIfw03uP/BA52TiX7Fx8cU2BpnpobgzJLAVyTNR1m2NxcekBpaNpPcdvhofFBueFr43mb2l0HtI0G38Pe/8RniQfGKXFD6l/jn24Fqoc/MxHKj3EGxW9NvaC5Nkq43s3Wjss8iIPwpuevR34EfmNkxtRvJTDeELLwtaxa3KS+ZEcR2dwPWNrN/AUj6PsEVeUJblYkpzIEODc+7zYH6Em+fDJjZNWrhhJqpRtJxwNy4ccuJePbnrWPYzop4dUgc3BpUoL1RHH2sSNoDr2ZZSp0GKfMx/QVoZ1hyYGqwpFz7JgPTQ/BsqJjZbSEgV+g9PNCj3sOewE+B5SU9jltM7xQtnxFmpZr4lqQFgC/hndL58WDfZKJf8fGJdtVrw254nfwjZvac3PWpyGKaheFnfE3BxYCLTu9O4bXNBryfOsbk6tcDH8WzJI4K278hvJaZXBTagPGM71Bdmsxs3fC30pU0nIs3UrpjZaZDJO1nZodJOppq3ci29uLcdh55AAAOJ0lEQVQzgtiu6AzMv8JoHcfMxJKaFJ3s4u1J1OCEOqENm354t5mtLOluMztE0hH0OGEp6SDc8GEF4BK8zPd6BpcB2iiO3gdn4KX23wUOiF5/tq0+Vmb4TLaB1nSNpV37JgPTQ/BsPFiOMtq/Wi96D2H2dFO589UsUSnRIHWwJjPb4kLD9wAbhaDN4XjZ2KSghU5Wiol21UtiZq9KehlYXy6sW3A345PxtbCZTYmenyRp3AKUNnZXv7bbfxT44KC2lxkOZrbRRLehGzN7UtKGE92OTN8UZgm3058W50LAfZKmZ7HdKcAtYSIAvLSvFyevzPBpnBSdQcp/m5xQM2leCH+fk/Qm4Ek8674XtgFWAe4ws11DBtuJA2zjR/Ag6uFm9pRcHH3fxDpJzOxp3CBkh363lRke2ZVvJkZjdB6c3qmL9ptZK/tmdbqhnYAL8x2AW0fXMoN0CpB0h5mtlnptekdDdtXrF0k/B1YG7qUs4TMz+0SYJd2wK+PrGhugW5ikK4CTKIWfd8CDQxNu9tAPA8ySyIwDIXvzINzyGuAa3MHn6YlrVWZGQtKauKvxEpQTuq1Ln0JfaxTdOieTHUmrUzqAXjvIiYBM/0i6H5907SjVw/sH00WpXgpNoBPqjIBcTPxoXIfsJ3gf5wQz+0YP27jVzN4paSpeEvgscI+ZvX0Ybc7MXOSMqZmY6a1TNED6jfbHbmivJ7ihWbDknQmYHsrc+iYhAD8ZWNvMVqhZNh4ZX58AfowLTxteujQhgugDZn9c4Pxh4B8T3JZMmp/jpVKFucTO+MTBhyasRZkZjdPwGftplJMArZlR+lpBt21o2m2ZvpnuS/WakCTgNnU6oW6HTzBnEoQg3pUhm/4cSRfjLuW9TuLcHipvTsAdgf/JGHSqMpkqZrjBZCbTgueLMihJ8wNP0NLmNNDkhjYzMOnL3GYSbpK0QlUm1wBKGdtwKLBLV4DycDxgNT3zN0mL40G2SVcmlhnF0mb24ej5IZLunLDWZGZE/tfMLhzrynLnxu/jE1kKDzOz+QfUvkxmhsnKr8PMTNKqwLcoM/d+ambnNa+ZgRH5hyOAd4XnLxKVFrchjHW+G4Jbx0m6FJjfzO5OrJrJtCIHpjIzI/1G+5vc0GZ4xinokUlzMh6c+n9456IY7KwM45LxtXIRlAr7+/sQdKwmgmNxbcClcG2ZAuGB2F6C2Jnh87ykdc3segBJ6wDPT3CbMjMWB0k6EbiSTo2otqLBhwFbmtn9yXdmMpkmbgL+bGb7THRDplMuk/Rh4NyxuISG4OD5wBrh+aMDbl9mJidrTGVmaiQtQY/R/pAOW7ihPRUcmN6cZwwy44mkPwD70FVeMl6zpuOhYzWRSDrWzPaY6HZkmgkz6Cfjeong5Ze75OtxZlBIOg1Yngo9v5br32Bm6wyrfZnMzIKk+4BlgceAfxWvzwj6WeOBpGeBeYCXcSH0nrM3Jf0EOMnMbhtOKzMzMzkwlZlpCMKdtQT9hDbbORvXMPm1mc00mVKZyYWkq8xs4wnc/8eAr+BuOCMlnWZ26kS1KTPzEayktwGWBl6Du+6YmX1zQhuWmWHoFlwew/pHAW/E3ZDHknGVyWSAUGY/ihm9jHEyUREc7MjWz2T6IQemMjMNkq6OnsYHfnFRbTXIl7Qprj+zNnAWPnPwwMAamsm0QNIx+ED8IiZosDPZnQszMz5B4+IpXJT5leJ1MztiwhqVmaGQdAJw5Fivb5KmVLzcOuMqk8lkBoGkK7udk6teS2wjBwczQyMHpjIzHZLmAj6LiycacB1wrJm90ON2FgB2AL4G/BnXrDrNzF4abIszmdHkwU4mA5LuMbMVJ7odmRkXSffjGXl/pELPL5PJZCYzkuYE5gauBjakNHGaH6/+eFsP21qw4uVn89gnMwiy+HlmZuRk4BngR+H5DsAplHbjSYKu1E64NfkdwOl4oGsX/KKfyQybWYC9gzsKkl6LOyZmMjMTN0paycymTXRDMjMs7x3LSpL2M7PDJB1NZ5Y2AGa2V98ty2QymTSfAb4AvAk3fSrMXJ4Fftzjtn4HLIrrOQrP3P+rpCeAT5nZ1EE1OjPzkQNTmZmR5cxslej51UHIuRWSzsWFUE/FnXb+Ghb9KrjVZTLjwcpFUArAzP4xg7jiZTJJJE3DO9azAbtKeoSczZIZAn2UqBQufLdTEZjKZDKZ8cDMjgKOkvQN4Idm9oykA4HVcafDXrgUOM/MfgMgaXM8eH8mcAyw1uBanpnZyIGpzMzIHZLWNrObASStBdzQw/o/NrOrqhaY2TsG0cBMpgWzSHptlytevqZnZhbeP9ENyGSaMLOLwr/3AV8FlqC8RhueqZ3JZDLjxTZm9k1J6wKb4Vn2x9JbMOkdZrZ78cTMLpP0HTPbJ5iRZDJjJg9iMjMN0Qz77MDHJP0pPF8c7zi25TpJewHrh+fXAMfl+urMOHMEXsbU4Yo3sU3KZMaHLLSamY44DdgXmAZkJ99MJjNRFAYhW+DjlgskHdzjNv4uaX/gl+H5dsA/JM1Kvr5l+iSLn2dmGuqcJAraDnQknYgHt04OL+0MvGJmn+yvhZlMb2RXvEwmk5ncSLrezNad6HZkMpmZG0kXA48DmwJrAM8Dt3bJm6S2sRBwEK6rK+B64BDgaWAxM/vDoNudmXnIgalMpkck3dV9Ea96LZPJZDKZzMyNpE1wk5UrcR00AMzs3AlrVCaTmemQNDeuBzXNzB6StAiwkpldNsFNy2SAXMqXyYyFVyQtbWYPA0haijI9NpPJZDKZTKZgV9wwZXbKUhcDcmAqk8mMG2b2HNF1J5g3/bV+jdFIuppql9GN+25gZqYnB6Yymd7ZF3fyeyQ8XwLveGYymUwmk8nErGJmK010IzKZTGYAfDn6f07gw8DLE9SWzAxGDkxlMr1zA3A8sEl4fjy9261mMplMJpOZ8blZ0gpZAzCTyUzvmNnUrpdukHTNhDQmM8ORNaYymR6RdCbwDHB6eGkH4LVmtu3EtSqTyWQymcxkQ9L9wNLAH3GNKQFmZitPaMMymUymRyQtGD2dBXgHcJSZLTdBTcrMQOSMqUymd5brEjq/WtJdE9aaTCaTyWQyk5X3TnQDMplMZkBMxTWmBLwEPArsNpENysw45MBUJtM7d0ha28xuBpC0Fl7el8lkMplMJjOCmT020W3IZDKZAbE/cKmZPSPpQGB14LkJblNmBiGX8mUyLZE0DZ8lmB1YDvhTeL44cJ+ZrTiBzctkMplMJpPJZDKZoSDpbjNbWdK6wHeAI4CvmtlaE9y0zAxAzpjKZNrz/oluQCaTyWQymUwmk8lMAK+Ev1sAx5nZBZIOnsD2ZGYgcsZUJpPJZDKZTCaTyWQymVokXQw8DmwKrAE8D9zapb2byYyJHJjKZDKZTCaTyWQymUwmU4ukuXFDh2lm9pCkRYCVzOyyCW5aZgYgB6YymUwmk8lkMplMJpPJZDITwiwT3YBMJpPJZDKZTCaTyWQymczMSQ5MZTKZTCaTyWQymUwmk8lkJoQcmMpkMplMJpPpAUlbSzJJy0+CtmwlaYWJbkcmk8lkMpnMWMmBqUwmk8lkMpne2AG4Hth+ohsCbAXkwFQmk8lkMpnplhyYymQymUwmk2mJpHmBdYDdiAJTkmaVdLikaZLulvT58Pqakm6UdJekWyXNJ2lOSVPCe++QtFF478cl/Tja5sWSNgz//1PSt8N2bpb0BknvBj4A/EDSnZKW7mrrSZJ+FPb/iKRtis8g6UpJvwtt+GB4fQlJD0g6UdI9kk6XtKmkGyQ9JOmd4X3zSPq5pNtC+z84vG88k8lkMpnMjE4OTGUymUwmk8m0ZyvgUjP7PfB3SauH1z8NLAmsZmYrA6dL+g/gV8DeZrYKsCnwPLAngJmthGdfnSxpzsR+5wFuDtu5FviUmd0IXAjsa2armtnDFestAqwLvB/4XnjtBWBrM1sd2Ag4QpLCsrcCRwErA8sDHw3rfxn4anjP14CrzGzNsP4PJM2TaH8mk8lkMplMJTkwlclkMplMJtOeHYBfhv9/GZ6DB52OM7OXAczs78BywF/N7Lbw2jNh+brAqeG1B4DHgGUT+/03cHH4fyqwRMv2nm9mr5rZfcAbwmsCviPpbuAK4M3Rsj+a2TQzexW4F7jSzAyYFu1zc+AASXcCvwXmBBZr2Z5MJpPJZDKZDmab6AZkMplMJpPJTA9Ieh2wMbCiJANmBUzSfniwx7pXqXiteL2Kl+mcNIyzqF4KASKAV2jfh3uxYr87AgsDa5jZS5IejfYVv//V6Pmr0T4FfNjMHmzZhkwmk8lkMplacsZUJpPJZDKZTDu2AU4xs8XNbAkzWxT4I54BdRmwu6TZACQtCDwAvEnSmuG1+cLya/HgEJKWxbONHgQeBVaVNIukRYF3tmjTs8B8PX6OBYAnQlBqI2DxHtf/DfD5ovxP0mo9rp/JZDKZTCYzQg5MZTKZTCaTybRjB+C8rtfOwXWYTgT+BNwt6S7go2b2b2A74Ojw2uV4ZtIxwKySpuEaVB83sxeBG/BA1zTgcOB3Ldr0S2DfIEK+dPLdzunAOyTdjgfIHmi5XsGhwOz4Z70nPM9kMplMJpMZEyqzwjOZTCaTyWQymUwmk8lkMpnxI2dMZTKZTCaTyWQymUwmk8lkJoQcmMpkMplMJpPJZDKZTCaTyUwIOTCVyWQymUwmk8lkMplMJpOZEHJgKpPJZDKZTCaTyWQymUwmMyHkwFQmk8lkMplMJpPJZDKZTGZCyIGpTCaTyWQymUwmk8lkMpnMhJADU5lMJpPJZDKZTCaTyWQymQkhB6YymUwmk8lkMplMJpPJZDITwv8HpYdDJCrp4UUAAAAASUVORK5CYII=\n",
      "text/plain": [
       "<Figure size 1440x864 with 1 Axes>"
      ]
     },
     "metadata": {
      "needs_background": "light"
     },
     "output_type": "display_data"
    }
   ],
   "source": [
    "ax=accer_production.groupby('ACCOUNT')['mem_used_percpu'].agg(['min', 'max', 'mean']).plot(kind='bar',figsize=(20, 12), title=' Summary of memory used per account')\n",
    "\n",
    "ax.set_ylabel(\"Memory used in MB\")\n",
    "ax.set_xlabel(\"Account name\")"
   ]
  },
  {
   "cell_type": "code",
   "execution_count": 45,
   "metadata": {},
   "outputs": [
    {
     "name": "stderr",
     "output_type": "stream",
     "text": [
      "<ipython-input-45-5fbbe9c89b98>:1: SettingWithCopyWarning: \n",
      "A value is trying to be set on a copy of a slice from a DataFrame.\n",
      "Try using .loc[row_indexer,col_indexer] = value instead\n",
      "\n",
      "See the caveats in the documentation: https://pandas.pydata.org/pandas-docs/stable/user_guide/indexing.html#returning-a-view-versus-a-copy\n",
      "  accer_production['mem_percent_used']=100* accer_production['mem_used_percpu']/accer_production['mem_req_percpu']\n"
     ]
    }
   ],
   "source": [
    "accer_production['mem_percent_used']=100* accer_production['mem_used_percpu']/accer_production['mem_req_percpu']"
   ]
  },
  {
   "cell_type": "code",
   "execution_count": 170,
   "metadata": {},
   "outputs": [
    {
     "data": {
      "text/plain": [
       "Text(0.5, 0, 'Account name')"
      ]
     },
     "execution_count": 170,
     "metadata": {},
     "output_type": "execute_result"
    },
    {
     "data": {
      "image/png": "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\n",
      "text/plain": [
       "<Figure size 1440x864 with 1 Axes>"
      ]
     },
     "metadata": {
      "needs_background": "light"
     },
     "output_type": "display_data"
    }
   ],
   "source": [
    "ax=accer_production.groupby('ACCOUNT')['mem_percent_used'].mean().dropna().plot(kind='bar',figsize=(20, 12), title=' Memory used as percentage of requested by accounts')\n",
    "\n",
    "\n",
    "ax.set_ylabel(\"Percent of memory used\")\n",
    "ax.set_xlabel(\"Account name\")"
   ]
  },
  {
   "cell_type": "code",
   "execution_count": 169,
   "metadata": {},
   "outputs": [
    {
     "data": {
      "text/html": [
       "<div>\n",
       "<style scoped>\n",
       "    .dataframe tbody tr th:only-of-type {\n",
       "        vertical-align: middle;\n",
       "    }\n",
       "\n",
       "    .dataframe tbody tr th {\n",
       "        vertical-align: top;\n",
       "    }\n",
       "\n",
       "    .dataframe thead th {\n",
       "        text-align: right;\n",
       "    }\n",
       "</style>\n",
       "<table border=\"1\" class=\"dataframe\">\n",
       "  <thead>\n",
       "    <tr style=\"text-align: right;\">\n",
       "      <th></th>\n",
       "      <th>min</th>\n",
       "      <th>max</th>\n",
       "      <th>mean</th>\n",
       "    </tr>\n",
       "    <tr>\n",
       "      <th>ACCOUNT</th>\n",
       "      <th></th>\n",
       "      <th></th>\n",
       "      <th></th>\n",
       "    </tr>\n",
       "  </thead>\n",
       "  <tbody>\n",
       "    <tr>\n",
       "      <th>alkmene</th>\n",
       "      <td>0.000244</td>\n",
       "      <td>100.000000</td>\n",
       "      <td>35.130247</td>\n",
       "    </tr>\n",
       "    <tr>\n",
       "      <th>almonds</th>\n",
       "      <td>0.000366</td>\n",
       "      <td>99.999557</td>\n",
       "      <td>26.940215</td>\n",
       "    </tr>\n",
       "    <tr>\n",
       "      <th>amaranth</th>\n",
       "      <td>0.000488</td>\n",
       "      <td>78.835571</td>\n",
       "      <td>3.428130</td>\n",
       "    </tr>\n",
       "    <tr>\n",
       "      <th>angelys</th>\n",
       "      <td>0.075195</td>\n",
       "      <td>18.807617</td>\n",
       "      <td>8.778452</td>\n",
       "    </tr>\n",
       "    <tr>\n",
       "      <th>anise</th>\n",
       "      <td>0.001172</td>\n",
       "      <td>99.999984</td>\n",
       "      <td>39.172649</td>\n",
       "    </tr>\n",
       "    <tr>\n",
       "      <th>...</th>\n",
       "      <td>...</td>\n",
       "      <td>...</td>\n",
       "      <td>...</td>\n",
       "    </tr>\n",
       "    <tr>\n",
       "      <th>white</th>\n",
       "      <td>0.010986</td>\n",
       "      <td>12.162598</td>\n",
       "      <td>4.248185</td>\n",
       "    </tr>\n",
       "    <tr>\n",
       "      <th>winged</th>\n",
       "      <td>0.000000</td>\n",
       "      <td>101.290690</td>\n",
       "      <td>32.073276</td>\n",
       "    </tr>\n",
       "    <tr>\n",
       "      <th>with</th>\n",
       "      <td>NaN</td>\n",
       "      <td>NaN</td>\n",
       "      <td>NaN</td>\n",
       "    </tr>\n",
       "    <tr>\n",
       "      <th>wood</th>\n",
       "      <td>0.000000</td>\n",
       "      <td>100.000000</td>\n",
       "      <td>4.084831</td>\n",
       "    </tr>\n",
       "    <tr>\n",
       "      <th>yu</th>\n",
       "      <td>0.031250</td>\n",
       "      <td>2131.000000</td>\n",
       "      <td>100.376232</td>\n",
       "    </tr>\n",
       "  </tbody>\n",
       "</table>\n",
       "<p>138 rows × 3 columns</p>\n",
       "</div>"
      ],
      "text/plain": [
       "               min          max        mean\n",
       "ACCOUNT                                    \n",
       "alkmene   0.000244   100.000000   35.130247\n",
       "almonds   0.000366    99.999557   26.940215\n",
       "amaranth  0.000488    78.835571    3.428130\n",
       "angelys   0.075195    18.807617    8.778452\n",
       "anise     0.001172    99.999984   39.172649\n",
       "...            ...          ...         ...\n",
       "white     0.010986    12.162598    4.248185\n",
       "winged    0.000000   101.290690   32.073276\n",
       "with           NaN          NaN         NaN\n",
       "wood      0.000000   100.000000    4.084831\n",
       "yu        0.031250  2131.000000  100.376232\n",
       "\n",
       "[138 rows x 3 columns]"
      ]
     },
     "execution_count": 169,
     "metadata": {},
     "output_type": "execute_result"
    }
   ],
   "source": [
    "accer_production.groupby('ACCOUNT')['mem_percent_used'].agg(['min', 'max', 'mean'])"
   ]
  },
  {
   "cell_type": "code",
   "execution_count": 168,
   "metadata": {},
   "outputs": [
    {
     "data": {
      "text/plain": [
       "Text(0.5, 0, 'Account name')"
      ]
     },
     "execution_count": 168,
     "metadata": {},
     "output_type": "execute_result"
    },
    {
     "data": {
      "image/png": "iVBORw0KGgoAAAANSUhEUgAABKYAAAMICAYAAADyr+32AAAABHNCSVQICAgIfAhkiAAAAAlwSFlzAAALEgAACxIB0t1+/AAAADh0RVh0U29mdHdhcmUAbWF0cGxvdGxpYiB2ZXJzaW9uMy4yLjIsIGh0dHA6Ly9tYXRwbG90bGliLm9yZy+WH4yJAAAgAElEQVR4nOzdf9TmdV3n8ddbRs1fKCC4OFBjgZXYL53Q1nYz2YBdSlyP2pTmbEuyeTytu9tuYluyyrLhtmW5rbZsoiNZSJRKotmEYafWgNFsDZFlShAWhMlBRTdw0ff+cX3vwzV399xzz8A1n2nm8TjnPtd1fb7fz/f+XPfwB+d5vj+quwMAAAAA+9tDRi8AAAAAgEOTMAUAAADAEMIUAAAAAEMIUwAAAAAMIUwBAAAAMIQwBQAAAMAQwhQAcEioqrdV1X8c9Lurqt5aVXdV1TUrbH9xVf3+Go91VVX92IO/SgCA/U+YAgCGqKqbquqOqnrU3NiPVdVVA5e1KN+d5PuSHNfdJy/f2N3v6O5T9/+yDh1V9c+q6o9HrwMA2JUwBQCMtC7JK0cvYm9V1WF7OeXrktzU3V9axHr2h6paN3oNAMDBR5gCAEb6+ST/tqoet3xDVW2oqp4PIvOXsU1nwPxJVb2hqj5XVX9VVX9/Gr+lqu6sqs3LDvv4qtpaVXdX1Yeq6uvmjv1N07adVXVDVb1obtvbqurNVfW+qvpSku9dYb1PrKrLp/nbq+pl0/hZSX4tyXdV1Rer6rUrzN3lbJ7pe1xbVZ+fXv/+sinfUFXXTNvfU1VHrvTHrapnV9WtVfXTVfXX01lqL57b/vCq+i9V9enp7LVfrapHLJv7qqr6TJK3rnD8b6iqD1bVZ6fjv2P+37Kqjq+q36mqHdM+vzK37WVVdf30b/GJqnraNP7N07/z56rquqp67tycXS5jXOHv1lX141V143TZ5H+bLqP85iS/Ovdv8LmV/l4AwP4nTAEAI21LclWSf7uP85+R5H8lOSrJbyS5JMl3JjkhyUuS/EpVPXpu/xcnOS/J45N8LMk7kmS6nHDrdIxjkvxQkjdV1Ulzc384yflJHpNkpUvCfjPJrUmemOQFSf5TVZ3S3W9J8uNJPtzdj+7uc1f7QlNkuiLJG6fv9YtJrqiqo+Z2e2mSfz79rvumfXfn703fd32SzUkurKpvnLa9PsmTk3x7Zn+z9Ules2zukZmd8XX2SstN8nPTOr45yfFJ/sP0PQ5L8t4kNyfZMB37kmnbC6f9Xprk8CTPTfLZqnpokt9N8vuZ/Tv8RJJ3zK13Lb4/s/8Gvi3Ji5Kc1t3XZ9d/g78VQgGAMYQpAGC01yT5iao6eh/mfqq739rdX0nyzszCyOu6+97u/v0kX84suCy5orv/qLvvTfLvMzuD5vjMYsZN07Hu6+6PJvntzALTkvd0959091e7+575RUzH+O4kr+rue7r7Y5mdJfUj+/CdzkhyY3dfPK3lN5N8MskPzO1zcXf/xXRp4M8medEeLi/82elv8qHMoteLqqqSvCzJv+7und19d5L/lGTT3LyvJjl3mvs3yw/a3du7e+u0fUdmEe17ps0nZxas/l13f2n6uywFvR9L8p+7+9qe2d7dNyd5ZpJHJ7mgu7/c3R/MLG790Jr/erO5n+vuTyf5w8yiGwBwgHKvAABgqO7+i6p6b5Jzkly/l9PvmHv/N9Pxlo/NnzF1y9zv/WJV7cwsnnxdkmcsu8RrXZKLV5q7gicmWYo7S25OsnEtX2KFY928bOzmzM44WmktNyd5aGZnRc1/9yV3Lbu31c3T7zg6ySOTfGTWqJLMzoCaD1w7lke4eVV1TGZna/2DzM4ke0iSu6bNxye5ubvvW2Hq8Un+coXxJya5pbu/umy961fYd3c+M/f+/2bXf38A4ADjjCkA4EBwbmZn78wHiKWY8si5sb/3AH/P8Utvpkv8jkxyW2ah50Pd/bi5n0d398vn5vYqx70tyZFV9Zi5sa9N8n/2YY23ZRbK5i0/1vHLtv2/JH+9m+MdUXNPPpz2v23a/2+SnDT3nR/b3fMhZ7XvnMwu4+sk39rdh2d2+eRS5bolydfu5qbptyT5hhXGb0tyfFXN/z/q/Hf/Uvb9v4c9fRcAYABhCgAYrru3Z3Yp3r+cG9uRWZB4SVUdVlX/PCvHjL3xT6rqu6vqYZnda+rq7r4ls8vFnlxVP1JVD51+vnO6afZa1n9Lkv+Z5Oeq6muq6luTnJXpHlZ76X3TWn64qtZV1Q8mecq0xiUvqaqnVNUjk7wuyWXT5Yy789qqelhV/YPMLlv8remspP+R5A3TmU+pqvVVddperPUxSb6Y5HNVtT7Jv5vbdk2S25NcUFWPmv4uz5q2/VpmN71/+nRz8hNqdiP6qzOLTz81/Rs8O7NLGC+Z5n0syfOr6pFVdUJmf+O1uiPJcdO/PQBwgBCmAIADxeuSPGrZ2Msyix2fTXJSZvHngfiNzM7O2pnk6ZndDD3TJXinZnZ/pdsyuxzs9UkevhfH/qHMbvJ9W5J3ZXZvpq17u8Du/mxm8egnM/veP5Xk+7t7/oyoi5O8bVrn12Qu6K3gM5ldXndbZqHsx7v7k9O2VyXZnuRPq+oLSf4gyd7caPy1SZ6W5POZ3bvqd+a+x1cyi0onJPl0ZjeG/8Fp229ldiP530hyd5J3Jzmyu7+c2Y3Q/3FmZ3S9KclL59b7hszuG3ZHki3Zu/D3wSTXJflMVe3u7DIAYD+rbmc1AwCMNJ0N9pLufs6DfNxnJ/n17j7uwTwuAMCDxRlTAADjnZTkU6MXAQCwv3kqHwDAQFX17iQnJnnh6LUAAOxvLuUDAAAAYAiX8gEAAAAwhDAFAAAAwBDuMTV5/OMf3xs2bBi9DAAAAICDxkc+8pG/7u6jd7ddmJps2LAh27ZtG70MAAAAgINGVd282naX8gEAAAAwhDAFAAAAwBDCFAAAAABDCFMAAAAADCFMAQAAADCEMAUAAADAEMIUAAAAAEMIUwAAAAAMIUwBAAAAMIQwBQAAAMAQwhQAAAAAQwhTAAAAAAwhTAEAAAAwhDAFAAAAwBDCFAAAAABDCFMAAAAADCFMAQAAADCEMAUAAADAEMIUAAAAAEMIUwAAAAAMIUwBAAAAMIQwBQAAAMAQwhQAAAAAQwhTAAAAAAwhTAEAAAAwhDAFAAAAwBDCFAAAAABDCFMAAAAADCFMAQAAADDEutELANgXG865YpfPN11wxqCVAAAAsK+cMQUAAADAEMIUAAAAAEMIUwAAAAAMIUwBAAAAMIQwBQAAAMAQCw1TVfW4qrqsqj5ZVddX1XdV1ZFVtbWqbpxej5jb/9VVtb2qbqiq0+bGn15VH5+2vbGqahp/eFW9cxq/uqo2zM3ZPP2OG6tq8yK/JwAAAAB7b9FnTP1ykt/r7m9K8m1Jrk9yTpIru/vEJFdOn1NVT0myKclJSU5P8qaqOmw6zpuTnJ3kxOnn9Gn8rCR3dfcJSd6Q5PXTsY5Mcm6SZyQ5Ocm58wEMAAAAgPEWFqaq6vAk/zDJW5Kku7/c3Z9LcmaSLdNuW5I8b3p/ZpJLuvve7v5Uku1JTq6qY5Mc3t0f7u5O8vZlc5aOdVmSU6azqU5LsrW7d3b3XUm25v6YBQAAAMABYJFnTH19kh1J3lpVf1ZVv1ZVj0ryhO6+PUmm12Om/dcnuWVu/q3T2Prp/fLxXeZ0931JPp/kqFWOtYuqOruqtlXVth07djyQ7woAAADAXlpkmFqX5GlJ3tzd35HkS5ku29uNWmGsVxnf1zn3D3Rf2N0bu3vj0UcfvcrSAAAAAHiwLTJM3Zrk1u6+evp8WWah6o7p8rxMr3fO7X/83Pzjktw2jR+3wvguc6pqXZLHJtm5yrEAAAAAOEAsLEx192eS3FJV3zgNnZLkE0kuT7L0lLzNSd4zvb88yabpSXtPyuwm59dMl/vdXVXPnO4f9dJlc5aO9YIkH5zuQ/WBJKdW1RHTTc9PncYAAAAAOECsW/DxfyLJO6rqYUn+KsmPZhbDLq2qs5J8OskLk6S7r6uqSzOLV/cleUV3f2U6zsuTvC3JI5K8f/pJZjdWv7iqtmd2ptSm6Vg7q+q8JNdO+72uu3cu8osCAAAAsHcWGqa6+2NJNq6w6ZTd7H9+kvNXGN+W5KkrjN+TKWytsO2iJBftzXoBAAAA2H8WeY8pAAAAANgtYQoAAACAIYQpAAAAAIYQpgAAAAAYQpgCAAAAYAhhCgAAAIAhhCkAAAAAhhCmAAAAABhCmAIAAABgCGEKAAAAgCGEKQAAAACGEKYAAAAAGEKYAgAAAGAIYQoAAACAIYQpAAAAAIYQpgAAAAAYQpgCAAAAYAhhCgAAAIAhhCkAAAAAhhCmAAAAABhCmAIAAABgCGEKAAAAgCGEKQAAAACGEKYAAAAAGEKYAgAAAGAIYQoAAACAIYQpAAAAAIYQpgAAAAAYQpgCAAAAYAhhCgAAAIAhhCkAAAAAhhCmAAAAABhCmAIAAABgCGEKAAAAgCGEKQAAAACGEKYAAAAAGEKYAgAAAGAIYQoAAACAIYQpAAAAAIYQpgAAAAAYQpgCAAAAYAhhCgAAAIAhhCkAAAAAhhCmAAAAABhCmAIAAABgCGEKAAAAgCGEKQAAAACGEKYAAAAAGEKYAgAAAGAIYQoAAACAIYQpAAAAAIYQpgAAAAAYQpgCAAAAYAhhCgAAAIAhhCkAAAAAhhCmAAAAABhCmAIAAABgCGEKAAAAgCGEKQAAAACGEKYAAAAAGEKYAgAAAGAIYQoAAACAIYQpAAAAAIYQpgAAAAAYQpgCAAAAYAhhCgAAAIAhhCkAAAAAhhCmAAAAABhCmAIAAABgCGEKAAAAgCGEKQAAAACGEKYAAAAAGEKYAgAAAGAIYQoAAACAIYQpAAAAAIYQpgAAAAAYQpgCAAAAYAhhCgAAAIAhhCkAAAAAhhCmAAAAABhCmAIAAABgCGEKAAAAgCGEKQAAAACGEKYAAAAAGEKYAgAAAGAIYQoAAACAIYQpAAAAAIYQpgAAAAAYQpgCAAAAYAhhCgAAAIAhhCkAAAAAhhCmAAAAABhCmAIAAABgiIWGqaq6qao+XlUfq6pt09iRVbW1qm6cXo+Y2//VVbW9qm6oqtPmxp8+HWd7Vb2xqmoaf3hVvXMav7qqNszN2Tz9jhuravMivycAAAAAe29/nDH1vd397d29cfp8TpIru/vEJFdOn1NVT0myKclJSU5P8qaqOmya8+YkZyc5cfo5fRo/K8ld3X1Ckjckef10rCOTnJvkGUlOTnLufAADAAAAYLwRl/KdmWTL9H5LkufNjV/S3fd296eSbE9yclUdm+Tw7v5wd3eSty+bs3Ssy5KcMp1NdVqSrd29s7vvSrI198csAAAAAA4Aiw5TneT3q+ojVXX2NPaE7r49SabXY6bx9UlumZt76zS2fnq/fHyXOd19X5LPJzlqlWPtoqrOrqptVbVtx44d+/wlAQAAANh76xZ8/Gd1921VdUySrVX1yVX2rRXGepXxfZ1z/0D3hUkuTJKNGzf+re0AAAAALM5Cz5jq7tum1zuTvCuz+z3dMV2el+n1zmn3W5McPzf9uCS3TePHrTC+y5yqWpfksUl2rnIsAAAAAA4QCwtTVfWoqnrM0vskpyb5iySXJ1l6St7mJO+Z3l+eZNP0pL0nZXaT82umy/3urqpnTvePeumyOUvHekGSD073ofpAklOr6ojppuenTmMAAAAAHCAWeSnfE5K8a9aSsi7Jb3T371XVtUkuraqzknw6yQuTpLuvq6pLk3wiyX1JXtHdX5mO9fIkb0vyiCTvn36S5C1JLq6q7ZmdKbVpOtbOqjovybXTfq/r7p0L/K4AAAAA7KWFhanu/qsk37bC+GeTnLKbOecnOX+F8W1JnrrC+D2ZwtYK2y5KctHerRoAAACA/WXRT+UDAAAAgBUJUwAAAAAMIUwBAAAAMMQib34OwAOw4Zwrdvl80wVnDFoJAADAYjhjCgAAAIAhhCkAAAAAhhCmAAAAABhCmAIAAABgCGEKAAAAgCGEKQAAAACGEKYAAAAAGEKYAgAAAGAIYQoAAACAIYQpAAAAAIYQpgAAAAAYQpgCAAAAYAhhCgAAAIAhhCkAAAAAhhCmAAAAABhCmAIAAABgCGEKAAAAgCGEKQAAAACGEKYAAAAAGEKYAgAAAGAIYQoAAACAIYQpAAAAAIYQpgAAAAAYQpgCAAAAYAhhCgAAAIAhhCkAAAAAhhCmAAAAABhCmAIAAABgCGEKAAAAgCGEKQAAAACGEKYAAAAAGEKYAgAAAGAIYQoAAACAIYQpAAAAAIYQpgAAAAAYQpgCAAAAYAhhCgAAAIAhhCkAAAAAhhCmAAAAABhCmAIAAABgCGEKAAAAgCGEKQAAAACGEKYAAAAAGEKYAgAAAGAIYQoAAACAIYQpAAAAAIYQpgAAAAAYQpgCAAAAYAhhCgAAAIAhhCkAAAAAhhCmAAAAABhCmAIAAABgCGEKAAAAgCGEKQAAAACGEKYAAAAAGEKYAgAAAGAIYQoAAACAIYQpAAAAAIYQpgAAAAAYQpgCAAAAYAhhCgAAAIAhhCkAAAAAhhCmAAAAABhCmAIAAABgCGEKAAAAgCGEKQAAAACGEKYAAAAAGEKYAgAAAGAIYQoAAACAIYQpAAAAAIYQpgAAAAAYQpgCAAAAYAhhCgAAAIAhhCkAAAAAhhCmAAAAABhCmAIAAABgCGEKAAAAgCGEKQAAAACGEKYAAAAAGEKYAgAAAGAIYQoAAACAIYQpAAAAAIYQpgAAAAAYQpgCAAAAYAhhCgAAAIAhhCkAAAAAhhCmAAAAABhCmAIAAABgCGEKAAAAgCEWHqaq6rCq+rOqeu/0+ciq2lpVN06vR8zt++qq2l5VN1TVaXPjT6+qj0/b3lhVNY0/vKreOY1fXVUb5uZsnn7HjVW1edHfEwAAAIC9sz/OmHplkuvnPp+T5MruPjHJldPnVNVTkmxKclKS05O8qaoOm+a8OcnZSU6cfk6fxs9Kcld3n5DkDUlePx3ryCTnJnlGkpOTnDsfwAAAAAAYb6FhqqqOS3JGkl+bGz4zyZbp/ZYkz5sbv6S77+3uTyXZnuTkqjo2yeHd/eHu7iRvXzZn6ViXJTllOpvqtCRbu3tnd9+VZGvuj1kAAAAAHAAWfcbULyX5qSRfnRt7QnffniTT6zHT+Pokt8ztd+s0tn56v3x8lzndfV+Szyc5apVj7aKqzq6qbVW1bceOHfvy/QAAAADYRwsLU1X1/Unu7O6PrHXKCmO9yvi+zrl/oPvC7t7Y3RuPPvroNS4TAAAAgAfDIs+YelaS51bVTUkuSfKcqvr1JHdMl+dler1z2v/WJMfPzT8uyW3T+HErjO8yp6rWJXlskp2rHAsAAACAA8TCwlR3v7q7j+vuDZnd1PyD3f2SJJcnWXpK3uYk75neX55k0/SkvSdldpPza6bL/e6uqmdO94966bI5S8d6wfQ7OskHkpxaVUdMNz0/dRoDAAAA4ACxbsDvvCDJpVV1VpJPJ3lhknT3dVV1aZJPJLkvySu6+yvTnJcneVuSRyR5//STJG9JcnFVbc/sTKlN07F2VtV5Sa6d9ntdd+9c9BcDAAAAYO32S5jq7quSXDW9/2ySU3az3/lJzl9hfFuSp64wfk+msLXCtouSXLSvawYAAABgsRb9VD4AAAAAWJEwBQAAAMAQwhQAAAAAQwhTAAAAAAwhTAEAAAAwhDAFAAAAwBDCFAAAAABDCFMAAAAADCFMAQAAADCEMAUAAADAEMIUAAAAAEMIUwAAAAAMIUwBAAAAMIQwBQAAAMAQ60YvAAAAAPi7bcM5V+zy+aYLzhi0Ev6uccYUAAAAAEMIUwAAAAAMIUwBAAAAMIQwBQAAAMAQwhQAAAAAQwhTAAAAAAwhTAEAAAAwhDAFAAAAwBDCFAAAAABDCFMAAAAADCFMAQAAADCEMAUAAADAEMIUAAAAAEMIUwAAAAAMIUwBAAAAMIQwBQAAAMAQwhQAAAAAQwhTAAAAAAwhTAEAAAAwhDAFAAAAwBDCFAAAAABDCFMAAAAADCFMAQAAADCEMAUAAADAEMIUAAAAAEMIUwAAAAAMIUwBAAAAMMS6texUVU9L8t1JOsmfdPdHF7oqAAAAAA56ezxjqqpek2RLkqOSPD7JW6vqZxa9MAAAAAAObms5Y+qHknxHd9+TJFV1QZKPJvmPi1wYAAAAAAe3tdxj6qYkXzP3+eFJ/nIhqwEAAADgkLHbM6aq6r9mdk+pe5NcV1Vbp8/fl+SP98/yAAAAADhYrXYp37bp9SNJ3jU3ftXCVgMAAADAIWO3Yaq7tyy9r6qHJXny9PGG7v5/i14YAAAAAAe3Pd78vKqendlT+W5KUkmOr6rN3f1Hi10aAAAAAAeztTyV7xeSnNrdNyRJVT05yW8mefoiFwYAAADAwW0tT+V76FKUSpLu/t9JHrq4JQEAAABwKFjLGVPbquotSS6ePr84sxuiAwAAAMA+W0uYenmSVyT5l5ndY+qPkrxpkYsCAAAA4OC3xzDV3fcm+cXpBwAAAAAeFLsNU1V1aXe/qKo+nqSXbe4kO5P8Une/Z5ELBAAAAODgtNoZU6+cXr9/N9sfn+QdSYQpAAAAAPbabsNUd98+vd68m11urqoXL2RVAAAAABz0HvJAJne3p/MBAAAAsE8eUJgCAAAAgH212zBVVVdOr6/ff8sBAAAA4FCx2s3Pj62q70ny3Kq6JEnNb+zujy50ZQAAAAAc1FYLU69Jck6S45L84rJtneQ5i1oUAAAAAAe/1Z7Kd1mSy6rqZ7v7vP24JgAAAAAOAaudMZUk6e7zquq5Sf7hNHRVd793scsCAAAA4GC3x6fyVdXPJXllkk9MP6+cxgAAAABgn+3xjKkkZyT59u7+apJU1ZYkf5bk1YtcGAAAAAAHtz2eMTV53Nz7xy5iIQAAAAAcWtZyxtTPJfmzqvrDJJXZvaacLQUAAADAA7KWm5//ZlVdleQ7MwtTr+ruzyx6YQAAAAAc3NZyxlS6+/Ykly94LQAAAAAcQtZ6jykAAAAAeFAJUwAAAAAMsWqYqqqHVNVf7K/FAAAAAHDoWDVMdfdXk/x5VX3tfloPAAAAAIeItdz8/Ngk11XVNUm+tDTY3c9d2KoAAAAAOOitJUy9duGrAAAAAOCQs8cw1d0fqqqvS3Jid/9BVT0yyWGLXxoAAAAAB7M9PpWvql6W5LIk/30aWp/k3YtcFAAAAAAHvz2GqSSvSPKsJF9Iku6+Mckxi1wUAAAAAAe/tYSpe7v7y0sfqmpdkl7ckgAAAAA4FKwlTH2oqn46ySOq6vuS/FaS313ssgAAAAA42K0lTJ2TZEeSjyf5F0nel+RnFrkoAAAAAA5+a3kq31erakuSqzO7hO+G7nYpHwAAAAAPyB7DVFWdkeRXk/xlkkrypKr6F939/kUvDgAAAICD1x7DVJJfSPK93b09SarqG5JckUSYAgAAAGCfreUeU3cuRanJXyW5c0HrAQAAAOAQsdszpqrq+dPb66rqfUkuzeweUy9Mcu1+WBsAAAAAB7HVLuX7gbn3dyT5nun9jiRHLGxFAAAAABwSdhumuvtH9+dCAAAAADi0rOWpfE9K8hNJNszv393PXdyyAAAAADjYreWpfO9O8pYkv5vkq4tdDgAAAACHirWEqXu6+40LXwkAAAAAh5SHrGGfX66qc6vqu6rqaUs/e5pUVV9TVddU1Z9X1XVV9dpp/Miq2lpVN06vR8zNeXVVba+qG6rqtLnxp1fVx6dtb6yqmsYfXlXvnMavrqoNc3M2T7/jxqravBd/EwAAAAD2g7WcMfUtSX4kyXNy/6V8PX1ezb1JntPdX6yqhyb546p6f5LnJ7myuy+oqnOSnJPkVVX1lCSbkpyU5IlJ/qCqntzdX0ny5iRnJ/nTJO9LcnqS9yc5K8ld3X1CVW1K8vokP1hVRyY5N8nGaa0fqarLu/uuNXxfAAAAAPaDtZwx9U+TfH13f093f+/0s6colZ754vTxodNPJzkzyZZpfEuS503vz0xySXff292fSrI9yclVdWySw7v7w93dSd6+bM7SsS5Lcsp0NtVpSbZ2984pRm3NLGYBAAAAcIBYS5j68ySP25eDV9VhVfWxJHdmFoquTvKE7r49SabXY6bd1ye5ZW76rdPY+un98vFd5nT3fUk+n+SoVY61fH1nV9W2qtq2Y8eOffmKAAAAAOyjtVzK94Qkn6yqazO7PC9J0t3P3dPE6TK8b6+qxyV5V1U9dZXda6VDrDK+r3Pm13dhkguTZOPGjX9rOwAAAACLs5Ywde4D/SXd/bmquiqzy+nuqKpju/v26TK9O6fdbk1y/Ny045LcNo0ft8L4/Jxbq2pdkscm2TmNP3vZnKse6PcAAAAA4MGzx0v5uvtDK/3saV5VHT2dKZWqekSSf5Tkk0kuT7L0lLzNSd4zvb88yabpSXtPSnJikmumy/3urqpnTvePeumyOUvHekGSD073ofpAklOr6ojpqX+nTmMAAAAAHCD2eMZUVd2d+y+De1hmNzH/UncfvoepxybZUlWHZRbALu3u91bVh5NcWlVnJfl0khcmSXdfV1WXJvlEkvuSvGK6FDBJXp7kbUkekdnT+N4/jb8lycVVtT2zM6U2TcfaWVXnJbl22u913b1zT98VAAAAgP1nj2Gqux8z/7mqnpfk5DXM+19JvmOF8c8mOWU3c85Pcv4K49uS/K37U3X3PZnC1grbLkpy0Z7WCQAAAMAYa3kq3y66+91JnrOAtQAAAABwCFnLpXzPn/v4kCQbs8IT7gAAAABgb6zlqXw/MPf+viQ3JTlzIasBAAAA4JCxlntM/ej+WAgAAAAAh5bdhqmqes0q87q7z1vAegAAAAA4RKx2xtSXVhh7VJKzkhyVRJgCAAAAYJ/tNkx19y8sva+qxyR5ZZIfTXJJkl/Y3TwAAAAAWItV7zFVVUcm+TdJXpxkS5Kndfdd+2NhAAAAABzcVrvH1M8neX6SC5N8S3d/cb+tCgAAAICD3kNW2faTSZ6Y5GeS3FZVX5h+7q6qL+yf5QEAAABwsFrtHlOrRSsAAAAAeEDEJ2ZCJ84AACAASURBVAAAAACGEKYAAAAAGEKYAgAAAGAIYQoAAACAIYQpAAAAAIYQpgAAAAAYQpgCAAAAYAhhCgAAAIAhhCkAAAAAhhCmAAAAABhCmAIAAABgCGEKAAAAgCGEKQAAAACGEKYAAAAAGEKYAgAAAGAIYQoAAACAIYQpAAAAAIYQpgAAAAAYQpgCAAAAYAhhCgAAAIAhhCkAAAAAhhCmAAAAABhCmAIAAABgCGEKAAAAgCGEKQAAAACGEKYAAAAAGEKYAgAAAGAIYQoAAACAIYQpAAAAAIYQpgAAAAAYQpgCAAAAYAhhCgAAAIAhhCkAAAAAhhCmAAAAABhCmAIAAABgCGEKAAAAgCGEKQAAAACGEKYAAAAAGEKYAgAAAGAIYQoAAACAIYQpAAAAAIYQpgAAAAAYQpgCAAAAYAhhCgAAAIAhhCkAAAAAhhCmAAAAABhCmAIAAABgCGEKAAAAgCGEKQAAAACGEKYAAAAAGEKYAgAAAGAIYQoAAACAIYQpAAAAAIYQpgAAAAAYQpgCAAAAYAhhCgAAAIAhhCkAAAAAhhCmAAAAABhCmAIAAABgCGEKAAAAgCGEKQAAAACGEKYAAAAAGEKYAgAAAGAIYQoAAACAIYQpAAAAAIYQpgAAAAAYQpgCAAAAYAhhCgAAAIAhhCkAAAAAhhCmAAAAABhCmAIAAABgCGEKAAAAgCGEKQAAAACGEKYAAAAAGEKYAgAAAGAIYQoAAACAIYQpAAAAAIYQpgAAAAAYQpgCAAAAYAhhCgAAAIAhhCkAAAAAhhCmAAAAABhiYWGqqo6vqj+squur6rqqeuU0fmRVba2qG6fXI+bmvLqqtlfVDVV12tz406vq49O2N1ZVTeMPr6p3TuNXV9WGuTmbp99xY1VtXtT3BAAAAGDfLPKMqfuS/GR3f3OSZyZ5RVU9Jck5Sa7s7hOTXDl9zrRtU5KTkpye5E1Vddh0rDcnOTvJidPP6dP4WUnu6u4TkrwhyeunYx2Z5Nwkz0hycpJz5wMYAAAAAOMtLEx19+3d/dHp/d1Jrk+yPsmZSbZMu21J8rzp/ZlJLunue7v7U0m2Jzm5qo5Ncnh3f7i7O8nbl81ZOtZlSU6ZzqY6LcnW7t7Z3Xcl2Zr7YxYAAAAAB4D9co+p6RK770hydZIndPftySxeJTlm2m19klvmpt06ja2f3i8f32VOd9+X5PNJjlrlWMvXdXZVbauqbTt27Nj3LwgAAADAXlt4mKqqRyf57ST/qru/sNquK4z1KuP7Ouf+ge4Lu3tjd288+uijV1kaAAAAAA+2dYs8eFU9NLMo9Y7u/p1p+I6qOra7b58u07tzGr81yfFz049Lcts0ftwK4/Nzbq2qdUkem2TnNP7sZXOuepC+FgD8nbDhnCt2+XzTBWcMWgkAAKxskU/lqyRvSXJ9d//i3KbLkyw9JW9zkvfMjW+anrT3pMxucn7NdLnf3VX1zOmYL102Z+lYL0jywek+VB9IcmpVHTHd9PzUaQwAAACAA8Qiz5h6VpIfSfLxqvrYNPbTSS5IcmlVnZXk00lemCTdfV1VXZrkE5k90e8V3f2Vad7Lk7wtySOSvH/6SWbh6+Kq2p7ZmVKbpmPtrKrzklw77fe67t65qC8KAAAAwN5bWJjq7j/Oyvd6SpJTdjPn/CTnrzC+LclTVxi/J1PYWmHbRUkuWut6AQAAANi/9stT+QAAAABgOWEKAAAAgCEW+lQ+4NDlaWAAAADsiTOmAAAAABhCmAIAAABgCGEKAAAAgCGEKQAAAACGEKYAAAAAGEKYAgAAAGAIYQoAAACAIYQpAAAAAIYQpgAAAAAYQpgCAAAAYAhhCgAAAIAhhCkAAAAAhhCmAAAAABhCmAIAAABgCGEKAAAAgCGEKQAAAACGEKYAAAAAGEKYAgAAAGAIYQoAAACAIYQpAAAAAIYQpgAAAAAYQpgCAAAAYAhhCgAAAIAhhCkAAAAAhhCmAAAAABhCmAIAAABgCGEKAAAAgCGEKQAAAACGEKYAAAAAGEKYAgAAAGAIYQoAAACAIYQpAAAAAIYQpgAAAAAYQpgCAAAAYIh1oxcAAACMs+GcK3b5fNMFZwxaCQCHImdMAQAAADCEMAUAAADAEMIUAAAAAEMIUwAAAAAMIUwBAAAAMIQwBQAAAMAQwhQAAAAAQwhTAAAAAAwhTAEAAAAwhDAFAAAAwBDCFAAAAABDCFMAAAAADCFMAQAAADCEMAUAAADAEMIUAAAAAEMIUwAAAAAMIUwBAAAAMIQwBQAAAMAQwhQAAAAAQwhTAAAAAAwhTAEAAAAwhDAFAAAAwBDrRi8AgH2z4Zwrdvl80wVnDFoJAADAvnHGFAAAAABDCFMAAAAADCFMAQAAADCEMAUAAADAEMIUAAAAAEMIUwAAAAAMIUwBAAAAMIQwBQAA8P/ZO+9wW4pib7/FQYIkQRATcBAJJlCyggoYCWYwkS7mRBATBgQjoHIV8YqgEg1IMKCogEQJkjPopxIUM0pSFAHr+6O69+o1e2Z6Dofj2hx+7/OsZ++ZntAz06G6urpKCCHERJBiSgghhBBCCCGEEEJMBCmmhBBCCCGEEEIIIcREkGJKCCGEEEIIIYQQQkwEKaaEEEIIIYQQQgghxESQYkoIIYQQQgghhBBCTAQppoQQQgghhBBCCCHERJBiSgghhBBCCCGEEEJMBCmmhBBCCCGEEEIIIcREkGJKCCGEEEIIIYQQQkyEBSedASHEg5PZe5w4tn3DvltOKCdCCCGEEEIIISaFLKaEEEIIIYQQQgghxESQYkoIIYQQQgghhBBCTAQppoQQQgghhBBCCCHERJBiSgghhBBCCCGEEEJMBCmmhBBCCCGEEEIIIcREkGJKCCGEEEIIIYQQQkwEKaaEEEIIIYQQQgghxERYcNIZEEIIIYQQQghx35m9x4lj2zfsu+WEciKEEHOOLKaEEEIIIYQQQgghxESQYkoIIYQQQgghhBBCTAQppoQQQgghhBBCCCHERJCPKSEegMiPgBBCCCGEEEKI+QFZTAkhhBBCCCGEEEKIiSDFlBBCCCGEEEIIIYSYCPNMMWVmh5rZn83sqmLfMmZ2ipn9Mv1dukh7v5n9ysx+YWYvKPavY2ZXprTPm5ml/Qub2bfS/vPNbHZxzo7pHr80sx3n1TMKIYQQQgghhBBCiPvOvLSYOhx4YWPfHsCp7r4qcGraxsyeCLwaeFI654tmNiudcxDwJmDV9MvXfD1wi7s/HvgssF+61jLAXsAGwPrAXqUCTAghhBBCCCGEEELMDOaZYsrdzwL+1tj9EuCI9P8RwEuL/Ue7+13ufj3wK2B9M3sUsKS7n+fuDhzZOCdf6zjgOcma6gXAKe7+N3e/BTiF6QoyIYQQQgghhBBCCDFh/ts+ppZ39z8ApL+PSPsfA/y2OO6mtO8x6f/m/rFz3P0e4Dbg4T3XmoaZvcnMLjKzi/7yl7/MxWMJIYQQQgghhBBCiDllpjg/t5Z93rP/vp4zvtP9EHdf193XXW655QZlVAghhBBCCCGEEELcP/y3FVN/SsvzSH//nPbfBKxQHPdY4Pdp/2Nb9o+dY2YLAksRSwe7riWEEEIIIYQQQgghZhD/bcXUCUCOkrcj8L1i/6tTpL2VCSfnF6TlfneY2YbJf9QOjXPytbYGTkt+qE4Cnm9mSyen589P+4QQQgghhBBCCCHEDGLBeXVhM/smsAmwrJndRETK2xc4xsxeD/wG2AbA3a82s2OAa4B7gLe7+73pUm8lIvwtCvwo/QC+ChxlZr8iLKVena71NzP7GHBhOu6j7t50wi6EEEIIIYQQQgghJsw8U0y5+2s6kp7TcfwngE+07L8IeHLL/n+RFFstaYcChw7OrBBCCCGEEEIIIYT4rzNTnJ8LIYQQQgghhBBCiAcZUkwJIYQQQgghhBBCiIkgxZQQQgghhBBCCCGEmAhSTAkhhBBCCCGEEEKIiSDFlBBCCCGEEEIIIYSYCFJMCSGEEEIIIYQQQoiJIMWUEEIIIYQQQgghhJgIUkwJIYQQQgghhBBCiIkgxZQQQgghhBBCCCGEmAhSTAkhhBBCCCGEEEKIiSDFlBBCCCGEEEIIIYSYCFJMCSGEEEIIIYQQQoiJIMWUEEIIIYQQQgghhJgIUkwJIYQQQgghhBBCiIkgxZQQQgghhBBCCCGEmAhSTAkhhBBCCCGEEEKIibDgpDMghJjO7D1OHNu+Yd8tJ5QTIYQQQgghhBBi3iGLKSGEEEIIIYQQQggxEaSYEkIIIYQQQgghhBATQYopIYQQQgghhBBCCDERpJgSQgghhBBCCCGEEBNBiikhhBBCCCGEEEIIMRGkmBJCCCGEEEIIIYQQE0GKKSGEEEIIIYQQQggxEaSYEkIIIYQQQgghhBATQYopIYQQQgghhBBCCDERpJgSQgghhBBCCCGEEBNBiikhhBBCCCGEEEIIMRGkmBJCCCGEEEIIIYQQE0GKKSGEEEIIIYQQQggxEaSYEkIIIYQQQgghhBATQYopIYQQQgghhBBCCDERpJgSQgghhBBCCCGEEBNBiikhhBBCCCGEEEIIMRGkmBJCCCGEEEIIIYQQE0GKKSGEEEIIIYQQQggxEaSYEkIIIYQQQgghhBATQYopIYQQQgghhBBCCDERFpx0BoR4IDJ7jxPHtm/Yd8sJ5UQIIYQQQgghhHjgIospIYQQQgghhBBCCDERpJgSQgghhBBCCCGEEBNBiikhhBBCCCGEEEIIMRHkY0oIIYQQD1jk808IIYQQ4oGNLKaEEEIIIYQQQgghxESQxZQQQgghhBBCCDEXyIJXiPuOLKaEEEIIIYQQQgghxESQYkoIIYQQQgghhBBCTAQppoQQQgghhBBCCCHERJBiSgghhBBCCCGEEEJMBCmmhBBCCCGEEEIIIcREkGJKCCGEEEIIIYQQQkwEKaaEEEIIIYQQQgghxESQYkoIIYQQQgghhBBCTAQppoQQQgghhBBCCCHERJBiSgghhBBCCCGEEEJMhAUnnQEhhBBCCCGEEEKIPmbvceLY9g37bjmhnIj7GymmhBBCCCGEmCAabIn5AZVjIcR9RUv5hBBCCCGEEEIIIcREkMWUEEIIIcSEkIWBEEIIIR7sSDElhBBCCCGEEOIBjRT9Qjxw0VI+IYQQQgghhBBCCDERpJgSQgghhBBCCCGEEBNBiikhhBBCCCGEEEIIMRHkY0oIIYQQQgghhBBC9DKvfLlJMSWEEEKIVuRIVgghhBBCzGu0lE8IIYQQQgghhBBCTAQppoQQQgghhBBCCCHERJBiSgghhBBCCCGEEEJMBCmmhBBCCCGEEEIIIcREkGJKCCGEEEIIIYQQQkwEKaaEEEIIIYQQQgghxERYcNIZEP99FP5bCCGEEEIIIYQQMwEppoQQYj5FSmghhBBCCCFEZqaOD7SUTwghhBBCCCGEEEJMBCmmhBBCCCGEEEIIIcREkGJKCCGEEEIIIYQQQkwE+ZgSQgghHqTMVD8DQgghhBBiOvOr7CaLKSGEEEIIIYQQQggxEaSYEkIIIYQQQgghhBATQUv5hBAzkvnVTFUIIYQQQgghxAgppho0B8OgAbEQQgghhBBCCCHEvEBL+YQQQgghhBBCCCHERJDFlBBCCCGEEEIIIeYpctUhupDFlBBCCCGEEEIIIYSYCLKYEkIIIWYomlkUQgghhBDzO1JMCSFEC1IICCGEEEIIIcS8R4opIYQQQoj5GCnahRD3B2pLxExHZfSBixRTYkaiRkUIIYQQQgghhJj/kWJKPCCR4krMD6gcCyGEEEIIIR7sSDElhBBCCCGEEEI8wNGkp3igIsWUEEIIIYQQ85B5PVjUYFQIIcQDGSmmhBBCCCHEjEVKFyGEEGL+ZoFJZ0AIIYQQQgghhBBCPDiZry2mzOyFwAHALOAr7r7vf+O+D/SZvQd6/oUQQgghhBCiRGMcIWYu861iysxmAf8HPA+4CbjQzE5w92vm9tpq1MSDAZVzIYQQQgghHjxI/heTYr5VTAHrA79y9+sAzOxo4CXAXCum5jVqEOY9tXf8QP8G/438z/R3NNPzNz8wv9cjUUffWMwPqBzPPXqHQvx3mHRde6AHcpj0+xPdmLtPOg/zBDPbGnihu78hbW8PbODu7yiOeRPwprS5OvCL4hLLAjdXblM7Rulzlz4T8vBgT58JeZjf02dCHh7s6TMhD/N7+kzIw4M9fSbkYX5Pnwl5eLCnz4Q8zO/pMyEPD/b0mZCH+T19JuRhfktfyd2X6zza3efLH7AN4Vcqb28PHDgH5180t8cofe7SZ0IeHuzpMyEP83v6TMjDgz19JuRhfk+fCXl4sKfPhDzM7+kzIQ8P9vSZkIf5PX0m5OHBnj4T8jC/p8+EPMzv6c3f/ByV7yZghWL7scDvJ5QXIYQQQgghhBBCCNFgflZMXQisamYrm9lCwKuBEyacJyGEEEIIIYQQQgiRmG+dn7v7PWb2DuAkYBZwqLtfPQeXOOR+OEbpc5c+E/LwYE+fCXmY39NnQh4e7OkzIQ/ze/pMyMODPX0m5GF+T58JeXiwp8+EPMzv6TMhDw/29JmQh/k9fSbkYX5PH2O+dX4uhBBCCCGEEEIIIWY28/NSPiGEEEIIIYQQQggxg5FiSgghhBBCCCGEEEJMBCmmhBBCCCGEEEIIIcREkGLqPmJmC5jZkvPguoua2eoDj13azNa8n++/zP15vUliZkua2RLz+B7zpBy03GfheXTd+z3/ZrbykH095z954HGPNLMXm9mLzOyRjbTFzGyB9P9q6biHNI5Zycyem/5ftKuszGk9M7NZZva1ocfPLWa2hJkt/t+6X8v9F5vUvSeNmS1vZlul3yMmnZ85JUWtXaTYXtTMZrccN0++8ZB6OmlS/V/fzJ6Vf0XaQ81sTzP7ctpe1cy2msPrz6qkL1JJn9Y3zKv+Ym6Zl23VnMhOc3GPGdvWmdmuA/dNtL8YQpdcMi/a2zmtK/OyzTezjfr2mdnmLelvuT/z8EBgpvS780h+3ir3if9t0vO8ci6vYWa2QuWY/br2Jfn5J5Xze+vJTOC+ltH74xs80JHz8wZmtjGwqrsfZmbLAYu7+/Up7RvAW4B7gYuBpYD/dfdPp/SNgL2BlYiIhwa4uz8upa8C3OTud5nZJsCawJHufmtKfxHwGWAhd1/ZzJ4KfNTdX1zk7wzgxen6lwF/Ac50992LY7YEngRMCbTu/tGBefhluu5hwI+8UUDM7EqgWWhuAy4CPk5EQTwM+Ia731Kct3bfe3f3S9JxDwXeBazo7m80s1WB1d39Byl9eeCTwKPdfXMzeyLwdHf/anGvdVMeliC+wa3A69z94pS+DfBjd7/DzD4ErA18vMjDasB7GH3HnMfNUnqtHLReH/i8u29sZnc03mEuJ0um8w9199cVz7M48D13f07afjmwH/CIdG7z/McCBwIbA/8BzgZ2dfeb+vKftvu+0f+m81cF9gGeyHgZy+X8Encf+95mdrG7r1Ns95XRs4GFgMOJcnRrMy9m9gbgw8Bp6fmfTdSVQ/P9gGcCSwM/I8rnne6+bUp/I/AmYBl3XyU905eKd3wG9Xo2C1ie8TLym5R2EvAid/9327sc8A53JcrwHcBXgKcBe7j7ycU1ngIcCSyT3sFfgB3d/aqutgg4ken1t2TTvnR3n1LQmdkzUt4Wd/cVzWwt4M3u/rbimLWJcujAObmOpbTlgDcCsxmPEPvunvzh7n9L538GOKwr2mpXWwd8rO8ZgTMq9/92uv4rgU+n440ob+9x9+NS+mrAQcDy7v5kC+Xmi93940PS0zHPoPF+3P3I1AZU85iu0VfXLgKekcupmS1EfKf1ivt3fuOub5jbrwH9TW89Tcf09qvpmM66mNIfQ6M9B66qvMO/pXZmV+CxRDuwIXBe0Rd8i2hDd0jfcNGU/tTm9ZJwWn6D3FZcDxxHlOVrWs77FfAn4KfAWcT3ua1Ib2tvx/YNKItD2pu+9q63X+5rq1L69+mWKw4G1gEuc/d/mNl2RJ96gLvfmM7vlZ1SOX0f09vbzYrnWxpYofF8WSYYUg9q139yS/qRHc9OcUx+hprsdUpLObjU3Z+W/q99AwO2BR7n7h81sxWBR7r7BcX11iLqK8BP3f3yxv362preMjZArqq1t025qnw/73L36wbIVosAr295htyeteYBWJEeCtmpJrv11mUzOxf4kLuflrbfB2zi7pun7d5yaGan5mctrj+2r20MBLys9nwWypQr3L11YnEOyvmGhPz6BEIOnAX8o3hHXd/gtL48Av9Te4Yir53lvFZO0zHT2sqUx77n3yWd+zXg6cDxRJ9wbXlcR99/G3Clu/+59o0HjH/OcvdnNW/QuF6t3x+T91vObyvnV2T50sxOALYv+7kB55f1ZCNa+gvgBwyQb2vvKB3TpyvobavSMa39QUrr/QZm9nofH/POItqFj6Ttzv54DmXHafInsB7DyvEOHelH9t2fxs0e9JjZXsC6wOpEB/oQ4GtA1sQ+0d1vN7NtgR8SHcDFRAEE+CrwzrSvbZB/PLCumT0+HXsC8A1gi5S+N7A+aWDk7pfZ9NnrpVIe3kA0WnuZ2RXFM3wJeCgxwPwKsDVwQXF+LQ+rAc8FXgccmATvw939/6X0H6Vn+0bafnX6ezuhSHg1sBNwYRr0HAacDOzf8j4yDmQB7jDi/T09bd8EHEs0KKR7HAZ8MG3/P+Bb6VkyhwJvc/efpneycTonD6r3dPdj0/4XEALtQcAGKf1Y4EvAl2n/jrVy0Hp9d98AwN1rVly/M7OD3P2tSVg+MeUl8ylC6XFt++mhGAS2SdvbpX3Pq+T/+JS+OtH4nJC2X0QMiMrr7wV8lihnOxFy7RqEQLdUo/FbkqLxrZVRD+XdqkQZvMjMLiDK+inFNd8DPM3d/5qu+XDgXOLbA5i732lmrwcOdPdPmdmlxflvJ+ra+emev7TxWY1aPds5vYM/Eco/iHKcy9gNwDmpg/1H8WxZ+Gl9h8X9X+fuB5jZC4DlUnquS5mDgd3d/fSUp02IsKzPoLstqllz5Hr69vT3qPR3W+DOxrGfJcr3CenZLrdxa5IPE2Uwd3SHmdmxPlK8fI8YbP+kkceLiXdZvo+MA1kh8XPgEDNbkHg332wIMl1t3bdS+kaEYJC3t0n3flHafgTxLrPAuynRNufn+SCwnrv/OT3vculZsvDxZaKcHpzezxVJqP34kHQzOwpYhVCI5PfjxOAy57ENz3kc0B8s6IXy1N3/baGcyvR+Y7q/YabW39TqKVT61VpdtJiJfRVwDePv8SmMytmKwC3p/4cBvwFWJpRS6wE/c/dNUxv3keL2q7j7q8zsNen9/DMN8Mv8vZioV48G/kwoyK4l2kpSPl8NfCUN7g4Fjnb329M1H5+UBM8k6u8XzexW4IXAY4BFzexpjOrLksQ3L6mVxd72ZkB7dzj9/XJfWwVwXbrvN9P2q9K9Vkt5XwtYKw0Y35uueyQxIQF12enrKT9bEoPKHQnFDCk/HyMGrr9mJHSXckmtHtSuvxewCdHe/BDYnJgwOpKQDwBeDjySkDkBXkP0I5ku2Wtl4Gpg4dTfZJYA/lps177BF4lvuxnwUUKBdDxR/rNi6Y2M2r+vmdkh7n5gSq+1NbU+rSZX1drb/wV+n96PpffzSOAXRJ3ahLpsdRTRr7wgvYNtibqa6cpDfic12alVdjOzpxPfYTkz271IWpJQzGReDPzAzN5D1P810r5Mazm0ULg9FFg2PXfZVjy6yEfXGKiUO1px9/+Y2eVmtqIXkwIFQ8v5F4hvd2zKyw7A44v0rm/wafrb88PT+b3fqFbOqZTTnraybww0hbtvZ2GF9RpCZnJG8s0dhOL06cDp6ZRNiEmd1S0m63q/MfXxzylm9m6iHJWy69+Ka9T6/Z+Z2XrufmG508zeCrwNeFwpTxNt1TnF9r+AK83slDIPRP8wpJ4cRHt/keXfmnzb+44G6Ap626pKfwD1b/AcM3sFURYenvJwZpH/w+nujwfJtz3y50Xp/y75ObNe8f8iwHOAS4pn7Mbd9Uu/9AEMuLTYd0Xx/9VEATwWeHbad3mRfn7l+pekv+8Bdk7/X9o8v+v+aftK4FFER7FeSx6vaPxdHDh5aB4a99oU+B1hcXQm0Rie03LcOTlvxb4FiA7zd8BvCWF+mQHf4KKWd1C+4wtb0i9ry0/XvnwuYbHy2pbrXVzJY60ctF6fmKns/DXusR+hHLsQeEXt+ZrluG/fgPyfDCxRbC9BzB6MvZ/G9/4p8BKiMfxr+pt/nyesMgaV0eK4WcArUhm6lhAYX57STiVmx/OxCwE/Kb9BKq8/A57Ukt+xukYo6ct6VKtnvwIe3vMN9mr71d5hyzs6AHhZWz0tv1lzH5W2aEA97K1Dbe+wpRxdCyxSbC8KXNtXTu9jXlcH9gVuJAYlm6b9tfb2dOAhxfZDgNOL7R8Ajyq2HwV8uywjjXws0PievW3VgPRrCcXN3LybWn9wCmE5k7dfApw6B9+49xsO+Aa99XRIWaZeF38BLNyT/iVgi2J7c2D/xje6LF+j8Y3OTeU6P+cqwAWN619OCI+5rdkUOKQjL88i2rt/AEcQA7LHEoOULwHnEYPp9xODztMJBcLpxe8EUjs5B2Wtt70Z8I5r1+9sq9L/Z7Wkn5X+Xl283w8Dry/LVk85Ldvri1v2ndkoIws18zAH9aB2/SuJ9iG3z8sD32973q59dLTJhKLzulQ2nl381iYUz0O/wSWVZ7wCWKzYXow5kz1rZawml9Ta22ntBKFQbl6nT7a6tJHXhwCnzUEearJTq+yWvtdewB8Ylxl2J6wyymMfkb7FYTT6h65ySCjYrwfuSmXl+vS7HHhHcWzvGKj2Iwa5dxDy2Qn5N4fl/KKWZzh3Dr5BZ3s+8BvVynlbOR0sG87Bu1wW2I1Q2v0I+CWwM/B9wvI1H7c8oUx4nJpeBAAAIABJREFUP/Dvxje+Ln3jt7eU8a7xz/Utv+saeav1+3kS6NfpfV6Z/i5FWOB8k2i38q85/tmx4zeonlDvL+Z2jFjTFdTKaG9/MPAbvAq4mVC6btRIGzJOrsm3vfInFfm55filaLQFXT9ZTI3zb3f3pKHGpvsTOJhoJC4HzjKzlYDbbbRM7XQz+zTRSNyVT/KR+d/daWZ1R0Zay9KfxlVm9lpgVrIY2YUQfEs+SiyXO8fdLzSzxxENVuZf6e+dZvZoQklQ+vfpzUOyPNkO2J7Q+O9MdC5PJRri281sA3c/Px2/PiGAANyT9q1JzIZtQcy4fR14K3Cxmb2LFnxkPvhvi+UQ+RusQvEugX+kPOb0DQkzVorvcIGZHUw0fk5U4DOKa/wupT8X2M/Cx0C5pvv7ZvY24DuMf8esrW4tBwOu32sJkjTkmQuAPdNfb1ggXWRhyfbdRv7yO7zZwnw1zz6/hukzp335X5Ho4DL/JjqTzL/SzP4vzewdxEDqEe7+PeB7ZvZ0dz+v5Rkz/0x/W8toUX62JAbOL3L3S9Kx5xH163fA+Wb2PeKdvoT47nkWZVeio/6Ou1+d6snpRR7ONLMPENYGzyNmcb5fpOd6dnZHPfstqdy14cmktofWd1ikX2xmJ6f38n4L/1f/aVzjOjPbk9Gsz3ZEBwYdbRGx5Gg36zCr99Gy4cXMbGN3PxumTHqb7eFv035PVja7MD67fAMxU5LbpIUJQSXzAzPbwt1/WF7UBi77TcfOImaN1yA66cuB3c3szdTb20cTQmmu14szPrM4293/UGxnC47Mjy2WbJZWHuWz3Jzar9xWbU0IVEPTryJmlst907Ce5TNU6hoxq/51M/sC0S79lpihztS+ces3LKh9g1o9hXq/2lsXCeH8IYzXg5L13H3KT4u7/yhZ0ADcZGYPI9raU8zsFsIqI7MX8GNgBTP7OjGL+D+N69/t7n+18B2xgLufboWPjVSGtyTavNnEzPrXCQupHxLKqQuBT5b5TBxhZq9w9+Ppp1bWau1N7R139suJvrYKYgZ8ytLCwkJs2ZT2b+AOM3s/IZc8M72zOZGd7k5//5Dqy+8Jhd/U+YRlxZ87nq9WD2rX/6eHRck9yRriz4wsP8t38Dh3vy69g5UJy6LM4m2yl7vfaGa3ufvT6af2De5O7zV/w+UYLwPGuHXEvYzLMrW2plbGanJJrb39j8USmmxBtXWRtmQhQ02TrQrZKX/HWy2W2vyRcdmnloea7NQnu51pZoen77lE7Pa/w9gyxbwkfyGi/GxtZu5pmRsd5dDdDwAOMLOdfWT500bvGMgqSx0ZtybtolbO70x17DIz+xTRTpX5aPsGPyrS+9pzqH+jWjlvK6dlW9faVnbJXEU+81LGFxGrBVYh6ur6Hkv0Hkq0Obe7+5+KU/8MrObuL0/l/zvA5zysuvYkFNSlPN47/nH3If5ga/3+NF9o6dq3AbdZLI/7oxdL/M1saom/ux9hMQ5c0d1/0bhMWU8Wc/d/MJ3cX2wHPKulv6jJt7UxYk1XUGsn/tXXH9S+QerjdiXG108AtrdYtp2tvmr9MdTl25r8WZOfm9wJrNr3XBn5mCqwUAysSix52odoHL7R15BbLCM5pSud6Fzy+u4nEgOB89z9m6lBfpW775vSH0qY3j2faAhPAj7m7v9qv3RrfvYk1mc/B/g/omB+2d0/PDAP/49oDA/z5JOouPb7iBmRQ4lCaITg8AZiFmFLwqz1VsJk8Hh3vyudexgxU9wcdOR3lNcmPw/4EGEieDJJ0Hf3M1L62un5nkxUnOWArT2WJrRdu7xH/g4PJcygr/RYwvUo4Ck+8nVwfcf5TUGyfDcLuntWzPVev+cah/Xln3aFVpm//A5XJMyhn57OO5fwMXXjwPx/EMgdnBP+BY5x90+m9PWIDvJhhL+epYBPufvPUnr2cbVROr/p46pWRs8izOuPc/cs7OZ8bu/uR1mYwva9jF4ByUIp9HqKuubuX+47p3H+VwlLnRMZFzCzL4nlCBPipgCXy2DzHS4JfLp4hwsQyuDr3P3W1Mk8xt3L5YRLE4LgxukZzgL2dvdbOuqCE+vcLzazZ7c9l7ufma69NjEju1Q67zZiKUapFFqWmP1+brr/yURnuXc6Z0XCnPeUtP08oixsyag8L5be392MhO7SHLgli1Pv8H8JZcdpwFd93BfKL4hy29fW7ZTymt/Vs9P7OyKlf4HoD7KC+9XAr9x95+I+ryDKuRGzvt8p0h7HaKnMLcQgcDt3v6EvnagbTnT6TyUGUGUZK30Oti6fcffXp/S2uvYVd9+zfKkWvlbMY6lAub/tG+/iIz9fd9DyDX3kD6TW32zj7sc27jm2r6cs5+XdT6K/Lh5PLAU7tZGefSGcRFh8fi1ddzvgWe7+gka+nk3Uhx97sfwx1c0N07P/zN1vbpz3E+ClhEyxLCGErufuz0jp1xFl8Kvufm7j3M8TfenGhDXVioSC/Ewf9zHRp5wcUhZ725sB7V1nv5zSO9uqlL4FYenw65S+MjFZcAaxrOZo4LXETPBPUx+3iY98cvTKThYO6X9K+JA6kGhvP+LuJ6T0dYnlKVfRUtcG1IPa9b8IfIBoQ94F/J2Ywd6p+EYvTN/ourRrNuHH6qSUvh79stdv6PfNU/sG2xIDqLUJa72tCb8lx6b03QkFc27jXkq4efhcSu9ta4b0aU1KuSRt19rbAxjJPT8jlgD/jlBWdSkdS9npDcRgb02i/1ucWNZz8MA81GSnNhmvvP+TCfk7ByG6mcIPWI1aOUzHtPotTGm9YyAzO5awXH8txVJHd9+1uP5KhPXKT1K9nFX2KwPK+UrEIHkh4vstBXzR3X9VXOPlFOW48Q162/MB36hWzlf25EsobRvweHf/ZdpubSvpl2tK2etIot6c1TzGzJ5DrCJYkTAUIG3fRFgl/4Cw1lrTYhnaJ4mJjg94ciUyYPzzUMICaUV3f5M1/PymY3K//+/0G+v30zF9PpguI5bCzSba6hPSPbZI6TWfgU8n+sUun3+PpL+/6JVvB7yjqq6gUkZ7+4PaNzCznxNWcKem8rd7yv+Tiudr9sfb+LivtFb5Nn2Tqvw5QH4uFbGziH7pGHffgwpSTDWwUIyUg9VTbHwt6zQK4WxqFqC4XjkzsBXwQ3dvWj605WMWYU56e2N/pxPT1PFvmIVbCy3vIt7hQK7jvububqHF9eZApThuKaL83NrYP+0dzCkDBP0FiYbfgF+4+93Tr1K9R2ejOeDcmqPXo9x9+8Y5Y/ss/I5kHxVnlI3+3JDKzRHuvl3PMR9u298YyKzNyPnjWe7e9PvSl4dTiCVV5czstu7+vJZjx8poyv+RXjg/rtyrdcbE6oqhXT1mEctzpvZZ3Qlqq2LMR84HTybWXr+bwteDu78vPeO+7v6eyrOtyXQB8tudJ9xPpPzt4u6fTe2AzWEbsmNfeu645jKPRiiw9/fRLFGZvtSQPCcBJvtWON/d/9hIfznj9eA7zCEWs2kL9LSlY+nWoTTMZAE2HXtFEkLz38UJc+znt9xnqq6Z2Xbu/rWuvq3o0zZy93Ma15m2bwhpYLyCjytXa05Mp8piy/UGKae7ymMhQC1DWD7l9vgsYjCXlQ6dTrFT+jTH6uWgIn3ffxH91baEMPx1H/nHW9yTZUQX6btuTJTF7eIWPjul9SonG9dpLYupPnU6vq61d+mYueqXU/lcI53/c29MyNUGvHODmV1NWEJcSWHFUwwWe+uBmS3SzG/PvWYDS3qLQqZ4BxDvYJqVX4/sdREtvnnc/YPNa/TkbQ1CsWTEkt6mL6QczCIPtlrlgjbZ0+pOmRcmBtmzGa9LH+W/hJnNcvfeIDADrjE3stO5wAd93A/YJ4F39J1XtkeV67f6jfGkpE/HTBsDFWmXuvvTiv7mIemYLFf1BpUprlMt5z3PsDLwBx8pnRclxkM3pO3e9jwd0/uNzGwdxpWPlxZpvcF9BraVXdZAVVJbXSpHzyaMALJ1TP5G+xCKlW9YEQQhHdOnNBoc0KMnj3uRfDC5+2oWFpTHuvtGKf0Sd1/bzN5LWJMeaOOBGi4mfN2dUey70t2fkv4/n+jnTijSr/IOx/uNvA2Sb60ncE9K76snixFWUfdaRIpdnQgmdndKP4oolz8lZIOx/qD2DcxsSZ+uG1jVR8rRhYn6PdUfE/3+XY1zXkZRT9z9O3Mof2b52QmZ449F2s6EwvRvxGqqG71h7NKFlvI1SIWraQGVnVXXHBseR8w2lRxLRJSBEBoOsJjBPayl058W7cHMxqI90OPE1MM0cH+S4/BUCJsFsTcaGLCOxazOEnG4NSPajQkPlvy8ZuHBI/JJX2SWVqUO4WukJJsPrmhh4l82CuszEl7WNrOpGZ90j4cTHVNuVM4mtO15IDDVaNLiuC51tm+lUBwBBxeC9uH0O3rNTm1zfmYxKgOY2b5EOfp62rWrRRSJ3lDUPprhP4KwQMqRrZYmBuivSw3hcma2kHdEhGPcmeAihEPApiP1hxImw4el661M+IqqmiITy/rKmcHDzWy3vGGh9HkbxfexcEiaG/KHV/KPFTMmRBlpRoTLTkC3osUZbdoeU0wRS3Dyvl4nqF5fqvdwjwgYu6aG/EwzOzOde6+ZrWMWSuCO5zuUmLW9mnEHmt82s89593K8x6YOv6Zw6GwHUv5eAny22fk18thZDvtfzdT5bZFTPkcMpk6zjugh7v5td3cze6m7f6zjmNusOzLh1o3Df5v+PtrMHl22NR6KwFZloFWiQBHWDJ9qvJ93MTJ9bl4v3zN/o8UYLQFajRDkf9Q4rXX5jJlt1vUO031yW1MLxHAg0/u0A83ste7+c+tYdumjmcczaES3TPXgFGKp92MsrIIyS5KWhKfr3GuhxJ+mmGqrgxaTM4uX5dYritA0YNm1Lc1GTrGvY7we5oFYdqzerKdTcoGPK87b8vJoM+uLmHcRsQz2XKIve5aPW78+w0fKyY8kGWCszDbbg1QGbiN80lxGxfG1j5R8zSVGXeVstXSPnRjWZ0D0kbOJsrJm2a9bMeAlBtaPISysslJjNWISIJ+fr5+/U1nGMrcR/my+B9zs7m3HZFrrQbHvKjPri5w4pYApBtDNaGh5lnwlTxGJzaycJe+VvdL/v7KRcuUwC0VHvn7tHS1DWBV9szjnIcVgakPg6qJuL2FmGxDfopWUxx8ywPE2YbF2GyH7tinkahHteiOFDTzmejP7MSE7nNbsn2t5SLTJTtt4BHbI1rBj+EgxtJgnpVTaf0bqB3qDB1koVvvqWb7+uoTz7r5j28ZAmdpSx1pQmSHlvNlv53zlMcqxjBz2Q4yXjmXUVnW25wXTvpGPT0xfRoxBFkx5WjGdUw3uU5MNrbAGIvrqpjVQbxlL3+44RktWm/QuQ6uNfxgW0CNPZKzs7h8zsxUIf0XZav1lRNTNS9I1fp/6jkxe4r8D7Uv870kyXHnbsTLr7r9tpE8plK09suPf3X2pIfKt1QP3QIz73NNEiZkt4aOJkrOIJedLE07PLyLkhDzhfhgx/jmQWMJ3mUUkvjz+6P0GHss0p0X1Y+Ru5DwP5elUxGozu4TpfdglwB2NZ8iTMfu5+/sa72U/xp2sr89IweuMu0NZnqiHlxCWvr9jIFJMFQzo+E4G1vbRzPbewLE2MBqZ16Mt1KKSADzU3S9oVMh7iv9PtjA1/nZH53MY/dHAahHtasJDLTLL4bQrdcasohqUA4G+SFWZo4mG4RVpe9t0j+em7VqjeRDRSH4xbW+f9r0hbS/r7sdYrGHG3e8xs3vTdvZbdDuj9/pvwnQ5swXwVE+WcxYD/EsZGLUDWNOL2VKPpVtPK9JvoCcinLuP3ccikkdp6t3VcX1gYP7+Yv0+ro4kBj4HFulHMYoieGNf/hOfoz9KUqtiKDX0ryUEgjKC0ZKNPD7e3bcxs5d4rHf/BnCS9SuFyoFWzefIpYQ/rmMbz5g7wg3d/YnN6yeyJdpnWtJyJ19TONTagXMsTH2bUUFKBXFvObS6ErwtcspRhGnwaelZ8pK/8m9+R62RXwq6orl1CXQw3tb0hq2mHgVqKXefqjPp/WxBtKFDKIWbU5ku3ED4engY0UdckvL/FcKsOr/Dac+YB2JdQrTVo0TtTigK2tqsqXdId3TLI9LzvJjxJQ53EN+s5Ny+smiVCZ2uckjMttbq8isJIbFLSf5SYla4c8Z/wGC2FjFvc3f/C93UfPtAtOfrMhIctyT8Vr0ltUEbeCi0L015uMWK6IzWWGJkZjcTg4reckZ7GzWNAf16bcCbI+l+hfYoUYsQit1y+cvVwOvNbFPC/9E+RH9SfsuFGRAFyrsjJ27IMKUM1CMS98pe1H3z1N7RJYRlYBnN7A9m9mdCmXMQ4wObf6R9l9ONp2vulp637D9uJ5b8ZR7r7i/suVYtGnEtUtiQY1YnyvLbgUNT23C0J180tTz0yE77pkMuajuvoNUPmLu/tO8kq1gpF7T6jbH2SRaY3lYdksrxnkRdWZxwMJ25yyOya77ugi3XrZXzWnTz3kiyVlfA1iamy6h62b+Up2feiqgXZXt3B/DGOZAN96Y/gmitjNX6k1cSy9A+47Fk9lFE/5KpjX9qfn5hfCLjY8RStP9jFImt5oNpJ6LP/oS7X2+hvP1akV7zGVjz+dcW2bH0b1STb19DRP3OVnn7pveVJ4t6J0qgP9qwx2TOmel9bZrexZMYTYz3fgPriOqXdBSDIvUOeIbnETqIks3zPptuYLGLmT3D3fO4+EOpLXs+8b2/YGbHEC4Lfk0PUkyNU+v4upzmrU5Pg1VeIAnpxxORfHYjGon3WMzoPcTCWuelwBfc/e5csQtqTkx3J4SRe8wsLx8oG61FPa1L9Zh13dvMfko0xBDa058W+T07dVqZmvBQm71tVeq4+6Y91yypzvgQZsSlJcXHzazs2GuN5nruvlaxfZqZlcJXq2M5d98H2MfM9smVs4eHMbKcWArqM/sFC5jZ0j7yDbEM43X59+m3AHUFBUSDVfrPau24fNyEcyFGjvKayzZeR3QMn4UpH1elFc3qjfd7euP9Dsq/98yY0K0YOpeoL8syPqi+g4ga0jy/OTOYO/jagOvjFksu3sXI10M54F6GGEBuVuwrlS7nmdkT3f2a5oU9fETNAt7o05dsZqusmkVXrR3IM5LlMopS4QD1clhTft2T6uFLgAOSInFHwnHl7oQQ7cU5zTq/KTGwvoEQLnJbl5Xot7l708IonzeEWtjqF3ry25A4xMx+5rEU6gPExOLCPvKztygR2a32bTJtws1l5QFFO3e8mf2AxvIZL3zYjF243YKk5Hhi0LEg43XwdsJ30C/T9WvvcsEkGL+S0WREViRfBTx/QLtXK4u1CZ2ucpgV0311ueYUu+ZYHepyRW2y6d8W/tSy4v1MYoY9f+cu5WTJw4lJtWzptBehoH0W8a7usH7H14cAu/v4EqMve/KT1VXO5oBav14b8N7j7gf1XP/xwGY+8qN4EOEn6nnE8r3sTHjD4hwnfDJ11oO8YeFXcSNCMbUWofQ6G3gzI6XMxYzasqZSBuqWCjXZa3uiz3wH0deswGhyDurv6MdEEILs6+f5xAD3GGIgOmbh62HJueDAbz/E8fa5ZvYUd7+yI/1PPXUIoh41B1JzdIyHT8tjgGOSAuYAor5lJWQtD12y0/fTdq2tex1R5rIccBbRXgH0WfMPlR2XBa4xs6bfmCFyIu6e25Uzme68H+pBZaBezrv67cxfzOzFPvLf9hLGJ7ZrCtiaYmZXQkb9a8u5ncF9zCy/z5ps2GYNVFIrY739iYdrg28X239gfIxYG//sRT2gR+9EBlF/DgYelhQgryMmYPIKkg+UsquHtdq+xfk7E/LCXcQE948ZTdRAKHIOIJQpNxFt+dsb76HTepS6THED/YF7ahMlZjG5ty3hEgQK2djMTiXG6ecRivL13L2UMfZm+jco29mtiX7mUnffyWIl0leIyfr/IcY65UT+HUw3LGh9BjN7K1FvH2cxiZhZgogCm+kysJga+6Zy9kdi/HQPsDRwnJmd4u7vpQMppsapNQhHEZG/Sqd5R/rAaGRWj7awP/1RSSAK0yHAGmb2O8KJ6bbp+gsQg6U+/x+t0cBseES7mvBQm71tVepYx7KdjI8sSYZEqjrdzF5NCBgQlfjEIr2z0Uzca2arZK2uhVPNsoPbnRjUrGJm55AcvRbpP7Jx6538DHl5xz7ApRZOfY0QMqYqc9rfNuOSG839ie+QLT+2AT6Rzp1FrB3v8zF1ZXH9WSn/pSKvFpllE8Li4YaU/xXMbEd3Pyvd/5M+vkSjyaVmtqGPHH1vQNHg+WjZSFfEDajPmLQqhpIS5kbg6akxzzM813rhZJWOmUFPS1pLJV0bPvIZdhstipABwvwRhHLqj0TnPKZ08cqSTYsZqJ2ZPmuYv0tvVMABCgfoKYeJqhLc2iOn5Cifeen099LzN5dOt0Z+KeiKTPgwrywVLP7vE276okA5MZN0qsXSaCfamSNqSiEfLbtoE25mlce2PYOZ3UYIMn1+i4Y4Yj3TzP7p7p9qXH8bksm4hUL5aMKpZdssWGd0Sx+4bHdAWaxN6LSWQw/rrS4Fbya31a1OsYlIM5clQXOaY/VETa6oTTYdSvR7r0zb2xPKtpene/UqJxPNSbW7iaU0/0wDqs8Tzn4fYWafIDm+Lo7vWmJEynOr30KiTeizxMhK5Fq/3jrgtVCGQz2S7mOIgUB+L4sR7gTuNbO7KmWsWg8Ix+NdkROHKGWgbqlQk71uJvrufwEfSWV74SK99o7W9fFoZieb2SfdfXeL5UDXmdkuhJUUxDe4zgb6YCXkvB1a0rNV3MbA/1gEn5nW51GPRlyLFDboGAsfK68i+pcLGdW7IXmoyU7LEYrzphXxZunvLYQs00WrNX+SZYYsmd2759o5j6VvnbN93L9S27culwTvQfRVVxJK2R8yXUneWs5teHTzWiTZmgK2ppipRSD9bRoDNoP7DJINqVsD1cpYrT+p0Tv+8fCrfAkjP7+7esPPL5UInu7+mdRO307IcR/25IOpJrsmHunhG6/VP17KT58f2l7r0QEyxV3A1Rb+cp0UuKeQ3WoTJbvRH234CmLp+pOJsnarmZ3nKdhTansvpvsbtEb181BQH2HDIvV2PcM3CJcR+xD1OXNH0VdkphlYZFJfsSPRL32FCLx0dx53EKskWpHz8wIzO4AQjroaBCyc4m2cNptO8XrXr1sl2oK7n9qyv4yWNuU02bqdmJ7nPWGDrSMaGFEIu3AfmcFeQ8w+tgoPNorMshmjGcEyMkuOFvAkYlYxK3Wayzea98/v8HQ6IgXYeEjdxRgpk/L64ik/ANbvuO45hOBfRg3ZqRTMrcfRq4Upb2YRQit9sY8US1hYEayXzh9zupzKWHn+K4jO9r3FMU8iFB5GOCm9pkg7iZhRaW30LRSemXuIjq6MfFOLzHIx8FpPjhstTKe/6SPnj633t5FC7CHp3f0mba8EXOPJcaFVIm6kY3qjJNVIg4rPEEpXI2a63+Pufcu8mkq9aRT1oIwQ9B9iZuSdPgqEUHOu/itCAdp0xntjkZeDiaUV05Y8JoXBV1vOz+vH29qBT/koFPlSjDsQbVpp5Dz0lcNziPd6HLHc53dE+7V6Sq9FTjkZeIWPlk4vQTjQfGFxjz4nnqUgMPUKgKyUOKwtvfgGZxHl6yvEjM8fiAiha6X0vihQ63hYm27OyJnwye5+kg10Dp8GSO8i/NXsl+63m487qj0x3T8/6yYpHxsSZbs14pWHNWvVCb/VnZOvRAziXkWUs28RSqrf9D1jca3OMlwc01sWkwD0PmJCZ0tCCfM1d39mSq+Vw8720upOsVu/pcfy36w0fDY9coWZrU/4XSwj5n2raG8v84bj2XJf22A/Xb/0u7gnMZGWl5G+iHjn+wOHuPu21uP4Og3ELmF8idG6npYYmdm7iluXfgt7rQNze9bXr6f0aVFUiXp5HeNWlY3Lx7JhC6vDDzFq759FvPNvEoP1VifqPvKNWasHa1GPnNgZDS2lP58YiJURiafkjgGy18+A5/rIKm5xos3J0R+vr7yjk4klw0entFcRMsALCQXNCwkF5mbEOz+VGIC9te3dFTfIE02lYm4Roqxd4u5bp/SVWk4vy0itve6NEDrkmPSOLiMmNU/wxsTYgDy0yU7f9OS/zHqCoqT0Uwh/VKVfwqN9FFHuch+3Ns+TA33KrDFlifUEEbDpvnVeSvS5eQnTN2hfErxGOm5MedtGVzlnfElgyyOM5Od0na5IsnsTA/VWBewA+bYWgbQ1uA/Rxg+RDWsRRGtlrDpOrdE3/knpa9ITeMdGETzXIdyzjEXwLI5bsnGN/A16+/0kez2GKFtnETLblcV1O4OApfSV6InsOECmqC2NfRIRfX4HYgL4bcQYZnCgiXSfxYmy/25CGbdw2l8LFNEa1Y/ot7+W+uM244ZSrvpU2zMA+3lYoC/TPD9dI3/D1xBWbmMGFu5+dEr/KLFs78bmNczsCd6jXJViqqDWIKRjZhFOvcrK9puUdi5hlje2NtormksbGCEpHXtas4FuXOsjxGCk1ceUmT3ZB4ae7bh+TXhYlBBUnkkaBAIHFY3uIoSp+QsIYfA8YpnK0Ig2z+64f22WYjApj+9itNb2FGIZyDN8oKVF43orEIP+16TtlxGONXMj+DBiQP7dnjyd6e7PLrb7ymGt0e+MGmhmRpiBrkG34u4KH81iTtvXdX9ieVAnRRmqRtywMBvdzUfLyJYmBln/oF842CUdfznwPE/ms0mp8RMfKR26nPT/ZOAz/IxQzGY/W68GdvZRyN7esMu1ep6O2attv4fS4XwfX2bWPHebFiFiap/FcuOrGDlr3h5Yy91f3jinrxy2KsE9WcrVsAiJu5aPlsItDFzu7msUz98Z+WVuqQk39xd8wpo2AAAgAElEQVTWbxnYm26hBH+Du/8pbS/PyB/eWV6JUtNVziwUalsQ1gLfKpKWJJZcrd9yzqqEheG27j4r7Zur6JbpmEFlsZGXckKnWQ6XItrjbLHZp+Ada3fnhA55orj81Du4hDC//zWxFGsrom3LbcV5hNL87LS9EeE/5Olpuzbgz236IxhFVDvb3af83aTBzrc8RfRteZalCSXTVEQ2IjT0LR3HL0y03y8o9pUWqhd4sXRhSL9ucxHJKp3/KGKSyNL9f1+kdSnWjmVgPbD+yInVaGjpuM6IxANkr14FZg2LyZ69KMoI8c1vI977/d3uLQUc5Q3raoslMWVbMUjJfT/laVq0q/twjb5Jz4vdfZ2GvDTVxlgjelpzX2ortvFxa/7jvFCa9tUTq0TNM7NrGfetsyjRljwhbZ9ETBaVys/jiPbl8YTP2Gm0yIu9kbf7MLNdiYnjOwhLn7WBPdz95JTeq4BNx/R9o94+ydqVg5cBL+nLd9sA/b4wZJw6l9dvDbzTvL71T2S8mZBr/5mukRXAWQk+pN9fiOgvNiGs7xZ39+zj8EySX8a2MYKZPcLHl8Zh4WA/T6bPsUzRuJYRMlZzouSzPsDPmMUqhWcSir0bGUXoO5dwrXJ6eu484bIkEdUv18PWqH5m9mZ3P3jg++2a7Pm+u2+V6lFz0qdZjzoNLOYGLeUr8MryGut2ipcb3db16zbdsWA+L//NM9ZD1nlfauG0uctpcs3H1JdShT+cmCUYCzmc8jstqh7wudRh18IzH5GOySaPryEcmGZz6CMJ885PFulTjq+7FAKeZh69RwFlZmt4T6Qo4PPuvnHX9yjeUc5jXiKR83gN/Y5eu2YsbiJMNjN7eRF23sNB4V7EDAg2rqlegBh8P7J4zlo5rPloakYNXJAUNdDd3cy+62H91BWZ5SKLWaU8Y7Qt40uDWu/f7JibAmiJ9/uPgnC8fUtxfHa8/bmOPDdZoNFx/ZUicgkdTvq9mAGvYO5+VLH9tdQZZVqdqxfpP0/7vk/HrFghKC0Zm2MzhwekMnUy7ebw72fkCJiWfau4e+mf5CPW8G/UVw6TwuqVHtY4f2d8fXw+v6yHCxGWdH9392wS3LZ0+ojiEr2+Iqw+K9Ybntzdb0yC+aO8PQJczUK2FkyjN7JkLT0x25NSKvFnYDV3/5uZ3V1TDNHRnxBKkkHOyc1sNtG+v4ooB6WJ9txGt4SOsmiVCR2SjwUfOcdvLYf0t5ddTrH3cPdXWocFpbuvWZMnCrYm3v+2hFJgB0JYzLwFODKVZyNM5/+nuNfO5cXygL9IL9v0riWclwAfspiJ/g7R1l1UXKO2xKjJmN9CiyWvn2ZksXSgmU1ZqLr7mRXF1YvT+V2RrN4OfN3HLU1e4+55yRPE9/0LUVcfb2aP92S97t0BQX7PgHpg9ciJVd+YabDxDnc/MW2vZGbf8tHMeW0W+R9mtraPggKsA/zTeiJ0pmf/dvp7MzFz3savuto74Oc+LOJckzspHBKnb7w/4Y/rz4Ql9bVmdkTf9YnJgt4IoTXZsOgXl7SY9BpbpkVYiFef0UaRrEpFRxndqhYU5T8WUajz5M5Kjfu9h1jqNmbNX9yrN+Ibdd84N9DvW6d1STBhTXci7bLxGDay/DixZR9m9klaotm6e15a/Dp3P8DMXkD0rTsRstrJ6ZlWruXBeyIPDuiTWoP7JHlhFqHoem7XydbhnB348ZAyNgf9SvO+Zw8c//QF3ilZFrjT2yMbvht4kncoHGvv2MIS/pnp9zDCMf5Pi0Nqfhl/amZ7uvsx6XrvIuSg/FxdMsUxtX49KXSu8FCClS5gchsOdT9jixLyycU+vlplV4b5JDyMnqh+Q+QqD99QX24+AzEpA9H2ZWu1n3dcZj1G8vV/mO5P7j4hxVSBVcwD6XeKBx3r1324Y8EhQnqv02R3XyIpNlalZdCfGqZVCfPVi8zsQuDQ1FBj3VH1vkEU2Itp0aIyEkJrjq1r6YfTHrXvqyl/fYO9MlJUW8O7cX5HzffSoDWPSZGwAKG5Pqbr5EbHsgCxRKF8xgWmnTReF/M7hmhsb2DkYwYq5bCrHNn0qIEQ76YZNbAW7eythICzSzr/LJLPAxvm46pVAGWkMKv5j4IOx9vecAJq3dYmP7aY/cvCxasIfwiZrsiLzc69qWSenc4/3cz2IJZFeLp+6eesFnZ5UWIgXA5Qx5SfZrYuUVeWSNu3EULbxcBTiFmgzShmvSx8N2wBPMbGfR0tyXjH/k8z29jHrTT+yTid5dDDj8A6ZjbmMLdxzFg9tAhQsH6R/gkz+xGjcLQ7ebF0mrqviF7fPNQjjNaE/FqEp5rT61pkyVo6hAD2A8ajjZ2V3sWtVBRDdPQnSXF1uYVydEG6Z+DPJxSKxxIz+dc1DulVwKbB7nuZrjgr89NVFvP37m3PreKzr9LvZuuFplPs7N9iKyqkge6ujYHW/j6KjHidhVn8dwn/Ji/w5GsipV9ORK9cMm3XLDrGBvyJ3jbdR74pliHK0H5pgLxqyvO6RN8xm3ElbLb6aPNbWDqW/SCFg9f03X9C8s9mFcUVoWDui2T1RnefEtw9JireyKhf2o9og8esABj3WVfyUMJnx+UMqAfUIycO8Y15NnC+haL1MYQSorTkOpFRX7MIsDIRATT3m7sRUaKzJdijiGd+MeMTavk75T4rLyntjWZGd3uXFRW9Eeds3IpgAWKQWMpRHyPq2U/c/WkW0RJfw6i96rr+uwiFWV+E0F7ZkFH7dxgh6+YIwdulfbmvrEXV641kRbvvy92KYz9I+LLJE7DPSvnOnEMsLc7KyoOJVQeZvemvJzXfODXfOt8g2pJySfA3CT8yl3uPVZDFJMmQCJWbe3s026yYyudtQUR6vdwKDYV1LG0mBvZ91vR5wqjWJ72OjuA+Se6508yW8ul+/jJdztnzO2gtY2b23iGKq57nGzr+6Qy8U+RlylqdlsiGhDLzzp7ze/tkYhLxImKp5Q99+jL7ml/GTQg/sdsQFv3XUsiWdMsUu6b0axmPZGiEPIeHb6fLrVAgF/nPkxfLpHy3BkXxFDG4Zf8BDPBJ6JWoflaZNE3HtCnfbiPe+8cplF8WlpmXEkqqfI/eqHxzgxRT49TCNtec4u0KfMDCmWjXGvfSJ8qywBI+8olSLUxet+p6Q8rHYwmz8Q2JhnNqvarHLMmHiAL4eeCpqWH/AB1R9dz9+encabMRZadAxbH1gPRWhUCR3jnYc/fcgW9BrJfNDhx/SnLYaePa7i4685gapXcwLlA1KTuWewgfA+UzXmQRZSl3lDszPhv7xJb8l9fsLYeVRn9I1MBNgTeb2Y20RDtz97ssHE+eSgj5v8gdhw9zbNglgGaqETcYd7zthPJhyvG2VaxNPPy0vZzRsoVDvLBiozvy4rPT+a2du003f31zkeyMrPBqYZcXoGUw27jdocDbPEXRTG3LYYTl3MuIgVXTz9daDLOEeSsxUM3WS7cwPTJLrT28lAgK0WXdOYa7f9dCmVfuu4TxEOMltSAGNauvWpSrvekX8mtRoKpOSr1iGVhLJ+rFKwiB0Ahrz+OTMnBTi2UgnYqhWn9CCjtNt3JuR++eTYO6AvbrxMTDVhQ+VxrXaCuLO7r7FekZahM67y7+n/LZl3dYu9l9FtA2955l5n0DsYI1vbBMTgOtp7UIhssQSp3zzaxU+oxZ9uXy4CP/R7UBP1Ta9ILHE8u4ZxMWwpmvE7LRmK+tglJBN81vIXUL1V7FFfVIVguYjZTgFhMkZZSolxJK9NaBwgDFWms9oAgM05G3TdN1l6A9GtqLi/8PtvBpdjox0H+aF0sj3P0pjTyvTdG/eAQXWIOR78ufe/i+zO38W5luIVqWv1o0s1pEu6lJoSRnLd5QopZWBPcAN7r7TcW+u939r2a2gJkt4O6nW1gbvam8vk23ED4ipW/ak7eqbJhYzt3LpVKHm9lu3oiq18yDjSJZrWLTI1mVy2NvSQqLqaAoaVCc8/nj9F3zMrd3+rjVSZc1f1ak1erJmdYfNe876Zc5ozw59SE/ZCQ3vcXdL7Jh1jhDI1TOspZotkX6xRa+ulYG3m9hJV22SesV/5dLm/ME3keJfuiolIdtGZ/c6O2TkjJibPlpg38BV1oo90q5JyuOupyzZ+fpR7Sk5YkyqCtHOxk4/jmCnsA7iVpkw/cT8vn5tAcF6e2TiSiyGxGK2V3M7D/AeZ58FdMTBCzd5w9m9uOUj/8Qvo/KYDCt8q1HBEOICbXmCo81is1HEQrcCxj/xrlcvBj4nIWvrKMJK7ry+Xpx9wOTvNQMkpD9r9ai+tUmTSEcnN9LKJsh3I1A1MfD3f1FNl359WSS8osBUfnuK1JMjVMzD7wOOMPC4ew0p3hdg9WMTdcyL8S4lrlamKy+NGNXoiD9zN03TZXpI8X5axKmr1sSpqwv8jB1fjRRyLMg1BpVz8w+6u4fLrYXAI5K13VCc76DmY05trZxx9fT0otHbFUIFOlDIlIcQVSuacsJvUfbPQd5PMXCgeK3GG+U/pb+tnYsBTsTConss+JkxiMgteW/FD56yyH1Rv8CK2Z0bLqPq95oZxYm6F8iZkWMENTf7KMQvzcA51gsEWpzaNwqgBbH1SJu4O5HWiyf2Czl4eU+PsPTa21ioVz8epeShHrkxTwwGIte4wPMyFN+amGXWwezjWPuyEqpdMzZSTCEsNCbFubeRxYA13jDeiIJPlkAv4y6lUatHPZad9r40pK8ZLW2XKV8ls7IL4ma1VctylVNyK9FeKpF16lZBlYtB9NA/DhGA/gmvYqhAf3J3vQr5/5goWTvcpKfFbAfYqSA3bM4/+Hu/lUz29VHkQDPZJxriQmJVYgyfRvwUotJmE58tPShuXztnMY9riPqd2k9+SdgNeDLZnY0099PVgr1LtdMtFp3MsDaKtFr2Ud9wA/1Nn0/wpLw14RS62M+vsz/L57Cs7fhsYxlrD0khNRMzUK1priqRbI6iVBUfynd/y1EuO3MdUS/3qqYoq5Y25v2elCzPqgt6ZjCzLYn6sYOxOTCD81sp9RmTyPJbesV529DLAe6ymLi8SNm9nEfLVP7LmFFeQmjpVple1uLZtbb3lkovd9CyK4XA0uZ2f96sg7wuh/QWy18Fp1FRF37M+MK5NJC2MzsVmIyYqW+izb6+E7ZMG3fbC3LtAbkYWgkqwMJn0j07Hs0UfYXJKLVls9QW3FQqyedUfMslLnP8x5r98SiwO0+voSrao3jA61BiDHRtGi2RfrriVUI17n7nWm8MDXB4pWlzYRFaul/86CkQMmO21v7JOteSprvm5UuJzJuHZ/zMSiCqPVYLqZv9GTvCVjSR9/4p+BQwrq8axIC6tbqBxNWmq3XqPXJHu5NrgNWIIwsnkG03zn9OuC51h0E7BTCgurJ6fxDLZa6vTud3yrf2kjB/DibrmAujQsWZ7zPMEIOyPnbySJS8OaEH9kvmtkp7t4rsxT534uw+noiUUc3J/rUHCyjN6of9UlTgI183B/rlWZ2jrtvZGbbWV35BT1R+eYGKabGqZkH/ib9FmJ8Nm6KJISPLaPzURS+mpZ5SGGqLc34l7v/y8ywmHX4uZmtXqR/gbAq+ICPLxf4fRJmZidFxacYzbSV4V5XNLP3u/s+FjO5x6bn+QD3D1kh8LgOhUBtsAf1zrtV283wgUIetJVWPFPLGdMAeG9CYFqQ0WDlcSmv/2BceGlSy39vORwwENvLe3xc+ciZapcPqP2BTX0U4WIVoiPOiqmaj6tWAXQOOv68fQ3jCsPm8X3WJo8ELrRwJnooMaPhxbmXWDjk7Yq82Ixec7iZTUWvScdMm/Eg1uV3Uih1ugazJRdYWAx9E6aWC56RBoirEH6qLqR9hv5gM9sxK2UslhLtRlJMWd3PA9Tbw5rVV+mPIi9Z7XUgWmJm7yScnXf5QitnxYzkm8dGCugFgZ2SANQ2M1gT8msWsksS5uxdyzFrloFVy8EBipGaYqjWn9SUc7XlkkcxstLIg4vli/NrPlcgFDN5QP27Yn+e0dyIqGdZ0b8NhTWgTffZtw6Fzz7CMqVcIvn9JMQ+y8z+RnyzTRlf2p6pLdeEcevOnL9P+HBnuL2WfQMG/EPa9OsJX45dToj3MrOvEFaybZEFe9tDDwvV0rKvaaFaU1ztTFhV3ZWOOYmR1QjEUqk3E3XeiLpSyi13En44xvJPRJJq8525ZFIIZKG7tR74MPcLeeD2zzQwXI2wSvtR47BXABsn4f+bFr71jiAG4di4L7Vcjkvrwj3d/VgLy9kXEEqxg4A8CK9ZiPYOmKm3d0/0iOa0LfHt3kfUw0+n/NfaqpcQEwfvJNqhpRi3WuuyEO7ymwbj7S3UZavOZVp9eUh9xm1mdk+zXlv4nfkiMbhervEdlyQs9PKxrY6ni2eorTjorSfe7VdmkLW71Zdw5eP6HNj/0cyWcPc70phjbWBKgeqxXO0KIiIuhJK89L/pRHu/FVE+FqPDV2miubT53lRGs5uF1zAuG3b1SYf23GOUuW6Lp6Y1/XsYl3fzBGWn5WL6RmXU7vtCzdrnN94zCZFos1Yv29t73L3L92O1TzazXxPLlM8m3sVOZZlM6T8jFCZnMX0c8H8+mmi/1WIFxQeK81vlW6KtGqJgXrDZ71pY9k3h7ndbuKJwQpn7EsJh+hC2BtYCLk1KruUp3q+7vzPdM0f1O4x4f9mysDZpCrC4mW3go0jc6xPyIYQ8XlN+fRK4xMzOgFFUvoHP14ui8hVYrKM8hPGwzdu5+w2N45YgOtS/N/a3LaM7z9O6WTO7wN3XtxRmOAkr5/nIZP/jwLl9hclShA5LUT0stLInFff4DlFQdyMsFW4BHuLuWxTXWIiYDYbpA+5aVD0jTF2vJIT1H7n7Z6svdyBWidpnwyInHk5EGik77x195FT42W33HiLgW1iIbePu3+o55ueEcNWMzvjXlF4LCdyb/wF5bHOefoCPwqO3RdW70tNSAevwAeXuT0rpZ5UDuVQmzmwM7vrytxghgC7ASAD9OhXFYFeH33GP4wjngl8g6uEuRHjzVxfHGKE02Il4R8cQ4U1/ncph0+T/S0U5rEWv6ZrxyNY5pYBSPOKUJcYORCM/tlTRC4fqFks2u1iKhpPqdIMz07mPS9cuHS5v5SMrurboQNNCpqf9rX68Oq4xbd99Jb3jVxIKp6OJ6ER/ajmuOStWm2HPg/jesM5zmfdZwBHeMTtdSy+O+xU9ihEbDxucy9uthNPNywb0J18llBF7EAPnXYj+5C0pvTcSmIU5fbb2KdvC/VP6VkTdWoGRz5WPlIKxNSJytjzj6cDzcz+WnuFkT0t7GgOCe4h+/aM+sqS7lphFzw6HVyQsT55oZv9090WL97M4xdJ2SzOMXXkr8vhERpaDp3mP/46Wcw8h+sBWyz6bvnxmKok08K+16ek6nZNqZvY1QpnSGqmp1h4OfM5ScXWWjyuu5grrDv+9jQ+IQNRVDwirjSFOsS8mZKqliQHVRYTj4F7L4FJJkNq7fI+syD/eR0uecl3eB7jS3b9h4xHdauXo+pbdU++ghsUyxKcS1kNf8HBoPxXBbEBbtTLwh0YZWj7L3211rdxnxfKvIn2ZckB5P8hWtTyM9ZEWPpyuIGTqTYjJhi8Vp99BRMH6ZTr+Gu9xPJ3q2erEhBCEM/JriTrpxViiudSw1ZlzxisRlX0U0fky0uR6Ua7KCIND2pnclm5MKAA+Q0yUb1AcszxhoehMD4RwUHrezdz9CandOtnd10vp5dLmWcATgGPcfY+UPpuY8MkO7s8hoqDekNKrfVIfFpNY+zB9GVZuS15J9C+3m9me6X1/zEdBCy72CFTRdf39iXZ6kIuElvN7xz9m9kXCEqYz8E46ri+y4SeIiaPmNbJVWK1PXsDTErGOZ1iYULg/k/iOaxA+zl5WHNPnNmewfNs4ZsqiivGgAEsA52R5zcxeSCyN25Swsv0WUUYHLeczswvdfb3Ub2xKtBNXFWOwrqh+32NU9hcn3n2+p/u4W6H1CGXr4sR3uJ1QnF0NbOkjx/FZ+fVu4JHuvnDafxTwS0LH8BsUlW/e4HXzwCcTM8A5ZOXNwA7ufnU6pHcZHXWfKFUfVVSWZhQVc+8ksC9FYdKeGqUjCaHGgBUsLCeyVdcRtETVs3B0ljmAMNU8hzBznYoEcz+Q19C3Ru3zHp8oNmApnoVi6f/6Bjp9eMx4vp3x0NFNbvPRsrY2lvXpy7QeMST/6Rn6fEhB3Xl6zcdVqw8oGy29utrCz8Ax6fxtgKllYTbMoTEe/sPOIzqV23244/IhVK1N3N0t1tH/kXhPSwPHWSgOZxP1IJucN5dT3kB/9JrWGQ8fRdI7gh5rIq8vVcR7fGrU8HC4/GpGDpef74UFJXU/D1g9alyr1VfXIK7IW68Tz+K4jxDLVdYkLCzONLObPEXEsbD83IHpvnnyYHFD4OpCeF+CECZvTMfdSSimPljcFhsY4cl6gml4ZXa6ll5QW9q8DqF0zX5EtiTq6lssfH/VfEDVLFVqyyVr1j4/SP9O+Vxpobbk8tGEYJgHoItTONP1+vLadxEOfqeWJgNvS3JAHhCNLW0v2sIhFrwQbboxat/nhI0JS7/rabfs+ywtPlPc/VPFNXr9+lnHpBojZdpa3vBx1OAGWtpDG6A0yzvc/Xjg+LaLW8Uxd20w2OxbCo5I6bUy0lUPnpfSL6KnTQPMY9nR6wnl0KfSIB+rODVmFA3xh0x3QL8Ho2i8v0vy5XMJ5/ULM74csrccDXgHvcpLQia8gVhGfpbFBEC5BLzWVh1LTApn7k37piI1WreFMMDHLHzp3ZPy+kjCkrsc5G/ASLaCpNgpZK/n0O/ntSsPBxLy/MLWEljGR0vCDvd+S8ma4+k+i7dysDkWEIXRpF+WgcqIyqWT6pq1e20JV81/KIwmKLYkJr2/Z2Z7F89QC4SwgcfE/qUwJT+XFtu9S5uTAqrVMttGwXt+QKNPsnZfhFP4yOLoMCJYw2fT+TsxrvD+kIcf3Y2J9mN/YjlhXm5ds1zsdZHQx8Dxz5DAO7Xok69Nf0sLmqlVJQPamkenOjUWHbP4jvcSssu9/P/2zjtclqpK3+9HGMkqig4GooRBQQVRVBBQMYyioKAiIComREFREAOCWRFGESWICggYAMmDCAKC5CDhElUwjz+ZUQlKkLB+f6xdp3f3qapdfbpPuPeu93n6Oae7uqp2d1fYe+21vs+DlH8hk61QWTan2L9toGvJ7lvxydJ3W4OuYYErU//1CHxs9g/6M7VrXf3onffH4IGqnzddc82lPNZVqiiw/tL94zU5+PUd+p0Rj8TvKa+hxhlwFCJjKmNwIFO9ng1kLgE+bmbnp+ebAZ83sxek51WU81r84vmABmaU1RJlTssnOepZlsmTOpA/wl23jiKVZpjZ4R0/49W49e2t6fmauDj3Bun5xAxXts519Dr9ddhg0GGqNO3ferNujZoo6p4JcRwuhtdUY11q4z744KtWY0oexFsUv5DnN5aJGRFga+u3BD4ZL/Xs0v68ozWhIWVme6XlS1Ij8Gm9mcil8XKel8JE2cNnqyCQpKvM7Dnpd392CsZdgUfSW5o3MXt+dvpuPkwmHlndtFSYPc4DHmZWF/AYGUm7pXb9H54ie4p56u0i+CzAPwrH4Sl4h7nPvYbezXEj8+zIphmPkbOJNJDObGY3tQwEK343sPwJeAfsAeibOd0Lv+HkOg+n5YNduS7DNun1avZ0IrtFDVlf1LtSTtAyiKwlDUC2xWeols0+wyX499Onc2A9AdtrgPXNJgSTFwGusjRr1jQYBn5tZu9SfcbaxLVQXj67J3B4w/dTmp1uXZ7ecxCewl0bGJGXR73eUnavfPbrRPxaczXeuel0P0md9qUt0xtL5+Z36ekL9AmTq5yl0Ri8U3/J5Rq4TtCkAbWkt+Gl09XvsSmwX/Y751pmFXfhWSWV2Paj8AC5cNHo6lq5Dx6cfgm9QP63mFxumDNxLUzb2B0f7P4obX9rfLDaprOSf0e197XsfnC59WumTHqt6ZpuZs9Ny+fRm1R7ltKkmpm9MS0/AvjK4IA5C6asRM310LIM1YbP1ilwldp9GJMz765Oyy+iNxjckjQYNLN90/LawBUDuoGDWMcJtxQQGAwa5cfoNfg9+SvAzmZ2o1KWsqQtzex0eVZX3YRTJXh7K349uoH+61me4fkK/Lj+laQVgXXN7Oy0vPU4Su9pE9xtrQho+F4Ws16gqHStqsu+zO+5bRnChgeLXoX3h56KXzc/XH3+tu8g4/v4/XTwOPtRxzZcbi3GMk33lOye8SJ8EqFNeLoReQncrtZfanhIdhy2ZnwVti283/hk/Pz+Aklfq7qWla4z6T1n4CXZL8UHvffhWVHV73wdrnXVZ4SQLb8cD2BeaR6gWgHPRnl2to8nkgU0rT/jqtV9XdL5VjPpp4ZMowrrZRxdbWYbqL8K4edmtkn6vzazEc9SmpS1mW2/U+ZiibbxT7rHf9EKGlaqyS5STSVGy/qDFQkX0T9GOQcPAlUB1B2A7c1si7T8Xrxf91/4sfHXge2XMvuK/dtRSdeaNczsp2lMtpgNJLu0rHsMvSyo+4Hlqj5Vx/VfjH+3m+BBoz5HvfSePlOV6nXrVW3smdowGPzK97Mo/eLo95nZ2nXvHYbImOrnTGoGMhlLWwpKAZjZz9Q/Y/BHeXDrFFwg++/47APZOueQRZlzGm78fY56wLnmGQgX0tM0Ks50ZSxumd2xmf1SXvpQUVvDbmMMChQo1dA3aqJYd82OUo11iVaNKXqaDs8ZWF514Gotgbu238oaUkfTIp5uZY2rWg0oKzt4VZQEjetmj3Oh3Fbh8i5I2h9307wPzxh8Jp6ufWx6y+PxLKS+7zx1pF4NfKRwHLa61+AZOm0zHl00pEqsQy+d+YA0mPypmW2tZueZtky/CZs8O2oAACAASURBVNJvMg+/9ojJOg/V+xp1vKxD1heAJrssdUKeVv1GXIfuRNwyPt/+Etaic4Afh3nH7xF56UVFrdZDdf7VdV4HKJlp1M5OSzrGzHZMn+0rg8sHKOlYrUTPzh18lnFlM7tPnpn7aHrCsZUz0kOSnmVe6tcoaJw6JTuYWZ2IaFcdrzYn3E6af+ap+j+md93d2/pTyncGnk8vcLUZfp9fU27mcQw+QFoltXc9ub7Qd82syg77URpQLWHNNuBN7IxPVFWB/y+RStQ7fr7fpe/6idRfI0qaKVAQlqasTbkxsJMGsm3oZXleTfv1sOmzlcTDK0rC3Eua2bmSlK7p+0n6OR6sguYshqr9S+D36+vS6+sBl+OfuxhQwGfj21wLd8eD9CenoNRqpOPRkuMbnhU9KbhFT/D2f7P31vF4kmOXvBwVvK9UtbW1f6Gy4G6pIgC5Jk/fpCE9najStep/Jb3GUsmUpNfiE0dV+4sZwvLMmVPw7/DdZpZrAnb5DkrOg7VtUJZFq5pMWusFOEvOh12Ep9toM0QBWFr9Ga4vwDWaqs/RmI1vZiZpK1w7rMlwpHSdAZ+gegVwgLm+6Yr4uVNRMkL4Gn6teYK8ZGwbMvMglTOuSu7rl8hdpwcnnvM+bBv3K01wyrNO/oRPAFbUZjZayiJSQ6lf9vlWw6sBNsJ/q0vxvm1dKW4djeMf80ztxnI2dRQHT/erVzH5ellNqn2X9oqEWnfM7Pl2+LX5vcA75JOQF5rZuWl5a2Zf1/7tVJFXRL0Lz25bHR/TH0b/WL6NKhvpYKaQjWRm56ndUQ8KpiqWTCuaUDdx9CkRgal+SgOZ29OFIo/iTlwMrFxGVzc7WNlSf4gON3581nXwwnEi/enKbVwl10vIU3mvVndHutrORxVlnSpD7P9p1mJ/3pHB73QorJCGWupAWb8lMEy2BG5F9RpSuZhvq8CnyqV2dSKkn8rWXxUvbViF/ptOFdgrCRpLnhW1Pb0Sw75rUVvAoyMvM7O9JG2Nl/Jtiw8Ejk3b/2RqyCSRTjO7OQWiGlP+rTwzVGX9HCbX2Rmc8cgFkfNsomFoS2eudZ6xNCOkQhkb/iF/zGSB3pwurnGNAvVqcDiqCbw2sTLeIbu2YfkxqYNwBvUp8bfLM+eqAe978aycitbBcIfOV6uZhvXKOvs0CyXdJJ9t+z2F4EWHYPH3gMsknZqeb4kLKy+N/y6lUr9GQWPLhFhtsmtjVyOJxuBdaRA5wAP4d7sEHnBa03olRo8A/2FJf0w+m16JQl8o6WV45/FaetcZw0vYd8XdO+80z4BeStJ7zeyQtK0ugwTRf/16mP5Z8VYkvR8PqvyFfkHk6hr05tSGg9LrF9Mrpah4LT7z2iQsXZpUqy0hGvI3Ghp1dLKiPBisDVxZL4vhB/jkUGUG8Qz63W1LAYWSa+GF+GC9en47vRK9ilJwq1WAHi9bqzIulgBWxQWEn043WgV3KQQv5Y6IS9FgFNDhWvUePJhRZSb+Ea9gqLb/RFzi4Ulm9kq5btvz6XeDEp4tdS2wkXxy6b/oTsl58HH4uZhnenwaN+15F35fz/v4VQC36luVAqxdhKfr2lWNCWpLDbO37ow7lFXfWeUqWFFydL4UuNOaM2pa+45AVSJ/kly+oi+AKr8RXKkWIwQzO06eiV4FFbay/nKlj5MNklN/96f0nGtLE0ZVOWl+fZz4DVUoG8b1fZfCz+/PpPV2yrZVCszVlvrRm3j5Hj6JVI0334RPSvRlzbZQGv9cK3fUrtOw6lrKdjp+v2m6lpVMCFrdMc3sVODUNEZ+Jf6d74WXuEFZNgcz+7HcYGsx8HvNwGcYhV1xjbTL075+lcYanWgILD2d/sBSIx2DRiUzjBIlcfQpE4GpfkoDmbfjJ/VJ+AXxQtJsc+oUXW+pTKMhuv5feGfve2n9N+EBhVvxmZLGG386AZ+Oz1jnpQnL0e5IMcgu+EmzW/YZDqE/sNFIqfMxAl0HMiVNlCLmopx5muVSZM4oJdL79wBWMi/pWQOfPVqzbb2BDtIL6Fmsgx9zXSlpSJWyzo7DZ4NeTVZqly3/ZJo1fIQUYJHP8lcziafgpXanU3/T+Wzq+HyInnhkPtvROHucKAY8OlBlAf4nXqr6t7wjImlL/HzsE+mk14lvumB/A9hVDWKiecBK0pPpOTMi6UXVYNk6ZhMVuJteOvMR1p/OXMqiOJT+APc/89dUdlCCDjpeBZpcljqlg5vZ3pKemQai4KnKeefmX/jM6cfp/VZ5ZuN78NnXT6TXzwXeNcRguNT52hU301hb0p/wSYwJsWM1aBbiA+Cz8IHlVdn2qkHOatk2Gkub09/PyPXgNk7rv8fMqm1unwYA62dBsX3xDvyLSNcZeUbtVrig8YNKs5CJa1o6sV0oOeEWUVkfaRXrF8W/A1gzXRMexANz65jV6hq808yqTLJKz+Sd+D0Tug0SjgQulxuTCB+8fXuIj7g73pH/a91Ca9FMyd6Ta/VNKpUtTaqZZ23lYrIr0HPwQQUn2hGo7nXVxTsfwOXnwuBgcHOyoAblwNXalpWbmtkNkvKyslJAoeRa2EV3sTW4hfc118bvbZMc22xAAywFK97dsr1BKtfAh+QZkHeQXWsoBy9fYC5qfb2ZfUou0pzr0pSuVbfhwaRl8GzWwQzao/BzqdL8+yXejzlx4H1V5l7XbLycks7rD/A+8+vT8+2BH1rSNcT7G5NkFLLtl+4pt8gnW1uFp2s4cOD5vtn/eVbw1UCV4SobyP6smRQazMbfHHi3pN/Rf72v7tmlviOaLJC+Eh6YerqZWTrvPkvvnjXo4Akut3A3vb7VStYrTStlXDXec+STTadZu6FTU/Zl9V1Ueqv/oJeNTLb8XrLzwsz+TP89L9fgOswGNLjw3+2Y7PmxWR+oSIfxT6OGVTpe7sI1Z/vExSWtmk3IPMXaJ29LY5S30+KOKelHuNHCr/FzbEf6x6FVFv1EZh89l0ckvRsPPN6HH6uT+lYj8oCZ/asac8gz8dskNvroGFhqo0vQqKTd2YqVnQGnjpnFIz3wgcSd+ED/N+lx+xDrH4cHK5qWX17z2mXp73X4zeoxeAfvQjzV7sy0/LXph/9r+ls9voZ3CGbqO7p+4O8yeH33TO3/Hbg20Yvw7IY78JTtYbbxTjwr4Lb0fA28RLLr+j/EO5k3pOdL4gOifdse2fpfxDuwb0+Pc4AvDLH/JfGgz8n4De6DeEdvHn5BqlxaquP4kaqtaf2r898w/X9B9v8vmn73puN44L1HA4/Jni8PfGeIz/f4dC5VGUDHAssP+Rt/Ee/sXIN35FfI253Ot8fhs8PgHYxvZst3btjmiun/lese2Xu/lL7/M/FO5ul4h2ec58Jr8cDLBekY+hTwkrRsFfz68X940PEUfIBerXtt4Tf+NZ5l0rTvRYFjR2z/xV1ea1l/N1xv5dPpMQ94f7b8NtxoYKj2p3Pmdnr3gPxxe/a+61vatiieVQTewVi25j2XAJtnzzfDXVmr54d2+A5OwAfit+EB5rNxB86u3+HNwL9lzx+FuyiRzp3d8EH8mXjnbWU8AFi9/8iaxzDn+mr4bPa9aT8X5edRx23Mw69/16bna+ODxWr5IXjgf6f0OC29tjQeED+BdF7XnRP4QCD/XW/Mnjfe0wdeWz99l7vh2ivDfL7zcX2KpuWr4sHpk9JnO410rcHLJe6uedyDG07k29kYt+UGv16umi3bF7+G/TI9fxLZuYpfa1+JB3seVz2G+ZyjPPDg4snAL9LxMI/+69mGeF/lKekYPQnXAayWfx+faNsM1yg7Ap/QqJbvhwccVsTvZ8uT3ZPwe9RV+L1v0nmAn5c74+fbpnhQ/ksDn+ElqQ3bAa+rHvlxPoXvZdK9vOW9lRvXe/CB/zXAkQ3v3RTXaMmvHZdXx386Ph4F/Cpb3nqtwktVv407PYNnpOycLb8y/b0me23SfWyaj7Ora167Kvv/+PQbbp4e38Qd4arlpXvKSNfTlnbvkP7uUffI3rd89ng8PkF3a7a81O9p7Tum56W+1zfwgXjTZ3k/3q+5Eb8+T5zr+D3qO3gVxVvT48f5uUb9PWeVbPn5XY4BsvOR/nvimvj142zgvOoxxG91Bl5meBt+Pj4Kd5yrln8Rz1ZaJX3/e+HaX33XpJbtjzT+SeuU7gdfwqsWBtfrNEbpsP+98CoE0mc/iey+WjoO8etbbd9wHA9gf7ws+xY86+1k3FW76/pfwWMA5+D3nhfjWb/DtmOZdL78Dg+W5ctuwidvbx08jzpu+334WPjX+Hh2X9wpc+TvLzKm+tkDLxWrLauSl54MagBgvchwSbvoEXn9cDXDkwtvmrXMWlovdfH5ZnbpVD+gXD/nM0ye2VyudcUeVcS1z6Voqu2ZAqNqbMGIaZbA6mb2RknbpfXvkyRLpTkd+E/gWZbsUOUObdfQ72DRRpOG1LBZZ32ldupYPw4clDIrzqZG3B1Yz/pdB/8mKRemLM0eHwi8z3r6S5VjXZ5y3op5Ns2X8MHXw5L+SX9WwYNm9ldJi8itac9P76/YRtL9ZnZcasMhwKPMZ7ewcgnLVniWw1QcOTphLenMVs6iKJWxtTooWXfXuEmoe9lBiXfQrt1zI/2OQ53abx3cqRI/lvQyy8R1B7Zflbk1OUu2ahaa2S4d2jBqaXNrqZ+ZfY3edQbgd3KnpaqNXXXnmvgTPvg6H+9Y340PWocpDS/pI+2KZzi8EL/ffRf4kXnvavN0r70p3bfz69lr8O/yeHmmsOGD9rOybZ8vaW96mYlvBP67yrqz/tIA0ZudHYbbceev/x5oX5WB25jBah01nDTZxWhx+l2MtiaJyabt/o+8BLWi5EQ7EspKKtPzxwLbWSqpxCcyGsvgrJDFkF7bBc+YAe9f5JkuO6W/TRlbJdfCku5i1YbGjCj8PG10bJOUy1Asgs+Y/2/de2vWFT45dicD5efqlw6oqGbZl6FnjHNGyqjan57Lb14KWLpWHUV9RlSVXfhPeSmdpTZvhGcDVJ/hHGDbgWPkB2b28g6fv5PTKn6+vwkPQIH34f87e2triVLp3jKG62mTzleVMVq6HrRm4zf1e4boO0K571XKymrMIDUrZ1xZwX2dZo2p6hgoZV9WZb9HMLwEBZRL/d6Y/r6b3m8lvH+cX5OaaB3/SDoy2+4Elhl6UL4fXAacnL6nicxD3GSlEXV3bN7BXCcqL3c8TNJRdDsOb6OhbzgmPoL3T+fhv9OZ9F8LW7ERs5FUdtQDHzOMQpMz4MhEYKqfxoFMorXzQ7l2d3u89OUQ/OS7DNhBrtjfl4ppzUJ7v5ZUFxzrOmj/Kj4TNy91zIel1PmYbkbV2IIR0yyBf6XfrOogrQ48oILtc3ZRBZ8JqTp0jx58b4Hazk+HYElFU6ndhXSrH18XT519Mf0d6CqwVBL2LpUSrletCxPlM53d6tI+t8UFJB+W9An8mPksXvoJZZHO1wGnSXoEv4D/zTIDAJVL3W7HBxjTFphSfzrzRXjpyuVpWWvZBP1lbOAziO/KNn+VpB/S4KCU+C2e6t/oGtdAp7KDDpS0ex7G9RLOp/8zVOfhb2lpvxpKds2tpKGh85UdA6Uyt1bNwo6MVNpsDaV+knYws+0HBrs51XdUOs5KnIpnKf+CAaOQIWgtMUr3uROZXPJTsV/Ltj+Cdyx3gQkH0/x+lw8SciYGCZI+iWvcVa58R0o6wZILVAd+nx7/lh6D3J8CiKNQGmjUislmA/nzJX2ZBifaMVAqqawtg1NHi/cU2DwMz1C/teZ9pWB1a9CIsu4ilINbtQL02YB9WfqDCqfjx1yR9NueQupHpYmNisFyyr5V6Q2ED8DPk03olaDkwb3Sterx5to6H01teEhSfn3fA88GXE2uDbMC/ZO7K1j/hNjf1X3CsatG1LvTeysTlUXwgNke6X0nqb1EqSrhbnI+7BIUaEQNUhuWNGCtPHm6DpNLEa9qXcPpqj0Evb7Xz6nve5UGzH8gC0jWcCnwB2vQC1aDVpmZVQHQVo0pyhpSpbLfVqxc6vcRasTRh7jWlsY/uazIEvi9YfDe3Coujp9Hz6dlnKl6Q48uxxo0lzt2PQ4/igcgL6e+bzhl1C/rc0Tp/Q3b6BJYaqMxaCRpOXNN0KHMhgaxgjj6KERgqp/SQKYkcNkUTKqW347PSNdxUcc2noofoD9latH4P+Apk1MJSkG58zEtaHwaW+CzlR8DlpS0BX4jbnO7GWRffNb8qXLr1RfiKcNVR750cf08Pmg9H+/4vIju2VJQrs8usS1u5X0DnjGwPD47czq9+vH8prGMpGWsV8O/NbCaNWfKlIS9S7PH43Cs28fMTkgzKi/Hj9tcQLJWDFj9s8PvwAe7F1fLspvb/sCW1pxVdC9+LRnUHBn5xpfxRTxlue460OhemdpxB66H00TJQQkaXOVKWAd3pY4cSU+7BzxLLdfuOSU9mii1/0h8UFZ1VP+IB5mqjlup81Wr1SBpa3PXvZ/jA7NKs/AC6rM52vimPDNgH3zQtgyup9AZc12RQW2RqqNZ+l1bj7MOjCrAiZVNRzbCA/D/gQd2FgX+WQUQ2+7b5lmth9Jwj+sQsADPaH229aywv4gHgDoFpjoMJksZrF0oDTSaxGQHg8xNTrSjsoikCRfNdH/Kg3S1Gk/4db+IXPfmy2mbq8qzLj5dBa7kOmu70NOF/BlwuJlVwZZS0KhuMuiDA80oBbdK58mZTM7o35uOmn1p/xtaL7sMGCqD9Gh8sJNncn8Xv/9D+VrVmhGFl56cjN+X7sGv7b/Mlj+sTGtIrqPTqZ9rZtWkTKtGlBUyECXdTItpCh4o3Ixm58MuQYE2SjpfJbfipmz8yi2tFuuuPQS9vtcHqDFisPIEaymDtJRxdRQtmXml/ok1ZF+quzblqJTE0Uu0jn/MrC+YLen7+HgzpyQu/itaxplqNvS4zsx2TGODNqHvJmfDieOwZV3wUsnzmLr7ZSPmOn3XqV/3bFhGykYqBI2+hycF1E04dMm4m3Y09fjEgoeknepeN7NKxO8l+AHfJHDZ2gGWlzC9k6lnOyHpWjN7VvmdjetviEf5L6D+ol5a/3i8U1DdyLbD9YTe0LzW6Mitg7fCdQ3y4OA9eLr2JbUr1m9rEXyW/2X4SfkT4FvDBOtSB2qjtP5llpV/StoE14p5OHttfTP7Rdr3NiRBu7T+5dZvb960z9y5cC18Ft1IzoUpQt+l7deY2bObXkvR+v0YuGlUN3Z5Js37rUWML81CVcLe5+adbUmXmdlGcuHlr+EdrxPNbPW0/C14oK4vsGX9go+dPqOkL+CBg+/Vfe6a9X5D72I96aJtScxX0sVm9sKaTVTbab2WjIOawdIF+OzRg9nnvz51VBcHfmKpXFLSU/Br1Qthwl1odzP74xTasbQ1l6vVvb/N+bTztShta3162T4Xmtk1XdftsO2rzOw5A+fGdZayFdPx+8oUvBhmuzfhA5LT8E50dawBY+3AjkQa/O9mLUKwpeOswz6+CRxsUxTg1IDpSMN7rsKDsCfggZO3AE8DNjWzjTXZLVe4Q+/immxy0BdwUDmrDkk/xsvOqhKjx+D6Zq2l15K+amYfUEPWTxY0+QKewXob/dfrzkEhSR/GtUa2wGeb3w58z8wOzt6zBdk90/pt4qcVSQfg97m8pPIPZvahtPxYvAzuRvq/g66ZJlfj96ufZef69dnv/C38vltdv3cEHjazd6TlK9dttxpkS1qiCky2tOFm3B2yKbhV+gy34q5qN5ANtjoM9Kv1b8L7Fb/FB/ST9i+fFJwI2pjZKdmyiWtj22st+18fvyc9Hf8dVwC2seRmm/qed+MZ1+B9z8ea2bZp+StwTacq0Pwi3Gmxc2lzwz76+rcpiDkRoBw412uPg4wz6DkfPlPJ+dDMaies0/Xtp0NcTy83s+dJugzP+v4rHiBYIy2/1syeJXcr3goPjp6f3dNG/Q0nSoLNbE253McJg32l9Lk3TE+vaOtLNuxjEtZzuS2di1ea2YYD9/WJcZUKGVWS1sQrZyo5lIpVqR/oV/sfy4B/qn3bbP2hxj/ysvj/NrOnDbzeeD+Ql9SthmcvTRpnSvo1LsPw14Ft5n2jzej/Lif6Rum++4r0+X8lL3dc12pkFRo+0yVm9oLyO6eGpPPw47tJ1mfWkXQMXjHyczO7ZbbbkxMZU/3cYAOuFHL3roqSBsDXmdwBXiNbf9RsJyjY2Xbgc3ikfwnqywJKlGw+pwXzVM0zgI+Y2edH3NYjcl2ny/Hf79ZhglKJTel10Ban5wQDfqG/UtIbrOcG9S3c/eoRSe8zs+PpD7B1oauGVIlSRtIHaHGBwjOpbpF0JZM1War/b8JnOOtode2z8TjW1c6oVAvVzXVuEupl67WWuo0zANXCofixV5Wz7Jheewflsokj8ZmTaiZ0h/TaFtAtcCXp+fgs4zLASpKeiRsRTJQ8NjAVt6RJyCcCbrSUGSJpWUnPM7OqnLFWTw8Xky0O+Gko2c3e+md85rap81X7HdJz3VuNgutey2cfW3CvZRsPp0FYm0PRlEoJs4DPYsDbJN3OFAbj1nF20sx+LWlR88mCI/OOqdVkQUiqXGpfTX1pT0VjVp16Jd0P4NqT56TnW9AtQ7oKxF+Ai9Xm5NepUgZrETM7IA00JlyMBgNP6XltMErS54H9rV/f50Nm9om690+BvWgvqWwtg1PZ4v0hM7tL/RbyORsO9HvOU792UCn4c4Okv+D9vwtxoeDBcqSRMgfxjP5hMr8HeSVuLLNJen4hXmYLgFxn8Wn0LNzfI2kLM6ucWFszuUsDfsoZUSX9prNScKuaMPygNejFttC6D3m244b0Ale7S9rYzPZObWg9DiSVnA8HWQPPuupKJbXxZTwr0+g/T1rdihk9G79UEoxcZ/fLeNahgIMl7WlmTaXWfVghg7TDuVjKzDuKdq2zWg2pauyYPt+kUrviB+tOa9+2RGn8o8kTNf+PzFUx207j/YCesH9T+XlTOWbeN7qayUG+1dK+S+WOJc6X9C4mu1+Oa1JwGfrHa8LHG3OJI/Ex7MFyZ/Rr8CBVW6bazGDTpEo/Pz7wi+m62fPt6HfyanVFIblz0K/+n7ssjewggt+wH8FTcWvddbq0cYT9H0W/m83zgENm8Dc6fwzbeBV+YfwZ3un/PZ750HX9Q/CO8dvS4yzgG9nya/CL0s0kx0T6nWT2wWc2n0qNw88MfIdvSW37DJ5CfQuwY/4d0+4CtWndY4j9H80Irn0d97EUPmO4Rnq+IplLCGXXuV0H2vhYPOX5yPT4Di3uOXgw4hy8U1M5vHV2+Oz4Ga9reo1698r3ZO+rc+W7Nvv/nHRsL5YebwXOGXj/5ekYzo/tzs4qY/j810CfY9oiZG4s6TdeL39Pen2DLscxHkC4ANc/Ow7PJNgsW75v3aPrd0gH172Wz16778E2jOE7/hw+4bIJ3sFeHw+wV8un5JJKg7sTAy5PHdt4Hn4fPJcBV7q0/EK8c/xdvAT3g3XnzsA2L0p/61zt7sLP5/fSu+fn50B1Du7U9hji85X6JT8EnjBN51gnV7/88+ftHmM7Xo2XajQtPwJYp+33xF3vrk/H2H7Ap7Ll3wbenJavgQeUDxv4DVbPnq827OfDAwzb4/2H3zJmRzkKrn4d1t8dL235FN4vuJ5+l9MbmXy9zR0qc6et36b/b6TnxPVjPPu5Oj8Wo9/ZrM7R7oRs+VHU9D2BtdPz9eseQ36HtfvInl+fH4d4VcQwTlatzofZ+Vb9/SXw+iG2/6j8f7xMLn+t5Fbc+ht22P8V1fmS/i49uB7uyveE7PkKFK7HA+uvgAe2zmRqrnfr48G2u9LfX+K6ptXyVvdHapwZB7ZfOQRujN97XkvByXrIY7S1b9th/ZHGP2kbr0vH711MbRz6bfya/FHq3SGn3DfquP/f1DzG1j+ngzvlXHik69dG6Xf4HXDLbLfJLFz5BtkGOFHS9vhF5S30a6yUNADulfRvuLbM/ngEN9dqGDXbCTNbNmW4rMHw2koAP1WDk1Qb6i8jq2rojVRGNoV2TJWSY0YXDsRt2n8NE5kQ/413nLqwKfAMS2d2mn3IS1HMzM6Qp9b/UNJ36J+BqIRxBzNLZqS218oZSa01/FbQUutAq2vfOLA0oyLpCZKqGcc8XbXVdY4GsV3rpX4fjWcQ5RkCud7Kt/EB8NVMPTuyxMOSVjez21IbVqv2ZWbVLOmEe+UA/ydpB3qz39vhaf8VK5jZkdnzoyR9gAHM7A8DM66dP2tKiT8UeKKZPUPSesBrrLso9ITmTGrLI3Ihz4paPT1LM5ul49jMzpH0C3oz8LtbNgNvZe2f1u/QurnuNbWttO9xUWUCVfsbFAM+Bne8W4VemdMTSxu17kYNXSh9FzviHbD34efkU/E2N2JmG6e/tdl9acb9EuCvTVl1Nr6syVK/pJjB2kTN7PjEIt9EN1c/YFG5I+IDabtL0tFBqCNvwrW0foQP5Aev3SWNpyXN7FxJSsfefpJ+Ts944f14hsQDeCbpT+jPctgTn2W/PW17ZYbQg0vZky/EA7zPxAf7XXVFu1LK6C+xMx6UaXI5vRUPrlXn7lPxQE1FKePrRGsXNy9l4z+PGv0m4E2S/ojfv/JjefBa1YXafai/pHfKxjXWyybucz7Mlo+aTXwpyRwonYsPpHtY9dqgW/G99Lv3TjlrT94ROEPt2kPggb28dO+vDJHxQ9k8p8TqeHZgdR94Hv0VA7UZVequIdUkzD0WbPRsodbxj6Rzzewl+Qo1r7VqrMq1HifdV6xXktpq6GFmu6hGHN2mrtk0uP2uunlDoeHcKWcVuf7t0vS0oje0IUpqp5MITGWY2e1yK9hT8EHNy8zsvuwtpc5PqQO8O/AxSQ9Q7+JURNI70naeAlyLD5ouwWfLurArsJekfwH/GqIN4yojG5WSY0YX7qguyolqqqdl3gAAIABJREFUpr8rpQ6aAMxrnzfBs2ny0pQ655PDhtj/yFh7qV3rTUMFLbUOjEPcvBV5CdKBwJPw33YlfPC2T3pLyXWuJLY7GFwbdA6cVvv0RONgSdLu+HF3D94xXB/YOwtIvx3PhPkKfgxeQv9AqxS4AviDpBcAlgLyuzGc8PUR6TMcDmBuTf49OopC4652u9ETp30vfi5X7AWcKRfWryu1qy3vod/pCXqdvpXkJWNV6eAKaR+DjnTVtajLdzgSGt0Vr8QZ9OtmGHC3pGeZ2bV4efpdeAB22hwo2zCzC+S6ImuY2U/l+hOLZsur6/R9lINYXff5V0mbAc+g3ghjgqbjzDpqjnTol+xbv2anbY+lrBbXnDxXPVext9MLVI6Mme0gL33aDi/FNPz69n1zu/fSgLpk8b5OelTZja/F9SzXS/s/N/2Oa+Hnwi1VEK4jv8fLMT9vZu8ZYr1hKLn6lRA1LqfqlTw/Gg/SXJGWPxe/bwCdythKJVSlMrLSb3wHLcLlHSnt4wVMwbhGPffKoZZVlCZe5aXHT8YFrZ9N73q9HJ5hU71vKXwMsBLuQvgk/Jg+I+1nyhMGZmaStsLLvmpLglPw6kq5PmN1X3wjnv3UlZJ5TonKGOexeDncoHh45f64uvrdHwfFovekP/hSXc9HKrWbAWrHP6kvsRTw+PTd5MfQkwa2UZrY/XD2/xL4OHhCxLs0saYGnVu6Gzm0orKZxVQZxp1ytrked/17Bn4dvlPSpQN9i1khxM/pywaqeAL+Q1Uzn5UA5sp16w9zMVdNttMwGSiprRvigtvPkrvVfcrM3lhYdaFHPX2gLfBB/PH4774tXmf9ocL6eQetErYz/IZ2iZm9tGXd3C2mKLA5l1G9mPAaZvaxjuuPLG7eYR/X4cHKn5oLRW6Of8+VxkLewaiwakAvtz5fhWax3evwsq48uHZBNTCQa1EsyvTZp1ef81HUDJaUBEslvRzviO6DZxqsn5Yfjbvx5O0/IPv8K+GBq+fTC1ztls9YSXo8cBDeAat0X3a3Zm2ywba3ipB2WP8JuHj+i1Mbz02f6Y60/GxcT6/PecV6IqkX4YP6r+BuqW+jN9howqwnIH82PnP7YbKZWzP7SFpe9x3uPkrnfxBJJ+CZgG8mc8Uzs93HtP3v4ef4afh38yp8gL02fv6/xTqaLkwXaWb+XXg59OopgHBYNcOrnqFBH10DQx3232iEkZbXHmdm1hpQ6tovmSvIxaere+A5NoTo9BD7eDyuh/cBPAj+NOBrlom0N6y3YXr/Y/BMqOVwTaxKj64oHJ6C8KvQP4NfuamV2v1MPGDyIjwo8Cv8fvHt1hWHQNIRwFdseD3Gav098GtY7nJ6FF721UjX/qvK4uY30zN1gV5G1CP0TwA3bX9G+lVyoeVhjWvOz57WZXXVCmZXy60gfi43W3krfq2+Mtve3cDR1jNo+iEeYHmLeZbyksClXe+5JSR9AzjKBpwdB95TOZLmpiUnN72/Zv1W85wO67eKh0vaFs+YzDOq9skmpGo1pLLlIwlzTxel8Q9+3n0AD0L9id6xeQ/wTcsqCCQdBPw7zRO7dfu/wMw2Tf+3ZlSpQRx9XKhgZrEwIWkZvE/yYeDfzWycmc5TIgJTNAecMu5pW2g9p4BasV3rufLVZjvZQNpkoa3VYO5a/MR9YMjBnPDBy6pm9hlJTwVWNLMrCqvOCVQW0Gxb98iWxRNBiZb1N21bXnXQVMhi0IjOJ9ONCpkg6rmV5a5FQ7lcqMW1b0yfoWrjdbhV+yOSrjCz56bltaV42W+0CC62+xJ6QZdvWXJaLAXXBjqiFcUOZsfP9rq25WZ2knouaQfhzkEnD3S+Ss6MjYErSV8ys49I2tbMThjhc/wYzy49wczWl7QNsLOZvXKq2xzY/lVm9pyW5Veb2QaS5mUBxZ+b2SZN6zSsn58HE52vmUAjuuJ12P5PcI2Tf6Tny+DH/Nb4AOciRnDVG1Mbr8WzNy7Pjt/8N31c9vYl8I748mb2yUkbG37fL8T1R/4pz45bHzhoIKAxpeOs1C+xnstUXo73b3iHe5gM1rGQ7s3PTW0Zymmrw7a3xLOwVsfLR482szvSIPBmM2v9riQ9By/VW5lsciI7by+yVL7ZsP4xad/X0ssqMjPbbYjPsAw+GN8ED66Zma3Sdf0O2x/J1S9to9XlVKO5qS2BX+9fjvepL8WvHfen5Z2O95btT1u/StLaZnaLGrKbrOOEUwoETcrqyr6D1uWFbS+Cu38e1/KeVqfZUZG7qq2JVxPkUhu5s2MxeFXYx6vx7+Wp9MxzPmVmncyE5CZKf8KD6BvgmbRXWM+ZsLqXboyPNQ4EPmZmz+uyfK7Sdfwj6ZPAV5sCby3byrexfPb6InjA9CAzWyst3yBbPpFRZWZ7peXnA1uY2UNMA3N9DDYTyLPSNsHPgd/Rc+g7b1YbRpTyVbQGnpicwll1AgddlL6Ki8LNs/qI3+70sp02V8p2GrKtf5S7bpwCnCPp7/iMQVcOwWegXowH0f4BfINeZ2OucxTtjhmNmFlV5rS8DaRVSirWHFv3zLZj8CyGl5NlMWTLR3U+mW5KNfwlLbUi1l5KOA7uTAOBC4HjJN1BlkpMoRTPzB7B07trSwGsoNNlZpuP9dP0U2stXe0az9K6Wp7RsyrwUbkzziPZ+0rllOtVy4BBHbD/lPQJPDA35cAUnsn1TWBtSX/CB1Tbd105HXufxTuWZ+HaLR8ws2PTW0p6erXlPV0Cf+nfKu37z5JehV+HnyLpa4X1Ow9mOzAlV7whWAkv+c73tzKeLVpdM9+mKbrqjYkHzOxfSlpncp2xXHtscNb1q/IsppEDU/j14ZnyjJg9cVOE7+I6hBWlMrJaSgPx7H2Drldb4QGiGUMjOm11YFs8G+jC/EUzu1dSl7LV4/Dfpy97MmNf+Sz6udRnADwHF1ef0kxuulc8Cs+avAh4UdffdwhGdfWrAiy1QZYx/MbfxTN4Klfl7fC+0rZp36N+H9PZr9oDz8o8kPqMp64TAUfj30F1j9gO/17e0HF5I2ny7d30MsbqKDnNjkqXSaXNgXdLagxetWFmZ6R/70rbGpY34OfKAWZ2pzyjac9seUkjalo1pKaLbPyzRCHQuY2ZfToF3rZgcqnjxLZayMfMD+JC+jtn61898P6L1V+O2apzOwYa9VkXIpYE/gsX85+WAOBUiYwpyFP9awNPlqX8q6UUL0V5X5IGtXX7GSnbqWZ7m+JlZWdZR6toSb8wz06YlhmT6UYjlv+k91+Mu1DcnZ7/B5610akkJQ1cv4QPLsTkzLjaLAY8db0SkK9S1icE5Lvuf7pRIRMkzWz+BZ+d/yB+DB5i/XXrs4qkpYH78d9me7yNx1WDVDWU4uGz72/Q5DIaoNx5krSDmR0rL4uYxBhvrK2kgfAn8DKXO+VZI0+2XtlEKeOrsVRRXub4LjwYeS/0lSNMnActbRv8bpbEZ9X+Cd2/o+q8l7Q1XnbyQdy1s5r5vAfXTPgXmaYfcKqZ7ShpL3ouSZ/Bj5H98Uw58PP7BbjrD3gn+Gdm9rq0/dqZ27TNj+NudRPBvQobnyh2lYX7I2BdPGi/DF52cPiYtr8Pnh11anppS7ys73jc4am2ZHAaBt2NpADlnXhJ8fvxjIObzOzjaXme5VDN3u4yjntedj/9JPAnc+2TX1gqmU3vGSwjezTu+DROC/HBdl1mZhtN1/Zr9ncdPsNdldGugJdRz4l+hcoZUcfi5ak3kmmaZBkAJ+ClzMOIDOfbX8HMhhFonnOM+htPd5aCRiwF7LiPKWc0pfVbv4NRv6N0vb6PyeZAVVXHFni/YB08C/yFwFvN7Gddtj8ONKIkSppEfj+Ty2qLZg8dt1/KqGpdPteRl8n9BT92LwQuNrO7suWNpY6S9jKz/SUdTH3/eLe0jVK5YymjqrbM3cZk+iLpJXiCQ58+q5nVVToEM0xkTEGfQn9d4ClbVhIebxXbZfRsp8F2DyP4V/GgXMi5mjFZgfoZxLlKSUCzC5/HnTVehXdkvssQmRoUHClozmKYziyacVKbCQKQjp3PmdkOeOBnLDeKcWPJWShRFwg4EHd47AvMAD9Ny6cq9l9ljtWJCs/YLECaPX0TntWWX+evT8tLzoxN3w9mtiewp6RTzSx39OlK9d2shWdqnprasCPeUepKVZLzn7gI8t/U7xD4aHply5+Waz6tiIsnr5yWHYEH1yb05bKZxTPwLIk/p+cr4tml1ftqZ27l+mI/wwM4033OP5qeaH3VtofUEycfCfNy7zPplfe8x8yuSou3GnX7Y2JvfDZ2Hh5UPBO3na/Isxwewmdvtx3Tvu+Ru4ztCGySro+LD7zncGAn83LHt0naDtfyGEtgSv0ZflUnf6bv6aM6bdWismtg13LFUkZUSTj88cBNcuHvoZwPE4tI+jZTkCCYQ4z6G093pvjIGWMdmHJGU6L0HYz6HVXZg7tmrxnuErYIPlnyOhqcZmeCMUxanIJXSJzO9FznShlVpeVzGjN7WuoLbYL3cw+RdGc2ud8m3l6Nea6inU+YO3A2ZV2VMqqmdVxho5tZBNNIZExlNAWerCei2io8roLY7sC+hs52Ggdyy+k34hHso3G3iX3M7PiZasMoqCCgOcR2tsIDicvig/JfDbHuxWb2wpbl05rFMN00ZILsZ2anp+U/wQNzM3bcDosKWW3pPdOmc6WChtV0I+k79ATqJ2UAdNzGdOuAnY3rF92Tni+LZy52GmCkANBW+Izlc/GMlDOspwVxKKls2cz+I/0GZ+PlI7vgJdi5yGdfhqykGyzLYkwd++vpZVA18euB7U9sIt/+OFBPnPz09FKfOLmZ7T+ufc0PpImlp+T3A7m2zevpn2E3M/v05C0Mvb9/x4XnrzSzn6cO/2aWiWLLywROxAOhG+NBrC3zWeoR23AGvVLrKvD2exujmUSHNnwZd0zKnbaut2QEMNt0yIhqFQ5Xg75k18lBuZ7ekcDHzU0pFsOz5kZx0ZtRRv2NZyKjaboZQ0ZT63dAfzb9pOWjfkeSLjSzNnOPOY+ky22O6znNZSQ9BQ9KbYrLH/wNuMjMvpCWjyze3pZ1lZaXMqpaxdHHgUYwswimlwhMZXQIPLWW4qkgtjtXSJ+rEnU+tyXzZ86hgoBmYd3B9NMX46mcv4Xu2i9qcaRIg9dt5pdAXx01QZVBx7bD8RvJafSni89ImVoX5OnKbVltpfWLga3C+q3i4tONXIT0fstKiqZhH6N+R7fgmQqVk+CjgOvMbO0h2vBY4G4zezh1qJaz5JKkQtmypEPNbJeWbX8dz579Pn7deBMedNqaDqV6pe2PAxXEyc1snenc/1xA0s+A1+AdzGvxIM0FZrZHWn4WXur3CzIdCTM7cEz7LwpCS1oTv1/8AdjKxmjJLHe5eqv1ynS3w7XWZnTwJun1eGnQ0E5b040y4fmG5SMLhxf2P7IEwWwiSfiE7YZM3U1tJHHzuYCko3BdoTyjaScze2/H9UtGS62UviO5bMQu9JxlfwYcbmYPpuWtpX7zA5LejN+Xz2YaHY8XVCQ9gk9efd7MTi29v2Eba+IubqvQH9ipDJJGFZhvFUcfFY3BzCKYPqKUr5/7zex+SUh6lLkLx1rZ8lIpXklsd9aRdIyZ7YiLcw++Nj/QKqBZYDD9dFCAryvL4eU/L8teM+Ak8xKq9+EaLPMrg8LgufA1+DH/P3h6b13J2lzgLyMGXEvlmiVK4uLTzaW4PtJ0Mup3dAxwhaST8fNna+rLLvuQ9GIzO09ZCZP6S/gmxMnVUrZcChqZ2fvSPir3tG+auxu+hA6letMdlErUipOb2X2SFpbU9Eenmdd3AEea2b6S8gzap1jHLLxhUYsgtCbr1C0PLApcLqmz2G8HtgFOkGdDb4Jrbb2sfZXxY2Y/wjOF5yKXSVqnKSOKQhmY6ksK78L7FB8ys9sL+x+HBMGsYWYm6RQz24De9XXYbcz5wFMHnge8RVJfRlN1rpfO6Rn4Dg7Fs64OSc93TK+9Iz1/O34MDgbSxpbFOwOsi3+uF5NlP9JdgH5h59l4cPnNkvYGfoVP5AxTVnwCcBheMl8nGj6SwLyVxdFHZSQzi2B6icBUP62BJzPbOv27X0o1fDTuBlWxK7BXGhBMiO12zSCYIZ6eP0kp5Rs0vHcustZA2vT5clHOIlkmw9J4EPLh9HxR3DGnE1Z2pDhH0oeZf2elWoMqNs3136OQBSuukvRDarLaOm5q1MBWo0bTDHE0sIOkW5k+t7SRviMz+5y8xKUK/LzNBuzJG3gRXk63JVkJXva3+o2/BpyMO+19Dh/Af2LINp7E5IHYYfh1fzX6g92DLq0zwffwQXcuTv79dI2bTtfLucRiqeP7BnpurTmXSFrXXONp3Hwc2NAGBKHxrLWp6tQNhZndnrKkqoysl40zI6uNhoANzL2+z8bATnKjm0nXww4Bg//C+4LfS+u+Cc+avhV3YtyssP4eeCB7dbn5ygr49Wh+4jJJG5rZlbPdkFlkJnSsRmHDgf7xeQP943WYLN5+2Ay2bxxsDaxmc1hKYi5jZtdJug24De977YD3qYYJTD1kZrWO1Wkf95L1m8x1OnPjiDYdq2rMUVHpJv77EO0rcUPa3pTMLILpJUr5GtAUNaDU4to3m8gFWj+GO2Ddmy16EM8E+OisNGxIRk2lTutcBrx0oPzlbDPrlGGS0lgPBZ5oZs+QtB7wGjP7bFpeuTz2YWPUlplOVHZsWwHX53o6/cf5rM9YSToy/Zu7bFaYFTSWssDWpjSUaw7RlunWaNod1y25B5+5ejawt5mdLS9l3IPJendjm7FVS0nruPbRsN8PMTkgRfq/r6RUUyhbbhlsk7ZfuW9Oe6leF1Lae1Vec5H1xMkXCiRtA3wS/+zvlWs6fRlYE/8dF8Pvybcz5iDtYImYvJT7uraysXFRk5H1BDwL5wFgnBlZ8z1NJVRdr4eq0bVRcj5UR42hNAlYie3eWpVXzS/Iy8PXwqUP/sn0THYEIyAv693WzG5Lz1cDTrRU0i/peLzi4Li0ynbAY8ysq3j7rJMmHN9vNSXTQRm56c2jcOOui/CS3KH6hSm76Q584i/v+3WafFdBxyobQ+Xi6J82s4uGaWfNfk9P210WeBYwVTOLYBqJjKkGphJMUtm1b9YwF7b7glyMbn+8014FFeZ8dDLrhC9OL5XacJvPYQf8S1RBKQAz+0e6UHblCDwt9fC0/vVyEeLPpuXz9ayUlR3bjsOzwV4NvAfYiZ747qxiPUe1WvHxDpvYstoUDeWaQ7TlJqY3a+XtZnaQpJfjM/BvwwNVZ+Pix6dN476hpaR1mve7TPo76Oq3JQOufmZ2C1nZchfMbFkASZ/GHTWPSdvfnqx0dS4EpWAi7X2qZcnzNSnb9an54DiVVb2+KRgxZs6S63xVgtBvAn48A/uFGcrIWhAYQ0D+kVS2eWJ6nmc7de0/PZeeJsv6qZxzfhLbfSWuq1dluF6Ia7cFc4c98SqCqrR0FXqurTBCxcEc4onALZKuJIIKU+GVZjZqf32n9Dcvz+ucLd4ho+ojTBZHv5fROQDvy32Jflfh6rVgDhCBqfGyOz3x9M3TbP1cK3u6He9Q5MGzS5n79dnj7IT/U9L61nOAqMT5urKUmV0xoGvzUPZ/naXw0XS3FJ51CkGVx5nZtyXtngK4F4y5/nscDOpk/V39Olm1jCGwNZNUB+B/4to616l3UN6SgqWnM03ZTB1KWqeFqpRU7uq3vvVc/fbDtQ/GxcsHsiQOlXQ5HtgP5gDmovevAb5Ss2zaNW3MbM+UZVmJfh9mZqdM937TvhcEzZ75he2Bg3DtHgMuw0ull8TNWFpRg9gurpk5v7AVrlV0En6sH4NP0h08m40K+rgYnzCtJsMPx/v3FddI2mig4uDimW3iyOw72w2YnzGz/5X0KiZXPHR2qTWzVaejbRmfMLPj5eLoW+B970NxjbcpUyWcSFp8MPkkXcuDOUAEpsZLSTx9LrAbcz94Nokxd8I/gIvFVvphK+LWx135P0mr0xMy3Yb+aP+CMCvVRlWC8Od0g/sfPNA5lxhVfHxKga0Z5uoUnFkV+KikZemV7S2JB6SmLZtJbjt8MD4oNzwtfHcz++O49lFgUPj7X/gM8bh4WC4o/QP8821HvdBnMLtcIndQHNT0mzaXJkkXmdnGWdlnFRB+p9z16G/Al83skMaNBPMNKQtvy4bFXcpLFgSx3Z2BjczsnwCSvkRyRZ7VVgU5lTnQZ9LzQXOgkcTb5wJmdoE6OKEG9Ug6DFgKN275Fp79ecUUtvMMvDokD26NK9DeKo4+VSTtglezrKZ+g5Rlmf8CtAssEZgaLyXXvrnA/BA8m1bM7MoUkKv0Hm4ZUu9hV+CbwNqS/oRbTO+QLV8QZqXa+KykRwMfwjuly+HBvrnEqOLjs+2q14Wd8Tr5283sXrnrU5XFtAjTn/F1JC4GXHV6d0ivbTHm/TQxJVe/IXgzniVxUNr+xem1YG5RaQPmM77T6tJkZhunv7WupOlcvISeO1YwHyJpLzPbX9LB1OtGdrUXXxDEdkV/YP5hJus4BrNLaVJ0rou3F1GLE+qsNmz+4QVmtp6k683sU5IOZMgJS0n74oYP6wBn4mW+FzG+DNBWcfQR+B5eav8FYO/s9Xu66mMF089cG2jN11jZtW8uMD8Ez2aCtehF+589jN5Dmj19qdz5apGslGicOlhzmW1xoeEbgM1T0OYAvGxsTtBBJ6vEbLvqFTGzRyQ9BLxILqxbcT0zk/G1gpkdmT0/StKMBSht6q5+Xbf/W+C149peMD2Y2eaz3YZBzOyvkjab7XYEI1OZJVzFaFqcjwdukjQ/i+0eCVyeJgLAS/uGcfIKpp/WSdEFpPy3zQk1KHN/+nuvpCcBf8Wz7odhG+CZwDVm9raUwfatMbbxDXgQ9QAzu1Mujr5nYZ0iZnYXbhCy3ajbCqaPcOVbiNEUnQfnd5qi/WbWyb5Z/W5oR+DCfHvj1tGNLCCdAiRdY2bPLr02v6NpdtUbFUnfAdYDbqRXwmdm9vY0S7rZQMbXBTZGtzBJPwWOoif8vB0eHJp1s4dRGGOWRDADpOzNfXHLa4ALcAefu2avVcGChKQNcVfjVehN6HYufUp9rUkM6pzMdSStT88B9MJxTgQEoyPpZnzSta9UD+8fzBeleiU0i06oCwJyMfGDcR2yb+B9nCPM7JNDbOMKM3uupKvxksB7gBvM7OnT0eZg4SIyphZi5rdO0RgZNdqfu6E9geSGZsmSdyFgfihzG5mCAPxcYCMzW6dh2UxkfL0d+DouPG146dKsCKKPmY/gAue3AX+f5bYEZb6Dl0pV5hI74hMHr5u1FgULGsfiM/bz6E0CdGZB6Wsl3bZp024LRma+L9VrQ5KAK9XvhPpGfII5KJCCeOembPofSToDdykfdhLnqlR5cwTuCPwPpqBTFQR1LHCDySDowH1VGZSk5YA76GhzmmhzQ1sYmPNlbgsJl0papy6TawyljF34DLDTQIDyADxgNT/zF0kr40G2OVcmFkxidTN7ffb8U5KunbXWBAsi/2tmp011Zblz45fwiSylh5nZcmNqXxAsMFn5TZiZSXoW8Fl6mXvfNLOT29cMYEL+4UDg+en5A2SlxV1IY50vpODWYZLOApYzs+sLqwZBJyIwFSyMjBrtb3NDW+CZoaBHUOZoPDj1//DORTXYWQ9mJONrvSoolfb3t2nQsZoNDsW1AVfDtWUqhAdihwliB9PPfZI2NrOLACS9ELhvltsULFjsK+lbwLn0a0R1FQ3eH9jSzG4uvjMIgjYuBf5gZnvMdkPmU86W9HrgpKm4hKbg4CnABun5b8fcvmAhJzSmgoUaSaswZLQ/pcNWbmh3JgemJ8eMQTCTSPo1sAcD5SUzNWs6EzpWs4mkQ81sl9luR9BOmkE/GtdLBC+/3Cmux8G4kHQssDY1en4d17/YzF44Xe0LgoUFSTcBawK/A/5Zvb4g6GfNBJLuAZYGHsKF0IfO3pT0DeAoM7tyeloZLMxEYCpYaEjCnY0k/YQu2zkR1zD5sZktNJlSwdxC0nlm9uJZ3P9bgI/ibjgTJZ1mdsxstSlY+EhW0tsAqwOPwV13zMw+PasNCxYYBgWXp7D+QcC/427IU8m4CoIASGX2k1jQyxjnEjXBwb5s/SAYhQhMBQsNks7PnuYHfnVR7TTIl/RSXH9mI+AEfObglrE1NAg6IOkQfCB+OrM02JnrzoXBgk/SuLgTF2V+uHrdzA6ctUYFCxSSjgC+MtXrm6Qja17unHEVBEEwDiSdO+icXPdaYRsRHAymjQhMBQsdkpYE3ouLJxrwc+BQM7t/yO08GtgO+DjwB1yz6lgze3C8LQ6CycRgJwhA0g1m9ozZbkew4CLpZjwj7zfU6PkFQRDMZSQtASwFnA9sRs/EaTm8+uM/htjW8jUv3xNjn2AchPh5sDByNHA38LX0fDvgu/TsxoskXakdcGvya4Dj8EDXTvhFPwimm0WA3ZM7CpIeizsmBsHCxCWS1jWzebPdkGCB5RVTWUnSXma2v6SD6c/SBsDMdhu5ZUEQBGXeDXwAeBJu+lSZudwDfH3Ibf0CeCqu5yg8c//Pku4A3mlmV4+r0cHCRwSmgoWRtczsmdnz85OQcycknYQLoR6DO+38OS36YXKrC4KZYL0qKAVgZn9fQFzxgqCIpHl4x3ox4G2SbieyWYJpYIQSlcqF7ypqAlNBEAQzgZkdBBwk6ZPAV83sbkn7AOvjTofDcBZwspn9BEDSy/Dg/fHAIcDzxtfyYGEjAlPBwsg1kjYys8sAJD0PuHiI9b9uZufVLTCz54yjgUHQgUUkPXbAFS+u6cHCwqtnuwFB0IaZnZ7+vQn4GLAKvWu04ZnaQRAEM8U2ZvZpSRsDW+BZ9ocyXDDpOWb2nuqJmZ0t6fNmtkcyIwmCKROAdHjHAAAG5klEQVSDmGChIZthXxx4i6Tfp+cr4x3Hrvxc0m7Ai9LzC4DDor46mGEOxMuY+lzxZrdJQTAzhNBqMB9xLLAnMA8IJ98gCGaLyiDkVfi45VRJ+w25jb9J+gjwg/T8jcDfJS1KXN+CEQnx82ChoclJoqLrQEfSt/Dg1tHppR2Bh83sHaO1MAiGI1zxgiAI5jaSLjKzjWe7HUEQLNxIOgP4E/BSYAPgPuCKAXmT0jYeD+yL6+oKuAj4FHAXsJKZ/Xrc7Q4WHiIwFQRDIum6wYt43WtBEARBECzcSHoJbrJyLq6DBoCZnTRrjQqCYKFD0lK4HtQ8M/uVpBWBdc3s7FluWhAAUcoXBFPhYUmrm9ltAJJWo5ceGwRBEARBUPE23DBlcXqlLgZEYCoIghnDzO4lu+4k86Y/N68xGUnnU+8y+uKRGxgs9ERgKgiGZ0/cye/29HwVvOMZBEEQBEGQ80wzW3e2GxEEQTAGPpz9vwTweuChWWpLsIARgakgGJ6LgcOBl6TnhzO83WoQBEEQBAs+l0laJzQAgyCY3zGzqwdeuljSBbPSmGCBIzSmgmBIJB0P3A0cl17aDnismW07e60KgiAIgmCuIelmYHXgN7jGlAAzs/VmtWFBEARDImn57OkiwHOAg8xsrVlqUrAAERlTQTA8aw0InZ8v6bpZa00QBEEQBHOVV8x2A4IgCMbE1bjGlIAHgd8CO89mg4IFhwhMBcHwXCNpIzO7DEDS8/DyviAIgiAIggnM7Hez3YYgCIIx8RHgLDO7W9I+wPrAvbPcpmABIUr5gqAjkubhswSLA2sBv0/PVwZuMrNnzGLzgiAIgiAIgiAIpgVJ15vZepI2Bj4PHAh8zMyeN8tNCxYAImMqCLrz6tluQBAEQRAEQRAEwSzwcPr7KuAwMztV0n6z2J5gASIypoIgCIIgCIIgCIIgaETSGcCfgJcCGwD3AVcMaO8GwZSIwFQQBEEQBEEQBEEQBI1IWgo3dJhnZr+StCKwrpmdPctNCxYAIjAVBEEQBEEQBEEQBEEQzAqLzHYDgiAIgiAIgiAIgiAIgoWTCEwFQRAEQRAEQRAEQRAEs0IEpoIgCIIgCIZA0taSTNLac6AtW0laZ7bbEQRBEARBMFUiMBUEQRAEQTAc2wEXAW+a7YYAWwERmAqCIAiCYL4lAlNBEARBEAQdkbQM8EJgZ7LAlKRFJR0gaZ6k6yW9P72+oaRLJF0n6QpJy0paQtKR6b3XSNo8vfetkr6ebfMMSZul//8h6XNpO5dJeqKkFwCvAb4s6VpJqw+09ShJX0v7v13SNtVnkHSupF+kNrw2vb6KpFskfUvSDZKOk/RSSRdL+pWk56b3LS3pO5KuTO1/7fR940EQBEEQLOhEYCoIgiAIgqA7WwFnmdkvgb9JWj+9/i5gVeDZZrYecJykfwN+COxuZs8EXgrcB+wKYGbr4tlXR0taorDfpYHL0nYuBN5pZpcApwF7mtmzzOy2mvVWBDYGXg18Mb12P7C1ma0PbA4cKElp2dOAg4D1gLWBN6f1Pwx8LL3n48B5ZrZhWv/LkpYutD8IgiAIgqCWCEwFQRAEQRB0ZzvgB+n/H6Tn4EGnw8zsIQAz+xuwFvBnM7syvXZ3Wr4xcEx67Rbgd8Cahf3+Czgj/X81sErH9p5iZo+Y2U3AE9NrAj4v6Xrgp8CTs2W/MbN5ZvYIcCNwrpkZMC/b58uAvSVdC/wMWAJYqWN7giAIgiAI+lhsthsQBEEQBEEwPyDpccCLgWdIMmBRwCTthQd7bHCVmteq1+t4iP5JwzyL6sEUIAJ4mO59uAdq9rs9sAKwgZk9KOm32b7y9z+SPX8k26eA15vZrR3bEARBEARB0EhkTAVBEARBEHRjG+C7Zrayma1iZk8FfoNnQJ0NvEfSYgCSlgduAZ4kacP02rJp+YV4cAhJa+LZRrcCvwWeJWkRSU8FntuhTfcAyw75OR4N3JGCUpsDKw+5/k+A91flf5KePeT6QRAEQRAEE0RgKgiCIAiCoBvbAScPvPYjXIfpW8DvgeslXQe82cz+BbwRODi9dg6emXQIsKikebgG1VvN7AHgYjzQNQ84APhFhzb9ANgziZCvXny3cxzwHElX4QGyWzquV/EZYHH8s96QngdBEARBEEwJ9bLCgyAIgiAIgiAIgiAIgmDmiIypIAiCIAiCIAiCIAiCYFaIwFQQBEEQBEEQBEEQBEEwK0RgKgiCIAiCIAiCIAiCIJgVIjAVBEEQBEEQBEEQBEEQzAoRmAqCIAiCIAiCIAiCIAhmhQhMBUEQBEEQBEEQBEEQBLNCBKaCIAiCIAiCIAiCIAiCWSECU0EQBEEQBEEQBEEQBMGs8P8BxZi7y4KGjHAAAAAASUVORK5CYII=\n",
      "text/plain": [
       "<Figure size 1440x864 with 1 Axes>"
      ]
     },
     "metadata": {
      "needs_background": "light"
     },
     "output_type": "display_data"
    }
   ],
   "source": [
    "ax=accer_production.groupby('ACCOUNT')['JOBID' ].count().plot(kind='bar', figsize=(20, 12), title='Number of job per account' )\n",
    "\n",
    "ax.set_ylabel(\"Number of job\")\n",
    "ax.set_xlabel(\"Account name\")\n"
   ]
  },
  {
   "cell_type": "code",
   "execution_count": 126,
   "metadata": {},
   "outputs": [
    {
     "data": {
      "text/html": [
       "<div>\n",
       "<style scoped>\n",
       "    .dataframe tbody tr th:only-of-type {\n",
       "        vertical-align: middle;\n",
       "    }\n",
       "\n",
       "    .dataframe tbody tr th {\n",
       "        vertical-align: top;\n",
       "    }\n",
       "\n",
       "    .dataframe thead th {\n",
       "        text-align: right;\n",
       "    }\n",
       "</style>\n",
       "<table border=\"1\" class=\"dataframe\">\n",
       "  <thead>\n",
       "    <tr style=\"text-align: right;\">\n",
       "      <th></th>\n",
       "      <th>JOBID</th>\n",
       "      <th>ACCOUNT</th>\n",
       "      <th>USER</th>\n",
       "      <th>REQMEM</th>\n",
       "      <th>USEDMEM</th>\n",
       "      <th>REQTIME</th>\n",
       "      <th>USEDTIME</th>\n",
       "      <th>NODES</th>\n",
       "      <th>CPUS</th>\n",
       "      <th>PARTITION</th>\n",
       "      <th>...</th>\n",
       "      <th>MM_REQ</th>\n",
       "      <th>SS_REQ</th>\n",
       "      <th>TOTAL_SEC_REQ</th>\n",
       "      <th>mem_req_type</th>\n",
       "      <th>mem_req_amnt</th>\n",
       "      <th>mem_used_type</th>\n",
       "      <th>mem_used_amnt</th>\n",
       "      <th>mem_req_percpu</th>\n",
       "      <th>mem_used_percpu</th>\n",
       "      <th>mem_percent_used</th>\n",
       "    </tr>\n",
       "  </thead>\n",
       "  <tbody>\n",
       "    <tr>\n",
       "      <th>825509</th>\n",
       "      <td>18212293</td>\n",
       "      <td>mignonette</td>\n",
       "      <td>hardie</td>\n",
       "      <td>5120Mc</td>\n",
       "      <td>5119.95M</td>\n",
       "      <td>05:00:00</td>\n",
       "      <td>00:00:42</td>\n",
       "      <td>1</td>\n",
       "      <td>1</td>\n",
       "      <td>production</td>\n",
       "      <td>...</td>\n",
       "      <td>0</td>\n",
       "      <td>0</td>\n",
       "      <td>18000</td>\n",
       "      <td>Mc</td>\n",
       "      <td>5120.0</td>\n",
       "      <td>M</td>\n",
       "      <td>5119.95</td>\n",
       "      <td>5120.0</td>\n",
       "      <td>5119.950000</td>\n",
       "      <td>99.999023</td>\n",
       "    </tr>\n",
       "    <tr>\n",
       "      <th>825544</th>\n",
       "      <td>18212665</td>\n",
       "      <td>mignonette</td>\n",
       "      <td>hardie</td>\n",
       "      <td>5120Mc</td>\n",
       "      <td>2121.57M</td>\n",
       "      <td>05:00:00</td>\n",
       "      <td>00:01:04</td>\n",
       "      <td>1</td>\n",
       "      <td>1</td>\n",
       "      <td>production</td>\n",
       "      <td>...</td>\n",
       "      <td>0</td>\n",
       "      <td>0</td>\n",
       "      <td>18000</td>\n",
       "      <td>Mc</td>\n",
       "      <td>5120.0</td>\n",
       "      <td>M</td>\n",
       "      <td>2121.57</td>\n",
       "      <td>5120.0</td>\n",
       "      <td>2121.570000</td>\n",
       "      <td>41.436914</td>\n",
       "    </tr>\n",
       "    <tr>\n",
       "      <th>825545</th>\n",
       "      <td>18212696</td>\n",
       "      <td>mignonette</td>\n",
       "      <td>hardie</td>\n",
       "      <td>15360Mc</td>\n",
       "      <td>27777.86M</td>\n",
       "      <td>05:00:00</td>\n",
       "      <td>03:11:31</td>\n",
       "      <td>1</td>\n",
       "      <td>2</td>\n",
       "      <td>production</td>\n",
       "      <td>...</td>\n",
       "      <td>0</td>\n",
       "      <td>0</td>\n",
       "      <td>18000</td>\n",
       "      <td>Mc</td>\n",
       "      <td>15360.0</td>\n",
       "      <td>M</td>\n",
       "      <td>27777.86</td>\n",
       "      <td>15360.0</td>\n",
       "      <td>13888.930000</td>\n",
       "      <td>90.422721</td>\n",
       "    </tr>\n",
       "    <tr>\n",
       "      <th>825549</th>\n",
       "      <td>18212715</td>\n",
       "      <td>mignonette</td>\n",
       "      <td>hardie</td>\n",
       "      <td>20480Mc</td>\n",
       "      <td>27809.80M</td>\n",
       "      <td>05:00:00</td>\n",
       "      <td>05:00:23</td>\n",
       "      <td>1</td>\n",
       "      <td>3</td>\n",
       "      <td>production</td>\n",
       "      <td>...</td>\n",
       "      <td>0</td>\n",
       "      <td>0</td>\n",
       "      <td>18000</td>\n",
       "      <td>Mc</td>\n",
       "      <td>20480.0</td>\n",
       "      <td>M</td>\n",
       "      <td>27809.80</td>\n",
       "      <td>20480.0</td>\n",
       "      <td>9269.933333</td>\n",
       "      <td>45.263346</td>\n",
       "    </tr>\n",
       "    <tr>\n",
       "      <th>830916</th>\n",
       "      <td>18233274</td>\n",
       "      <td>mignonette</td>\n",
       "      <td>hardie</td>\n",
       "      <td>5120Mc</td>\n",
       "      <td>5119.68M</td>\n",
       "      <td>2-00:00:00</td>\n",
       "      <td>00:01:22</td>\n",
       "      <td>1</td>\n",
       "      <td>1</td>\n",
       "      <td>production</td>\n",
       "      <td>...</td>\n",
       "      <td>0</td>\n",
       "      <td>0</td>\n",
       "      <td>172800</td>\n",
       "      <td>Mc</td>\n",
       "      <td>5120.0</td>\n",
       "      <td>M</td>\n",
       "      <td>5119.68</td>\n",
       "      <td>5120.0</td>\n",
       "      <td>5119.680000</td>\n",
       "      <td>99.993750</td>\n",
       "    </tr>\n",
       "    <tr>\n",
       "      <th>830943</th>\n",
       "      <td>18233486</td>\n",
       "      <td>mignonette</td>\n",
       "      <td>hardie</td>\n",
       "      <td>20480Mc</td>\n",
       "      <td>35196.35M</td>\n",
       "      <td>2-00:00:00</td>\n",
       "      <td>20:09:03</td>\n",
       "      <td>1</td>\n",
       "      <td>3</td>\n",
       "      <td>production</td>\n",
       "      <td>...</td>\n",
       "      <td>0</td>\n",
       "      <td>0</td>\n",
       "      <td>172800</td>\n",
       "      <td>Mc</td>\n",
       "      <td>20480.0</td>\n",
       "      <td>M</td>\n",
       "      <td>35196.35</td>\n",
       "      <td>20480.0</td>\n",
       "      <td>11732.116667</td>\n",
       "      <td>57.285726</td>\n",
       "    </tr>\n",
       "    <tr>\n",
       "      <th>1002329</th>\n",
       "      <td>18623010</td>\n",
       "      <td>mignonette</td>\n",
       "      <td>hardie</td>\n",
       "      <td>5120Mc</td>\n",
       "      <td>5120M</td>\n",
       "      <td>05:00:00</td>\n",
       "      <td>00:00:43</td>\n",
       "      <td>1</td>\n",
       "      <td>1</td>\n",
       "      <td>production</td>\n",
       "      <td>...</td>\n",
       "      <td>0</td>\n",
       "      <td>0</td>\n",
       "      <td>18000</td>\n",
       "      <td>Mc</td>\n",
       "      <td>5120.0</td>\n",
       "      <td>M</td>\n",
       "      <td>5120.00</td>\n",
       "      <td>5120.0</td>\n",
       "      <td>5120.000000</td>\n",
       "      <td>100.000000</td>\n",
       "    </tr>\n",
       "    <tr>\n",
       "      <th>1022941</th>\n",
       "      <td>18665374</td>\n",
       "      <td>mignonette</td>\n",
       "      <td>hardie</td>\n",
       "      <td>20480Mc</td>\n",
       "      <td>27760.23M</td>\n",
       "      <td>10:00:00</td>\n",
       "      <td>01:33:18</td>\n",
       "      <td>1</td>\n",
       "      <td>3</td>\n",
       "      <td>production</td>\n",
       "      <td>...</td>\n",
       "      <td>0</td>\n",
       "      <td>0</td>\n",
       "      <td>36000</td>\n",
       "      <td>Mc</td>\n",
       "      <td>20480.0</td>\n",
       "      <td>M</td>\n",
       "      <td>27760.23</td>\n",
       "      <td>20480.0</td>\n",
       "      <td>9253.410000</td>\n",
       "      <td>45.182666</td>\n",
       "    </tr>\n",
       "    <tr>\n",
       "      <th>1162493</th>\n",
       "      <td>18952859</td>\n",
       "      <td>mignonette</td>\n",
       "      <td>hardie</td>\n",
       "      <td>15360Mc</td>\n",
       "      <td>46439.43M</td>\n",
       "      <td>05:00:00</td>\n",
       "      <td>02:55:37</td>\n",
       "      <td>10</td>\n",
       "      <td>2</td>\n",
       "      <td>production</td>\n",
       "      <td>...</td>\n",
       "      <td>0</td>\n",
       "      <td>0</td>\n",
       "      <td>18000</td>\n",
       "      <td>Mc</td>\n",
       "      <td>15360.0</td>\n",
       "      <td>M</td>\n",
       "      <td>46439.43</td>\n",
       "      <td>15360.0</td>\n",
       "      <td>232197.150000</td>\n",
       "      <td>1511.700195</td>\n",
       "    </tr>\n",
       "    <tr>\n",
       "      <th>2100371</th>\n",
       "      <td>20775422</td>\n",
       "      <td>mignonette</td>\n",
       "      <td>hardie</td>\n",
       "      <td>122880Mn</td>\n",
       "      <td>92361.28M</td>\n",
       "      <td>20:00:00</td>\n",
       "      <td>00:01:12</td>\n",
       "      <td>1</td>\n",
       "      <td>1</td>\n",
       "      <td>production</td>\n",
       "      <td>...</td>\n",
       "      <td>0</td>\n",
       "      <td>0</td>\n",
       "      <td>72000</td>\n",
       "      <td>Mn</td>\n",
       "      <td>122880.0</td>\n",
       "      <td>M</td>\n",
       "      <td>92361.28</td>\n",
       "      <td>122880.0</td>\n",
       "      <td>92361.280000</td>\n",
       "      <td>75.163802</td>\n",
       "    </tr>\n",
       "    <tr>\n",
       "      <th>2845112</th>\n",
       "      <td>22398469</td>\n",
       "      <td>mignonette</td>\n",
       "      <td>clemie</td>\n",
       "      <td>5120Mc</td>\n",
       "      <td>0</td>\n",
       "      <td>05:00:00</td>\n",
       "      <td>00:00:08</td>\n",
       "      <td>1</td>\n",
       "      <td>1</td>\n",
       "      <td>production</td>\n",
       "      <td>...</td>\n",
       "      <td>0</td>\n",
       "      <td>0</td>\n",
       "      <td>18000</td>\n",
       "      <td>Mc</td>\n",
       "      <td>5120.0</td>\n",
       "      <td>NaN</td>\n",
       "      <td>NaN</td>\n",
       "      <td>5120.0</td>\n",
       "      <td>NaN</td>\n",
       "      <td>NaN</td>\n",
       "    </tr>\n",
       "    <tr>\n",
       "      <th>2845141</th>\n",
       "      <td>22398726</td>\n",
       "      <td>mignonette</td>\n",
       "      <td>clemie</td>\n",
       "      <td>5120Mc</td>\n",
       "      <td>0</td>\n",
       "      <td>05:00:00</td>\n",
       "      <td>00:00:07</td>\n",
       "      <td>1</td>\n",
       "      <td>4</td>\n",
       "      <td>production</td>\n",
       "      <td>...</td>\n",
       "      <td>0</td>\n",
       "      <td>0</td>\n",
       "      <td>18000</td>\n",
       "      <td>Mc</td>\n",
       "      <td>5120.0</td>\n",
       "      <td>NaN</td>\n",
       "      <td>NaN</td>\n",
       "      <td>5120.0</td>\n",
       "      <td>NaN</td>\n",
       "      <td>NaN</td>\n",
       "    </tr>\n",
       "    <tr>\n",
       "      <th>2893548</th>\n",
       "      <td>22495636</td>\n",
       "      <td>mignonette</td>\n",
       "      <td>hardie</td>\n",
       "      <td>5120Mc</td>\n",
       "      <td>457.48M</td>\n",
       "      <td>05:00:00</td>\n",
       "      <td>01:24:48</td>\n",
       "      <td>4</td>\n",
       "      <td>1</td>\n",
       "      <td>production</td>\n",
       "      <td>...</td>\n",
       "      <td>0</td>\n",
       "      <td>0</td>\n",
       "      <td>18000</td>\n",
       "      <td>Mc</td>\n",
       "      <td>5120.0</td>\n",
       "      <td>M</td>\n",
       "      <td>457.48</td>\n",
       "      <td>5120.0</td>\n",
       "      <td>1829.920000</td>\n",
       "      <td>35.740625</td>\n",
       "    </tr>\n",
       "    <tr>\n",
       "      <th>3092271</th>\n",
       "      <td>22822420</td>\n",
       "      <td>mignonette</td>\n",
       "      <td>hardie</td>\n",
       "      <td>5120Mc</td>\n",
       "      <td>582.71M</td>\n",
       "      <td>05:00:00</td>\n",
       "      <td>00:56:14</td>\n",
       "      <td>2</td>\n",
       "      <td>1</td>\n",
       "      <td>production</td>\n",
       "      <td>...</td>\n",
       "      <td>0</td>\n",
       "      <td>0</td>\n",
       "      <td>18000</td>\n",
       "      <td>Mc</td>\n",
       "      <td>5120.0</td>\n",
       "      <td>M</td>\n",
       "      <td>582.71</td>\n",
       "      <td>5120.0</td>\n",
       "      <td>1165.420000</td>\n",
       "      <td>22.762109</td>\n",
       "    </tr>\n",
       "    <tr>\n",
       "      <th>3465407</th>\n",
       "      <td>23528477</td>\n",
       "      <td>mignonette</td>\n",
       "      <td>hardie</td>\n",
       "      <td>5120Mc</td>\n",
       "      <td>272.29M</td>\n",
       "      <td>05:00:00</td>\n",
       "      <td>00:21:26</td>\n",
       "      <td>1</td>\n",
       "      <td>1</td>\n",
       "      <td>production</td>\n",
       "      <td>...</td>\n",
       "      <td>0</td>\n",
       "      <td>0</td>\n",
       "      <td>18000</td>\n",
       "      <td>Mc</td>\n",
       "      <td>5120.0</td>\n",
       "      <td>M</td>\n",
       "      <td>272.29</td>\n",
       "      <td>5120.0</td>\n",
       "      <td>272.290000</td>\n",
       "      <td>5.318164</td>\n",
       "    </tr>\n",
       "    <tr>\n",
       "      <th>3556032</th>\n",
       "      <td>23627747</td>\n",
       "      <td>mignonette</td>\n",
       "      <td>hardie</td>\n",
       "      <td>5120Mc</td>\n",
       "      <td>838.21M</td>\n",
       "      <td>05:00:00</td>\n",
       "      <td>00:10:09</td>\n",
       "      <td>8</td>\n",
       "      <td>1</td>\n",
       "      <td>production</td>\n",
       "      <td>...</td>\n",
       "      <td>0</td>\n",
       "      <td>0</td>\n",
       "      <td>18000</td>\n",
       "      <td>Mc</td>\n",
       "      <td>5120.0</td>\n",
       "      <td>M</td>\n",
       "      <td>838.21</td>\n",
       "      <td>5120.0</td>\n",
       "      <td>6705.680000</td>\n",
       "      <td>130.970313</td>\n",
       "    </tr>\n",
       "    <tr>\n",
       "      <th>3563052</th>\n",
       "      <td>23636056</td>\n",
       "      <td>mignonette</td>\n",
       "      <td>hardie</td>\n",
       "      <td>5120Mc</td>\n",
       "      <td>759.63M</td>\n",
       "      <td>05:00:00</td>\n",
       "      <td>00:08:27</td>\n",
       "      <td>4</td>\n",
       "      <td>1</td>\n",
       "      <td>production</td>\n",
       "      <td>...</td>\n",
       "      <td>0</td>\n",
       "      <td>0</td>\n",
       "      <td>18000</td>\n",
       "      <td>Mc</td>\n",
       "      <td>5120.0</td>\n",
       "      <td>M</td>\n",
       "      <td>759.63</td>\n",
       "      <td>5120.0</td>\n",
       "      <td>3038.520000</td>\n",
       "      <td>59.346094</td>\n",
       "    </tr>\n",
       "  </tbody>\n",
       "</table>\n",
       "<p>17 rows × 32 columns</p>\n",
       "</div>"
      ],
      "text/plain": [
       "            JOBID     ACCOUNT    USER    REQMEM    USEDMEM     REQTIME  \\\n",
       "825509   18212293  mignonette  hardie    5120Mc   5119.95M    05:00:00   \n",
       "825544   18212665  mignonette  hardie    5120Mc   2121.57M    05:00:00   \n",
       "825545   18212696  mignonette  hardie   15360Mc  27777.86M    05:00:00   \n",
       "825549   18212715  mignonette  hardie   20480Mc  27809.80M    05:00:00   \n",
       "830916   18233274  mignonette  hardie    5120Mc   5119.68M  2-00:00:00   \n",
       "830943   18233486  mignonette  hardie   20480Mc  35196.35M  2-00:00:00   \n",
       "1002329  18623010  mignonette  hardie    5120Mc      5120M    05:00:00   \n",
       "1022941  18665374  mignonette  hardie   20480Mc  27760.23M    10:00:00   \n",
       "1162493  18952859  mignonette  hardie   15360Mc  46439.43M    05:00:00   \n",
       "2100371  20775422  mignonette  hardie  122880Mn  92361.28M    20:00:00   \n",
       "2845112  22398469  mignonette  clemie    5120Mc          0    05:00:00   \n",
       "2845141  22398726  mignonette  clemie    5120Mc          0    05:00:00   \n",
       "2893548  22495636  mignonette  hardie    5120Mc    457.48M    05:00:00   \n",
       "3092271  22822420  mignonette  hardie    5120Mc    582.71M    05:00:00   \n",
       "3465407  23528477  mignonette  hardie    5120Mc    272.29M    05:00:00   \n",
       "3556032  23627747  mignonette  hardie    5120Mc    838.21M    05:00:00   \n",
       "3563052  23636056  mignonette  hardie    5120Mc    759.63M    05:00:00   \n",
       "\n",
       "         USEDTIME  NODES  CPUS   PARTITION  ... MM_REQ SS_REQ TOTAL_SEC_REQ  \\\n",
       "825509   00:00:42      1     1  production  ...      0      0         18000   \n",
       "825544   00:01:04      1     1  production  ...      0      0         18000   \n",
       "825545   03:11:31      1     2  production  ...      0      0         18000   \n",
       "825549   05:00:23      1     3  production  ...      0      0         18000   \n",
       "830916   00:01:22      1     1  production  ...      0      0        172800   \n",
       "830943   20:09:03      1     3  production  ...      0      0        172800   \n",
       "1002329  00:00:43      1     1  production  ...      0      0         18000   \n",
       "1022941  01:33:18      1     3  production  ...      0      0         36000   \n",
       "1162493  02:55:37     10     2  production  ...      0      0         18000   \n",
       "2100371  00:01:12      1     1  production  ...      0      0         72000   \n",
       "2845112  00:00:08      1     1  production  ...      0      0         18000   \n",
       "2845141  00:00:07      1     4  production  ...      0      0         18000   \n",
       "2893548  01:24:48      4     1  production  ...      0      0         18000   \n",
       "3092271  00:56:14      2     1  production  ...      0      0         18000   \n",
       "3465407  00:21:26      1     1  production  ...      0      0         18000   \n",
       "3556032  00:10:09      8     1  production  ...      0      0         18000   \n",
       "3563052  00:08:27      4     1  production  ...      0      0         18000   \n",
       "\n",
       "        mem_req_type  mem_req_amnt  mem_used_type  mem_used_amnt  \\\n",
       "825509            Mc        5120.0              M        5119.95   \n",
       "825544            Mc        5120.0              M        2121.57   \n",
       "825545            Mc       15360.0              M       27777.86   \n",
       "825549            Mc       20480.0              M       27809.80   \n",
       "830916            Mc        5120.0              M        5119.68   \n",
       "830943            Mc       20480.0              M       35196.35   \n",
       "1002329           Mc        5120.0              M        5120.00   \n",
       "1022941           Mc       20480.0              M       27760.23   \n",
       "1162493           Mc       15360.0              M       46439.43   \n",
       "2100371           Mn      122880.0              M       92361.28   \n",
       "2845112           Mc        5120.0            NaN            NaN   \n",
       "2845141           Mc        5120.0            NaN            NaN   \n",
       "2893548           Mc        5120.0              M         457.48   \n",
       "3092271           Mc        5120.0              M         582.71   \n",
       "3465407           Mc        5120.0              M         272.29   \n",
       "3556032           Mc        5120.0              M         838.21   \n",
       "3563052           Mc        5120.0              M         759.63   \n",
       "\n",
       "         mem_req_percpu  mem_used_percpu mem_percent_used  \n",
       "825509           5120.0      5119.950000        99.999023  \n",
       "825544           5120.0      2121.570000        41.436914  \n",
       "825545          15360.0     13888.930000        90.422721  \n",
       "825549          20480.0      9269.933333        45.263346  \n",
       "830916           5120.0      5119.680000        99.993750  \n",
       "830943          20480.0     11732.116667        57.285726  \n",
       "1002329          5120.0      5120.000000       100.000000  \n",
       "1022941         20480.0      9253.410000        45.182666  \n",
       "1162493         15360.0    232197.150000      1511.700195  \n",
       "2100371        122880.0     92361.280000        75.163802  \n",
       "2845112          5120.0              NaN              NaN  \n",
       "2845141          5120.0              NaN              NaN  \n",
       "2893548          5120.0      1829.920000        35.740625  \n",
       "3092271          5120.0      1165.420000        22.762109  \n",
       "3465407          5120.0       272.290000         5.318164  \n",
       "3556032          5120.0      6705.680000       130.970313  \n",
       "3563052          5120.0      3038.520000        59.346094  \n",
       "\n",
       "[17 rows x 32 columns]"
      ]
     },
     "execution_count": 126,
     "metadata": {},
     "output_type": "execute_result"
    }
   ],
   "source": [
    "accer_production[accer_production['ACCOUNT']=='mignonette']"
   ]
  },
  {
   "cell_type": "code",
   "execution_count": 130,
   "metadata": {},
   "outputs": [],
   "source": [
    "accer_summary=accer_production.groupby('ACCOUNT').agg(\n",
    "    {'mem_used_percpu':['min', 'max', 'mean'], 'JOBID':'count'})"
   ]
  },
  {
   "cell_type": "code",
   "execution_count": 135,
   "metadata": {},
   "outputs": [],
   "source": [
    "accer_summary=accer_summary.droplevel(level=0, axis=1)\n",
    "\n"
   ]
  },
  {
   "cell_type": "code",
   "execution_count": 159,
   "metadata": {},
   "outputs": [],
   "source": [
    "accer_summary=accer_summary.reset_index()"
   ]
  },
  {
   "cell_type": "code",
   "execution_count": 136,
   "metadata": {},
   "outputs": [],
   "source": [
    "import plotly.express as px"
   ]
  },
  {
   "cell_type": "code",
   "execution_count": 164,
   "metadata": {},
   "outputs": [
    {
     "data": {
      "application/vnd.plotly.v1+json": {
       "config": {
        "plotlyServerURL": "https://plot.ly"
       },
       "data": [
        {
         "hovertemplate": "<b>%{hovertext}</b><br><br>Average memory use per account=%{x}<br>Number of job per account=%{y}<extra></extra>",
         "hovertext": [
          "alkmene",
          "almonds",
          "amaranth",
          "angelys",
          "anise",
          "antares",
          "arra",
          "atemoyas",
          "baby",
          "baking",
          "bay",
          "bell",
          "belle",
          "bertanne",
          "bibb",
          "blackberries",
          "bon",
          "boysenberries",
          "brazilnuts",
          "broccoli",
          "bulk",
          "bunch",
          "burro",
          "cactus",
          "cantared",
          "carambola",
          "carrot",
          "casaba",
          "celery",
          "cep",
          "chasselas",
          "chayote",
          "chickpeas",
          "chipilin",
          "cinnabar",
          "clara",
          "cms",
          "cms_lowprio",
          "cmsadmin",
          "cocktail",
          "concord",
          "conference",
          "crab",
          "delblush",
          "dill",
          "discovery",
          "emmons",
          "fairchild",
          "fiddlehead",
          "flamingo",
          "florence",
          "forelle",
          "fresh",
          "galangal",
          "galia",
          "garlic",
          "grisette",
          "harovin",
          "hass",
          "hearts",
          "horn",
          "horseradish",
          "huaguan",
          "ingrid",
          "jicama",
          "josephine",
          "kabocha",
          "key",
          "kinnow",
          "kumquat",
          "large",
          "leaves",
          "lemon",
          "lochbuie",
          "lollo",
          "long",
          "lychees",
          "mache",
          "malanga",
          "medium",
          "mignonette",
          "milwa",
          "minnewashta",
          "mixed",
          "mung",
          "muscat",
          "nino",
          "orange",
          "oroblanco",
          "pasilla",
          "peanuts",
          "pecans",
          "pepino",
          "pickling",
          "pink",
          "pinova",
          "pioppino",
          "pitted",
          "plantain",
          "plumcot",
          "polk",
          "portabella",
          "president",
          "purple",
          "regal",
          "retailer",
          "roasted",
          "rocha",
          "romanesco",
          "round",
          "seeded",
          "serrano",
          "shallots",
          "sharlin",
          "shell",
          "shiny",
          "spring",
          "st",
          "strawberries",
          "sturmer",
          "sugranineteen",
          "summer",
          "sunburst",
          "sunflower",
          "sweet",
          "texas",
          "thomcord",
          "tips",
          "tree",
          "treviso",
          "wa",
          "water",
          "wax",
          "white",
          "winged",
          "with",
          "wood",
          "yu"
         ],
         "legendgroup": "",
         "marker": {
          "color": "#636efa",
          "symbol": "circle"
         },
         "mode": "markers",
         "name": "",
         "orientation": "v",
         "showlegend": false,
         "type": "scatter",
         "x": [
          385.71989936934403,
          547.2015954641355,
          269.49752171968834,
          113.57000000000001,
          5853.650978922717,
          2038.7233613445371,
          4000.8965040650396,
          62.59848945362588,
          1720.7199817767657,
          4719.416165550443,
          1689.561698571428,
          3571.342578125,
          3869.0648681446687,
          2452.7375818192104,
          3103.809166666667,
          928.7945772432972,
          1592.7974629731038,
          1578.4035983801682,
          3374.4144772058826,
          7934.016138888889,
          2124.9353196625884,
          929.3805099701237,
          886.4386618564464,
          2377.227945402299,
          1318.3450742023717,
          2684.974107367477,
          2295.640232541656,
          null,
          61.219743007677465,
          1273.2736737505988,
          5153.494212402233,
          224.05445312500007,
          1177.285518727928,
          1685.6763392857135,
          722.6475257731959,
          626.1950760236832,
          1306.038790731479,
          1508.6106698260207,
          832.0364857825954,
          56.025,
          294.3764993686869,
          973.7575356810793,
          31.090452310155452,
          3640.7287731481483,
          1049.5265352112674,
          null,
          596.3685416666666,
          2898.8309574468085,
          627.6112096774194,
          null,
          null,
          214.67928571428573,
          3341.5537290522416,
          39.38459821428571,
          2117.006821617888,
          4316.238906403504,
          53.835998662647604,
          2484.2492527850786,
          null,
          672.5640625,
          324.6118277491409,
          3356.282329482289,
          415.286796875,
          785.835,
          13427.270930059522,
          659.9799631147541,
          104.23899999999999,
          189.25869769762545,
          4849.860445292621,
          5700.3678,
          213.37154592619245,
          1001.179027777778,
          787.1658231707319,
          1267.9734545454542,
          1997.31335,
          594.7013917322836,
          2939.2759350935125,
          100.36153846153846,
          672.5500000000001,
          9398.891178796059,
          26613.056666666664,
          73.83020833333335,
          5527.644607780329,
          2068.949718072407,
          45.51,
          1400.8241526148545,
          397.55729166666674,
          2271.054829807722,
          487.7555555555556,
          153.09938156300504,
          19.441806260575298,
          433.2377678571427,
          6199.367027969789,
          183.17875,
          189.1675,
          8152.190137931033,
          121.45750000000001,
          282.3047756410257,
          49.84991318124207,
          18.146666666666665,
          332.4171428571429,
          307.74097774902515,
          null,
          92.86,
          1040.1339887557954,
          4769.324327324853,
          9204.34315961199,
          1023.476354166667,
          7.31,
          2108.7854427523375,
          6671.5497090127565,
          308.98422018348634,
          2918.237212020027,
          2542.4990472873915,
          2529.1886363636363,
          1945.7375788201145,
          261.48047842401496,
          1383.2983821016012,
          12094.675178968244,
          3272.947507444504,
          405.63366888760163,
          6278.248518735196,
          487.1297207983775,
          763.7547748655915,
          3955.85616431192,
          2454.3999675361074,
          1462.011436965813,
          1051.8539358108112,
          63.185,
          2311.9347173366828,
          null,
          2628.757532051282,
          2069.9852990513696,
          87.0052410714286,
          755.9169727715437,
          null,
          334.9077831923628,
          3001.836593085106
         ],
         "xaxis": "x",
         "y": [
          15575,
          1887,
          3033,
          271,
          1754,
          160,
          43,
          25019,
          3186,
          494,
          313,
          11,
          8645,
          8275,
          223,
          1311,
          1228,
          57599,
          720,
          18,
          78734,
          105876,
          1320,
          279,
          2681,
          801,
          192492,
          117720,
          17392,
          609129,
          1328,
          57,
          10828,
          291,
          116,
          8397,
          491085,
          135656,
          23438,
          6,
          689,
          1594,
          1097,
          53,
          172,
          1,
          537,
          64,
          45,
          1,
          2,
          15,
          11981,
          10,
          198176,
          20350,
          31413,
          908,
          1,
          26,
          224,
          53553,
          27,
          7,
          519,
          230,
          20,
          37711,
          170,
          16,
          10411,
          82,
          116,
          55,
          77,
          649,
          5536,
          17,
          3,
          1617,
          17,
          36,
          6573,
          39090,
          3,
          6292,
          6,
          158398,
          9,
          1350,
          201,
          80,
          126,
          9,
          4,
          303,
          7,
          45,
          279,
          3,
          7,
          110061,
          2,
          1,
          10497,
          39050,
          63,
          18,
          2,
          36829,
          3434,
          450,
          599,
          51351,
          14,
          523,
          1103,
          7263,
          427,
          2119,
          1445,
          380632,
          14242,
          1479,
          40241,
          9763,
          1037,
          168,
          1,
          530,
          2,
          46,
          19621,
          417,
          23873,
          1,
          32212,
          188
         ],
         "yaxis": "y"
        }
       ],
       "layout": {
        "legend": {
         "tracegroupgap": 0
        },
        "template": {
         "data": {
          "bar": [
           {
            "error_x": {
             "color": "#2a3f5f"
            },
            "error_y": {
             "color": "#2a3f5f"
            },
            "marker": {
             "line": {
              "color": "#E5ECF6",
              "width": 0.5
             }
            },
            "type": "bar"
           }
          ],
          "barpolar": [
           {
            "marker": {
             "line": {
              "color": "#E5ECF6",
              "width": 0.5
             }
            },
            "type": "barpolar"
           }
          ],
          "carpet": [
           {
            "aaxis": {
             "endlinecolor": "#2a3f5f",
             "gridcolor": "white",
             "linecolor": "white",
             "minorgridcolor": "white",
             "startlinecolor": "#2a3f5f"
            },
            "baxis": {
             "endlinecolor": "#2a3f5f",
             "gridcolor": "white",
             "linecolor": "white",
             "minorgridcolor": "white",
             "startlinecolor": "#2a3f5f"
            },
            "type": "carpet"
           }
          ],
          "choropleth": [
           {
            "colorbar": {
             "outlinewidth": 0,
             "ticks": ""
            },
            "type": "choropleth"
           }
          ],
          "contour": [
           {
            "colorbar": {
             "outlinewidth": 0,
             "ticks": ""
            },
            "colorscale": [
             [
              0,
              "#0d0887"
             ],
             [
              0.1111111111111111,
              "#46039f"
             ],
             [
              0.2222222222222222,
              "#7201a8"
             ],
             [
              0.3333333333333333,
              "#9c179e"
             ],
             [
              0.4444444444444444,
              "#bd3786"
             ],
             [
              0.5555555555555556,
              "#d8576b"
             ],
             [
              0.6666666666666666,
              "#ed7953"
             ],
             [
              0.7777777777777778,
              "#fb9f3a"
             ],
             [
              0.8888888888888888,
              "#fdca26"
             ],
             [
              1,
              "#f0f921"
             ]
            ],
            "type": "contour"
           }
          ],
          "contourcarpet": [
           {
            "colorbar": {
             "outlinewidth": 0,
             "ticks": ""
            },
            "type": "contourcarpet"
           }
          ],
          "heatmap": [
           {
            "colorbar": {
             "outlinewidth": 0,
             "ticks": ""
            },
            "colorscale": [
             [
              0,
              "#0d0887"
             ],
             [
              0.1111111111111111,
              "#46039f"
             ],
             [
              0.2222222222222222,
              "#7201a8"
             ],
             [
              0.3333333333333333,
              "#9c179e"
             ],
             [
              0.4444444444444444,
              "#bd3786"
             ],
             [
              0.5555555555555556,
              "#d8576b"
             ],
             [
              0.6666666666666666,
              "#ed7953"
             ],
             [
              0.7777777777777778,
              "#fb9f3a"
             ],
             [
              0.8888888888888888,
              "#fdca26"
             ],
             [
              1,
              "#f0f921"
             ]
            ],
            "type": "heatmap"
           }
          ],
          "heatmapgl": [
           {
            "colorbar": {
             "outlinewidth": 0,
             "ticks": ""
            },
            "colorscale": [
             [
              0,
              "#0d0887"
             ],
             [
              0.1111111111111111,
              "#46039f"
             ],
             [
              0.2222222222222222,
              "#7201a8"
             ],
             [
              0.3333333333333333,
              "#9c179e"
             ],
             [
              0.4444444444444444,
              "#bd3786"
             ],
             [
              0.5555555555555556,
              "#d8576b"
             ],
             [
              0.6666666666666666,
              "#ed7953"
             ],
             [
              0.7777777777777778,
              "#fb9f3a"
             ],
             [
              0.8888888888888888,
              "#fdca26"
             ],
             [
              1,
              "#f0f921"
             ]
            ],
            "type": "heatmapgl"
           }
          ],
          "histogram": [
           {
            "marker": {
             "colorbar": {
              "outlinewidth": 0,
              "ticks": ""
             }
            },
            "type": "histogram"
           }
          ],
          "histogram2d": [
           {
            "colorbar": {
             "outlinewidth": 0,
             "ticks": ""
            },
            "colorscale": [
             [
              0,
              "#0d0887"
             ],
             [
              0.1111111111111111,
              "#46039f"
             ],
             [
              0.2222222222222222,
              "#7201a8"
             ],
             [
              0.3333333333333333,
              "#9c179e"
             ],
             [
              0.4444444444444444,
              "#bd3786"
             ],
             [
              0.5555555555555556,
              "#d8576b"
             ],
             [
              0.6666666666666666,
              "#ed7953"
             ],
             [
              0.7777777777777778,
              "#fb9f3a"
             ],
             [
              0.8888888888888888,
              "#fdca26"
             ],
             [
              1,
              "#f0f921"
             ]
            ],
            "type": "histogram2d"
           }
          ],
          "histogram2dcontour": [
           {
            "colorbar": {
             "outlinewidth": 0,
             "ticks": ""
            },
            "colorscale": [
             [
              0,
              "#0d0887"
             ],
             [
              0.1111111111111111,
              "#46039f"
             ],
             [
              0.2222222222222222,
              "#7201a8"
             ],
             [
              0.3333333333333333,
              "#9c179e"
             ],
             [
              0.4444444444444444,
              "#bd3786"
             ],
             [
              0.5555555555555556,
              "#d8576b"
             ],
             [
              0.6666666666666666,
              "#ed7953"
             ],
             [
              0.7777777777777778,
              "#fb9f3a"
             ],
             [
              0.8888888888888888,
              "#fdca26"
             ],
             [
              1,
              "#f0f921"
             ]
            ],
            "type": "histogram2dcontour"
           }
          ],
          "mesh3d": [
           {
            "colorbar": {
             "outlinewidth": 0,
             "ticks": ""
            },
            "type": "mesh3d"
           }
          ],
          "parcoords": [
           {
            "line": {
             "colorbar": {
              "outlinewidth": 0,
              "ticks": ""
             }
            },
            "type": "parcoords"
           }
          ],
          "pie": [
           {
            "automargin": true,
            "type": "pie"
           }
          ],
          "scatter": [
           {
            "marker": {
             "colorbar": {
              "outlinewidth": 0,
              "ticks": ""
             }
            },
            "type": "scatter"
           }
          ],
          "scatter3d": [
           {
            "line": {
             "colorbar": {
              "outlinewidth": 0,
              "ticks": ""
             }
            },
            "marker": {
             "colorbar": {
              "outlinewidth": 0,
              "ticks": ""
             }
            },
            "type": "scatter3d"
           }
          ],
          "scattercarpet": [
           {
            "marker": {
             "colorbar": {
              "outlinewidth": 0,
              "ticks": ""
             }
            },
            "type": "scattercarpet"
           }
          ],
          "scattergeo": [
           {
            "marker": {
             "colorbar": {
              "outlinewidth": 0,
              "ticks": ""
             }
            },
            "type": "scattergeo"
           }
          ],
          "scattergl": [
           {
            "marker": {
             "colorbar": {
              "outlinewidth": 0,
              "ticks": ""
             }
            },
            "type": "scattergl"
           }
          ],
          "scattermapbox": [
           {
            "marker": {
             "colorbar": {
              "outlinewidth": 0,
              "ticks": ""
             }
            },
            "type": "scattermapbox"
           }
          ],
          "scatterpolar": [
           {
            "marker": {
             "colorbar": {
              "outlinewidth": 0,
              "ticks": ""
             }
            },
            "type": "scatterpolar"
           }
          ],
          "scatterpolargl": [
           {
            "marker": {
             "colorbar": {
              "outlinewidth": 0,
              "ticks": ""
             }
            },
            "type": "scatterpolargl"
           }
          ],
          "scatterternary": [
           {
            "marker": {
             "colorbar": {
              "outlinewidth": 0,
              "ticks": ""
             }
            },
            "type": "scatterternary"
           }
          ],
          "surface": [
           {
            "colorbar": {
             "outlinewidth": 0,
             "ticks": ""
            },
            "colorscale": [
             [
              0,
              "#0d0887"
             ],
             [
              0.1111111111111111,
              "#46039f"
             ],
             [
              0.2222222222222222,
              "#7201a8"
             ],
             [
              0.3333333333333333,
              "#9c179e"
             ],
             [
              0.4444444444444444,
              "#bd3786"
             ],
             [
              0.5555555555555556,
              "#d8576b"
             ],
             [
              0.6666666666666666,
              "#ed7953"
             ],
             [
              0.7777777777777778,
              "#fb9f3a"
             ],
             [
              0.8888888888888888,
              "#fdca26"
             ],
             [
              1,
              "#f0f921"
             ]
            ],
            "type": "surface"
           }
          ],
          "table": [
           {
            "cells": {
             "fill": {
              "color": "#EBF0F8"
             },
             "line": {
              "color": "white"
             }
            },
            "header": {
             "fill": {
              "color": "#C8D4E3"
             },
             "line": {
              "color": "white"
             }
            },
            "type": "table"
           }
          ]
         },
         "layout": {
          "annotationdefaults": {
           "arrowcolor": "#2a3f5f",
           "arrowhead": 0,
           "arrowwidth": 1
          },
          "coloraxis": {
           "colorbar": {
            "outlinewidth": 0,
            "ticks": ""
           }
          },
          "colorscale": {
           "diverging": [
            [
             0,
             "#8e0152"
            ],
            [
             0.1,
             "#c51b7d"
            ],
            [
             0.2,
             "#de77ae"
            ],
            [
             0.3,
             "#f1b6da"
            ],
            [
             0.4,
             "#fde0ef"
            ],
            [
             0.5,
             "#f7f7f7"
            ],
            [
             0.6,
             "#e6f5d0"
            ],
            [
             0.7,
             "#b8e186"
            ],
            [
             0.8,
             "#7fbc41"
            ],
            [
             0.9,
             "#4d9221"
            ],
            [
             1,
             "#276419"
            ]
           ],
           "sequential": [
            [
             0,
             "#0d0887"
            ],
            [
             0.1111111111111111,
             "#46039f"
            ],
            [
             0.2222222222222222,
             "#7201a8"
            ],
            [
             0.3333333333333333,
             "#9c179e"
            ],
            [
             0.4444444444444444,
             "#bd3786"
            ],
            [
             0.5555555555555556,
             "#d8576b"
            ],
            [
             0.6666666666666666,
             "#ed7953"
            ],
            [
             0.7777777777777778,
             "#fb9f3a"
            ],
            [
             0.8888888888888888,
             "#fdca26"
            ],
            [
             1,
             "#f0f921"
            ]
           ],
           "sequentialminus": [
            [
             0,
             "#0d0887"
            ],
            [
             0.1111111111111111,
             "#46039f"
            ],
            [
             0.2222222222222222,
             "#7201a8"
            ],
            [
             0.3333333333333333,
             "#9c179e"
            ],
            [
             0.4444444444444444,
             "#bd3786"
            ],
            [
             0.5555555555555556,
             "#d8576b"
            ],
            [
             0.6666666666666666,
             "#ed7953"
            ],
            [
             0.7777777777777778,
             "#fb9f3a"
            ],
            [
             0.8888888888888888,
             "#fdca26"
            ],
            [
             1,
             "#f0f921"
            ]
           ]
          },
          "colorway": [
           "#636efa",
           "#EF553B",
           "#00cc96",
           "#ab63fa",
           "#FFA15A",
           "#19d3f3",
           "#FF6692",
           "#B6E880",
           "#FF97FF",
           "#FECB52"
          ],
          "font": {
           "color": "#2a3f5f"
          },
          "geo": {
           "bgcolor": "white",
           "lakecolor": "white",
           "landcolor": "#E5ECF6",
           "showlakes": true,
           "showland": true,
           "subunitcolor": "white"
          },
          "hoverlabel": {
           "align": "left"
          },
          "hovermode": "closest",
          "mapbox": {
           "style": "light"
          },
          "paper_bgcolor": "white",
          "plot_bgcolor": "#E5ECF6",
          "polar": {
           "angularaxis": {
            "gridcolor": "white",
            "linecolor": "white",
            "ticks": ""
           },
           "bgcolor": "#E5ECF6",
           "radialaxis": {
            "gridcolor": "white",
            "linecolor": "white",
            "ticks": ""
           }
          },
          "scene": {
           "xaxis": {
            "backgroundcolor": "#E5ECF6",
            "gridcolor": "white",
            "gridwidth": 2,
            "linecolor": "white",
            "showbackground": true,
            "ticks": "",
            "zerolinecolor": "white"
           },
           "yaxis": {
            "backgroundcolor": "#E5ECF6",
            "gridcolor": "white",
            "gridwidth": 2,
            "linecolor": "white",
            "showbackground": true,
            "ticks": "",
            "zerolinecolor": "white"
           },
           "zaxis": {
            "backgroundcolor": "#E5ECF6",
            "gridcolor": "white",
            "gridwidth": 2,
            "linecolor": "white",
            "showbackground": true,
            "ticks": "",
            "zerolinecolor": "white"
           }
          },
          "shapedefaults": {
           "line": {
            "color": "#2a3f5f"
           }
          },
          "ternary": {
           "aaxis": {
            "gridcolor": "white",
            "linecolor": "white",
            "ticks": ""
           },
           "baxis": {
            "gridcolor": "white",
            "linecolor": "white",
            "ticks": ""
           },
           "bgcolor": "#E5ECF6",
           "caxis": {
            "gridcolor": "white",
            "linecolor": "white",
            "ticks": ""
           }
          },
          "title": {
           "x": 0.05
          },
          "xaxis": {
           "automargin": true,
           "gridcolor": "white",
           "linecolor": "white",
           "ticks": "",
           "title": {
            "standoff": 15
           },
           "zerolinecolor": "white",
           "zerolinewidth": 2
          },
          "yaxis": {
           "automargin": true,
           "gridcolor": "white",
           "linecolor": "white",
           "ticks": "",
           "title": {
            "standoff": 15
           },
           "zerolinecolor": "white",
           "zerolinewidth": 2
          }
         }
        },
        "title": {
         "text": "Number of jub and avarage memory used per account"
        },
        "xaxis": {
         "anchor": "y",
         "domain": [
          0,
          1
         ],
         "title": {
          "text": "Average memory use per account"
         },
         "type": "log"
        },
        "yaxis": {
         "anchor": "x",
         "domain": [
          0,
          1
         ],
         "title": {
          "text": "Number of job per account"
         },
         "type": "log"
        }
       }
      },
      "text/html": [
       "<div>                            <div id=\"69b62f92-e9b5-4d01-a5b9-1ccf375cf940\" class=\"plotly-graph-div\" style=\"height:525px; width:100%;\"></div>            <script type=\"text/javascript\">                require([\"plotly\"], function(Plotly) {                    window.PLOTLYENV=window.PLOTLYENV || {};                                    if (document.getElementById(\"69b62f92-e9b5-4d01-a5b9-1ccf375cf940\")) {                    Plotly.newPlot(                        \"69b62f92-e9b5-4d01-a5b9-1ccf375cf940\",                        [{\"hovertemplate\": \"<b>%{hovertext}</b><br><br>Average memory use per account=%{x}<br>Number of job per account=%{y}<extra></extra>\", \"hovertext\": [\"alkmene\", \"almonds\", \"amaranth\", \"angelys\", \"anise\", \"antares\", \"arra\", \"atemoyas\", \"baby\", \"baking\", \"bay\", \"bell\", \"belle\", \"bertanne\", \"bibb\", \"blackberries\", \"bon\", \"boysenberries\", \"brazilnuts\", \"broccoli\", \"bulk\", \"bunch\", \"burro\", \"cactus\", \"cantared\", \"carambola\", \"carrot\", \"casaba\", \"celery\", \"cep\", \"chasselas\", \"chayote\", \"chickpeas\", \"chipilin\", \"cinnabar\", \"clara\", \"cms\", \"cms_lowprio\", \"cmsadmin\", \"cocktail\", \"concord\", \"conference\", \"crab\", \"delblush\", \"dill\", \"discovery\", \"emmons\", \"fairchild\", \"fiddlehead\", \"flamingo\", \"florence\", \"forelle\", \"fresh\", \"galangal\", \"galia\", \"garlic\", \"grisette\", \"harovin\", \"hass\", \"hearts\", \"horn\", \"horseradish\", \"huaguan\", \"ingrid\", \"jicama\", \"josephine\", \"kabocha\", \"key\", \"kinnow\", \"kumquat\", \"large\", \"leaves\", \"lemon\", \"lochbuie\", \"lollo\", \"long\", \"lychees\", \"mache\", \"malanga\", \"medium\", \"mignonette\", \"milwa\", \"minnewashta\", \"mixed\", \"mung\", \"muscat\", \"nino\", \"orange\", \"oroblanco\", \"pasilla\", \"peanuts\", \"pecans\", \"pepino\", \"pickling\", \"pink\", \"pinova\", \"pioppino\", \"pitted\", \"plantain\", \"plumcot\", \"polk\", \"portabella\", \"president\", \"purple\", \"regal\", \"retailer\", \"roasted\", \"rocha\", \"romanesco\", \"round\", \"seeded\", \"serrano\", \"shallots\", \"sharlin\", \"shell\", \"shiny\", \"spring\", \"st\", \"strawberries\", \"sturmer\", \"sugranineteen\", \"summer\", \"sunburst\", \"sunflower\", \"sweet\", \"texas\", \"thomcord\", \"tips\", \"tree\", \"treviso\", \"wa\", \"water\", \"wax\", \"white\", \"winged\", \"with\", \"wood\", \"yu\"], \"legendgroup\": \"\", \"marker\": {\"color\": \"#636efa\", \"symbol\": \"circle\"}, \"mode\": \"markers\", \"name\": \"\", \"orientation\": \"v\", \"showlegend\": false, \"type\": \"scatter\", \"x\": [385.71989936934403, 547.2015954641355, 269.49752171968834, 113.57000000000001, 5853.650978922717, 2038.7233613445371, 4000.8965040650396, 62.59848945362588, 1720.7199817767657, 4719.416165550443, 1689.561698571428, 3571.342578125, 3869.0648681446687, 2452.7375818192104, 3103.809166666667, 928.7945772432972, 1592.7974629731038, 1578.4035983801682, 3374.4144772058826, 7934.016138888889, 2124.9353196625884, 929.3805099701237, 886.4386618564464, 2377.227945402299, 1318.3450742023717, 2684.974107367477, 2295.640232541656, null, 61.219743007677465, 1273.2736737505988, 5153.494212402233, 224.05445312500007, 1177.285518727928, 1685.6763392857135, 722.6475257731959, 626.1950760236832, 1306.038790731479, 1508.6106698260207, 832.0364857825954, 56.025, 294.3764993686869, 973.7575356810793, 31.090452310155452, 3640.7287731481483, 1049.5265352112674, null, 596.3685416666666, 2898.8309574468085, 627.6112096774194, null, null, 214.67928571428573, 3341.5537290522416, 39.38459821428571, 2117.006821617888, 4316.238906403504, 53.835998662647604, 2484.2492527850786, null, 672.5640625, 324.6118277491409, 3356.282329482289, 415.286796875, 785.835, 13427.270930059522, 659.9799631147541, 104.23899999999999, 189.25869769762545, 4849.860445292621, 5700.3678, 213.37154592619245, 1001.179027777778, 787.1658231707319, 1267.9734545454542, 1997.31335, 594.7013917322836, 2939.2759350935125, 100.36153846153846, 672.5500000000001, 9398.891178796059, 26613.056666666664, 73.83020833333335, 5527.644607780329, 2068.949718072407, 45.51, 1400.8241526148545, 397.55729166666674, 2271.054829807722, 487.7555555555556, 153.09938156300504, 19.441806260575298, 433.2377678571427, 6199.367027969789, 183.17875, 189.1675, 8152.190137931033, 121.45750000000001, 282.3047756410257, 49.84991318124207, 18.146666666666665, 332.4171428571429, 307.74097774902515, null, 92.86, 1040.1339887557954, 4769.324327324853, 9204.34315961199, 1023.476354166667, 7.31, 2108.7854427523375, 6671.5497090127565, 308.98422018348634, 2918.237212020027, 2542.4990472873915, 2529.1886363636363, 1945.7375788201145, 261.48047842401496, 1383.2983821016012, 12094.675178968244, 3272.947507444504, 405.63366888760163, 6278.248518735196, 487.1297207983775, 763.7547748655915, 3955.85616431192, 2454.3999675361074, 1462.011436965813, 1051.8539358108112, 63.185, 2311.9347173366828, null, 2628.757532051282, 2069.9852990513696, 87.0052410714286, 755.9169727715437, null, 334.9077831923628, 3001.836593085106], \"xaxis\": \"x\", \"y\": [15575, 1887, 3033, 271, 1754, 160, 43, 25019, 3186, 494, 313, 11, 8645, 8275, 223, 1311, 1228, 57599, 720, 18, 78734, 105876, 1320, 279, 2681, 801, 192492, 117720, 17392, 609129, 1328, 57, 10828, 291, 116, 8397, 491085, 135656, 23438, 6, 689, 1594, 1097, 53, 172, 1, 537, 64, 45, 1, 2, 15, 11981, 10, 198176, 20350, 31413, 908, 1, 26, 224, 53553, 27, 7, 519, 230, 20, 37711, 170, 16, 10411, 82, 116, 55, 77, 649, 5536, 17, 3, 1617, 17, 36, 6573, 39090, 3, 6292, 6, 158398, 9, 1350, 201, 80, 126, 9, 4, 303, 7, 45, 279, 3, 7, 110061, 2, 1, 10497, 39050, 63, 18, 2, 36829, 3434, 450, 599, 51351, 14, 523, 1103, 7263, 427, 2119, 1445, 380632, 14242, 1479, 40241, 9763, 1037, 168, 1, 530, 2, 46, 19621, 417, 23873, 1, 32212, 188], \"yaxis\": \"y\"}],                        {\"legend\": {\"tracegroupgap\": 0}, \"template\": {\"data\": {\"bar\": [{\"error_x\": {\"color\": \"#2a3f5f\"}, \"error_y\": {\"color\": \"#2a3f5f\"}, \"marker\": {\"line\": {\"color\": \"#E5ECF6\", \"width\": 0.5}}, \"type\": \"bar\"}], \"barpolar\": [{\"marker\": {\"line\": {\"color\": \"#E5ECF6\", \"width\": 0.5}}, \"type\": \"barpolar\"}], \"carpet\": [{\"aaxis\": {\"endlinecolor\": \"#2a3f5f\", \"gridcolor\": \"white\", \"linecolor\": \"white\", \"minorgridcolor\": \"white\", \"startlinecolor\": \"#2a3f5f\"}, \"baxis\": {\"endlinecolor\": \"#2a3f5f\", \"gridcolor\": \"white\", \"linecolor\": \"white\", \"minorgridcolor\": \"white\", \"startlinecolor\": \"#2a3f5f\"}, \"type\": \"carpet\"}], \"choropleth\": [{\"colorbar\": {\"outlinewidth\": 0, \"ticks\": \"\"}, \"type\": \"choropleth\"}], \"contour\": [{\"colorbar\": {\"outlinewidth\": 0, \"ticks\": \"\"}, \"colorscale\": [[0.0, \"#0d0887\"], [0.1111111111111111, \"#46039f\"], [0.2222222222222222, \"#7201a8\"], [0.3333333333333333, \"#9c179e\"], [0.4444444444444444, \"#bd3786\"], [0.5555555555555556, \"#d8576b\"], [0.6666666666666666, \"#ed7953\"], [0.7777777777777778, \"#fb9f3a\"], [0.8888888888888888, \"#fdca26\"], [1.0, \"#f0f921\"]], \"type\": \"contour\"}], \"contourcarpet\": [{\"colorbar\": {\"outlinewidth\": 0, \"ticks\": \"\"}, \"type\": \"contourcarpet\"}], \"heatmap\": [{\"colorbar\": {\"outlinewidth\": 0, \"ticks\": \"\"}, \"colorscale\": [[0.0, \"#0d0887\"], [0.1111111111111111, \"#46039f\"], [0.2222222222222222, \"#7201a8\"], [0.3333333333333333, \"#9c179e\"], [0.4444444444444444, \"#bd3786\"], [0.5555555555555556, \"#d8576b\"], [0.6666666666666666, \"#ed7953\"], [0.7777777777777778, \"#fb9f3a\"], [0.8888888888888888, \"#fdca26\"], [1.0, \"#f0f921\"]], \"type\": \"heatmap\"}], \"heatmapgl\": [{\"colorbar\": {\"outlinewidth\": 0, \"ticks\": \"\"}, \"colorscale\": [[0.0, \"#0d0887\"], [0.1111111111111111, \"#46039f\"], [0.2222222222222222, \"#7201a8\"], [0.3333333333333333, \"#9c179e\"], [0.4444444444444444, \"#bd3786\"], [0.5555555555555556, \"#d8576b\"], [0.6666666666666666, \"#ed7953\"], [0.7777777777777778, \"#fb9f3a\"], [0.8888888888888888, \"#fdca26\"], [1.0, \"#f0f921\"]], \"type\": \"heatmapgl\"}], \"histogram\": [{\"marker\": {\"colorbar\": {\"outlinewidth\": 0, \"ticks\": \"\"}}, \"type\": \"histogram\"}], \"histogram2d\": [{\"colorbar\": {\"outlinewidth\": 0, \"ticks\": \"\"}, \"colorscale\": [[0.0, \"#0d0887\"], [0.1111111111111111, \"#46039f\"], [0.2222222222222222, \"#7201a8\"], [0.3333333333333333, \"#9c179e\"], [0.4444444444444444, \"#bd3786\"], [0.5555555555555556, \"#d8576b\"], [0.6666666666666666, \"#ed7953\"], [0.7777777777777778, \"#fb9f3a\"], [0.8888888888888888, \"#fdca26\"], [1.0, \"#f0f921\"]], \"type\": \"histogram2d\"}], \"histogram2dcontour\": [{\"colorbar\": {\"outlinewidth\": 0, \"ticks\": \"\"}, \"colorscale\": [[0.0, \"#0d0887\"], [0.1111111111111111, \"#46039f\"], [0.2222222222222222, \"#7201a8\"], [0.3333333333333333, \"#9c179e\"], [0.4444444444444444, \"#bd3786\"], [0.5555555555555556, \"#d8576b\"], [0.6666666666666666, \"#ed7953\"], [0.7777777777777778, \"#fb9f3a\"], [0.8888888888888888, \"#fdca26\"], [1.0, \"#f0f921\"]], \"type\": \"histogram2dcontour\"}], \"mesh3d\": [{\"colorbar\": {\"outlinewidth\": 0, \"ticks\": \"\"}, \"type\": \"mesh3d\"}], \"parcoords\": [{\"line\": {\"colorbar\": {\"outlinewidth\": 0, \"ticks\": \"\"}}, \"type\": \"parcoords\"}], \"pie\": [{\"automargin\": true, \"type\": \"pie\"}], \"scatter\": [{\"marker\": {\"colorbar\": {\"outlinewidth\": 0, \"ticks\": \"\"}}, \"type\": \"scatter\"}], \"scatter3d\": [{\"line\": {\"colorbar\": {\"outlinewidth\": 0, \"ticks\": \"\"}}, \"marker\": {\"colorbar\": {\"outlinewidth\": 0, \"ticks\": \"\"}}, \"type\": \"scatter3d\"}], \"scattercarpet\": [{\"marker\": {\"colorbar\": {\"outlinewidth\": 0, \"ticks\": \"\"}}, \"type\": \"scattercarpet\"}], \"scattergeo\": [{\"marker\": {\"colorbar\": {\"outlinewidth\": 0, \"ticks\": \"\"}}, \"type\": \"scattergeo\"}], \"scattergl\": [{\"marker\": {\"colorbar\": {\"outlinewidth\": 0, \"ticks\": \"\"}}, \"type\": \"scattergl\"}], \"scattermapbox\": [{\"marker\": {\"colorbar\": {\"outlinewidth\": 0, \"ticks\": \"\"}}, \"type\": \"scattermapbox\"}], \"scatterpolar\": [{\"marker\": {\"colorbar\": {\"outlinewidth\": 0, \"ticks\": \"\"}}, \"type\": \"scatterpolar\"}], \"scatterpolargl\": [{\"marker\": {\"colorbar\": {\"outlinewidth\": 0, \"ticks\": \"\"}}, \"type\": \"scatterpolargl\"}], \"scatterternary\": [{\"marker\": {\"colorbar\": {\"outlinewidth\": 0, \"ticks\": \"\"}}, \"type\": \"scatterternary\"}], \"surface\": [{\"colorbar\": {\"outlinewidth\": 0, \"ticks\": \"\"}, \"colorscale\": [[0.0, \"#0d0887\"], [0.1111111111111111, \"#46039f\"], [0.2222222222222222, \"#7201a8\"], [0.3333333333333333, \"#9c179e\"], [0.4444444444444444, \"#bd3786\"], [0.5555555555555556, \"#d8576b\"], [0.6666666666666666, \"#ed7953\"], [0.7777777777777778, \"#fb9f3a\"], [0.8888888888888888, \"#fdca26\"], [1.0, \"#f0f921\"]], \"type\": \"surface\"}], \"table\": [{\"cells\": {\"fill\": {\"color\": \"#EBF0F8\"}, \"line\": {\"color\": \"white\"}}, \"header\": {\"fill\": {\"color\": \"#C8D4E3\"}, \"line\": {\"color\": \"white\"}}, \"type\": \"table\"}]}, \"layout\": {\"annotationdefaults\": {\"arrowcolor\": \"#2a3f5f\", \"arrowhead\": 0, \"arrowwidth\": 1}, \"coloraxis\": {\"colorbar\": {\"outlinewidth\": 0, \"ticks\": \"\"}}, \"colorscale\": {\"diverging\": [[0, \"#8e0152\"], [0.1, \"#c51b7d\"], [0.2, \"#de77ae\"], [0.3, \"#f1b6da\"], [0.4, \"#fde0ef\"], [0.5, \"#f7f7f7\"], [0.6, \"#e6f5d0\"], [0.7, \"#b8e186\"], [0.8, \"#7fbc41\"], [0.9, \"#4d9221\"], [1, \"#276419\"]], \"sequential\": [[0.0, \"#0d0887\"], [0.1111111111111111, \"#46039f\"], [0.2222222222222222, \"#7201a8\"], [0.3333333333333333, \"#9c179e\"], [0.4444444444444444, \"#bd3786\"], [0.5555555555555556, \"#d8576b\"], [0.6666666666666666, \"#ed7953\"], [0.7777777777777778, \"#fb9f3a\"], [0.8888888888888888, \"#fdca26\"], [1.0, \"#f0f921\"]], \"sequentialminus\": [[0.0, \"#0d0887\"], [0.1111111111111111, \"#46039f\"], [0.2222222222222222, \"#7201a8\"], [0.3333333333333333, \"#9c179e\"], [0.4444444444444444, \"#bd3786\"], [0.5555555555555556, \"#d8576b\"], [0.6666666666666666, \"#ed7953\"], [0.7777777777777778, \"#fb9f3a\"], [0.8888888888888888, \"#fdca26\"], [1.0, \"#f0f921\"]]}, \"colorway\": [\"#636efa\", \"#EF553B\", \"#00cc96\", \"#ab63fa\", \"#FFA15A\", \"#19d3f3\", \"#FF6692\", \"#B6E880\", \"#FF97FF\", \"#FECB52\"], \"font\": {\"color\": \"#2a3f5f\"}, \"geo\": {\"bgcolor\": \"white\", \"lakecolor\": \"white\", \"landcolor\": \"#E5ECF6\", \"showlakes\": true, \"showland\": true, \"subunitcolor\": \"white\"}, \"hoverlabel\": {\"align\": \"left\"}, \"hovermode\": \"closest\", \"mapbox\": {\"style\": \"light\"}, \"paper_bgcolor\": \"white\", \"plot_bgcolor\": \"#E5ECF6\", \"polar\": {\"angularaxis\": {\"gridcolor\": \"white\", \"linecolor\": \"white\", \"ticks\": \"\"}, \"bgcolor\": \"#E5ECF6\", \"radialaxis\": {\"gridcolor\": \"white\", \"linecolor\": \"white\", \"ticks\": \"\"}}, \"scene\": {\"xaxis\": {\"backgroundcolor\": \"#E5ECF6\", \"gridcolor\": \"white\", \"gridwidth\": 2, \"linecolor\": \"white\", \"showbackground\": true, \"ticks\": \"\", \"zerolinecolor\": \"white\"}, \"yaxis\": {\"backgroundcolor\": \"#E5ECF6\", \"gridcolor\": \"white\", \"gridwidth\": 2, \"linecolor\": \"white\", \"showbackground\": true, \"ticks\": \"\", \"zerolinecolor\": \"white\"}, \"zaxis\": {\"backgroundcolor\": \"#E5ECF6\", \"gridcolor\": \"white\", \"gridwidth\": 2, \"linecolor\": \"white\", \"showbackground\": true, \"ticks\": \"\", \"zerolinecolor\": \"white\"}}, \"shapedefaults\": {\"line\": {\"color\": \"#2a3f5f\"}}, \"ternary\": {\"aaxis\": {\"gridcolor\": \"white\", \"linecolor\": \"white\", \"ticks\": \"\"}, \"baxis\": {\"gridcolor\": \"white\", \"linecolor\": \"white\", \"ticks\": \"\"}, \"bgcolor\": \"#E5ECF6\", \"caxis\": {\"gridcolor\": \"white\", \"linecolor\": \"white\", \"ticks\": \"\"}}, \"title\": {\"x\": 0.05}, \"xaxis\": {\"automargin\": true, \"gridcolor\": \"white\", \"linecolor\": \"white\", \"ticks\": \"\", \"title\": {\"standoff\": 15}, \"zerolinecolor\": \"white\", \"zerolinewidth\": 2}, \"yaxis\": {\"automargin\": true, \"gridcolor\": \"white\", \"linecolor\": \"white\", \"ticks\": \"\", \"title\": {\"standoff\": 15}, \"zerolinecolor\": \"white\", \"zerolinewidth\": 2}}}, \"title\": {\"text\": \"Number of jub and avarage memory used per account\"}, \"xaxis\": {\"anchor\": \"y\", \"domain\": [0.0, 1.0], \"title\": {\"text\": \"Average memory use per account\"}, \"type\": \"log\"}, \"yaxis\": {\"anchor\": \"x\", \"domain\": [0.0, 1.0], \"title\": {\"text\": \"Number of job per account\"}, \"type\": \"log\"}},                        {\"responsive\": true}                    ).then(function(){\n",
       "                            \n",
       "var gd = document.getElementById('69b62f92-e9b5-4d01-a5b9-1ccf375cf940');\n",
       "var x = new MutationObserver(function (mutations, observer) {{\n",
       "        var display = window.getComputedStyle(gd).display;\n",
       "        if (!display || display === 'none') {{\n",
       "            console.log([gd, 'removed!']);\n",
       "            Plotly.purge(gd);\n",
       "            observer.disconnect();\n",
       "        }}\n",
       "}});\n",
       "\n",
       "// Listen for the removal of the full notebook cells\n",
       "var notebookContainer = gd.closest('#notebook-container');\n",
       "if (notebookContainer) {{\n",
       "    x.observe(notebookContainer, {childList: true});\n",
       "}}\n",
       "\n",
       "// Listen for the clearing of the current output cell\n",
       "var outputEl = gd.closest('.output');\n",
       "if (outputEl) {{\n",
       "    x.observe(outputEl, {childList: true});\n",
       "}}\n",
       "\n",
       "                        })                };                });            </script>        </div>"
      ]
     },
     "metadata": {},
     "output_type": "display_data"
    }
   ],
   "source": [
    "mem_use_job=px.scatter(\n",
    "    accer_summary, x='mean', y='count', \n",
    "    log_y=True,log_x=True, hover_name='ACCOUNT', size_max=20,\n",
    "    title= 'Number of jub and avarage memory used per account', labels=dict(mean=\"Average memory use per account\", count=\"Number of job per account\"))\n",
    "mem_use_job.show()"
=======
    "accer_df1000.info()"
>>>>>>> 2d50ec13f068352cc198c795352f4cad9e8f0f9f
   ]
  },
  {
   "cell_type": "code",
   "execution_count": null,
   "metadata": {},
   "outputs": [],
   "source": []
  }
 ],
 "metadata": {
  "kernelspec": {
   "display_name": "Python 3",
   "language": "python",
   "name": "python3"
  },
  "language_info": {
   "codemirror_mode": {
    "name": "ipython",
    "version": 3
   },
   "file_extension": ".py",
   "mimetype": "text/x-python",
   "name": "python",
   "nbconvert_exporter": "python",
   "pygments_lexer": "ipython3",
   "version": "3.8.3"
  }
 },
 "nbformat": 4,
 "nbformat_minor": 4
}
