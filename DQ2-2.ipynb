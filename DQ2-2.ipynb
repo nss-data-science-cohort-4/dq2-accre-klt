{
 "cells": [
  {
   "cell_type": "code",
   "execution_count": 1,
   "metadata": {},
   "outputs": [],
   "source": [
    "import pandas as pd\n",
    "import re\n",
    "import numpy as np\n",
    "import matplotlib.pyplot as plt\n",
    "import seaborn as sns"
   ]
  },
  {
   "cell_type": "code",
   "execution_count": 2,
   "metadata": {},
   "outputs": [],
   "source": [
    "#Pull dem csv in, created a partial csv, just in case I needed to test\n",
    "\n",
    "full_df = pd.read_csv('data/full_df.csv', error_bad_lines = False, warn_bad_lines = False)\n",
    "part_df = pd.read_csv('data/full_df.csv', error_bad_lines = False, warn_bad_lines = False, nrows = 5000)"
   ]
  },
  {
   "cell_type": "code",
   "execution_count": 3,
   "metadata": {},
   "outputs": [],
   "source": [
    "#All of the below was for exploration\n",
    "\n",
    "#print(part_df)"
   ]
  },
  {
   "cell_type": "code",
   "execution_count": 4,
   "metadata": {},
   "outputs": [],
   "source": [
    "#full_df['PARTITION'].value_counts()"
   ]
  },
  {
   "cell_type": "code",
   "execution_count": 5,
   "metadata": {},
   "outputs": [],
   "source": [
    "#part_df['STATE'].value_counts()"
   ]
  },
  {
   "cell_type": "code",
   "execution_count": 6,
   "metadata": {},
   "outputs": [],
   "source": [
    "#full_df['EXITCODE'].value_counts()"
   ]
  },
  {
   "cell_type": "code",
   "execution_count": 7,
   "metadata": {},
   "outputs": [],
   "source": [
    "#full_df['ACCOUNT'].value_counts()"
   ]
  },
  {
   "cell_type": "code",
   "execution_count": 8,
   "metadata": {},
   "outputs": [],
   "source": [
    "#full_df['USER'].value_counts()"
   ]
  },
  {
   "cell_type": "code",
   "execution_count": 9,
   "metadata": {},
   "outputs": [],
   "source": [
    "#full_df.loc[full_df['USER']=='cmslocal']"
   ]
  },
  {
   "cell_type": "code",
   "execution_count": 10,
   "metadata": {},
   "outputs": [],
   "source": [
    "#full_df['NODELIST'].value_counts()"
   ]
  },
  {
   "cell_type": "code",
   "execution_count": 11,
   "metadata": {},
   "outputs": [],
   "source": [
    "#Created work_df of all jobs that ended in under an hour\n",
    "\n",
    "work_df = full_df.query('TOTAL_SEC_USED < 3601')"
   ]
  },
  {
   "cell_type": "code",
   "execution_count": 12,
   "metadata": {},
   "outputs": [],
   "source": [
    "#Exploration code\n",
    "\n",
    "#work_df.head(5)"
   ]
  },
  {
   "cell_type": "code",
   "execution_count": 13,
   "metadata": {},
   "outputs": [
    {
     "data": {
      "text/plain": [
       "26         17\n",
       "16         21\n",
       "19         22\n",
       "24         23\n",
       "28         25\n",
       "        ...  \n",
       "1203    11595\n",
       "1207    11962\n",
       "1206    14623\n",
       "1204    17480\n",
       "1205    17992\n",
       "Name: TOTAL_SEC_USED, Length: 3601, dtype: int64"
      ]
     },
     "execution_count": 13,
     "metadata": {},
     "output_type": "execute_result"
    }
   ],
   "source": [
    "#Exploration code to make sure, longest job is 1,205 seconds \n",
    "\n",
    "work_df['TOTAL_SEC_USED'].value_counts(ascending=True)"
   ]
  },
  {
   "cell_type": "code",
   "execution_count": 14,
   "metadata": {},
   "outputs": [],
   "source": [
    "#Proper query call to create a df of cms user jobs under the two partition tags\n",
    "\n",
    "cms_df = work_df.query('(USER == \"cmspilot\" or USER == \"cmslocal\") and (PARTITION in [\"production\",\"nogpfs\"])')"
   ]
  },
  {
   "cell_type": "code",
   "execution_count": 15,
   "metadata": {},
   "outputs": [],
   "source": [
    "#Proper query call to create a df of non-cms user jobs under the two partition tags\n",
    "\n",
    "ncms_df = work_df.query('USER != \"cmspilot\" and USER != \"cmslocal\" and (PARTITION == \"production\" or PARTITION == \"nogpfs\")')"
   ]
  },
  {
   "cell_type": "code",
   "execution_count": 16,
   "metadata": {},
   "outputs": [
    {
     "data": {
      "text/plain": [
       "nogpfs        214008\n",
       "production    207847\n",
       "Name: PARTITION, dtype: int64"
      ]
     },
     "execution_count": 16,
     "metadata": {},
     "output_type": "execute_result"
    }
   ],
   "source": [
    "#Exploration and test code\n",
    "\n",
    "cms_df['PARTITION'].value_counts()\n",
    "#cms_df['USER'].value_counts()"
   ]
  },
  {
   "cell_type": "code",
   "execution_count": 17,
   "metadata": {},
   "outputs": [
    {
     "data": {
      "text/plain": [
       "production    1329678\n",
       "nogpfs          16255\n",
       "Name: PARTITION, dtype: int64"
      ]
     },
     "execution_count": 17,
     "metadata": {},
     "output_type": "execute_result"
    }
   ],
   "source": [
    "#Exploration and test code\n",
    "\n",
    "ncms_df['PARTITION'].value_counts()\n",
    "#ncms_df['USER'].value_counts()"
   ]
  },
  {
   "cell_type": "code",
   "execution_count": 18,
   "metadata": {},
   "outputs": [],
   "source": [
    "#More exploration code\n",
    "\n",
    "#cms_df.info()\n",
    "#ncms_df.info()"
   ]
  },
  {
   "cell_type": "code",
   "execution_count": 19,
   "metadata": {},
   "outputs": [],
   "source": [
    "#Code for checking work, ensuring operations were successful\n",
    "\n",
    "#cms_df['NODELIST'].value_counts().head(25)\n",
    "#cms_df['NODELIST'].value_counts(normalize=True)\n",
    "#cms_df['PARTITION'].value_counts()\n"
   ]
  },
  {
   "cell_type": "code",
   "execution_count": 20,
   "metadata": {},
   "outputs": [],
   "source": [
    "#Code for checking work, ensuring operations were successful\n",
    "\n",
    "#ncms_df['NODELIST'].value_counts().head(25)\n",
    "#ncms_df['NODELIST'].value_counts(normalize=True)\n",
    "#ncms_df['PARTITION'].value_counts()"
   ]
  },
  {
   "cell_type": "code",
   "execution_count": 21,
   "metadata": {},
   "outputs": [
    {
     "data": {
      "text/plain": [
       "421855"
      ]
     },
     "execution_count": 21,
     "metadata": {},
     "output_type": "execute_result"
    }
   ],
   "source": [
    "cms_df['NODELIST'].value_counts().sum()"
   ]
  },
  {
   "cell_type": "code",
   "execution_count": 22,
   "metadata": {},
   "outputs": [
    {
     "data": {
      "text/plain": [
       "1345933"
      ]
     },
     "execution_count": 22,
     "metadata": {},
     "output_type": "execute_result"
    }
   ],
   "source": [
    "ncms_df['NODELIST'].value_counts().sum()"
   ]
  },
  {
   "cell_type": "code",
   "execution_count": 23,
   "metadata": {},
   "outputs": [],
   "source": [
    "#Test code\n",
    "\n",
    "#ncms_df.groupby('USER')['NODELIST'].value_counts().apply(lambda u: u>3000).sum()"
   ]
  },
  {
   "cell_type": "code",
   "execution_count": 24,
   "metadata": {},
   "outputs": [
    {
     "name": "stdout",
     "output_type": "stream",
     "text": [
      "       NODE  NODECOUNT\n",
      "0    ng1078       5626\n",
      "1    ng1112       5526\n",
      "2    ng1040       5249\n",
      "3    ng1027       5166\n",
      "4    ng1003       5135\n",
      "..      ...        ...\n",
      "793   ng225          1\n",
      "794  cn1415          1\n",
      "795  cn1417          1\n",
      "796   ng217          1\n",
      "797  cn1410          1\n",
      "\n",
      "[798 rows x 2 columns]\n",
      "               NODE  NODECOUNT\n",
      "0             cn304       7114\n",
      "1             cn430       6140\n",
      "2             cn425       6093\n",
      "3            cn1438       6066\n",
      "4             cn416       5996\n",
      "...             ...        ...\n",
      "1125        cn[1210          1\n",
      "1126  cn[1267-1268]          1\n",
      "1127    cn[473-474]          1\n",
      "1128  cn[1514-1515]          1\n",
      "1129  cn[1320-1321]          1\n",
      "\n",
      "[1130 rows x 2 columns]\n"
     ]
    }
   ],
   "source": [
    "#Aggregated the data frame information by node, cms and non-cms\n",
    "\n",
    "cms_nodecount = pd.DataFrame(data=cms_df['NODELIST'].value_counts())\n",
    "ncms_nodecount = pd.DataFrame(data=ncms_df['NODELIST'].value_counts())\n",
    "\n",
    "#Reset index because because\n",
    "\n",
    "cms_nodecount = cms_nodecount.reset_index()\n",
    "ncms_nodecount = ncms_nodecount.reset_index()\n",
    "\n",
    "#Renamed column names so I can join/merge them later on\n",
    "\n",
    "cms_nodecount.rename(columns={'index':'NODE', 'NODELIST':'NODECOUNT'}, inplace=True)\n",
    "ncms_nodecount.rename(columns={'index':'NODE', 'NODELIST':'NODECOUNT'}, inplace=True)\n",
    "\n",
    "#Check work\n",
    "\n",
    "print(cms_nodecount)\n",
    "print(ncms_nodecount)"
   ]
  },
  {
   "cell_type": "code",
   "execution_count": 25,
   "metadata": {},
   "outputs": [
    {
     "name": "stdout",
     "output_type": "stream",
     "text": [
      "               NODE  NODECOUNT_CMS  NODECOUNT_NCMS  NODECOUNT_TOT\n",
      "0            ng1078         5626.0           198.0         5824.0\n",
      "1            ng1112         5526.0           374.0         5900.0\n",
      "2            ng1040         5249.0           147.0         5396.0\n",
      "3            ng1027         5166.0           132.0         5298.0\n",
      "4            ng1003         5135.0           204.0         5339.0\n",
      "...             ...            ...             ...            ...\n",
      "1137        cn[1210            0.0             1.0            1.0\n",
      "1138  cn[1267-1268]            0.0             1.0            1.0\n",
      "1139    cn[473-474]            0.0             1.0            1.0\n",
      "1140  cn[1514-1515]            0.0             1.0            1.0\n",
      "1141  cn[1320-1321]            0.0             1.0            1.0\n",
      "\n",
      "[1142 rows x 4 columns]\n"
     ]
    }
   ],
   "source": [
    "#Performed an outter merge of all failed nodes, both cms and non-cms\n",
    "\n",
    "nodes_df = cms_nodecount.merge(ncms_nodecount, on='NODE', how='outer', suffixes=('_CMS','_NCMS'))\n",
    "\n",
    "#Filled in NaN as 0 for consistency and mathematical operations\n",
    "\n",
    "nodes_df.fillna(0, inplace=True)\n",
    "\n",
    "#Created a column of total failed nodes, cms and non-cms\n",
    "\n",
    "nodes_df['NODECOUNT_TOT'] = nodes_df['NODECOUNT_CMS'] + nodes_df['NODECOUNT_NCMS']\n",
    "print(nodes_df)"
   ]
  },
  {
   "cell_type": "code",
   "execution_count": 26,
   "metadata": {},
   "outputs": [
    {
     "name": "stdout",
     "output_type": "stream",
     "text": [
      "               NODE  NODECOUNT_CMS  NODECOUNT_NCMS  NODECOUNT_TOT  PERC_CMS  \\\n",
      "0            ng1078         5626.0           198.0         5824.0  0.013336   \n",
      "1            ng1112         5526.0           374.0         5900.0  0.013099   \n",
      "2            ng1040         5249.0           147.0         5396.0  0.012443   \n",
      "3            ng1027         5166.0           132.0         5298.0  0.012246   \n",
      "4            ng1003         5135.0           204.0         5339.0  0.012172   \n",
      "...             ...            ...             ...            ...       ...   \n",
      "1137        cn[1210            0.0             1.0            1.0  0.000000   \n",
      "1138  cn[1267-1268]            0.0             1.0            1.0  0.000000   \n",
      "1139    cn[473-474]            0.0             1.0            1.0  0.000000   \n",
      "1140  cn[1514-1515]            0.0             1.0            1.0  0.000000   \n",
      "1141  cn[1320-1321]            0.0             1.0            1.0  0.000000   \n",
      "\n",
      "         PERC_NCMS      PERC_TOT  CMS_TAG  \n",
      "0     1.471098e-04  3.294513e-03     True  \n",
      "1     2.778742e-04  3.337504e-03     True  \n",
      "2     1.092179e-04  3.052402e-03     True  \n",
      "3     9.807323e-05  2.996966e-03     True  \n",
      "4     1.515677e-04  3.020159e-03     True  \n",
      "...            ...           ...      ...  \n",
      "1137  7.429790e-07  5.656787e-07    False  \n",
      "1138  7.429790e-07  5.656787e-07    False  \n",
      "1139  7.429790e-07  5.656787e-07    False  \n",
      "1140  7.429790e-07  5.656787e-07    False  \n",
      "1141  7.429790e-07  5.656787e-07    False  \n",
      "\n",
      "[1142 rows x 8 columns]\n"
     ]
    }
   ],
   "source": [
    "#Created Columns of the nodecount as a percentage of failed nodes\n",
    "\n",
    "nodes_df['PERC_CMS'] = nodes_df['NODECOUNT_CMS']/nodes_df['NODECOUNT_CMS'].sum()\n",
    "nodes_df['PERC_NCMS'] = nodes_df['NODECOUNT_NCMS']/nodes_df['NODECOUNT_NCMS'].sum()\n",
    "nodes_df['PERC_TOT'] = nodes_df['NODECOUNT_TOT']/nodes_df['NODECOUNT_TOT'].sum()\n",
    "\n",
    "#Created a column to tag whether or not a node was ever called by a CMS user for visualization later\n",
    "\n",
    "nodes_df['CMS_TAG'] = nodes_df['NODECOUNT_CMS']>0\n",
    "print(nodes_df)"
   ]
  },
  {
   "cell_type": "code",
   "execution_count": 27,
   "metadata": {},
   "outputs": [
    {
     "name": "stdout",
     "output_type": "stream",
     "text": [
      "               NODE  NODECOUNT_CMS  NODECOUNT_NCMS  NODECOUNT_TOT  PERC_CMS  \\\n",
      "0            ng1078         5626.0           198.0         5824.0  0.013336   \n",
      "1            ng1112         5526.0           374.0         5900.0  0.013099   \n",
      "2            ng1040         5249.0           147.0         5396.0  0.012443   \n",
      "3            ng1027         5166.0           132.0         5298.0  0.012246   \n",
      "4            ng1003         5135.0           204.0         5339.0  0.012172   \n",
      "...             ...            ...             ...            ...       ...   \n",
      "1137        cn[1210            0.0             1.0            1.0  0.000000   \n",
      "1138  cn[1267-1268]            0.0             1.0            1.0  0.000000   \n",
      "1139    cn[473-474]            0.0             1.0            1.0  0.000000   \n",
      "1140  cn[1514-1515]            0.0             1.0            1.0  0.000000   \n",
      "1141  cn[1320-1321]            0.0             1.0            1.0  0.000000   \n",
      "\n",
      "         PERC_NCMS      PERC_TOT CMS_TAG  \n",
      "0     1.471098e-04  3.294513e-03     Yes  \n",
      "1     2.778742e-04  3.337504e-03     Yes  \n",
      "2     1.092179e-04  3.052402e-03     Yes  \n",
      "3     9.807323e-05  2.996966e-03     Yes  \n",
      "4     1.515677e-04  3.020159e-03     Yes  \n",
      "...            ...           ...     ...  \n",
      "1137  7.429790e-07  5.656787e-07      No  \n",
      "1138  7.429790e-07  5.656787e-07      No  \n",
      "1139  7.429790e-07  5.656787e-07      No  \n",
      "1140  7.429790e-07  5.656787e-07      No  \n",
      "1141  7.429790e-07  5.656787e-07      No  \n",
      "\n",
      "[1142 rows x 8 columns]\n"
     ]
    }
   ],
   "source": [
    "#For some reason, running the line below eliminates all False tagged rows, but \n",
    "#calling the False designation does not??????\n",
    "\n",
    "#nodes_df.loc[nodes_df['CMS_TAG'] == True, 'CMS_TAG'] = 'Yes'\n",
    "\n",
    "#This code properly flags the CMS tag since Seaborn did not like it\n",
    "\n",
    "nodes_df.loc[nodes_df['CMS_TAG'] == False, 'CMS_TAG'] = 'No'\n",
    "nodes_df.loc[nodes_df['CMS_TAG'] != 'No', 'CMS_TAG'] = 'Yes'\n",
    "print(nodes_df)"
   ]
  },
  {
   "cell_type": "code",
   "execution_count": 28,
   "metadata": {},
   "outputs": [],
   "source": [
    "nodes_df.query('PERC_NCMS > 0.0015 or NODECOUNT_CMS > 1000', inplace = True)"
   ]
  },
  {
   "cell_type": "code",
   "execution_count": 31,
   "metadata": {},
   "outputs": [
    {
     "data": {
      "text/plain": [
       "<seaborn.axisgrid.FacetGrid at 0x1a0a1c33310>"
      ]
     },
     "execution_count": 31,
     "metadata": {},
     "output_type": "execute_result"
    },
    {
     "data": {
      "image/png": "[encoded data removed]",
      "text/plain": [
       "<Figure size 720x360 with 2 Axes>"
      ]
     },
     "metadata": {
      "needs_background": "light"
     },
     "output_type": "display_data"
    }
   ],
   "source": [
    "#sns.scatterplot(data = nodes_df, x='NODE', y='NODECOUNT_CMS', hue='CMS_TAG')\n",
    "\n",
    "sns.relplot(x = 'NODE', y = 'NODECOUNT_CMS', data = nodes_df, \n",
    "            kind = 'scatter', col = 'CMS_TAG', col_order = ['Yes', 'No'])"
   ]
  },
  {
   "cell_type": "code",
   "execution_count": 30,
   "metadata": {},
   "outputs": [
    {
     "data": {
      "text/plain": [
       "<seaborn.axisgrid.FacetGrid at 0x1a0a1bce5e0>"
      ]
     },
     "execution_count": 30,
     "metadata": {},
     "output_type": "execute_result"
    },
    {
     "data": {
      "image/png": "[encoded data removed]",
      "text/plain": [
       "<Figure size 360x360 with 1 Axes>"
      ]
     },
     "metadata": {
      "needs_background": "light"
     },
     "output_type": "display_data"
    }
   ],
   "source": [
    "sns.catplot(x = 'CMS_TAG', data = nodes_df, \n",
    "            kind = 'count', order = ['Yes','No'])"
   ]
  },
  {
   "cell_type": "code",
   "execution_count": null,
   "metadata": {},
   "outputs": [],
   "source": []
  },
  {
   "cell_type": "code",
   "execution_count": null,
   "metadata": {},
   "outputs": [],
   "source": []
  },
  {
   "cell_type": "code",
   "execution_count": null,
   "metadata": {},
   "outputs": [],
   "source": []
  }
 ],
 "metadata": {
  "kernelspec": {
   "display_name": "Python 3",
   "language": "python",
   "name": "python3"
  },
  "language_info": {
   "codemirror_mode": {
    "name": "ipython",
    "version": 3
   },
   "file_extension": ".py",
   "mimetype": "text/x-python",
   "name": "python",
   "nbconvert_exporter": "python",
   "pygments_lexer": "ipython3",
   "version": "3.8.3"
  }
 },
 "nbformat": 4,
 "nbformat_minor": 4
}
