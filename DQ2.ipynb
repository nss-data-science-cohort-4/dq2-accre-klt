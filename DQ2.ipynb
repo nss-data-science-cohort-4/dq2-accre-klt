{
 "cells": [
  {
   "cell_type": "code",
   "execution_count": 1,
   "metadata": {},
   "outputs": [],
   "source": [
    "import pandas as pd"
   ]
  },
  {
   "cell_type": "code",
   "execution_count": 2,
   "metadata": {},
   "outputs": [],
   "source": [
    "base1000_df = pd.read_csv('data/accre-jobs-2020.csv', nrows = 1000)\n",
    "test_df = pd.read_csv('data/accre-jobs-2020.csv', nrows = 1000)"
   ]
  },
  {
   "cell_type": "code",
   "execution_count": 3,
   "metadata": {
    "scrolled": true
   },
   "outputs": [
    {
     "name": "stdout",
     "output_type": "stream",
     "text": [
      "           JOBID   ACCOUNT      USER    REQMEM    USEDMEM      REQTIME  \\\n",
      "0       15925210   treviso  arabella  122880Mn  65973.49M  13-18:00:00   \n",
      "1       15861126   treviso  arabella  122880Mn  67181.12M  13-18:00:00   \n",
      "2       15861125   treviso  arabella  122880Mn  69111.86M  13-18:00:00   \n",
      "3       16251645   treviso  arabella  122880Mn  65317.33M  13-18:00:00   \n",
      "4       16251646   treviso  arabella  122880Mn  65876.11M  13-18:00:00   \n",
      "..           ...       ...       ...       ...        ...          ...   \n",
      "995  17016721_16  sunburst   darlyne    8192Mn   2547.97M  14-00:00:00   \n",
      "996  17016721_17  sunburst   darlyne    8192Mn   1950.11M  14-00:00:00   \n",
      "997  17016721_18  sunburst   darlyne    8192Mn   2450.23M  14-00:00:00   \n",
      "998  17016721_19  sunburst   darlyne    8192Mn   2743.43M  14-00:00:00   \n",
      "999  17016721_20  sunburst   darlyne    8192Mn   1972.13M  14-00:00:00   \n",
      "\n",
      "        USEDTIME  NODES  CPUS   PARTITION EXITCODE      STATE NODELIST  \n",
      "0    13-18:00:28      1    24  production      0:0  COMPLETED   cn1531  \n",
      "1    12-14:50:56      1    24  production      0:0  COMPLETED   cn1441  \n",
      "2    13-18:00:20      1    24  production      0:0  COMPLETED   cn1464  \n",
      "3    12-03:50:32      1    24  production      0:0  COMPLETED   cn1473  \n",
      "4    13-18:00:03      1    24  production      0:0  COMPLETED   cn1440  \n",
      "..           ...    ...   ...         ...      ...        ...      ...  \n",
      "995   7-17:16:46      1     1  production      0:0  COMPLETED    cn322  \n",
      "996   7-03:03:50      1     1  production      0:0  COMPLETED    cn322  \n",
      "997   7-09:59:09      1     1  production      0:0  COMPLETED    cn322  \n",
      "998   7-12:40:23      1     1  production      0:0  COMPLETED    cn322  \n",
      "999   7-06:27:41      1     1  production      0:0  COMPLETED    cn322  \n",
      "\n",
      "[1000 rows x 13 columns]\n"
     ]
    }
   ],
   "source": [
    "print(base1000_df)"
   ]
  },
  {
   "cell_type": "code",
   "execution_count": 4,
   "metadata": {},
   "outputs": [
    {
     "data": {
      "text/plain": [
       "(1000, 13)"
      ]
     },
     "execution_count": 4,
     "metadata": {},
     "output_type": "execute_result"
    }
   ],
   "source": [
    "base1000_df.shape"
   ]
  },
  {
   "cell_type": "code",
   "execution_count": 5,
   "metadata": {},
   "outputs": [
    {
     "name": "stdout",
     "output_type": "stream",
     "text": [
      "<class 'pandas.core.frame.DataFrame'>\n",
      "RangeIndex: 1000 entries, 0 to 999\n",
      "Data columns (total 13 columns):\n",
      " #   Column     Non-Null Count  Dtype \n",
      "---  ------     --------------  ----- \n",
      " 0   JOBID      1000 non-null   object\n",
      " 1   ACCOUNT    1000 non-null   object\n",
      " 2   USER       1000 non-null   object\n",
      " 3   REQMEM     1000 non-null   object\n",
      " 4   USEDMEM    1000 non-null   object\n",
      " 5   REQTIME    1000 non-null   object\n",
      " 6   USEDTIME   1000 non-null   object\n",
      " 7   NODES      1000 non-null   int64 \n",
      " 8   CPUS       1000 non-null   int64 \n",
      " 9   PARTITION  1000 non-null   object\n",
      " 10  EXITCODE   1000 non-null   object\n",
      " 11  STATE      1000 non-null   object\n",
      " 12  NODELIST   1000 non-null   object\n",
      "dtypes: int64(2), object(11)\n",
      "memory usage: 101.7+ KB\n"
     ]
    }
   ],
   "source": [
    "base1000_df.info()"
   ]
  },
  {
   "cell_type": "code",
   "execution_count": 6,
   "metadata": {},
   "outputs": [],
   "source": [
    "#temp = base1000_df.iloc[271,6].rsplit('-',1)[0]\n",
    "#print(temp)"
   ]
  },
  {
   "cell_type": "code",
   "execution_count": 7,
   "metadata": {},
   "outputs": [],
   "source": [
    "#SepDays = lambda x: x.split('-',1)[0]\n",
    "#SepDays1 = lambda x: x.split('-',1)[1]"
   ]
  },
  {
   "cell_type": "code",
   "execution_count": 8,
   "metadata": {},
   "outputs": [],
   "source": [
    "#base1000_df['Days'] = base1000_df['USEDTIME'].apply(SepDays)"
   ]
  },
  {
   "cell_type": "code",
   "execution_count": 9,
   "metadata": {},
   "outputs": [],
   "source": [
    "#base1000_df.iloc[271,6].split(r'-',)[1]"
   ]
  },
  {
   "cell_type": "code",
   "execution_count": 10,
   "metadata": {},
   "outputs": [
    {
     "data": {
      "text/plain": [
       "['13', '18:00:28']"
      ]
     },
     "execution_count": 10,
     "metadata": {},
     "output_type": "execute_result"
    }
   ],
   "source": [
    "base1000_df.iloc[0,6].split(r'-',)"
   ]
  },
  {
   "cell_type": "code",
   "execution_count": null,
   "metadata": {},
   "outputs": [],
   "source": []
  },
  {
   "cell_type": "code",
   "execution_count": null,
   "metadata": {},
   "outputs": [],
   "source": []
  },
  {
   "cell_type": "code",
   "execution_count": null,
   "metadata": {},
   "outputs": [],
   "source": []
  },
  {
   "cell_type": "code",
   "execution_count": null,
   "metadata": {},
   "outputs": [],
   "source": []
  },
  {
   "cell_type": "code",
   "execution_count": null,
   "metadata": {},
   "outputs": [],
   "source": []
  },
  {
   "cell_type": "code",
   "execution_count": null,
   "metadata": {},
   "outputs": [],
   "source": []
  },
  {
   "cell_type": "code",
   "execution_count": null,
   "metadata": {},
   "outputs": [],
   "source": []
  }
 ],
 "metadata": {
  "kernelspec": {
   "display_name": "Python 3",
   "language": "python",
   "name": "python3"
  },
  "language_info": {
   "codemirror_mode": {
    "name": "ipython",
    "version": 3
   },
   "file_extension": ".py",
   "mimetype": "text/x-python",
   "name": "python",
   "nbconvert_exporter": "python",
   "pygments_lexer": "ipython3",
   "version": "3.8.3"
  }
 },
 "nbformat": 4,
 "nbformat_minor": 4
}
