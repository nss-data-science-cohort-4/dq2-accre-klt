{
 "cells": [
  {
   "cell_type": "code",
   "execution_count": 1,
   "metadata": {},
   "outputs": [],
   "source": [
    "import pandas as pd\n",
    "import re\n",
    "import numpy as np"
   ]
  },
  {
   "cell_type": "code",
   "execution_count": 2,
   "metadata": {},
   "outputs": [],
   "source": [
    "base1000_df = pd.read_csv('data/accre-jobs-2020.csv', nrows = 1000)\n",
    "#test_df = pd.read_csv('data/accre-jobs-2020.csv', nrows = 1000)\n",
    "full_df = pd.read_csv('data/accre-jobs-2020.csv', error_bad_lines = False, warn_bad_lines = False)"
   ]
  },
  {
   "cell_type": "code",
   "execution_count": 3,
   "metadata": {},
   "outputs": [
    {
     "name": "stdout",
     "output_type": "stream",
     "text": [
      "           JOBID   ACCOUNT      USER    REQMEM    USEDMEM      REQTIME  \\\n",
      "0       15925210   treviso  arabella  122880Mn  65973.49M  13-18:00:00   \n",
      "1       15861126   treviso  arabella  122880Mn  67181.12M  13-18:00:00   \n",
      "2       15861125   treviso  arabella  122880Mn  69111.86M  13-18:00:00   \n",
      "3       16251645   treviso  arabella  122880Mn  65317.33M  13-18:00:00   \n",
      "4       16251646   treviso  arabella  122880Mn  65876.11M  13-18:00:00   \n",
      "..           ...       ...       ...       ...        ...          ...   \n",
      "995  17016721_16  sunburst   darlyne    8192Mn   2547.97M  14-00:00:00   \n",
      "996  17016721_17  sunburst   darlyne    8192Mn   1950.11M  14-00:00:00   \n",
      "997  17016721_18  sunburst   darlyne    8192Mn   2450.23M  14-00:00:00   \n",
      "998  17016721_19  sunburst   darlyne    8192Mn   2743.43M  14-00:00:00   \n",
      "999  17016721_20  sunburst   darlyne    8192Mn   1972.13M  14-00:00:00   \n",
      "\n",
      "        USEDTIME  NODES  CPUS   PARTITION EXITCODE      STATE NODELIST  \n",
      "0    13-18:00:28      1    24  production      0:0  COMPLETED   cn1531  \n",
      "1    12-14:50:56      1    24  production      0:0  COMPLETED   cn1441  \n",
      "2    13-18:00:20      1    24  production      0:0  COMPLETED   cn1464  \n",
      "3    12-03:50:32      1    24  production      0:0  COMPLETED   cn1473  \n",
      "4    13-18:00:03      1    24  production      0:0  COMPLETED   cn1440  \n",
      "..           ...    ...   ...         ...      ...        ...      ...  \n",
      "995   7-17:16:46      1     1  production      0:0  COMPLETED    cn322  \n",
      "996   7-03:03:50      1     1  production      0:0  COMPLETED    cn322  \n",
      "997   7-09:59:09      1     1  production      0:0  COMPLETED    cn322  \n",
      "998   7-12:40:23      1     1  production      0:0  COMPLETED    cn322  \n",
      "999   7-06:27:41      1     1  production      0:0  COMPLETED    cn322  \n",
      "\n",
      "[1000 rows x 13 columns]\n"
     ]
    }
   ],
   "source": [
    "#print(full_df)\n",
    "print(base1000_df)\n",
    "#full_df['NODES'].value_counts()\n"
   ]
  },
  {
   "cell_type": "code",
   "execution_count": 4,
   "metadata": {},
   "outputs": [],
   "source": [
    "#base1000_df.shape"
   ]
  },
  {
   "cell_type": "code",
   "execution_count": 5,
   "metadata": {
    "scrolled": true
   },
   "outputs": [],
   "source": [
    "#base1000_df.info()"
   ]
  },
  {
   "cell_type": "code",
   "execution_count": 6,
   "metadata": {},
   "outputs": [],
   "source": [
    "calc_df = pd.DataFrame(data=full_df['JOBID'])"
   ]
  },
  {
   "cell_type": "code",
   "execution_count": 7,
   "metadata": {},
   "outputs": [],
   "source": [
    "calc_df['HHMMSS_USED'] = full_df['USEDTIME'].str.extract('(\\d{2}:\\d{2}:\\d{2})')"
   ]
  },
  {
   "cell_type": "code",
   "execution_count": 8,
   "metadata": {},
   "outputs": [],
   "source": [
    "#re.findall('(\\d+)-', point2)\n",
    "calc_df['DAYS_USED'] = full_df['USEDTIME'].str.extract('(\\d+)-')"
   ]
  },
  {
   "cell_type": "code",
   "execution_count": 9,
   "metadata": {},
   "outputs": [],
   "source": [
    "calc_df['HH_USED'] = calc_df['HHMMSS_USED'].str.extract('(\\d+):')\n",
    "calc_df['MM_USED'] = calc_df['HHMMSS_USED'].str.extract(':(\\d+):')\n",
    "calc_df['SS_USED'] = calc_df['HHMMSS_USED'].str.extract(':\\d+:(\\d+)')"
   ]
  },
  {
   "cell_type": "code",
   "execution_count": 10,
   "metadata": {},
   "outputs": [],
   "source": [
    "calc_df['DAYS_USED'] = calc_df['DAYS_USED'].fillna(0)"
   ]
  },
  {
   "cell_type": "code",
   "execution_count": 11,
   "metadata": {},
   "outputs": [
    {
     "name": "stdout",
     "output_type": "stream",
     "text": [
      "<class 'pandas.core.frame.DataFrame'>\n",
      "RangeIndex: 3813593 entries, 0 to 3813592\n",
      "Data columns (total 6 columns):\n",
      " #   Column       Dtype \n",
      "---  ------       ----- \n",
      " 0   JOBID        object\n",
      " 1   HHMMSS_USED  object\n",
      " 2   DAYS_USED    int64 \n",
      " 3   HH_USED      int64 \n",
      " 4   MM_USED      int64 \n",
      " 5   SS_USED      int64 \n",
      "dtypes: int64(4), object(2)\n",
      "memory usage: 174.6+ MB\n"
     ]
    }
   ],
   "source": [
    "calc_df['SS_USED'] = calc_df['SS_USED'].astype('int64')\n",
    "calc_df['MM_USED'] = calc_df['MM_USED'].astype('int64')\n",
    "calc_df['HH_USED'] = calc_df['HH_USED'].astype('int64')\n",
    "calc_df['DAYS_USED'] = calc_df['DAYS_USED'].astype('int64')\n",
    "\n",
    "calc_df.info()"
   ]
  },
  {
   "cell_type": "code",
   "execution_count": 12,
   "metadata": {},
   "outputs": [],
   "source": [
    "day_sec = calc_df['DAYS_USED'] * 24 * 60 * 60\n",
    "hour_sec = calc_df['HH_USED']*3600\n",
    "minute_sec = calc_df['MM_USED']*60\n",
    "calc_df['TOTAL_SEC_USED'] = day_sec + hour_sec + minute_sec + calc_df['SS_USED']"
   ]
  },
  {
   "cell_type": "code",
   "execution_count": 13,
   "metadata": {},
   "outputs": [],
   "source": [
    "#calc_df.head()"
   ]
  },
  {
   "cell_type": "code",
   "execution_count": 14,
   "metadata": {},
   "outputs": [],
   "source": [
    "full_df['TOTAL_SEC_USED'] = calc_df['TOTAL_SEC_USED']"
   ]
  },
  {
   "cell_type": "code",
   "execution_count": 15,
   "metadata": {},
   "outputs": [],
   "source": [
    "#base1000_df.head()"
   ]
  },
  {
   "cell_type": "code",
   "execution_count": 16,
   "metadata": {},
   "outputs": [],
   "source": [
    "#full_df = full_df.query('EXITCODE == \"0:0\" and PARTITION == \"production\"')"
   ]
  },
  {
   "cell_type": "code",
   "execution_count": 17,
   "metadata": {},
   "outputs": [
    {
     "name": "stdout",
     "output_type": "stream",
     "text": [
      "<class 'pandas.core.frame.DataFrame'>\n",
      "RangeIndex: 3813593 entries, 0 to 3813592\n",
      "Data columns (total 14 columns):\n",
      " #   Column          Dtype \n",
      "---  ------          ----- \n",
      " 0   JOBID           object\n",
      " 1   ACCOUNT         object\n",
      " 2   USER            object\n",
      " 3   REQMEM          object\n",
      " 4   USEDMEM         object\n",
      " 5   REQTIME         object\n",
      " 6   USEDTIME        object\n",
      " 7   NODES           int64 \n",
      " 8   CPUS            int64 \n",
      " 9   PARTITION       object\n",
      " 10  EXITCODE        object\n",
      " 11  STATE           object\n",
      " 12  NODELIST        object\n",
      " 13  TOTAL_SEC_USED  int64 \n",
      "dtypes: int64(3), object(11)\n",
      "memory usage: 407.3+ MB\n"
     ]
    }
   ],
   "source": [
    "#print(base1000_df)\n",
    "#base1000_df['NODES'].head(50)\n",
    "#base1000_df.count()\n",
    "#base1000_df['NODES'].value_counts()\n",
    "full_df.info()"
   ]
  },
  {
   "cell_type": "code",
   "execution_count": 18,
   "metadata": {},
   "outputs": [],
   "source": [
    "full_df['REQMEM_IDEN'] = full_df['REQMEM'].str.extract('\\d+(\\w+)')"
   ]
  },
  {
   "cell_type": "code",
   "execution_count": 19,
   "metadata": {},
   "outputs": [],
   "source": [
    "full_df['REQMEM_NUM'] = full_df['REQMEM'].str.extract('(\\d+)\\w+')\n",
    "full_df['USEDMEM_NUM'] = full_df['USEDMEM'].str.extract('(\\d+\\.*\\d*)\\w+')"
   ]
  },
  {
   "cell_type": "code",
   "execution_count": 20,
   "metadata": {},
   "outputs": [],
   "source": [
    "#print(full_df)"
   ]
  },
  {
   "cell_type": "code",
   "execution_count": 21,
   "metadata": {},
   "outputs": [
    {
     "data": {
      "text/plain": [
       "Mn    2996602\n",
       "Mc     816991\n",
       "Name: REQMEM_IDEN, dtype: int64"
      ]
     },
     "execution_count": 21,
     "metadata": {},
     "output_type": "execute_result"
    }
   ],
   "source": [
    "full_df['REQMEM_IDEN'].value_counts()"
   ]
  },
  {
   "cell_type": "code",
   "execution_count": 22,
   "metadata": {},
   "outputs": [
    {
     "name": "stdout",
     "output_type": "stream",
     "text": [
      "<class 'pandas.core.frame.DataFrame'>\n",
      "RangeIndex: 3813593 entries, 0 to 3813592\n",
      "Data columns (total 17 columns):\n",
      " #   Column          Dtype \n",
      "---  ------          ----- \n",
      " 0   JOBID           object\n",
      " 1   ACCOUNT         object\n",
      " 2   USER            object\n",
      " 3   REQMEM          object\n",
      " 4   USEDMEM         object\n",
      " 5   REQTIME         object\n",
      " 6   USEDTIME        object\n",
      " 7   NODES           int64 \n",
      " 8   CPUS            int64 \n",
      " 9   PARTITION       object\n",
      " 10  EXITCODE        object\n",
      " 11  STATE           object\n",
      " 12  NODELIST        object\n",
      " 13  TOTAL_SEC_USED  int64 \n",
      " 14  REQMEM_IDEN     object\n",
      " 15  REQMEM_NUM      object\n",
      " 16  USEDMEM_NUM     object\n",
      "dtypes: int64(3), object(14)\n",
      "memory usage: 494.6+ MB\n"
     ]
    }
   ],
   "source": [
    "full_df.info()"
   ]
  },
  {
   "cell_type": "code",
   "execution_count": 23,
   "metadata": {},
   "outputs": [],
   "source": [
    "full_df['REQMEM_NUM'] = full_df['REQMEM_NUM'].astype('float64')\n",
    "full_df['USEDMEM_NUM'] = full_df['USEDMEM_NUM'].astype('float64')\n",
    "#full_df['USEDMEM_TOT'] = full_df['USEDMEM_TOT'].fillna(0)\n",
    "\n",
    "#Drops jobs thats are 'running'\n",
    "full_df = full_df.dropna(axis = 0)"
   ]
  },
  {
   "cell_type": "code",
   "execution_count": 24,
   "metadata": {},
   "outputs": [],
   "source": [
    "full_df.loc[full_df['REQMEM_IDEN']=='Mn','REQMEM_PC'] = full_df['NODES']*full_df['REQMEM_NUM']/full_df['CPUS']\n",
    "\n",
    "full_df.loc[full_df['REQMEM_IDEN']=='Mc','REQMEM_PC'] = full_df['REQMEM_NUM']\n",
    "\n",
    "full_df['USEDMEM_PC'] = full_df['USEDMEM_NUM']*full_df['NODES']/full_df['CPUS']\n",
    "\n"
   ]
  },
  {
   "cell_type": "code",
   "execution_count": 25,
   "metadata": {},
   "outputs": [],
   "source": [
    "full_df['USEDMEM_PC'] = full_df['USEDMEM_PC'].astype('float64')"
   ]
  },
  {
   "cell_type": "code",
   "execution_count": 26,
   "metadata": {},
   "outputs": [
    {
     "name": "stdout",
     "output_type": "stream",
     "text": [
      "<class 'pandas.core.frame.DataFrame'>\n",
      "Int64Index: 3211859 entries, 0 to 3813590\n",
      "Data columns (total 19 columns):\n",
      " #   Column          Dtype  \n",
      "---  ------          -----  \n",
      " 0   JOBID           object \n",
      " 1   ACCOUNT         object \n",
      " 2   USER            object \n",
      " 3   REQMEM          object \n",
      " 4   USEDMEM         object \n",
      " 5   REQTIME         object \n",
      " 6   USEDTIME        object \n",
      " 7   NODES           int64  \n",
      " 8   CPUS            int64  \n",
      " 9   PARTITION       object \n",
      " 10  EXITCODE        object \n",
      " 11  STATE           object \n",
      " 12  NODELIST        object \n",
      " 13  TOTAL_SEC_USED  int64  \n",
      " 14  REQMEM_IDEN     object \n",
      " 15  REQMEM_NUM      float64\n",
      " 16  USEDMEM_NUM     float64\n",
      " 17  REQMEM_PC       float64\n",
      " 18  USEDMEM_PC      float64\n",
      "dtypes: float64(4), int64(3), object(12)\n",
      "memory usage: 570.1+ MB\n"
     ]
    }
   ],
   "source": [
    "#print(full_df)\n",
    "full_df.info()"
   ]
  },
  {
   "cell_type": "code",
   "execution_count": 27,
   "metadata": {},
   "outputs": [
    {
     "data": {
      "text/plain": [
       "JOBID             3211859\n",
       "ACCOUNT           3211859\n",
       "USER              3211859\n",
       "REQMEM            3211859\n",
       "USEDMEM           3211859\n",
       "REQTIME           3211859\n",
       "USEDTIME          3211859\n",
       "NODES             3211859\n",
       "CPUS              3211859\n",
       "PARTITION         3211859\n",
       "EXITCODE          3211859\n",
       "STATE             3211859\n",
       "NODELIST          3211859\n",
       "TOTAL_SEC_USED    3211859\n",
       "REQMEM_IDEN       3211859\n",
       "REQMEM_NUM        3211859\n",
       "USEDMEM_NUM       3211859\n",
       "REQMEM_PC         3211859\n",
       "USEDMEM_PC        3211859\n",
       "dtype: int64"
      ]
     },
     "execution_count": 27,
     "metadata": {},
     "output_type": "execute_result"
    }
   ],
   "source": [
    "full_df.count()"
   ]
  },
  {
   "cell_type": "code",
   "execution_count": 28,
   "metadata": {},
   "outputs": [
    {
     "name": "stdout",
     "output_type": "stream",
     "text": [
      "               JOBID     ACCOUNT      USER    REQMEM    USEDMEM      REQTIME  \\\n",
      "0           15925210     treviso  arabella  122880Mn  65973.49M  13-18:00:00   \n",
      "1           15861126     treviso  arabella  122880Mn  67181.12M  13-18:00:00   \n",
      "2           15861125     treviso  arabella  122880Mn  69111.86M  13-18:00:00   \n",
      "3           16251645     treviso  arabella  122880Mn  65317.33M  13-18:00:00   \n",
      "4           16251646     treviso  arabella  122880Mn  65876.11M  13-18:00:00   \n",
      "...              ...         ...       ...       ...        ...          ...   \n",
      "3813586   24173815_6  portabella    vennie   32768Mn  23269.08M   1-00:00:00   \n",
      "3813587   24173815_7  portabella    vennie   32768Mn  20879.81M   1-00:00:00   \n",
      "3813588   24173815_8  portabella    vennie   32768Mn  30042.68M   1-00:00:00   \n",
      "3813589   24173815_9  portabella    vennie   32768Mn  31067.75M   1-00:00:00   \n",
      "3813590  24173815_10  portabella    vennie   32768Mn  21207.96M   1-00:00:00   \n",
      "\n",
      "            USEDTIME  NODES  CPUS   PARTITION EXITCODE      STATE NODELIST  \\\n",
      "0        13-18:00:28      1    24  production      0:0  COMPLETED   cn1531   \n",
      "1        12-14:50:56      1    24  production      0:0  COMPLETED   cn1441   \n",
      "2        13-18:00:20      1    24  production      0:0  COMPLETED   cn1464   \n",
      "3        12-03:50:32      1    24  production      0:0  COMPLETED   cn1473   \n",
      "4        13-18:00:03      1    24  production      0:0  COMPLETED   cn1440   \n",
      "...              ...    ...   ...         ...      ...        ...      ...   \n",
      "3813586     00:01:36      1     2  production      0:0  COMPLETED    cn432   \n",
      "3813587     00:01:37      1     2  production      0:0  COMPLETED    cn440   \n",
      "3813588     00:02:27      1     2  production      0:0  COMPLETED    cn312   \n",
      "3813589     00:02:27      1     2  production      0:0  COMPLETED    cn312   \n",
      "3813590     00:01:40      1     2  production      0:0  COMPLETED    cn368   \n",
      "\n",
      "         TOTAL_SEC_USED REQMEM_IDEN  REQMEM_NUM  USEDMEM_NUM  REQMEM_PC  \\\n",
      "0               1188028          Mn    122880.0     65973.49     5120.0   \n",
      "1               1090256          Mn    122880.0     67181.12     5120.0   \n",
      "2               1188020          Mn    122880.0     69111.86     5120.0   \n",
      "3               1050632          Mn    122880.0     65317.33     5120.0   \n",
      "4               1188003          Mn    122880.0     65876.11     5120.0   \n",
      "...                 ...         ...         ...          ...        ...   \n",
      "3813586              96          Mn     32768.0     23269.08    16384.0   \n",
      "3813587              97          Mn     32768.0     20879.81    16384.0   \n",
      "3813588             147          Mn     32768.0     30042.68    16384.0   \n",
      "3813589             147          Mn     32768.0     31067.75    16384.0   \n",
      "3813590             100          Mn     32768.0     21207.96    16384.0   \n",
      "\n",
      "           USEDMEM_PC  \n",
      "0         2748.895417  \n",
      "1         2799.213333  \n",
      "2         2879.660833  \n",
      "3         2721.555417  \n",
      "4         2744.837917  \n",
      "...               ...  \n",
      "3813586  11634.540000  \n",
      "3813587  10439.905000  \n",
      "3813588  15021.340000  \n",
      "3813589  15533.875000  \n",
      "3813590  10603.980000  \n",
      "\n",
      "[3211859 rows x 19 columns]\n"
     ]
    }
   ],
   "source": [
    "print(full_df)"
   ]
  },
  {
   "cell_type": "code",
   "execution_count": 29,
   "metadata": {},
   "outputs": [],
   "source": [
    "#TEST CODE TO ENSURE ALL NaN WERE PROPERLY CALCULATED\n",
    "\n",
    "#full_df.query('USEDMEM_TOT == 0 and STATE == \"COMPLETED\"')\n",
    "#full_df.query('USEDMEM_TOT == \"NaN\"')\n",
    "#temp_df = full_df[full_df['USEDMEM']!='0']\n",
    "#temp_df[temp_df['USEDMEM_PC'].isnull()].head(50)\n",
    "#print(temp_df)"
   ]
  },
  {
   "cell_type": "code",
   "execution_count": 30,
   "metadata": {},
   "outputs": [
    {
     "data": {
      "text/html": [
       "<div>\n",
       "<style scoped>\n",
       "    .dataframe tbody tr th:only-of-type {\n",
       "        vertical-align: middle;\n",
       "    }\n",
       "\n",
       "    .dataframe tbody tr th {\n",
       "        vertical-align: top;\n",
       "    }\n",
       "\n",
       "    .dataframe thead th {\n",
       "        text-align: right;\n",
       "    }\n",
       "</style>\n",
       "<table border=\"1\" class=\"dataframe\">\n",
       "  <thead>\n",
       "    <tr style=\"text-align: right;\">\n",
       "      <th></th>\n",
       "      <th>JOBID</th>\n",
       "      <th>ACCOUNT</th>\n",
       "      <th>USER</th>\n",
       "      <th>REQMEM</th>\n",
       "      <th>USEDMEM</th>\n",
       "      <th>REQTIME</th>\n",
       "      <th>USEDTIME</th>\n",
       "      <th>NODES</th>\n",
       "      <th>CPUS</th>\n",
       "      <th>PARTITION</th>\n",
       "      <th>EXITCODE</th>\n",
       "      <th>STATE</th>\n",
       "      <th>NODELIST</th>\n",
       "      <th>TOTAL_SEC_USED</th>\n",
       "      <th>REQMEM_IDEN</th>\n",
       "      <th>REQMEM_NUM</th>\n",
       "      <th>USEDMEM_NUM</th>\n",
       "      <th>REQMEM_PC</th>\n",
       "      <th>USEDMEM_PC</th>\n",
       "    </tr>\n",
       "  </thead>\n",
       "  <tbody>\n",
       "    <tr>\n",
       "      <th>2128</th>\n",
       "      <td>17032916</td>\n",
       "      <td>cms</td>\n",
       "      <td>cmspilot</td>\n",
       "      <td>21875Mn</td>\n",
       "      <td>11728.02M</td>\n",
       "      <td>2-00:00:00</td>\n",
       "      <td>1-23:27:55</td>\n",
       "      <td>1</td>\n",
       "      <td>8</td>\n",
       "      <td>nogpfs</td>\n",
       "      <td>0:0</td>\n",
       "      <td>COMPLETED</td>\n",
       "      <td>ng1037</td>\n",
       "      <td>170875</td>\n",
       "      <td>Mn</td>\n",
       "      <td>21875.0</td>\n",
       "      <td>11728.02</td>\n",
       "      <td>2734.375000</td>\n",
       "      <td>1466.002500</td>\n",
       "    </tr>\n",
       "    <tr>\n",
       "      <th>2129</th>\n",
       "      <td>17032920</td>\n",
       "      <td>cms</td>\n",
       "      <td>cmspilot</td>\n",
       "      <td>94451Mn</td>\n",
       "      <td>20659.08M</td>\n",
       "      <td>2-00:00:00</td>\n",
       "      <td>1-23:16:04</td>\n",
       "      <td>1</td>\n",
       "      <td>8</td>\n",
       "      <td>nogpfs</td>\n",
       "      <td>0:0</td>\n",
       "      <td>COMPLETED</td>\n",
       "      <td>ng691</td>\n",
       "      <td>170164</td>\n",
       "      <td>Mn</td>\n",
       "      <td>94451.0</td>\n",
       "      <td>20659.08</td>\n",
       "      <td>11806.375000</td>\n",
       "      <td>2582.385000</td>\n",
       "    </tr>\n",
       "    <tr>\n",
       "      <th>2130</th>\n",
       "      <td>17032921</td>\n",
       "      <td>cms</td>\n",
       "      <td>cmspilot</td>\n",
       "      <td>21878Mn</td>\n",
       "      <td>11871.05M</td>\n",
       "      <td>2-00:00:00</td>\n",
       "      <td>1-23:30:00</td>\n",
       "      <td>1</td>\n",
       "      <td>8</td>\n",
       "      <td>nogpfs</td>\n",
       "      <td>0:0</td>\n",
       "      <td>COMPLETED</td>\n",
       "      <td>ng719</td>\n",
       "      <td>171000</td>\n",
       "      <td>Mn</td>\n",
       "      <td>21878.0</td>\n",
       "      <td>11871.05</td>\n",
       "      <td>2734.750000</td>\n",
       "      <td>1483.881250</td>\n",
       "    </tr>\n",
       "    <tr>\n",
       "      <th>2131</th>\n",
       "      <td>17032923</td>\n",
       "      <td>cms</td>\n",
       "      <td>cmspilot</td>\n",
       "      <td>42994Mn</td>\n",
       "      <td>26053.37M</td>\n",
       "      <td>2-00:00:00</td>\n",
       "      <td>1-23:25:18</td>\n",
       "      <td>1</td>\n",
       "      <td>12</td>\n",
       "      <td>nogpfs</td>\n",
       "      <td>0:0</td>\n",
       "      <td>COMPLETED</td>\n",
       "      <td>ng210</td>\n",
       "      <td>170718</td>\n",
       "      <td>Mn</td>\n",
       "      <td>42994.0</td>\n",
       "      <td>26053.37</td>\n",
       "      <td>3582.833333</td>\n",
       "      <td>2171.114167</td>\n",
       "    </tr>\n",
       "    <tr>\n",
       "      <th>2132</th>\n",
       "      <td>17032930</td>\n",
       "      <td>cms</td>\n",
       "      <td>cmspilot</td>\n",
       "      <td>46066Mn</td>\n",
       "      <td>23897.95M</td>\n",
       "      <td>2-00:00:00</td>\n",
       "      <td>1-23:35:31</td>\n",
       "      <td>1</td>\n",
       "      <td>12</td>\n",
       "      <td>nogpfs</td>\n",
       "      <td>0:0</td>\n",
       "      <td>COMPLETED</td>\n",
       "      <td>ng1050</td>\n",
       "      <td>171331</td>\n",
       "      <td>Mn</td>\n",
       "      <td>46066.0</td>\n",
       "      <td>23897.95</td>\n",
       "      <td>3838.833333</td>\n",
       "      <td>1991.495833</td>\n",
       "    </tr>\n",
       "    <tr>\n",
       "      <th>...</th>\n",
       "      <td>...</td>\n",
       "      <td>...</td>\n",
       "      <td>...</td>\n",
       "      <td>...</td>\n",
       "      <td>...</td>\n",
       "      <td>...</td>\n",
       "      <td>...</td>\n",
       "      <td>...</td>\n",
       "      <td>...</td>\n",
       "      <td>...</td>\n",
       "      <td>...</td>\n",
       "      <td>...</td>\n",
       "      <td>...</td>\n",
       "      <td>...</td>\n",
       "      <td>...</td>\n",
       "      <td>...</td>\n",
       "      <td>...</td>\n",
       "      <td>...</td>\n",
       "      <td>...</td>\n",
       "    </tr>\n",
       "    <tr>\n",
       "      <th>3813360</th>\n",
       "      <td>24173323</td>\n",
       "      <td>cms</td>\n",
       "      <td>uscmslocal</td>\n",
       "      <td>186648Mn</td>\n",
       "      <td>0.79M</td>\n",
       "      <td>2-00:00:00</td>\n",
       "      <td>00:20:07</td>\n",
       "      <td>1</td>\n",
       "      <td>32</td>\n",
       "      <td>nogpfs</td>\n",
       "      <td>0:0</td>\n",
       "      <td>COMPLETED</td>\n",
       "      <td>cn1575</td>\n",
       "      <td>1207</td>\n",
       "      <td>Mn</td>\n",
       "      <td>186648.0</td>\n",
       "      <td>0.79</td>\n",
       "      <td>5832.750000</td>\n",
       "      <td>0.024688</td>\n",
       "    </tr>\n",
       "    <tr>\n",
       "      <th>3813363</th>\n",
       "      <td>24173326</td>\n",
       "      <td>cms</td>\n",
       "      <td>uscmslocal</td>\n",
       "      <td>21875Mn</td>\n",
       "      <td>6.23M</td>\n",
       "      <td>2-00:00:00</td>\n",
       "      <td>00:20:02</td>\n",
       "      <td>1</td>\n",
       "      <td>8</td>\n",
       "      <td>nogpfs</td>\n",
       "      <td>0:0</td>\n",
       "      <td>COMPLETED</td>\n",
       "      <td>ng1012</td>\n",
       "      <td>1202</td>\n",
       "      <td>Mn</td>\n",
       "      <td>21875.0</td>\n",
       "      <td>6.23</td>\n",
       "      <td>2734.375000</td>\n",
       "      <td>0.778750</td>\n",
       "    </tr>\n",
       "    <tr>\n",
       "      <th>3813385</th>\n",
       "      <td>24173367</td>\n",
       "      <td>cms</td>\n",
       "      <td>uscmslocal</td>\n",
       "      <td>21878Mn</td>\n",
       "      <td>0.08M</td>\n",
       "      <td>2-00:00:00</td>\n",
       "      <td>00:20:02</td>\n",
       "      <td>1</td>\n",
       "      <td>8</td>\n",
       "      <td>nogpfs</td>\n",
       "      <td>0:0</td>\n",
       "      <td>COMPLETED</td>\n",
       "      <td>ng720</td>\n",
       "      <td>1202</td>\n",
       "      <td>Mn</td>\n",
       "      <td>21878.0</td>\n",
       "      <td>0.08</td>\n",
       "      <td>2734.750000</td>\n",
       "      <td>0.010000</td>\n",
       "    </tr>\n",
       "    <tr>\n",
       "      <th>3813393</th>\n",
       "      <td>24173381</td>\n",
       "      <td>cms</td>\n",
       "      <td>uscmslocal</td>\n",
       "      <td>21875Mn</td>\n",
       "      <td>0.09M</td>\n",
       "      <td>2-00:00:00</td>\n",
       "      <td>00:20:03</td>\n",
       "      <td>1</td>\n",
       "      <td>8</td>\n",
       "      <td>nogpfs</td>\n",
       "      <td>0:0</td>\n",
       "      <td>COMPLETED</td>\n",
       "      <td>ng1038</td>\n",
       "      <td>1203</td>\n",
       "      <td>Mn</td>\n",
       "      <td>21875.0</td>\n",
       "      <td>0.09</td>\n",
       "      <td>2734.375000</td>\n",
       "      <td>0.011250</td>\n",
       "    </tr>\n",
       "    <tr>\n",
       "      <th>3813463</th>\n",
       "      <td>24173530</td>\n",
       "      <td>cms</td>\n",
       "      <td>uscmslocal</td>\n",
       "      <td>21878Mn</td>\n",
       "      <td>18923.71M</td>\n",
       "      <td>2-00:00:00</td>\n",
       "      <td>00:20:12</td>\n",
       "      <td>1</td>\n",
       "      <td>8</td>\n",
       "      <td>nogpfs</td>\n",
       "      <td>0:0</td>\n",
       "      <td>FAILED</td>\n",
       "      <td>ng743</td>\n",
       "      <td>1212</td>\n",
       "      <td>Mn</td>\n",
       "      <td>21878.0</td>\n",
       "      <td>18923.71</td>\n",
       "      <td>2734.750000</td>\n",
       "      <td>2365.463750</td>\n",
       "    </tr>\n",
       "  </tbody>\n",
       "</table>\n",
       "<p>282930 rows × 19 columns</p>\n",
       "</div>"
      ],
      "text/plain": [
       "            JOBID ACCOUNT        USER    REQMEM    USEDMEM     REQTIME  \\\n",
       "2128     17032916     cms    cmspilot   21875Mn  11728.02M  2-00:00:00   \n",
       "2129     17032920     cms    cmspilot   94451Mn  20659.08M  2-00:00:00   \n",
       "2130     17032921     cms    cmspilot   21878Mn  11871.05M  2-00:00:00   \n",
       "2131     17032923     cms    cmspilot   42994Mn  26053.37M  2-00:00:00   \n",
       "2132     17032930     cms    cmspilot   46066Mn  23897.95M  2-00:00:00   \n",
       "...           ...     ...         ...       ...        ...         ...   \n",
       "3813360  24173323     cms  uscmslocal  186648Mn      0.79M  2-00:00:00   \n",
       "3813363  24173326     cms  uscmslocal   21875Mn      6.23M  2-00:00:00   \n",
       "3813385  24173367     cms  uscmslocal   21878Mn      0.08M  2-00:00:00   \n",
       "3813393  24173381     cms  uscmslocal   21875Mn      0.09M  2-00:00:00   \n",
       "3813463  24173530     cms  uscmslocal   21878Mn  18923.71M  2-00:00:00   \n",
       "\n",
       "           USEDTIME  NODES  CPUS PARTITION EXITCODE      STATE NODELIST  \\\n",
       "2128     1-23:27:55      1     8    nogpfs      0:0  COMPLETED   ng1037   \n",
       "2129     1-23:16:04      1     8    nogpfs      0:0  COMPLETED    ng691   \n",
       "2130     1-23:30:00      1     8    nogpfs      0:0  COMPLETED    ng719   \n",
       "2131     1-23:25:18      1    12    nogpfs      0:0  COMPLETED    ng210   \n",
       "2132     1-23:35:31      1    12    nogpfs      0:0  COMPLETED   ng1050   \n",
       "...             ...    ...   ...       ...      ...        ...      ...   \n",
       "3813360    00:20:07      1    32    nogpfs      0:0  COMPLETED   cn1575   \n",
       "3813363    00:20:02      1     8    nogpfs      0:0  COMPLETED   ng1012   \n",
       "3813385    00:20:02      1     8    nogpfs      0:0  COMPLETED    ng720   \n",
       "3813393    00:20:03      1     8    nogpfs      0:0  COMPLETED   ng1038   \n",
       "3813463    00:20:12      1     8    nogpfs      0:0     FAILED    ng743   \n",
       "\n",
       "         TOTAL_SEC_USED REQMEM_IDEN  REQMEM_NUM  USEDMEM_NUM     REQMEM_PC  \\\n",
       "2128             170875          Mn     21875.0     11728.02   2734.375000   \n",
       "2129             170164          Mn     94451.0     20659.08  11806.375000   \n",
       "2130             171000          Mn     21878.0     11871.05   2734.750000   \n",
       "2131             170718          Mn     42994.0     26053.37   3582.833333   \n",
       "2132             171331          Mn     46066.0     23897.95   3838.833333   \n",
       "...                 ...         ...         ...          ...           ...   \n",
       "3813360            1207          Mn    186648.0         0.79   5832.750000   \n",
       "3813363            1202          Mn     21875.0         6.23   2734.375000   \n",
       "3813385            1202          Mn     21878.0         0.08   2734.750000   \n",
       "3813393            1203          Mn     21875.0         0.09   2734.375000   \n",
       "3813463            1212          Mn     21878.0     18923.71   2734.750000   \n",
       "\n",
       "          USEDMEM_PC  \n",
       "2128     1466.002500  \n",
       "2129     2582.385000  \n",
       "2130     1483.881250  \n",
       "2131     2171.114167  \n",
       "2132     1991.495833  \n",
       "...              ...  \n",
       "3813360     0.024688  \n",
       "3813363     0.778750  \n",
       "3813385     0.010000  \n",
       "3813393     0.011250  \n",
       "3813463  2365.463750  \n",
       "\n",
       "[282930 rows x 19 columns]"
      ]
     },
     "execution_count": 30,
     "metadata": {},
     "output_type": "execute_result"
    }
   ],
   "source": [
    "full_df.query('PARTITION == \"nogpfs\"')"
   ]
  },
  {
   "cell_type": "code",
   "execution_count": 38,
   "metadata": {},
   "outputs": [],
   "source": [
    "full_df.to_csv(r'..\\dq2-accre-klt\\data\\full_df.csv', index = False)"
   ]
  },
  {
   "cell_type": "code",
   "execution_count": null,
   "metadata": {},
   "outputs": [],
   "source": []
  }
 ],
 "metadata": {
  "kernelspec": {
   "display_name": "Python 3",
   "language": "python",
   "name": "python3"
  },
  "language_info": {
   "codemirror_mode": {
    "name": "ipython",
    "version": 3
   },
   "file_extension": ".py",
   "mimetype": "text/x-python",
   "name": "python",
   "nbconvert_exporter": "python",
   "pygments_lexer": "ipython3",
   "version": "3.8.3"
  }
 },
 "nbformat": 4,
 "nbformat_minor": 4
}
