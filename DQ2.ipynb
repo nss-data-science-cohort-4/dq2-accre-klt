{
 "cells": [
  {
   "cell_type": "code",
   "execution_count": 1,
   "metadata": {},
   "outputs": [],
   "source": [
    "import pandas as pd\n",
    "import re"
   ]
  },
  {
   "cell_type": "code",
   "execution_count": 2,
   "metadata": {},
   "outputs": [],
   "source": [
    "base1000_df = pd.read_csv('data/accre-jobs-2020.csv', nrows = 1000)\n",
    "#test_df = pd.read_csv('data/accre-jobs-2020.csv', nrows = 1000)\n",
    "full_df = pd.read_csv('data/accre-jobs-2020.csv', error_bad_lines = False, warn_bad_lines = False)"
   ]
  },
  {
   "cell_type": "code",
   "execution_count": 3,
   "metadata": {},
   "outputs": [
    {
     "name": "stdout",
     "output_type": "stream",
     "text": [
      "           JOBID   ACCOUNT      USER    REQMEM    USEDMEM      REQTIME  \\\n",
      "0       15925210   treviso  arabella  122880Mn  65973.49M  13-18:00:00   \n",
      "1       15861126   treviso  arabella  122880Mn  67181.12M  13-18:00:00   \n",
      "2       15861125   treviso  arabella  122880Mn  69111.86M  13-18:00:00   \n",
      "3       16251645   treviso  arabella  122880Mn  65317.33M  13-18:00:00   \n",
      "4       16251646   treviso  arabella  122880Mn  65876.11M  13-18:00:00   \n",
      "..           ...       ...       ...       ...        ...          ...   \n",
      "995  17016721_16  sunburst   darlyne    8192Mn   2547.97M  14-00:00:00   \n",
      "996  17016721_17  sunburst   darlyne    8192Mn   1950.11M  14-00:00:00   \n",
      "997  17016721_18  sunburst   darlyne    8192Mn   2450.23M  14-00:00:00   \n",
      "998  17016721_19  sunburst   darlyne    8192Mn   2743.43M  14-00:00:00   \n",
      "999  17016721_20  sunburst   darlyne    8192Mn   1972.13M  14-00:00:00   \n",
      "\n",
      "        USEDTIME  NODES  CPUS   PARTITION EXITCODE      STATE NODELIST  \n",
      "0    13-18:00:28      1    24  production      0:0  COMPLETED   cn1531  \n",
      "1    12-14:50:56      1    24  production      0:0  COMPLETED   cn1441  \n",
      "2    13-18:00:20      1    24  production      0:0  COMPLETED   cn1464  \n",
      "3    12-03:50:32      1    24  production      0:0  COMPLETED   cn1473  \n",
      "4    13-18:00:03      1    24  production      0:0  COMPLETED   cn1440  \n",
      "..           ...    ...   ...         ...      ...        ...      ...  \n",
      "995   7-17:16:46      1     1  production      0:0  COMPLETED    cn322  \n",
      "996   7-03:03:50      1     1  production      0:0  COMPLETED    cn322  \n",
      "997   7-09:59:09      1     1  production      0:0  COMPLETED    cn322  \n",
      "998   7-12:40:23      1     1  production      0:0  COMPLETED    cn322  \n",
      "999   7-06:27:41      1     1  production      0:0  COMPLETED    cn322  \n",
      "\n",
      "[1000 rows x 13 columns]\n"
     ]
    }
   ],
   "source": [
    "#print(full_df)\n",
    "print(base1000_df)\n",
    "#full_df['NODES'].value_counts()\n"
   ]
  },
  {
   "cell_type": "code",
   "execution_count": 4,
   "metadata": {},
   "outputs": [],
   "source": [
    "#base1000_df.shape"
   ]
  },
  {
   "cell_type": "code",
   "execution_count": 5,
   "metadata": {
    "scrolled": true
   },
   "outputs": [],
   "source": [
    "#base1000_df.info()"
   ]
  },
  {
   "cell_type": "code",
   "execution_count": 6,
   "metadata": {},
   "outputs": [],
   "source": [
    "calc_df = pd.DataFrame(data=full_df['JOBID'])"
   ]
  },
  {
   "cell_type": "code",
   "execution_count": 7,
   "metadata": {},
   "outputs": [],
   "source": [
    "calc_df['HHMMSS_USED'] = full_df['USEDTIME'].str.extract('(\\d{2}:\\d{2}:\\d{2})')"
   ]
  },
  {
   "cell_type": "code",
   "execution_count": 8,
   "metadata": {},
   "outputs": [],
   "source": [
    "#re.findall('(\\d+)-', point2)\n",
    "calc_df['DAYS_USED'] = full_df['USEDTIME'].str.extract('(\\d+)-')"
   ]
  },
  {
   "cell_type": "code",
   "execution_count": 9,
   "metadata": {},
   "outputs": [],
   "source": [
    "calc_df['HH_USED'] = calc_df['HHMMSS_USED'].str.extract('(\\d+):')\n",
    "calc_df['MM_USED'] = calc_df['HHMMSS_USED'].str.extract(':(\\d+):')\n",
    "calc_df['SS_USED'] = calc_df['HHMMSS_USED'].str.extract(':\\d+:(\\d+)')"
   ]
  },
  {
   "cell_type": "code",
   "execution_count": 10,
   "metadata": {},
   "outputs": [],
   "source": [
    "calc_df['DAYS_USED'] = calc_df['DAYS_USED'].fillna(0)"
   ]
  },
  {
   "cell_type": "code",
   "execution_count": 11,
   "metadata": {},
   "outputs": [
    {
     "name": "stdout",
     "output_type": "stream",
     "text": [
      "<class 'pandas.core.frame.DataFrame'>\n",
      "RangeIndex: 3813593 entries, 0 to 3813592\n",
      "Data columns (total 6 columns):\n",
      " #   Column       Dtype \n",
      "---  ------       ----- \n",
      " 0   JOBID        object\n",
      " 1   HHMMSS_USED  object\n",
      " 2   DAYS_USED    int64 \n",
      " 3   HH_USED      int64 \n",
      " 4   MM_USED      int64 \n",
      " 5   SS_USED      int64 \n",
      "dtypes: int64(4), object(2)\n",
      "memory usage: 174.6+ MB\n"
     ]
    }
   ],
   "source": [
    "calc_df['SS_USED'] = calc_df['SS_USED'].astype('int64')\n",
    "calc_df['MM_USED'] = calc_df['MM_USED'].astype('int64')\n",
    "calc_df['HH_USED'] = calc_df['HH_USED'].astype('int64')\n",
    "calc_df['DAYS_USED'] = calc_df['DAYS_USED'].astype('int64')\n",
    "\n",
    "calc_df.info()"
   ]
  },
  {
   "cell_type": "code",
   "execution_count": 12,
   "metadata": {},
   "outputs": [],
   "source": [
    "day_sec = calc_df['DAYS_USED'] * 24 * 60 * 60\n",
    "hour_sec = calc_df['HH_USED']*3600\n",
    "minute_sec = calc_df['MM_USED']*60\n",
    "calc_df['TOTAL_SEC_USED'] = day_sec + hour_sec + minute_sec + calc_df['SS_USED']"
   ]
  },
  {
   "cell_type": "code",
   "execution_count": 13,
   "metadata": {},
   "outputs": [],
   "source": [
    "#calc_df.head()"
   ]
  },
  {
   "cell_type": "code",
   "execution_count": 14,
   "metadata": {},
   "outputs": [],
   "source": [
    "full_df['TOTAL_SEC_USED'] = calc_df['TOTAL_SEC_USED']"
   ]
  },
  {
   "cell_type": "code",
   "execution_count": 15,
   "metadata": {},
   "outputs": [],
   "source": [
    "#base1000_df.head()"
   ]
  },
  {
   "cell_type": "code",
   "execution_count": 16,
   "metadata": {},
   "outputs": [],
   "source": [
    "#full_df = full_df.query('EXITCODE == \"0:0\" and PARTITION == \"production\"')"
   ]
  },
  {
   "cell_type": "code",
   "execution_count": 17,
   "metadata": {},
   "outputs": [
    {
     "name": "stdout",
     "output_type": "stream",
     "text": [
      "<class 'pandas.core.frame.DataFrame'>\n",
      "RangeIndex: 3813593 entries, 0 to 3813592\n",
      "Data columns (total 14 columns):\n",
      " #   Column          Dtype \n",
      "---  ------          ----- \n",
      " 0   JOBID           object\n",
      " 1   ACCOUNT         object\n",
      " 2   USER            object\n",
      " 3   REQMEM          object\n",
      " 4   USEDMEM         object\n",
      " 5   REQTIME         object\n",
      " 6   USEDTIME        object\n",
      " 7   NODES           int64 \n",
      " 8   CPUS            int64 \n",
      " 9   PARTITION       object\n",
      " 10  EXITCODE        object\n",
      " 11  STATE           object\n",
      " 12  NODELIST        object\n",
      " 13  TOTAL_SEC_USED  int64 \n",
      "dtypes: int64(3), object(11)\n",
      "memory usage: 407.3+ MB\n"
     ]
    }
   ],
   "source": [
    "#print(base1000_df)\n",
    "#base1000_df['NODES'].head(50)\n",
    "#base1000_df.count()\n",
    "#base1000_df['NODES'].value_counts()\n",
    "full_df.info()"
   ]
  },
  {
   "cell_type": "code",
   "execution_count": 18,
   "metadata": {},
   "outputs": [],
   "source": [
    "full_df['REQMEM_IDEN'] = full_df['REQMEM'].str.extract('\\d+(\\w+)')"
   ]
  },
  {
   "cell_type": "code",
   "execution_count": 19,
   "metadata": {},
   "outputs": [],
   "source": [
    "full_df['REQMEM_NUM'] = full_df['REQMEM'].str.extract('(\\d+)\\w+')\n",
    "full_df['USEDMEM_TOT'] = full_df['USEDMEM'].str.extract('(\\d+.\\d+)\\w+')"
   ]
  },
  {
   "cell_type": "code",
   "execution_count": 20,
   "metadata": {},
   "outputs": [
    {
     "name": "stdout",
     "output_type": "stream",
     "text": [
      "               JOBID        ACCOUNT       USER    REQMEM    USEDMEM  \\\n",
      "0           15925210        treviso   arabella  122880Mn  65973.49M   \n",
      "1           15861126        treviso   arabella  122880Mn  67181.12M   \n",
      "2           15861125        treviso   arabella  122880Mn  69111.86M   \n",
      "3           16251645        treviso   arabella  122880Mn  65317.33M   \n",
      "4           16251646        treviso   arabella  122880Mn  65876.11M   \n",
      "...              ...            ...        ...       ...        ...   \n",
      "3813588   24173815_8     portabella     vennie   32768Mn  30042.68M   \n",
      "3813589   24173815_9     portabella     vennie   32768Mn  31067.75M   \n",
      "3813590  24173815_10     portabella     vennie   32768Mn  21207.96M   \n",
      "3813591     24173817  boysenberries  hortensia  100000Mn          0   \n",
      "3813592     24173866    horseradish     ariane   20480Mn          0   \n",
      "\n",
      "             REQTIME     USEDTIME  NODES  CPUS   PARTITION EXITCODE  \\\n",
      "0        13-18:00:00  13-18:00:28      1    24  production      0:0   \n",
      "1        13-18:00:00  12-14:50:56      1    24  production      0:0   \n",
      "2        13-18:00:00  13-18:00:20      1    24  production      0:0   \n",
      "3        13-18:00:00  12-03:50:32      1    24  production      0:0   \n",
      "4        13-18:00:00  13-18:00:03      1    24  production      0:0   \n",
      "...              ...          ...    ...   ...         ...      ...   \n",
      "3813588   1-00:00:00     00:02:27      1     2  production      0:0   \n",
      "3813589   1-00:00:00     00:02:27      1     2  production      0:0   \n",
      "3813590   1-00:00:00     00:01:40      1     2  production      0:0   \n",
      "3813591   1-00:00:00     00:03:05      1     8  production      0:0   \n",
      "3813592     05:00:00     00:02:05      1     1  production      0:0   \n",
      "\n",
      "             STATE NODELIST  TOTAL_SEC_USED REQMEM_IDEN REQMEM_NUM USEDMEM_TOT  \n",
      "0        COMPLETED   cn1531         1188028          Mn     122880    65973.49  \n",
      "1        COMPLETED   cn1441         1090256          Mn     122880    67181.12  \n",
      "2        COMPLETED   cn1464         1188020          Mn     122880    69111.86  \n",
      "3        COMPLETED   cn1473         1050632          Mn     122880    65317.33  \n",
      "4        COMPLETED   cn1440         1188003          Mn     122880    65876.11  \n",
      "...            ...      ...             ...         ...        ...         ...  \n",
      "3813588  COMPLETED    cn312             147          Mn      32768    30042.68  \n",
      "3813589  COMPLETED    cn312             147          Mn      32768    31067.75  \n",
      "3813590  COMPLETED    cn368             100          Mn      32768    21207.96  \n",
      "3813591    RUNNING   cn1509             185          Mn     100000         NaN  \n",
      "3813592    RUNNING   cn1131             125          Mn      20480         NaN  \n",
      "\n",
      "[3813593 rows x 17 columns]\n"
     ]
    }
   ],
   "source": [
    "print(full_df)"
   ]
  },
  {
   "cell_type": "code",
   "execution_count": 21,
   "metadata": {},
   "outputs": [
    {
     "data": {
      "text/plain": [
       "Mn    2996602\n",
       "Mc     816991\n",
       "Name: REQMEM_IDEN, dtype: int64"
      ]
     },
     "execution_count": 21,
     "metadata": {},
     "output_type": "execute_result"
    }
   ],
   "source": [
    "full_df['REQMEM_IDEN'].value_counts()"
   ]
  },
  {
   "cell_type": "code",
   "execution_count": 22,
   "metadata": {},
   "outputs": [
    {
     "name": "stdout",
     "output_type": "stream",
     "text": [
      "<class 'pandas.core.frame.DataFrame'>\n",
      "RangeIndex: 3813593 entries, 0 to 3813592\n",
      "Data columns (total 17 columns):\n",
      " #   Column          Dtype \n",
      "---  ------          ----- \n",
      " 0   JOBID           object\n",
      " 1   ACCOUNT         object\n",
      " 2   USER            object\n",
      " 3   REQMEM          object\n",
      " 4   USEDMEM         object\n",
      " 5   REQTIME         object\n",
      " 6   USEDTIME        object\n",
      " 7   NODES           int64 \n",
      " 8   CPUS            int64 \n",
      " 9   PARTITION       object\n",
      " 10  EXITCODE        object\n",
      " 11  STATE           object\n",
      " 12  NODELIST        object\n",
      " 13  TOTAL_SEC_USED  int64 \n",
      " 14  REQMEM_IDEN     object\n",
      " 15  REQMEM_NUM      object\n",
      " 16  USEDMEM_TOT     object\n",
      "dtypes: int64(3), object(14)\n",
      "memory usage: 494.6+ MB\n"
     ]
    }
   ],
   "source": [
    "full_df.info()"
   ]
  },
  {
   "cell_type": "code",
   "execution_count": 23,
   "metadata": {},
   "outputs": [],
   "source": [
    "full_df['REQMEM_NUM'] = full_df['REQMEM_NUM'].astype('float64')\n",
    "full_df['USEDMEM_TOT'] = full_df['USEDMEM_TOT'].astype('float64')\n",
    "full_df['USEDMEM_TOT'] = full_df['USEDMEM_TOT'].fillna(0)"
   ]
  },
  {
   "cell_type": "code",
   "execution_count": 24,
   "metadata": {},
   "outputs": [],
   "source": [
    "full_df.loc[full_df['REQMEM_IDEN']=='Mn','REQMEM_TOT'] = full_df['NODES']*full_df['CPUS']*full_df['REQMEM_NUM']\n",
    "full_df.loc[full_df['REQMEM_IDEN']=='Mc','REQMEM_TOT'] = full_df['REQMEM_NUM']*full_df['CPUS']"
   ]
  },
  {
   "cell_type": "code",
   "execution_count": null,
   "metadata": {},
   "outputs": [],
   "source": []
  },
  {
   "cell_type": "code",
   "execution_count": 25,
   "metadata": {},
   "outputs": [
    {
     "name": "stdout",
     "output_type": "stream",
     "text": [
      "<class 'pandas.core.frame.DataFrame'>\n",
      "RangeIndex: 3813593 entries, 0 to 3813592\n",
      "Data columns (total 18 columns):\n",
      " #   Column          Dtype  \n",
      "---  ------          -----  \n",
      " 0   JOBID           object \n",
      " 1   ACCOUNT         object \n",
      " 2   USER            object \n",
      " 3   REQMEM          object \n",
      " 4   USEDMEM         object \n",
      " 5   REQTIME         object \n",
      " 6   USEDTIME        object \n",
      " 7   NODES           int64  \n",
      " 8   CPUS            int64  \n",
      " 9   PARTITION       object \n",
      " 10  EXITCODE        object \n",
      " 11  STATE           object \n",
      " 12  NODELIST        object \n",
      " 13  TOTAL_SEC_USED  int64  \n",
      " 14  REQMEM_IDEN     object \n",
      " 15  REQMEM_NUM      float64\n",
      " 16  USEDMEM_TOT     float64\n",
      " 17  REQMEM_TOT      float64\n",
      "dtypes: float64(3), int64(3), object(12)\n",
      "memory usage: 523.7+ MB\n"
     ]
    }
   ],
   "source": [
    "#print(full_df)\n",
    "full_df.info()"
   ]
  },
  {
   "cell_type": "code",
   "execution_count": 26,
   "metadata": {},
   "outputs": [
    {
     "data": {
      "text/plain": [
       "JOBID             3813593\n",
       "ACCOUNT           3813593\n",
       "USER              3813593\n",
       "REQMEM            3813593\n",
       "USEDMEM           3813593\n",
       "REQTIME           3813593\n",
       "USEDTIME          3813593\n",
       "NODES             3813593\n",
       "CPUS              3813593\n",
       "PARTITION         3813593\n",
       "EXITCODE          3813593\n",
       "STATE             3813593\n",
       "NODELIST          3813593\n",
       "TOTAL_SEC_USED    3813593\n",
       "REQMEM_IDEN       3813593\n",
       "REQMEM_NUM        3813593\n",
       "USEDMEM_TOT       3813593\n",
       "REQMEM_TOT        3813593\n",
       "dtype: int64"
      ]
     },
     "execution_count": 26,
     "metadata": {},
     "output_type": "execute_result"
    }
   ],
   "source": [
    "full_df.count()"
   ]
  },
  {
   "cell_type": "code",
   "execution_count": null,
   "metadata": {},
   "outputs": [],
   "source": []
  },
  {
   "cell_type": "code",
   "execution_count": null,
   "metadata": {},
   "outputs": [],
   "source": []
  },
  {
   "cell_type": "code",
   "execution_count": null,
   "metadata": {},
   "outputs": [],
   "source": []
  }
 ],
 "metadata": {
  "kernelspec": {
   "display_name": "Python 3",
   "language": "python",
   "name": "python3"
  },
  "language_info": {
   "codemirror_mode": {
    "name": "ipython",
    "version": 3
   },
   "file_extension": ".py",
   "mimetype": "text/x-python",
   "name": "python",
   "nbconvert_exporter": "python",
   "pygments_lexer": "ipython3",
   "version": "3.8.3"
  }
 },
 "nbformat": 4,
 "nbformat_minor": 4
}
